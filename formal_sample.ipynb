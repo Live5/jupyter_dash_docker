{
 "cells": [
  {
   "cell_type": "markdown",
   "metadata": {},
   "source": [
    "###### PS：首次加载图表可能显示较慢，需要<font color=\"#FF0000\">多刷新一下</font>，希望耐心等待，感谢！"
   ]
  },
  {
   "cell_type": "markdown",
   "metadata": {},
   "source": [
    "## 目录 "
   ]
  },
  {
   "cell_type": "markdown",
   "metadata": {},
   "source": [
    "<div class=\"lev2 toc-item\"><a href=\"#一.EDA\" data-toc-modified-id=\"一.EDA-02\"><span class=\"toc-item-num\">&nbsp;&nbsp;</span>一.EDA</a></div><div class=\"lev3 toc-item\"><a href=\"#1.概览分析\" data-toc-modified-id=\"1.概览分析-021\"><span class=\"toc-item-num\">&nbsp;&nbsp;</span>1.概览分析</a></div><div class=\"lev3 toc-item\"><a href=\"#2.组合分析\" data-toc-modified-id=\"2.组合分析-022\"><span class=\"toc-item-num\">&nbsp;&nbsp;</span>2.组合分析</a></div><div class=\"lev3 toc-item\"><a href=\"#3.场景分析\" data-toc-modified-id=\"3.场景分析-023\"><span class=\"toc-item-num\">&nbsp;&nbsp;</span>3.场景分析</a></div><div class=\"lev2 toc-item\"><a href=\"#二.建模分析\" data-toc-modified-id=\"二.建模分析-03\"><span class=\"toc-item-num\">&nbsp;&nbsp;</span>二.建模分析</a></div><div class=\"lev3 toc-item\"><a href=\"#1.申请评分卡\" data-toc-modified-id=\"1.申请评分卡-031\"><span class=\"toc-item-num\">&nbsp;&nbsp;</span>1.申请评分卡</a></div><div class=\"lev6 toc-item\"><a href=\"#PS：模型运用好坏比，Odds和WOE呈相反趋势模型系数为负值，WOE与业务情况成正比有利于解释模型\" data-toc-modified-id=\"PS：模型运用好坏比，Odds和WOE呈相反趋势模型系数为负值，WOE与业务情况成正比有利于解释模型-031001\"></div><div class=\"lev3 toc-item\"><a href=\"#2.集成模型\" data-toc-modified-id=\"2.集成模型-032\"><span class=\"toc-item-num\">&nbsp;&nbsp;</span>2.集成模型</a></div>"
   ]
  },
  {
   "cell_type": "code",
   "execution_count": 4,
   "metadata": {
    "ExecuteTime": {
     "end_time": "2018-12-18T04:26:11.003406Z",
     "start_time": "2018-12-18T04:26:08.436661Z"
    }
   },
   "outputs": [
    {
     "data": {
      "text/html": [
       "<script>requirejs.config({paths: { 'plotly': ['https://cdn.plot.ly/plotly-latest.min']},});if(!window.Plotly) {{require(['plotly'],function(plotly) {window.Plotly=plotly;});}}</script>"
      ],
      "text/vnd.plotly.v1+html": [
       "<script>requirejs.config({paths: { 'plotly': ['https://cdn.plot.ly/plotly-latest.min']},});if(!window.Plotly) {{require(['plotly'],function(plotly) {window.Plotly=plotly;});}}</script>"
      ]
     },
     "metadata": {},
     "output_type": "display_data"
    }
   ],
   "source": [
    "import pandas  as pd\n",
    "import pymysql \n",
    "import seaborn as sns\n",
    "import matplotlib.pyplot as plt\n",
    "import matplotlib.dates as mdates\n",
    "import numpy   as np\n",
    "from datetime import datetime\n",
    "%matplotlib inline\n",
    "sns.set_style(\"whitegrid\")\n",
    "from plotly.offline import *\n",
    "# init_notebook_mode,iplot\n",
    "init_notebook_mode(connected=True)\n",
    "import plotly.offline as py\n",
    "import plotly.graph_objs as go\n",
    "from plotly import tools\n",
    "import plotly.tools as tls\n",
    "import plotly.figure_factory as ff\n",
    "import xlrd\n",
    "import xlwt\n",
    "import colorlover as cl\n",
    "from IPython.display import HTML\n",
    "# import cufflinks as cf\n",
    "# cf.go_offline()\n",
    "import matplotlib.ticker as ticker"
   ]
  },
  {
   "cell_type": "markdown",
   "metadata": {},
   "source": [
    "## 一.EDA"
   ]
  },
  {
   "cell_type": "markdown",
   "metadata": {},
   "source": [
    "### 1.概览分析"
   ]
  },
  {
   "cell_type": "markdown",
   "metadata": {},
   "source": [
    "&nbsp;&nbsp;&nbsp;&nbsp;<b>优点</b>：<br>\n",
    "      &nbsp;&nbsp;&nbsp;&nbsp;&nbsp;&nbsp;1)该可视化图表可以与一个时间段进行对比<b><I><U>自动化</I></U></b>产出结论，简单明了且高效。<br>\n",
    "      &nbsp;&nbsp;&nbsp;&nbsp;&nbsp;&nbsp;2)适用在具有<b><U><I>总结性</I></U></b>的可视化报告中。"
   ]
  },
  {
   "cell_type": "code",
   "execution_count": 18,
   "metadata": {
    "ExecuteTime": {
     "end_time": "2018-12-09T12:18:33.769499Z",
     "start_time": "2018-12-09T12:18:32.415258Z"
    },
    "scrolled": false
   },
   "outputs": [
    {
     "data": {
      "application/vnd.plotly.v1+json": {
       "data": [
        {
         "cells": {
          "align": [
           "left",
           "center"
          ],
          "fill": {
           "color": [
            "rgb(239,237,245)",
            "white"
           ]
          },
          "font": {
           "color": "#506784",
           "size": 12
          },
          "height": 30,
          "line": {
           "color": "#506784"
          },
          "values": [
           [
            "A产品",
            "B产品",
            "C产品",
            "D产品",
            "E产品",
            "F产品",
            "G产品",
            "H产品",
            "整体"
           ],
           [
            "本周理论收入为￥<b>70479 </b>比上周 <b>⬆️ 5.05% </b> 👍",
            "本周理论收入为￥<b>38319 </b>,比上周 <b>⬇️  3.09% </b>  ⚠️",
            "本周理论收入为￥<b>16945 </b>,比上周 <b>⬇️  3.09% </b>  ⚠️",
            "本周理论收入为￥<b>3904 </b>,比上周 <b>⬇️  94.91% </b>  ⚠️",
            "本周理论收入为￥<b>65532 </b>比上周 <b>⬆️ 331.1% </b> 👍",
            "本周理论收入为￥<b>32792 </b>比上周 <b>⬆️ 1333.84% </b> 👍",
            "本周理论收入为￥<b>58965 </b>,比上周 <b>⬇️  0.8% </b>  ⚠️",
            "本周理论收入为￥<b>53774 </b>比上周 <b>⬆️ 1263.1% </b> 👍",
            "本周理论收入为￥<b>28494 </b>,比上周 <b>⬇️ 51.95% </b>  ⚠️"
           ]
          ]
         },
         "columnorder": [
          1,
          2
         ],
         "columnwidth": [
          80,
          200
         ],
         "header": {
          "align": [
           "left",
           "center"
          ],
          "fill": {
           "color": "rgb(64,70,114)"
          },
          "font": {
           "color": "white",
           "size": 15
          },
          "height": 40,
          "line": {
           "color": "rgba(80,103,132,0.2)",
           "width": 0.5
          },
          "values": [
           [
            "<b>2018</b><br><b>本周理论收入</b>"
           ],
           [
            "<b>总结</b>"
           ]
          ]
         },
         "type": "table"
        }
       ],
       "layout": {}
      },
      "text/html": [
       "<div id=\"8be9499c-5b25-4f63-9b8f-978398cbc628\" style=\"height: 525px; width: 100%;\" class=\"plotly-graph-div\"></div><script type=\"text/javascript\">require([\"plotly\"], function(Plotly) { window.PLOTLYENV=window.PLOTLYENV || {};window.PLOTLYENV.BASE_URL=\"https://plot.ly\";Plotly.newPlot(\"8be9499c-5b25-4f63-9b8f-978398cbc628\", [{\"type\": \"table\", \"columnorder\": [1, 2], \"columnwidth\": [80, 200], \"header\": {\"values\": [[\"<b>2018</b><br><b>\\u672c\\u5468\\u7406\\u8bba\\u6536\\u5165</b>\"], [\"<b>\\u603b\\u7ed3</b>\"]], \"line\": {\"color\": \"rgba(80,103,132,0.2)\", \"width\": 0.5}, \"fill\": {\"color\": \"rgb(64,70,114)\"}, \"align\": [\"left\", \"center\"], \"font\": {\"color\": \"white\", \"size\": 15}, \"height\": 40}, \"cells\": {\"values\": [[\"A\\u4ea7\\u54c1\", \"B\\u4ea7\\u54c1\", \"C\\u4ea7\\u54c1\", \"D\\u4ea7\\u54c1\", \"E\\u4ea7\\u54c1\", \"F\\u4ea7\\u54c1\", \"G\\u4ea7\\u54c1\", \"H\\u4ea7\\u54c1\", \"\\u6574\\u4f53\"], [\"\\u672c\\u5468\\u7406\\u8bba\\u6536\\u5165\\u4e3a\\uffe5<b>70479 </b>\\u6bd4\\u4e0a\\u5468 <b>\\u2b06\\ufe0f 5.05% </b> \\ud83d\\udc4d\", \"\\u672c\\u5468\\u7406\\u8bba\\u6536\\u5165\\u4e3a\\uffe5<b>38319 </b>,\\u6bd4\\u4e0a\\u5468 <b>\\u2b07\\ufe0f  3.09% </b>  \\u26a0\\ufe0f\", \"\\u672c\\u5468\\u7406\\u8bba\\u6536\\u5165\\u4e3a\\uffe5<b>16945 </b>,\\u6bd4\\u4e0a\\u5468 <b>\\u2b07\\ufe0f  3.09% </b>  \\u26a0\\ufe0f\", \"\\u672c\\u5468\\u7406\\u8bba\\u6536\\u5165\\u4e3a\\uffe5<b>3904 </b>,\\u6bd4\\u4e0a\\u5468 <b>\\u2b07\\ufe0f  94.91% </b>  \\u26a0\\ufe0f\", \"\\u672c\\u5468\\u7406\\u8bba\\u6536\\u5165\\u4e3a\\uffe5<b>65532 </b>\\u6bd4\\u4e0a\\u5468 <b>\\u2b06\\ufe0f 331.1% </b> \\ud83d\\udc4d\", \"\\u672c\\u5468\\u7406\\u8bba\\u6536\\u5165\\u4e3a\\uffe5<b>32792 </b>\\u6bd4\\u4e0a\\u5468 <b>\\u2b06\\ufe0f 1333.84% </b> \\ud83d\\udc4d\", \"\\u672c\\u5468\\u7406\\u8bba\\u6536\\u5165\\u4e3a\\uffe5<b>58965 </b>,\\u6bd4\\u4e0a\\u5468 <b>\\u2b07\\ufe0f  0.8% </b>  \\u26a0\\ufe0f\", \"\\u672c\\u5468\\u7406\\u8bba\\u6536\\u5165\\u4e3a\\uffe5<b>53774 </b>\\u6bd4\\u4e0a\\u5468 <b>\\u2b06\\ufe0f 1263.1% </b> \\ud83d\\udc4d\", \"\\u672c\\u5468\\u7406\\u8bba\\u6536\\u5165\\u4e3a\\uffe5<b>28494 </b>,\\u6bd4\\u4e0a\\u5468 <b>\\u2b07\\ufe0f 51.95% </b>  \\u26a0\\ufe0f\"]], \"line\": {\"color\": \"#506784\"}, \"fill\": {\"color\": [\"rgb(239,237,245)\", \"white\"]}, \"align\": [\"left\", \"center\"], \"font\": {\"color\": \"#506784\", \"size\": 12}, \"height\": 30}}], {}, {\"showLink\": true, \"linkText\": \"Export to plot.ly\"})});</script>"
      ],
      "text/vnd.plotly.v1+html": [
       "<div id=\"8be9499c-5b25-4f63-9b8f-978398cbc628\" style=\"height: 525px; width: 100%;\" class=\"plotly-graph-div\"></div><script type=\"text/javascript\">require([\"plotly\"], function(Plotly) { window.PLOTLYENV=window.PLOTLYENV || {};window.PLOTLYENV.BASE_URL=\"https://plot.ly\";Plotly.newPlot(\"8be9499c-5b25-4f63-9b8f-978398cbc628\", [{\"type\": \"table\", \"columnorder\": [1, 2], \"columnwidth\": [80, 200], \"header\": {\"values\": [[\"<b>2018</b><br><b>\\u672c\\u5468\\u7406\\u8bba\\u6536\\u5165</b>\"], [\"<b>\\u603b\\u7ed3</b>\"]], \"line\": {\"color\": \"rgba(80,103,132,0.2)\", \"width\": 0.5}, \"fill\": {\"color\": \"rgb(64,70,114)\"}, \"align\": [\"left\", \"center\"], \"font\": {\"color\": \"white\", \"size\": 15}, \"height\": 40}, \"cells\": {\"values\": [[\"A\\u4ea7\\u54c1\", \"B\\u4ea7\\u54c1\", \"C\\u4ea7\\u54c1\", \"D\\u4ea7\\u54c1\", \"E\\u4ea7\\u54c1\", \"F\\u4ea7\\u54c1\", \"G\\u4ea7\\u54c1\", \"H\\u4ea7\\u54c1\", \"\\u6574\\u4f53\"], [\"\\u672c\\u5468\\u7406\\u8bba\\u6536\\u5165\\u4e3a\\uffe5<b>70479 </b>\\u6bd4\\u4e0a\\u5468 <b>\\u2b06\\ufe0f 5.05% </b> \\ud83d\\udc4d\", \"\\u672c\\u5468\\u7406\\u8bba\\u6536\\u5165\\u4e3a\\uffe5<b>38319 </b>,\\u6bd4\\u4e0a\\u5468 <b>\\u2b07\\ufe0f  3.09% </b>  \\u26a0\\ufe0f\", \"\\u672c\\u5468\\u7406\\u8bba\\u6536\\u5165\\u4e3a\\uffe5<b>16945 </b>,\\u6bd4\\u4e0a\\u5468 <b>\\u2b07\\ufe0f  3.09% </b>  \\u26a0\\ufe0f\", \"\\u672c\\u5468\\u7406\\u8bba\\u6536\\u5165\\u4e3a\\uffe5<b>3904 </b>,\\u6bd4\\u4e0a\\u5468 <b>\\u2b07\\ufe0f  94.91% </b>  \\u26a0\\ufe0f\", \"\\u672c\\u5468\\u7406\\u8bba\\u6536\\u5165\\u4e3a\\uffe5<b>65532 </b>\\u6bd4\\u4e0a\\u5468 <b>\\u2b06\\ufe0f 331.1% </b> \\ud83d\\udc4d\", \"\\u672c\\u5468\\u7406\\u8bba\\u6536\\u5165\\u4e3a\\uffe5<b>32792 </b>\\u6bd4\\u4e0a\\u5468 <b>\\u2b06\\ufe0f 1333.84% </b> \\ud83d\\udc4d\", \"\\u672c\\u5468\\u7406\\u8bba\\u6536\\u5165\\u4e3a\\uffe5<b>58965 </b>,\\u6bd4\\u4e0a\\u5468 <b>\\u2b07\\ufe0f  0.8% </b>  \\u26a0\\ufe0f\", \"\\u672c\\u5468\\u7406\\u8bba\\u6536\\u5165\\u4e3a\\uffe5<b>53774 </b>\\u6bd4\\u4e0a\\u5468 <b>\\u2b06\\ufe0f 1263.1% </b> \\ud83d\\udc4d\", \"\\u672c\\u5468\\u7406\\u8bba\\u6536\\u5165\\u4e3a\\uffe5<b>28494 </b>,\\u6bd4\\u4e0a\\u5468 <b>\\u2b07\\ufe0f 51.95% </b>  \\u26a0\\ufe0f\"]], \"line\": {\"color\": \"#506784\"}, \"fill\": {\"color\": [\"rgb(239,237,245)\", \"white\"]}, \"align\": [\"left\", \"center\"], \"font\": {\"color\": \"#506784\", \"size\": 12}, \"height\": 30}}], {}, {\"showLink\": true, \"linkText\": \"Export to plot.ly\"})});</script>"
      ]
     },
     "metadata": {},
     "output_type": "display_data"
    }
   ],
   "source": [
    "# 数据\n",
    "w_income = pd.DataFrame(np.random.rand(21,10),columns= ['备选','A产品',\n",
    " 'B产品',\n",
    " 'C产品',\n",
    " 'D产品',\n",
    " 'E产品',\n",
    " 'F产品',\n",
    " 'G产品',\n",
    " 'H产品',\n",
    " '整体',])\n",
    "w_income = w_income.applymap(lambda x: int(round(x,5)*100000))\n",
    "\n",
    "# 数据聚合\n",
    "o2o_cash = w_income.iloc[:,1].tolist()\n",
    "o2o_pd = w_income.iloc[:,2].tolist()\n",
    "o2o_3c = w_income.iloc[:,3].tolist()\n",
    "prime_cash = w_income.iloc[:,4].tolist()\n",
    "nano = w_income.iloc[:,5].tolist()\n",
    "c_shared = w_income.iloc[:,6].tolist()\n",
    "c_own = w_income.iloc[:,7].tolist()\n",
    "c_other = w_income.iloc[:,8].tolist()\n",
    "income_all = w_income.iloc[:,9].tolist()\n",
    "\n",
    "\n",
    "# 图表\n",
    "color_t = cl.scales['3']['seq']['Purples']\n",
    "\n",
    "tt = '⬆️'\n",
    "dd = '⬇️'\n",
    "uu = '⚠️'\n",
    "nn = '👍'\n",
    "################################以上为公共区\n",
    "t1 = nano[-1]  #纳米\n",
    "t2 = nano[-2]\n",
    "# t1 = format(t1,',')\n",
    "# t2 = format(t2,',')\n",
    "if t1 > t2:\n",
    "    change_rate = (nano[-1]-nano[-2])/nano[-2]\n",
    "    oo = str(abs(round(change_rate*100, 2))) + '%'\n",
    "    i = '''本周理论收入为￥<b>%(t1)s </b>比上周 <b>%(tt)s %(oo)s </b> %(nn)s''' %{'tt': tt,'oo': oo,'nn':nn,'t1':t1}\n",
    "elif t1 < t2:\n",
    "    change_rate = (nano[-1]-nano[-2])/nano[-2]\n",
    "    oo = str(abs(round(change_rate*100, 2))) + '%'\n",
    "    i = '''本周理论收入为￥<b>%(t1)s </b>,比上周 <b>%(dd)s  %(oo)s </b>  %(uu)s''' %{'dd': dd,'oo': oo,'uu':uu,'t1':t1}\n",
    "else:\n",
    "    i = '''本周理论收入为￥<b>%(t1)s </b>,与上周持平''' %{'t1':t1}\n",
    "#######################\n",
    "oc1 = o2o_cash[-1]  #O2O现金贷\n",
    "oc2 = o2o_cash[-2]\n",
    "# oc1 = format(oc1,',')\n",
    "# oc2 = format(oc2,',')\n",
    "if oc1 > oc2:\n",
    "    change_rate = (o2o_cash[-1]-o2o_cash[-2])/o2o_cash[-2]\n",
    "    oo = str(abs(round(change_rate*100, 2))) + '%'\n",
    "    o1 = '''本周理论收入为￥<b>%(oc1)s </b>比上周 <b>%(tt)s %(oo)s </b> %(nn)s''' %{'tt': tt,'oo': oo,'nn':nn,'oc1':oc1}\n",
    "elif oc1 < oc2:\n",
    "    change_rate = (o2o_cash[-1]-o2o_cash[-2])/o2o_cash[-2]\n",
    "    oo = str(abs(round(change_rate*100, 2))) + '%'\n",
    "    o1 = '''本周理论收入为￥<b>%(oc1)s </b>,比上周 <b>%(dd)s  %(oo)s </b>  %(uu)s''' %{'dd': dd,'oo': oo,'uu':uu,'oc1':oc1}\n",
    "else:\n",
    "    o1 = '''本周理论收入为￥<b>%(oc1)s </b>,与上周持平''' %{'oc1':oc1}  \n",
    "#######################\n",
    "op1 = o2o_pd[-1]  #O2Opd\n",
    "op2 = o2o_pd[-2]\n",
    "# op1 = format(op1,',')\n",
    "# op2 = format(op2,',')\n",
    "if op1 > op2:\n",
    "    change_rate = (o2o_pd[-1]-o2o_pd[-2])/o2o_pd[-2]\n",
    "    oo = str(abs(round(change_rate*100, 2))) + '%'\n",
    "    o2 = '''本周理论收入为￥<b>%(op1)s </b>比上周 <b>%(tt)s %(oo)s </b> %(nn)s''' %{'tt': tt,'oo': oo,'nn':nn,'op1':op1}\n",
    "elif op1 < op2:\n",
    "    change_rate = (o2o_pd[-1]-o2o_pd[-2])/o2o_pd[-2]\n",
    "    oo = str(abs(round(change_rate*100, 2))) + '%'\n",
    "    o2 = '''本周理论收入为￥<b>%(op1)s </b>,比上周 <b>%(dd)s  %(oo)s </b>  %(uu)s''' %{'dd': dd,'oo': oo,'uu':uu,'op1':op1}\n",
    "else:\n",
    "    o2 = '''本周理论收入为￥<b>%(op1)s </b>,与上周持平''' %{'op1':op1}  \n",
    "#######################\n",
    "o3c1 = o2o_3c[-1]  #O2O3c\n",
    "o3c2 = o2o_3c[-2]\n",
    "# o3c1 = format(o3c1,',')\n",
    "# o3c2 = format(o3c2,',')\n",
    "if o3c1 > o3c2:\n",
    "    change_rate = (o2o_3c[-1]-o2o_3c[-2])/o2o_3c[-2]\n",
    "    oo = str(abs(round(change_rate*100, 2))) + '%'\n",
    "    o3 = '''本周理论收入为￥<b>%(o3c1)s </b>比上周 <b>%(tt)s %(oo)s </b> %(nn)s''' %{'tt': tt,'oo': oo,'nn':nn,'o3c1':o3c1}\n",
    "elif o3c1 < o3c2:\n",
    "    change_rate = (o2o_pd[-1]-o2o_pd[-2])/o2o_pd[-2]\n",
    "    oo = str(abs(round(change_rate*100, 2))) + '%'\n",
    "    o3 = '''本周理论收入为￥<b>%(o3c1)s </b>,比上周 <b>%(dd)s  %(oo)s </b>  %(uu)s''' %{'dd': dd,'oo': oo,'uu':uu,'o3c1':o3c1}\n",
    "else:\n",
    "    o3 = '''本周理论收入为￥<b>%(o3c1)s </b>,与上周持平''' %{'o3c1':o3c1}      \n",
    "#######################\n",
    "pc1 = prime_cash[-1]  #大额贷\n",
    "pc2 = prime_cash[-2]\n",
    "pc1 = round(pc1)\n",
    "pc2 = round(pc2)\n",
    "# pc1 = format(pc1,',')\n",
    "# pc2 = format(pc2,',')\n",
    "if pc1 > pc2:\n",
    "    change_rate = (prime_cash[-1]-prime_cash[-2])/prime_cash[-2]\n",
    "    oo = str(abs(round(change_rate*100, 2))) + '%'\n",
    "    ps1 = '''本周理论收入为￥<b>%(pc1)s </b>比上周 <b>%(tt)s %(oo)s </b> %(nn)s''' %{'tt': tt,'oo': oo,'nn':nn,'pc1':pc1}\n",
    "elif pc1 < pc2:\n",
    "    change_rate = (prime_cash[-1]-prime_cash[-2])/prime_cash[-2]\n",
    "    oo = str(abs(round(change_rate*100, 2))) + '%'\n",
    "    ps1 = '''本周理论收入为￥<b>%(pc1)s </b>,比上周 <b>%(dd)s  %(oo)s </b>  %(uu)s''' %{'dd': dd,'oo': oo,'uu':uu,'pc1':pc1}\n",
    "else:\n",
    "    ps1 = '''本周理论收入为￥<b>%(pc1)s </b>,与上周持平''' %{'pc1':pc1}     \n",
    "#######################\n",
    "cs1 = c_shared[-1]  #闪贷共担\n",
    "cs2 = c_shared[-2]\n",
    "# cs1 = format(cs1,',')\n",
    "# cs2 = format(cs2,',')\n",
    "if cs1 > cs2:\n",
    "    change_rate = (c_shared[-1]-c_shared[-2])/c_shared[-2]\n",
    "    oo = str(abs(round(change_rate*100, 2))) + '%'\n",
    "    cshared = '''本周理论收入为￥<b>%(cs1)s </b>比上周 <b>%(tt)s %(oo)s </b> %(nn)s''' %{'tt': tt,'oo': oo,'nn':nn,'cs1':cs1}\n",
    "elif cs1 < cs2:\n",
    "    change_rate = (c_shared[-1]-c_shared[-2])/c_shared[-2]\n",
    "    oo = str(abs(round(change_rate*100, 2))) + '%'\n",
    "    cshared = '''本周理论收入为￥<b>%(cs1)s </b>,比上周 <b>%(dd)s  %(oo)s </b>  %(uu)s''' %{'dd': dd,'oo': oo,'uu':uu,'cs1':cs1}\n",
    "else:\n",
    "    cshared = '''本周理论收入为￥<b>%(cs1)s </b>,与上周持平''' %{'cs1':cs1}     \n",
    "#######################\n",
    "co1 = c_own[-1]  #闪贷自营\n",
    "co2 = c_own[-2]\n",
    "# co1 = format(co1,',')\n",
    "# co2 = format(co2,',')\n",
    "if co1 > co2:\n",
    "    change_rate = (c_own[-1]-c_own[-2])/c_own[-2]\n",
    "    oo = str(abs(round(change_rate*100, 2))) + '%'\n",
    "    cw = '''本周理论收入为￥<b>%(co1)s </b>比上周 <b>%(tt)s %(oo)s </b> %(nn)s''' %{'tt': tt,'oo': oo,'nn':nn,'co1':co1}\n",
    "elif co1 < co2:\n",
    "    change_rate = (c_own[-1]-c_own[-2])/c_own[-2]\n",
    "    oo = str(abs(round(change_rate*100, 2))) + '%'\n",
    "    cw = '''本周理论收入为￥<b>%(co1)s </b>,比上周 <b>%(dd)s  %(oo)s </b>  %(uu)s''' %{'dd': dd,'oo': oo,'uu':uu,'co1':co1}\n",
    "else:\n",
    "    cw = '''本周理论收入为￥<b>%(co1)s </b>,与上周持平''' %{'co1':co1}     \n",
    "#######################\n",
    "cr1 = c_other[-1]  #闪贷非自营\n",
    "cr2 = c_other[-2]\n",
    "# cr1 = format(cr1,',')\n",
    "# cr2 = format(cr2,',')\n",
    "if cr1 > cr2:\n",
    "    change_rate = (c_other[-1]-c_other[-2])/c_other[-2]\n",
    "    oo = str(abs(round(change_rate*100, 1))) + '%'\n",
    "    ce = '''本周理论收入为￥<b>%(cr1)s </b>比上周 <b>%(tt)s %(oo)s </b> %(nn)s''' %{'tt': tt,'oo': oo,'nn':nn,'cr1':cr1}\n",
    "elif cr1 < cr2:\n",
    "    change_rate = (c_other[-1]-c_other[-2])/c_other[-2]\n",
    "    oo = str(abs(round(change_rate*100, 1))) + '%'\n",
    "    ce = '''本周理论收入为￥<b>%(cr1)s </b>,比上周 <b>%(dd)s  %(oo)s </b>  %(uu)s''' %{'dd': dd,'oo': oo,'uu':uu,'cr1':cr1}\n",
    "else:\n",
    "    ce = '''本周理论收入为￥<b>%(cr1)s </b>,与上周持平''' %{'cr1':cr1}     \n",
    "#######################\n",
    "ca1 =income_all[-1]  #整体\n",
    "ca2 =income_all[-2]\n",
    "ca1 = round(ca1,2)\n",
    "ca2 = round(ca2,2)\n",
    "# ca1 = format(ca1,',')\n",
    "# ca2 = format(ca2,',')\n",
    "if ca1 > ca2:\n",
    "    change_rate = (income_all[-1]-income_all[-2])/income_all[-2]\n",
    "    oo = str(abs(round(change_rate*100, 2))) + '%'\n",
    "    al = '''本周理论收入为￥<b>%(ca1)s </b>比上周 <b>%(tt)s %(oo)s </b> %(nn)s''' %{'tt': tt,'oo': oo,'nn':nn,'ca1':ca1}\n",
    "elif ca1 < ca2:\n",
    "    change_rate = (income_all[-1]-income_all[-2])/income_all[-2]\n",
    "    oo = str(abs(round(change_rate*100, 2))) + '%'\n",
    "    al = '''本周理论收入为￥<b>%(ca1)s </b>,比上周 <b>%(dd)s %(oo)s </b>  %(uu)s''' %{'dd': dd,'oo': oo,'uu':uu,'ca1':ca1}\n",
    "else:\n",
    "    al = '''本周理论收入为￥<b>%(ca1)s </b>,与上周持平''' %{'ca1':ca1}\n",
    "    \n",
    "    \n",
    "    \n",
    "    \n",
    "    \n",
    "l = [o1,o2,o3,ps1,i,cshared,cw,ce,al]    \n",
    "values = [['A产品','B产品','C产品','D产品','E产品','F产品','G产品','H产品','整体'],l]\n",
    "\n",
    "trace0 = go.Table(\n",
    "  type = 'table',\n",
    "  columnorder = [1,2],\n",
    "  columnwidth = [80,200],\n",
    "  header = dict(\n",
    "    values = [['<b>2018</b><br><b>本周理论收入</b>']\n",
    "            ,['<b>总结</b>']],\n",
    "    line=dict(color='rgba(80,103,132,0.2)', width=0.5),\n",
    "                fill=dict(color='rgb(64,70,114)'),\n",
    "    align = ['left','center'],\n",
    "    font = dict(color = 'white', size = 15),\n",
    "    height = 40\n",
    "  ),\n",
    "  cells = dict(\n",
    "    values = values,\n",
    "    line = dict(color = '#506784'),\n",
    "    fill = dict(color = [color_t[0], 'white']),\n",
    "    align = ['left', 'center'],\n",
    "    font = dict(color = '#506784', size = 12),\n",
    "    height = 30\n",
    "    )\n",
    ")\n",
    "\n",
    "\n",
    "layout = dict(\n",
    "    title= '本周与上周各项变化率概览',\n",
    "    height= 500, width= 900,\n",
    "#     xaxis2 = dict(domain= [0.79, 0.9],\n",
    "#                  anchor='y2',showticklabels=False,showgrid=True,\n",
    "#                  tickfont = dict(family = 'Pt Sans Narrow', size= 11),\n",
    "#                  tickangle= -30),\n",
    "#     yaxis2 = dict(anchor='x2',domain=[0.3, 0.75],showticklabels=False,showgrid=True,),\n",
    "#     margin = dict(t= 75, l= 100)\n",
    ")\n",
    "\n",
    "\n",
    "data = [trace0]\n",
    "\n",
    "py.iplot(data, filename = \"Row and Column Size\")"
   ]
  },
  {
   "cell_type": "markdown",
   "metadata": {
    "ExecuteTime": {
     "end_time": "2018-12-09T13:48:32.207158Z",
     "start_time": "2018-12-09T13:48:32.200156Z"
    }
   },
   "source": [
    "### 2.组合分析"
   ]
  },
  {
   "cell_type": "markdown",
   "metadata": {},
   "source": [
    "&nbsp;&nbsp;&nbsp;&nbsp;<b>优点</b>：<br>\n",
    "      &nbsp;&nbsp;&nbsp;&nbsp;&nbsp;&nbsp;1)该可视化图表可以针对某个细化需求，进行多维度可视化分析，同时根据特定需求给出变化情况。<br>\n",
    "      &nbsp;&nbsp;&nbsp;&nbsp;&nbsp;&nbsp;2)适用在具有<b><U><I>周期性、维度广</I></U></b>的可视化报告中，例如BI或者数据化运营部门产出的日、周、月报表。<br>\n",
    "      &nbsp;&nbsp;&nbsp;&nbsp;&nbsp;&nbsp;3)该可视化图表可以拖动列与指标进行对比，具有较强<b><U><I>易用性</I></U></b>。"
   ]
  },
  {
   "cell_type": "code",
   "execution_count": 134,
   "metadata": {
    "ExecuteTime": {
     "end_time": "2018-12-09T13:46:42.023928Z",
     "start_time": "2018-12-09T13:46:41.926507Z"
    },
    "scrolled": false
   },
   "outputs": [],
   "source": [
    "labels = ['交易金额 [¥]',\n",
    "'卡收入-退卡 [¥]',\n",
    "'理论收入 [¥]',\n",
    "'件均 [¥]',\n",
    "'注册 [人]',\n",
    "'首提 [人]',\n",
    "'转化率：注册-首提[％]',\n",
    "'通过率 [％]',\n",
    "'现金流 [％]',\n",
    "'FPD0 [％]',\n",
    "'FPD7 [％]',\n",
    "'FPD30 [％]',\n",
    "'A产品','B产品','C产品','D产品']\n",
    "\n",
    "df_table = pd.DataFrame(np.random.rand(16,3),index=labels,columns=[ '上周数据', '本周数据', '变化率%'])\n",
    "df_table1 = df_table[df_table.columns.tolist()[:-1]]\n",
    "df_table1 = df_table1.applymap(lambda x: round(x*10,2))\n",
    "df_table1['变化率%'] = df_table['变化率%']\n",
    "df_table1['变化率%'] = df_table1['变化率%'].apply(lambda x:round(x,2))\n",
    "df_table = df_table1\n",
    "df_table.iloc[2:3,2] = -0.94\n",
    "df_table.iloc[10:11,2] = -0.72\n",
    "df_table.iloc[7:8,2] = -0.58\n",
    "df_table.iloc[13:14,2] = -0.33\n",
    "# df_table"
   ]
  },
  {
   "cell_type": "code",
   "execution_count": 174,
   "metadata": {
    "ExecuteTime": {
     "end_time": "2018-12-10T02:33:50.437363Z",
     "start_time": "2018-12-10T02:33:50.224429Z"
    },
    "scrolled": false
   },
   "outputs": [
    {
     "data": {
      "application/vnd.plotly.v1+json": {
       "data": [
        {
         "cells": {
          "align": [
           "left",
           "center",
           "center",
           "center"
          ],
          "fill": {
           "color": [
            "rgb(64,70,114)",
            [
             "rgb(245, 245, 245)",
             "rgb(245, 245, 245)",
             "rgb(245, 245, 245)",
             "rgb(245, 245, 245)",
             "rgb(255, 255, 255)",
             "rgb(255, 255, 255)",
             "rgb(255, 255, 255)",
             "rgb(245, 245, 245)",
             "rgb(245, 245, 245)",
             "rgb(245, 245, 245)",
             "rgb(245, 245, 245)",
             "rgb(245, 245, 245)",
             "rgb(255, 255, 255)"
            ]
           ]
          },
          "font": {
           "color": [
            "white",
            "#506784",
            "#506784",
            "#506784"
           ],
           "size": 12
          },
          "format": [
           null,
           null,
           ",.2f",
           ",.2f",
           ",.2f",
           ",.2f"
          ],
          "height": 30,
          "line": {
           "color": "rgba(80,103,132,0.2)",
           "width": 1
          },
          "prefix": [
           null,
           null,
           null,
           null,
           null,
           null
          ],
          "suffix": [
           null,
           null,
           null,
           null,
           null,
           "%",
           "₿"
          ],
          "values": [
           [
            "<b>交易</b>",
            "",
            "",
            "",
            "<b>用户</b>",
            "",
            "",
            "<b>风险</b>",
            "",
            "",
            "",
            "",
            "<b>产品</b>"
           ],
           [
            "交易金额 [¥]",
            "卡收入-退卡 [¥]",
            "理论收入 [¥]",
            "件均 [¥]",
            "注册 [人]",
            "首提 [人]",
            "转化率：注册-首提[％]",
            "通过率 [％]",
            "现金流 [％]",
            "FPD0 [％]",
            "FPD7 [％]",
            "FPD30 [％]",
            "A产品",
            "B产品",
            "C产品",
            "D产品"
           ],
           [
            5.45,
            5.38,
            5.61,
            5.14,
            8.44,
            3.15,
            1.1,
            9.59,
            9.76,
            9.19,
            8.49,
            3.62,
            7.42,
            5.49,
            4.19,
            0.13
           ],
           [
            0.82,
            9.71,
            6.24,
            8.57,
            7,
            4.15,
            3,
            9.13,
            3.68,
            9.21,
            2.47,
            4.14,
            4.16,
            9.93,
            3.44,
            8.84
           ],
           [
            0.36,
            0.53,
            -0.94,
            0.58,
            0.29,
            0.36,
            0,
            -0.58,
            0.19,
            0.3,
            -0.72,
            0.44,
            0.11,
            -0.33,
            0.41,
            0.97
           ]
          ]
         },
         "columnwidth": [
          1,
          2,
          2,
          2
         ],
         "domain": {
          "x": [
           0,
           0.8
          ],
          "y": [
           0,
           0.93
          ]
         },
         "header": {
          "align": [
           "center",
           "center",
           "center",
           "center"
          ],
          "fill": {
           "color": "rgb(64,70,114)"
          },
          "font": {
           "color": "white",
           "size": 14
          },
          "height": 45,
          "line": {
           "color": "rgba(80,103,132,0.2)",
           "width": 0.5
          },
          "values": [
           "",
           "<b>类别</b>",
           "<b>上周数据</b>",
           "<b>本周数据</b>",
           "<b>变化率%</b>"
          ]
         },
         "type": "table"
        },
        {
         "marker": {
          "color": [
           "rgb(0,165,0)",
           "rgb(0,165,0)",
           "rgb(231,0,23)",
           "rgb(0,165,0)",
           "rgb(0,165,0)",
           "rgb(231,0,23)",
           "rgb(0,165,0)",
           "rgb(0,165,0)",
           "rgb(231,0,23)",
           "rgb(231,0,23)",
           "rgb(0,165,0)",
           "rgb(0,165,0)",
           "rgb(0,165,0)",
           "rgb(231,0,23)",
           "rgb(0,165,0)",
           "rgb(0,165,0)"
          ]
         },
         "name": "类别",
         "orientation": "h",
         "textposition": "Top",
         "type": "bar",
         "x": [
          0.97,
          0.41,
          -0.33,
          0.11,
          0.44,
          -0.72,
          0.3,
          0.19,
          -0.58,
          0,
          0.36,
          0.29,
          0.58,
          -0.94,
          0.53,
          0.36
         ],
         "xaxis": "x2",
         "y": [
          "D产品",
          "C产品",
          "B产品",
          "A产品",
          "FPD30 [％]",
          "FPD7 [％]",
          "FPD0 [％]",
          "现金流 [％]",
          "通过率 [％]",
          "转化率：注册-首提[％]",
          "首提 [人]",
          "注册 [人]",
          "件均 [¥]",
          "理论收入 [¥]",
          "卡收入-退卡 [¥]",
          "交易金额 [¥]"
         ],
         "yaxis": "y2"
        }
       ],
       "layout": {
        "annotations": [
         {
          "arrowhead": 0,
          "arrowsize": 0.01,
          "arrowwidth": 0.8,
          "ax": 8,
          "ay": 0,
          "font": {
           "color": "rgb(203,202,202)",
           "family": "Arial",
           "size": 9
          },
          "showarrow": true,
          "text": "D产品",
          "x": 1.25,
          "y": 0
         },
         {
          "arrowhead": 0,
          "arrowsize": 0.01,
          "arrowwidth": 0.8,
          "ax": 8,
          "ay": 0,
          "font": {
           "color": "rgb(203,202,202)",
           "family": "Arial",
           "size": 9
          },
          "showarrow": true,
          "text": "C产品",
          "x": 1.25,
          "y": 1
         },
         {
          "arrowhead": 0,
          "arrowsize": 0.01,
          "arrowwidth": 0.8,
          "ax": 8,
          "ay": 0,
          "font": {
           "color": "rgb(203,202,202)",
           "family": "Arial",
           "size": 9
          },
          "showarrow": true,
          "text": "B产品",
          "x": 1.25,
          "y": 2
         },
         {
          "arrowhead": 0,
          "arrowsize": 0.01,
          "arrowwidth": 0.8,
          "ax": 8,
          "ay": 0,
          "font": {
           "color": "rgb(203,202,202)",
           "family": "Arial",
           "size": 9
          },
          "showarrow": true,
          "text": "A产品",
          "x": 1.25,
          "y": 3
         },
         {
          "arrowhead": 0,
          "arrowsize": 0.01,
          "arrowwidth": 0.8,
          "ax": 8,
          "ay": 0,
          "font": {
           "color": "rgb(203,202,202)",
           "family": "Arial",
           "size": 9
          },
          "showarrow": true,
          "text": "FPD30 [％]",
          "x": 1.25,
          "y": 4
         },
         {
          "arrowhead": 0,
          "arrowsize": 0.01,
          "arrowwidth": 0.8,
          "ax": 8,
          "ay": 0,
          "font": {
           "color": "rgb(203,202,202)",
           "family": "Arial",
           "size": 9
          },
          "showarrow": true,
          "text": "FPD7 [％]",
          "x": 1.25,
          "y": 5
         },
         {
          "arrowhead": 0,
          "arrowsize": 0.01,
          "arrowwidth": 0.8,
          "ax": 8,
          "ay": 0,
          "font": {
           "color": "rgb(203,202,202)",
           "family": "Arial",
           "size": 9
          },
          "showarrow": true,
          "text": "FPD0 [％]",
          "x": 1.25,
          "y": 6
         },
         {
          "arrowhead": 0,
          "arrowsize": 0.01,
          "arrowwidth": 0.8,
          "ax": 8,
          "ay": 0,
          "font": {
           "color": "rgb(203,202,202)",
           "family": "Arial",
           "size": 9
          },
          "showarrow": true,
          "text": "现金流 [％]",
          "x": 1.25,
          "y": 7
         },
         {
          "arrowhead": 0,
          "arrowsize": 0.01,
          "arrowwidth": 0.8,
          "ax": 8,
          "ay": 0,
          "font": {
           "color": "rgb(203,202,202)",
           "family": "Arial",
           "size": 9
          },
          "showarrow": true,
          "text": "通过率 [％]",
          "x": 1.25,
          "y": 8
         },
         {
          "arrowhead": 0,
          "arrowsize": 0.01,
          "arrowwidth": 0.8,
          "ax": 8,
          "ay": 0,
          "font": {
           "color": "rgb(203,202,202)",
           "family": "Arial",
           "size": 9
          },
          "showarrow": true,
          "text": "转化率：注册-首提[％]",
          "x": 1.25,
          "y": 9
         },
         {
          "arrowhead": 0,
          "arrowsize": 0.01,
          "arrowwidth": 0.8,
          "ax": 8,
          "ay": 0,
          "font": {
           "color": "rgb(203,202,202)",
           "family": "Arial",
           "size": 9
          },
          "showarrow": true,
          "text": "首提 [人]",
          "x": 1.25,
          "y": 10
         },
         {
          "arrowhead": 0,
          "arrowsize": 0.01,
          "arrowwidth": 0.8,
          "ax": 8,
          "ay": 0,
          "font": {
           "color": "rgb(203,202,202)",
           "family": "Arial",
           "size": 9
          },
          "showarrow": true,
          "text": "注册 [人]",
          "x": 1.25,
          "y": 11
         },
         {
          "arrowhead": 0,
          "arrowsize": 0.01,
          "arrowwidth": 0.8,
          "ax": 8,
          "ay": 0,
          "font": {
           "color": "rgb(203,202,202)",
           "family": "Arial",
           "size": 9
          },
          "showarrow": true,
          "text": "件均 [¥]",
          "x": 1.25,
          "y": 12
         },
         {
          "arrowhead": 0,
          "arrowsize": 0.01,
          "arrowwidth": 0.8,
          "ax": 8,
          "ay": 0,
          "font": {
           "color": "rgb(203,202,202)",
           "family": "Arial",
           "size": 9
          },
          "showarrow": true,
          "text": "理论收入 [¥]",
          "x": 1.25,
          "y": 13
         },
         {
          "arrowhead": 0,
          "arrowsize": 0.01,
          "arrowwidth": 0.8,
          "ax": 8,
          "ay": 0,
          "font": {
           "color": "rgb(203,202,202)",
           "family": "Arial",
           "size": 9
          },
          "showarrow": true,
          "text": "卡收入-退卡 [¥]",
          "x": 1.25,
          "y": 14
         },
         {
          "arrowhead": 0,
          "arrowsize": 0.01,
          "arrowwidth": 0.8,
          "ax": 8,
          "ay": 0,
          "font": {
           "color": "rgb(203,202,202)",
           "family": "Arial",
           "size": 9
          },
          "showarrow": true,
          "text": "交易金额 [¥]",
          "x": 1.25,
          "y": 15
         }
        ],
        "height": 800,
        "margin": {
         "l": 100,
         "t": 35
        },
        "title": "本周与上周概览",
        "titlefont": {
         "size": 20
        },
        "width": 1000,
        "xaxis2": {
         "anchor": "y2",
         "domain": [
          0.79,
          0.95
         ],
         "showgrid": true,
         "showticklabels": false,
         "tickangle": -30,
         "tickfont": {
          "family": "Pt Sans Narrow",
          "size": 11
         }
        },
        "yaxis2": {
         "anchor": "x2",
         "domain": [
          0.16,
          0.87
         ],
         "showgrid": true,
         "showticklabels": false
        }
       }
      },
      "text/html": [
       "<div id=\"7db29608-ba65-460b-aa93-1507f41f4dd6\" style=\"height: 800px; width: 1000px;\" class=\"plotly-graph-div\"></div><script type=\"text/javascript\">require([\"plotly\"], function(Plotly) { window.PLOTLYENV=window.PLOTLYENV || {};window.PLOTLYENV.BASE_URL=\"https://plot.ly\";Plotly.newPlot(\"7db29608-ba65-460b-aa93-1507f41f4dd6\", [{\"type\": \"table\", \"domain\": {\"x\": [0, 0.8], \"y\": [0, 0.93]}, \"columnwidth\": [1, 2, 2, 2], \"header\": {\"values\": [\"\", \"<b>\\u7c7b\\u522b</b>\", \"<b>\\u4e0a\\u5468\\u6570\\u636e</b>\", \"<b>\\u672c\\u5468\\u6570\\u636e</b>\", \"<b>\\u53d8\\u5316\\u7387%</b>\"], \"line\": {\"color\": \"rgba(80,103,132,0.2)\", \"width\": 0.5}, \"fill\": {\"color\": \"rgb(64,70,114)\"}, \"align\": [\"center\", \"center\", \"center\", \"center\"], \"font\": {\"color\": \"white\", \"size\": 14}, \"height\": 45}, \"cells\": {\"values\": [[\"<b>\\u4ea4\\u6613</b>\", \"\", \"\", \"\", \"<b>\\u7528\\u6237</b>\", \"\", \"\", \"<b>\\u98ce\\u9669</b>\", \"\", \"\", \"\", \"\", \"<b>\\u4ea7\\u54c1</b>\"], [\"\\u4ea4\\u6613\\u91d1\\u989d [\\u00a5]\", \"\\u5361\\u6536\\u5165-\\u9000\\u5361 [\\u00a5]\", \"\\u7406\\u8bba\\u6536\\u5165 [\\u00a5]\", \"\\u4ef6\\u5747 [\\u00a5]\", \"\\u6ce8\\u518c [\\u4eba]\", \"\\u9996\\u63d0 [\\u4eba]\", \"\\u8f6c\\u5316\\u7387\\uff1a\\u6ce8\\u518c-\\u9996\\u63d0[\\uff05]\", \"\\u901a\\u8fc7\\u7387 [\\uff05]\", \"\\u73b0\\u91d1\\u6d41 [\\uff05]\", \"FPD0 [\\uff05]\", \"FPD7 [\\uff05]\", \"FPD30 [\\uff05]\", \"A\\u4ea7\\u54c1\", \"B\\u4ea7\\u54c1\", \"C\\u4ea7\\u54c1\", \"D\\u4ea7\\u54c1\"], [5.45, 5.38, 5.61, 5.14, 8.44, 3.15, 1.1, 9.59, 9.76, 9.19, 8.49, 3.62, 7.42, 5.49, 4.19, 0.13], [0.82, 9.71, 6.24, 8.57, 7.0, 4.15, 3.0, 9.13, 3.68, 9.21, 2.47, 4.14, 4.16, 9.93, 3.44, 8.84], [0.36, 0.53, -0.94, 0.58, 0.29, 0.36, 0.0, -0.58, 0.19, 0.3, -0.72, 0.44, 0.11, -0.33, 0.41, 0.97]], \"line\": {\"color\": \"rgba(80,103,132,0.2)\", \"width\": 1}, \"fill\": {\"color\": [\"rgb(64,70,114)\", [\"rgb(245, 245, 245)\", \"rgb(245, 245, 245)\", \"rgb(245, 245, 245)\", \"rgb(245, 245, 245)\", \"rgb(255, 255, 255)\", \"rgb(255, 255, 255)\", \"rgb(255, 255, 255)\", \"rgb(245, 245, 245)\", \"rgb(245, 245, 245)\", \"rgb(245, 245, 245)\", \"rgb(245, 245, 245)\", \"rgb(245, 245, 245)\", \"rgb(255, 255, 255)\"]]}, \"align\": [\"left\", \"center\", \"center\", \"center\"], \"font\": {\"color\": [\"white\", \"#506784\", \"#506784\", \"#506784\"], \"size\": 12}, \"height\": 30, \"format\": [null, null, \",.2f\", \",.2f\", \",.2f\", \",.2f\"], \"prefix\": [null, null, null, null, null, null], \"suffix\": [null, null, null, null, null, \"%\", \"\\u20bf\"]}}, {\"type\": \"bar\", \"x\": [0.97, 0.41, -0.33, 0.11, 0.44, -0.72, 0.3, 0.19, -0.58, 0.0, 0.36, 0.29, 0.58, -0.94, 0.53, 0.36], \"y\": [\"D\\u4ea7\\u54c1\", \"C\\u4ea7\\u54c1\", \"B\\u4ea7\\u54c1\", \"A\\u4ea7\\u54c1\", \"FPD30 [\\uff05]\", \"FPD7 [\\uff05]\", \"FPD0 [\\uff05]\", \"\\u73b0\\u91d1\\u6d41 [\\uff05]\", \"\\u901a\\u8fc7\\u7387 [\\uff05]\", \"\\u8f6c\\u5316\\u7387\\uff1a\\u6ce8\\u518c-\\u9996\\u63d0[\\uff05]\", \"\\u9996\\u63d0 [\\u4eba]\", \"\\u6ce8\\u518c [\\u4eba]\", \"\\u4ef6\\u5747 [\\u00a5]\", \"\\u7406\\u8bba\\u6536\\u5165 [\\u00a5]\", \"\\u5361\\u6536\\u5165-\\u9000\\u5361 [\\u00a5]\", \"\\u4ea4\\u6613\\u91d1\\u989d [\\u00a5]\"], \"name\": \"\\u7c7b\\u522b\", \"xaxis\": \"x2\", \"yaxis\": \"y2\", \"marker\": {\"color\": [\"rgb(0,165,0)\", \"rgb(0,165,0)\", \"rgb(231,0,23)\", \"rgb(0,165,0)\", \"rgb(0,165,0)\", \"rgb(231,0,23)\", \"rgb(0,165,0)\", \"rgb(0,165,0)\", \"rgb(231,0,23)\", \"rgb(231,0,23)\", \"rgb(0,165,0)\", \"rgb(0,165,0)\", \"rgb(0,165,0)\", \"rgb(231,0,23)\", \"rgb(0,165,0)\", \"rgb(0,165,0)\"]}, \"textposition\": \"Top\", \"orientation\": \"h\"}], {\"title\": \"\\u672c\\u5468\\u4e0e\\u4e0a\\u5468\\u6982\\u89c8\", \"titlefont\": {\"size\": 20}, \"height\": 800, \"width\": 1000, \"xaxis2\": {\"domain\": [0.79, 0.95], \"anchor\": \"y2\", \"showticklabels\": false, \"showgrid\": true, \"tickfont\": {\"family\": \"Pt Sans Narrow\", \"size\": 11}, \"tickangle\": -30}, \"yaxis2\": {\"anchor\": \"x2\", \"domain\": [0.16, 0.87], \"showticklabels\": false, \"showgrid\": true}, \"margin\": {\"t\": 35, \"l\": 100}, \"annotations\": [{\"x\": 1.25, \"y\": 0, \"font\": {\"family\": \"Arial\", \"size\": 9, \"color\": \"rgb(203,202,202)\"}, \"text\": \"D\\u4ea7\\u54c1\", \"showarrow\": true, \"arrowhead\": 0, \"arrowsize\": 0.01, \"arrowwidth\": 0.8, \"ax\": 8, \"ay\": 0}, {\"x\": 1.25, \"y\": 1, \"font\": {\"family\": \"Arial\", \"size\": 9, \"color\": \"rgb(203,202,202)\"}, \"text\": \"C\\u4ea7\\u54c1\", \"showarrow\": true, \"arrowhead\": 0, \"arrowsize\": 0.01, \"arrowwidth\": 0.8, \"ax\": 8, \"ay\": 0}, {\"x\": 1.25, \"y\": 2, \"font\": {\"family\": \"Arial\", \"size\": 9, \"color\": \"rgb(203,202,202)\"}, \"text\": \"B\\u4ea7\\u54c1\", \"showarrow\": true, \"arrowhead\": 0, \"arrowsize\": 0.01, \"arrowwidth\": 0.8, \"ax\": 8, \"ay\": 0}, {\"x\": 1.25, \"y\": 3, \"font\": {\"family\": \"Arial\", \"size\": 9, \"color\": \"rgb(203,202,202)\"}, \"text\": \"A\\u4ea7\\u54c1\", \"showarrow\": true, \"arrowhead\": 0, \"arrowsize\": 0.01, \"arrowwidth\": 0.8, \"ax\": 8, \"ay\": 0}, {\"x\": 1.25, \"y\": 4, \"font\": {\"family\": \"Arial\", \"size\": 9, \"color\": \"rgb(203,202,202)\"}, \"text\": \"FPD30 [\\uff05]\", \"showarrow\": true, \"arrowhead\": 0, \"arrowsize\": 0.01, \"arrowwidth\": 0.8, \"ax\": 8, \"ay\": 0}, {\"x\": 1.25, \"y\": 5, \"font\": {\"family\": \"Arial\", \"size\": 9, \"color\": \"rgb(203,202,202)\"}, \"text\": \"FPD7 [\\uff05]\", \"showarrow\": true, \"arrowhead\": 0, \"arrowsize\": 0.01, \"arrowwidth\": 0.8, \"ax\": 8, \"ay\": 0}, {\"x\": 1.25, \"y\": 6, \"font\": {\"family\": \"Arial\", \"size\": 9, \"color\": \"rgb(203,202,202)\"}, \"text\": \"FPD0 [\\uff05]\", \"showarrow\": true, \"arrowhead\": 0, \"arrowsize\": 0.01, \"arrowwidth\": 0.8, \"ax\": 8, \"ay\": 0}, {\"x\": 1.25, \"y\": 7, \"font\": {\"family\": \"Arial\", \"size\": 9, \"color\": \"rgb(203,202,202)\"}, \"text\": \"\\u73b0\\u91d1\\u6d41 [\\uff05]\", \"showarrow\": true, \"arrowhead\": 0, \"arrowsize\": 0.01, \"arrowwidth\": 0.8, \"ax\": 8, \"ay\": 0}, {\"x\": 1.25, \"y\": 8, \"font\": {\"family\": \"Arial\", \"size\": 9, \"color\": \"rgb(203,202,202)\"}, \"text\": \"\\u901a\\u8fc7\\u7387 [\\uff05]\", \"showarrow\": true, \"arrowhead\": 0, \"arrowsize\": 0.01, \"arrowwidth\": 0.8, \"ax\": 8, \"ay\": 0}, {\"x\": 1.25, \"y\": 9, \"font\": {\"family\": \"Arial\", \"size\": 9, \"color\": \"rgb(203,202,202)\"}, \"text\": \"\\u8f6c\\u5316\\u7387\\uff1a\\u6ce8\\u518c-\\u9996\\u63d0[\\uff05]\", \"showarrow\": true, \"arrowhead\": 0, \"arrowsize\": 0.01, \"arrowwidth\": 0.8, \"ax\": 8, \"ay\": 0}, {\"x\": 1.25, \"y\": 10, \"font\": {\"family\": \"Arial\", \"size\": 9, \"color\": \"rgb(203,202,202)\"}, \"text\": \"\\u9996\\u63d0 [\\u4eba]\", \"showarrow\": true, \"arrowhead\": 0, \"arrowsize\": 0.01, \"arrowwidth\": 0.8, \"ax\": 8, \"ay\": 0}, {\"x\": 1.25, \"y\": 11, \"font\": {\"family\": \"Arial\", \"size\": 9, \"color\": \"rgb(203,202,202)\"}, \"text\": \"\\u6ce8\\u518c [\\u4eba]\", \"showarrow\": true, \"arrowhead\": 0, \"arrowsize\": 0.01, \"arrowwidth\": 0.8, \"ax\": 8, \"ay\": 0}, {\"x\": 1.25, \"y\": 12, \"font\": {\"family\": \"Arial\", \"size\": 9, \"color\": \"rgb(203,202,202)\"}, \"text\": \"\\u4ef6\\u5747 [\\u00a5]\", \"showarrow\": true, \"arrowhead\": 0, \"arrowsize\": 0.01, \"arrowwidth\": 0.8, \"ax\": 8, \"ay\": 0}, {\"x\": 1.25, \"y\": 13, \"font\": {\"family\": \"Arial\", \"size\": 9, \"color\": \"rgb(203,202,202)\"}, \"text\": \"\\u7406\\u8bba\\u6536\\u5165 [\\u00a5]\", \"showarrow\": true, \"arrowhead\": 0, \"arrowsize\": 0.01, \"arrowwidth\": 0.8, \"ax\": 8, \"ay\": 0}, {\"x\": 1.25, \"y\": 14, \"font\": {\"family\": \"Arial\", \"size\": 9, \"color\": \"rgb(203,202,202)\"}, \"text\": \"\\u5361\\u6536\\u5165-\\u9000\\u5361 [\\u00a5]\", \"showarrow\": true, \"arrowhead\": 0, \"arrowsize\": 0.01, \"arrowwidth\": 0.8, \"ax\": 8, \"ay\": 0}, {\"x\": 1.25, \"y\": 15, \"font\": {\"family\": \"Arial\", \"size\": 9, \"color\": \"rgb(203,202,202)\"}, \"text\": \"\\u4ea4\\u6613\\u91d1\\u989d [\\u00a5]\", \"showarrow\": true, \"arrowhead\": 0, \"arrowsize\": 0.01, \"arrowwidth\": 0.8, \"ax\": 8, \"ay\": 0}]}, {\"showLink\": true, \"linkText\": \"Export to plot.ly\"})});</script>"
      ],
      "text/vnd.plotly.v1+html": [
       "<div id=\"7db29608-ba65-460b-aa93-1507f41f4dd6\" style=\"height: 800px; width: 1000px;\" class=\"plotly-graph-div\"></div><script type=\"text/javascript\">require([\"plotly\"], function(Plotly) { window.PLOTLYENV=window.PLOTLYENV || {};window.PLOTLYENV.BASE_URL=\"https://plot.ly\";Plotly.newPlot(\"7db29608-ba65-460b-aa93-1507f41f4dd6\", [{\"type\": \"table\", \"domain\": {\"x\": [0, 0.8], \"y\": [0, 0.93]}, \"columnwidth\": [1, 2, 2, 2], \"header\": {\"values\": [\"\", \"<b>\\u7c7b\\u522b</b>\", \"<b>\\u4e0a\\u5468\\u6570\\u636e</b>\", \"<b>\\u672c\\u5468\\u6570\\u636e</b>\", \"<b>\\u53d8\\u5316\\u7387%</b>\"], \"line\": {\"color\": \"rgba(80,103,132,0.2)\", \"width\": 0.5}, \"fill\": {\"color\": \"rgb(64,70,114)\"}, \"align\": [\"center\", \"center\", \"center\", \"center\"], \"font\": {\"color\": \"white\", \"size\": 14}, \"height\": 45}, \"cells\": {\"values\": [[\"<b>\\u4ea4\\u6613</b>\", \"\", \"\", \"\", \"<b>\\u7528\\u6237</b>\", \"\", \"\", \"<b>\\u98ce\\u9669</b>\", \"\", \"\", \"\", \"\", \"<b>\\u4ea7\\u54c1</b>\"], [\"\\u4ea4\\u6613\\u91d1\\u989d [\\u00a5]\", \"\\u5361\\u6536\\u5165-\\u9000\\u5361 [\\u00a5]\", \"\\u7406\\u8bba\\u6536\\u5165 [\\u00a5]\", \"\\u4ef6\\u5747 [\\u00a5]\", \"\\u6ce8\\u518c [\\u4eba]\", \"\\u9996\\u63d0 [\\u4eba]\", \"\\u8f6c\\u5316\\u7387\\uff1a\\u6ce8\\u518c-\\u9996\\u63d0[\\uff05]\", \"\\u901a\\u8fc7\\u7387 [\\uff05]\", \"\\u73b0\\u91d1\\u6d41 [\\uff05]\", \"FPD0 [\\uff05]\", \"FPD7 [\\uff05]\", \"FPD30 [\\uff05]\", \"A\\u4ea7\\u54c1\", \"B\\u4ea7\\u54c1\", \"C\\u4ea7\\u54c1\", \"D\\u4ea7\\u54c1\"], [5.45, 5.38, 5.61, 5.14, 8.44, 3.15, 1.1, 9.59, 9.76, 9.19, 8.49, 3.62, 7.42, 5.49, 4.19, 0.13], [0.82, 9.71, 6.24, 8.57, 7.0, 4.15, 3.0, 9.13, 3.68, 9.21, 2.47, 4.14, 4.16, 9.93, 3.44, 8.84], [0.36, 0.53, -0.94, 0.58, 0.29, 0.36, 0.0, -0.58, 0.19, 0.3, -0.72, 0.44, 0.11, -0.33, 0.41, 0.97]], \"line\": {\"color\": \"rgba(80,103,132,0.2)\", \"width\": 1}, \"fill\": {\"color\": [\"rgb(64,70,114)\", [\"rgb(245, 245, 245)\", \"rgb(245, 245, 245)\", \"rgb(245, 245, 245)\", \"rgb(245, 245, 245)\", \"rgb(255, 255, 255)\", \"rgb(255, 255, 255)\", \"rgb(255, 255, 255)\", \"rgb(245, 245, 245)\", \"rgb(245, 245, 245)\", \"rgb(245, 245, 245)\", \"rgb(245, 245, 245)\", \"rgb(245, 245, 245)\", \"rgb(255, 255, 255)\"]]}, \"align\": [\"left\", \"center\", \"center\", \"center\"], \"font\": {\"color\": [\"white\", \"#506784\", \"#506784\", \"#506784\"], \"size\": 12}, \"height\": 30, \"format\": [null, null, \",.2f\", \",.2f\", \",.2f\", \",.2f\"], \"prefix\": [null, null, null, null, null, null], \"suffix\": [null, null, null, null, null, \"%\", \"\\u20bf\"]}}, {\"type\": \"bar\", \"x\": [0.97, 0.41, -0.33, 0.11, 0.44, -0.72, 0.3, 0.19, -0.58, 0.0, 0.36, 0.29, 0.58, -0.94, 0.53, 0.36], \"y\": [\"D\\u4ea7\\u54c1\", \"C\\u4ea7\\u54c1\", \"B\\u4ea7\\u54c1\", \"A\\u4ea7\\u54c1\", \"FPD30 [\\uff05]\", \"FPD7 [\\uff05]\", \"FPD0 [\\uff05]\", \"\\u73b0\\u91d1\\u6d41 [\\uff05]\", \"\\u901a\\u8fc7\\u7387 [\\uff05]\", \"\\u8f6c\\u5316\\u7387\\uff1a\\u6ce8\\u518c-\\u9996\\u63d0[\\uff05]\", \"\\u9996\\u63d0 [\\u4eba]\", \"\\u6ce8\\u518c [\\u4eba]\", \"\\u4ef6\\u5747 [\\u00a5]\", \"\\u7406\\u8bba\\u6536\\u5165 [\\u00a5]\", \"\\u5361\\u6536\\u5165-\\u9000\\u5361 [\\u00a5]\", \"\\u4ea4\\u6613\\u91d1\\u989d [\\u00a5]\"], \"name\": \"\\u7c7b\\u522b\", \"xaxis\": \"x2\", \"yaxis\": \"y2\", \"marker\": {\"color\": [\"rgb(0,165,0)\", \"rgb(0,165,0)\", \"rgb(231,0,23)\", \"rgb(0,165,0)\", \"rgb(0,165,0)\", \"rgb(231,0,23)\", \"rgb(0,165,0)\", \"rgb(0,165,0)\", \"rgb(231,0,23)\", \"rgb(231,0,23)\", \"rgb(0,165,0)\", \"rgb(0,165,0)\", \"rgb(0,165,0)\", \"rgb(231,0,23)\", \"rgb(0,165,0)\", \"rgb(0,165,0)\"]}, \"textposition\": \"Top\", \"orientation\": \"h\"}], {\"title\": \"\\u672c\\u5468\\u4e0e\\u4e0a\\u5468\\u6982\\u89c8\", \"titlefont\": {\"size\": 20}, \"height\": 800, \"width\": 1000, \"xaxis2\": {\"domain\": [0.79, 0.95], \"anchor\": \"y2\", \"showticklabels\": false, \"showgrid\": true, \"tickfont\": {\"family\": \"Pt Sans Narrow\", \"size\": 11}, \"tickangle\": -30}, \"yaxis2\": {\"anchor\": \"x2\", \"domain\": [0.16, 0.87], \"showticklabels\": false, \"showgrid\": true}, \"margin\": {\"t\": 35, \"l\": 100}, \"annotations\": [{\"x\": 1.25, \"y\": 0, \"font\": {\"family\": \"Arial\", \"size\": 9, \"color\": \"rgb(203,202,202)\"}, \"text\": \"D\\u4ea7\\u54c1\", \"showarrow\": true, \"arrowhead\": 0, \"arrowsize\": 0.01, \"arrowwidth\": 0.8, \"ax\": 8, \"ay\": 0}, {\"x\": 1.25, \"y\": 1, \"font\": {\"family\": \"Arial\", \"size\": 9, \"color\": \"rgb(203,202,202)\"}, \"text\": \"C\\u4ea7\\u54c1\", \"showarrow\": true, \"arrowhead\": 0, \"arrowsize\": 0.01, \"arrowwidth\": 0.8, \"ax\": 8, \"ay\": 0}, {\"x\": 1.25, \"y\": 2, \"font\": {\"family\": \"Arial\", \"size\": 9, \"color\": \"rgb(203,202,202)\"}, \"text\": \"B\\u4ea7\\u54c1\", \"showarrow\": true, \"arrowhead\": 0, \"arrowsize\": 0.01, \"arrowwidth\": 0.8, \"ax\": 8, \"ay\": 0}, {\"x\": 1.25, \"y\": 3, \"font\": {\"family\": \"Arial\", \"size\": 9, \"color\": \"rgb(203,202,202)\"}, \"text\": \"A\\u4ea7\\u54c1\", \"showarrow\": true, \"arrowhead\": 0, \"arrowsize\": 0.01, \"arrowwidth\": 0.8, \"ax\": 8, \"ay\": 0}, {\"x\": 1.25, \"y\": 4, \"font\": {\"family\": \"Arial\", \"size\": 9, \"color\": \"rgb(203,202,202)\"}, \"text\": \"FPD30 [\\uff05]\", \"showarrow\": true, \"arrowhead\": 0, \"arrowsize\": 0.01, \"arrowwidth\": 0.8, \"ax\": 8, \"ay\": 0}, {\"x\": 1.25, \"y\": 5, \"font\": {\"family\": \"Arial\", \"size\": 9, \"color\": \"rgb(203,202,202)\"}, \"text\": \"FPD7 [\\uff05]\", \"showarrow\": true, \"arrowhead\": 0, \"arrowsize\": 0.01, \"arrowwidth\": 0.8, \"ax\": 8, \"ay\": 0}, {\"x\": 1.25, \"y\": 6, \"font\": {\"family\": \"Arial\", \"size\": 9, \"color\": \"rgb(203,202,202)\"}, \"text\": \"FPD0 [\\uff05]\", \"showarrow\": true, \"arrowhead\": 0, \"arrowsize\": 0.01, \"arrowwidth\": 0.8, \"ax\": 8, \"ay\": 0}, {\"x\": 1.25, \"y\": 7, \"font\": {\"family\": \"Arial\", \"size\": 9, \"color\": \"rgb(203,202,202)\"}, \"text\": \"\\u73b0\\u91d1\\u6d41 [\\uff05]\", \"showarrow\": true, \"arrowhead\": 0, \"arrowsize\": 0.01, \"arrowwidth\": 0.8, \"ax\": 8, \"ay\": 0}, {\"x\": 1.25, \"y\": 8, \"font\": {\"family\": \"Arial\", \"size\": 9, \"color\": \"rgb(203,202,202)\"}, \"text\": \"\\u901a\\u8fc7\\u7387 [\\uff05]\", \"showarrow\": true, \"arrowhead\": 0, \"arrowsize\": 0.01, \"arrowwidth\": 0.8, \"ax\": 8, \"ay\": 0}, {\"x\": 1.25, \"y\": 9, \"font\": {\"family\": \"Arial\", \"size\": 9, \"color\": \"rgb(203,202,202)\"}, \"text\": \"\\u8f6c\\u5316\\u7387\\uff1a\\u6ce8\\u518c-\\u9996\\u63d0[\\uff05]\", \"showarrow\": true, \"arrowhead\": 0, \"arrowsize\": 0.01, \"arrowwidth\": 0.8, \"ax\": 8, \"ay\": 0}, {\"x\": 1.25, \"y\": 10, \"font\": {\"family\": \"Arial\", \"size\": 9, \"color\": \"rgb(203,202,202)\"}, \"text\": \"\\u9996\\u63d0 [\\u4eba]\", \"showarrow\": true, \"arrowhead\": 0, \"arrowsize\": 0.01, \"arrowwidth\": 0.8, \"ax\": 8, \"ay\": 0}, {\"x\": 1.25, \"y\": 11, \"font\": {\"family\": \"Arial\", \"size\": 9, \"color\": \"rgb(203,202,202)\"}, \"text\": \"\\u6ce8\\u518c [\\u4eba]\", \"showarrow\": true, \"arrowhead\": 0, \"arrowsize\": 0.01, \"arrowwidth\": 0.8, \"ax\": 8, \"ay\": 0}, {\"x\": 1.25, \"y\": 12, \"font\": {\"family\": \"Arial\", \"size\": 9, \"color\": \"rgb(203,202,202)\"}, \"text\": \"\\u4ef6\\u5747 [\\u00a5]\", \"showarrow\": true, \"arrowhead\": 0, \"arrowsize\": 0.01, \"arrowwidth\": 0.8, \"ax\": 8, \"ay\": 0}, {\"x\": 1.25, \"y\": 13, \"font\": {\"family\": \"Arial\", \"size\": 9, \"color\": \"rgb(203,202,202)\"}, \"text\": \"\\u7406\\u8bba\\u6536\\u5165 [\\u00a5]\", \"showarrow\": true, \"arrowhead\": 0, \"arrowsize\": 0.01, \"arrowwidth\": 0.8, \"ax\": 8, \"ay\": 0}, {\"x\": 1.25, \"y\": 14, \"font\": {\"family\": \"Arial\", \"size\": 9, \"color\": \"rgb(203,202,202)\"}, \"text\": \"\\u5361\\u6536\\u5165-\\u9000\\u5361 [\\u00a5]\", \"showarrow\": true, \"arrowhead\": 0, \"arrowsize\": 0.01, \"arrowwidth\": 0.8, \"ax\": 8, \"ay\": 0}, {\"x\": 1.25, \"y\": 15, \"font\": {\"family\": \"Arial\", \"size\": 9, \"color\": \"rgb(203,202,202)\"}, \"text\": \"\\u4ea4\\u6613\\u91d1\\u989d [\\u00a5]\", \"showarrow\": true, \"arrowhead\": 0, \"arrowsize\": 0.01, \"arrowwidth\": 0.8, \"ax\": 8, \"ay\": 0}]}, {\"showLink\": true, \"linkText\": \"Export to plot.ly\"})});</script>"
      ]
     },
     "metadata": {},
     "output_type": "display_data"
    }
   ],
   "source": [
    "\n",
    "\n",
    "col_good = 'rgb(0,165,0)'\n",
    "col_bad = 'rgb(231,0,23)'\n",
    "rowOddColor = 'rgb(255, 255, 255)'\n",
    "rowEvenColor = 'rgb(245, 245, 245)'\n",
    "df_color = pd.DataFrame(pd.Series(['rgb(255, 255, 255)','rgb(245, 245, 245)','rgb(255, 255, 255)',\n",
    "                                             'rgb(245, 245, 245)','rgb(255, 255, 255)']),columns=['color'])\n",
    "\n",
    "color = []\n",
    "\n",
    "x = df_table['变化率%'].tolist()[::-1]\n",
    "for i in x:\n",
    "    if i > 0:\n",
    "        color.append(col_good)\n",
    "    else:\n",
    "        color.append(col_bad)  \n",
    "\n",
    "\n",
    "traces = []\n",
    "\n",
    "traces.append(go.Table(\n",
    "    domain=dict(x=[0, 0.8],\n",
    "                y=[0, 0.93]),\n",
    "    columnwidth=[1, 2, 2, 2],\n",
    "    header=dict(values= ['']+['<b>类别</b>'] + ['<b>上周数据</b>']+['<b>本周数据</b>']+['<b>变化率%</b>'],\n",
    "                line=dict(color='rgba(80,103,132,0.2)', width=0.5),\n",
    "                fill=dict(color='rgb(64,70,114)'),\n",
    "                align=['center','center','center','center'],\n",
    "                font=dict(color='white', size=14),\n",
    "                height=45,\n",
    "               ),\n",
    "    cells=dict(values=[['<b>交易</b>','','','','<b>用户</b>','','','<b>风险</b>','','','','','<b>产品</b>'],df_table.index,df_table.iloc[:,0], df_table.iloc[:,1], df_table.iloc[:,2]],\n",
    "               line=dict(color='rgba(80,103,132,0.2)', width=1),\n",
    "        fill=dict(color=['rgb(64,70,114)', ['rgb(245, 245, 245)','rgb(245, 245, 245)','rgb(245, 245, 245)','rgb(245, 245, 245)','rgb(255, 255, 255)'\n",
    "                                            ,'rgb(255, 255, 255)','rgb(255, 255, 255)','rgb(245, 245, 245)','rgb(245, 245, 245)','rgb(245, 245, 245)','rgb(245, 245, 245)','rgb(245, 245, 245)','rgb(255, 255, 255)']]),\n",
    "        align=['left','center','center','center'],\n",
    "#         fill = dict(color = [rowOddColor,rowEvenColor,rowOddColor, rowEvenColor,rowOddColor]),\n",
    "        font=dict(color=['white', '#506784', '#506784', '#506784'], size=12),\n",
    "        height=30,\n",
    "        format = [None] * 2+ [\",.2f\"] * 3 + [',.2f'],  #内容显示格式 保留两位小数\n",
    "         prefix = [None] * 6,                          #内容显示前缀 可以加货币符号['$', u'\\u20BF']\n",
    "         suffix=[None] * 5 +['%', u'\\u20BF'],          #内容显示后缀 可以加百分号\n",
    "    )\n",
    "))\n",
    "\n",
    "              \n",
    "traces.append(go.Bar(    \n",
    "    x=df_table['变化率%'].tolist()[::-1],\n",
    "    y=df_table.index.tolist()[::-1],\n",
    "    name = '类别',\n",
    "    xaxis='x2', yaxis='y2',\n",
    "    marker=dict(color=color),\n",
    "#     text=['Text A', 'Text B','Text D', 'Text E', 'Text F'], #text可以代替hoverinfo\n",
    "    textposition='Top',\n",
    "#     showlegend=False,\n",
    "    orientation = 'h',\n",
    "#     width=0.1 \n",
    "    ))\n",
    "\n",
    "\n",
    "\n",
    "layout = dict(\n",
    "    title= '本周与上周概览',\n",
    "    titlefont = dict(size = 20),\n",
    "    height= 800, width= 1000,\n",
    "    xaxis2 = dict(domain= [0.79, 0.95],\n",
    "                 anchor='y2',showticklabels=False,showgrid=True,\n",
    "                 tickfont = dict(family = 'Pt Sans Narrow', size= 11),\n",
    "                 tickangle= -30),\n",
    "    yaxis2 = dict(anchor='x2',domain=[0.16, 0.87],showticklabels=False,showgrid=True,),\n",
    "    margin = dict(t= 35, l= 100)\n",
    ")\n",
    "\n",
    "\n",
    "annotations = []\n",
    "\n",
    "for i,u in enumerate([s for s in df_table.index.tolist()[::-1]]):\n",
    "    annotations.append(dict(x=1.25, y=i, \n",
    "                              font=dict(family='Arial', size=9,\n",
    "                              color='rgb(203,202,202)'),\n",
    "                              text= u,\n",
    "                              showarrow=True, \n",
    "                              arrowhead=0,          #箭头样式\n",
    "                              arrowsize=0.01,       #箭头大小（不过好像没什么用）\n",
    "                              arrowwidth=0.8,       #箭头线粗细\n",
    "                              ax=8,                 #箭头方向和大小 比较玄学\n",
    "                              ay=0,                 #箭头方向和大小 比较玄学                      \n",
    "                           ))\n",
    "\n",
    "\n",
    "layout['annotations'] = annotations\n",
    "\n",
    "\n",
    "fig = dict(data=traces, layout=layout)\n",
    "py.iplot(fig)"
   ]
  },
  {
   "cell_type": "markdown",
   "metadata": {},
   "source": [
    "### 3.场景分析"
   ]
  },
  {
   "cell_type": "markdown",
   "metadata": {},
   "source": [
    "&nbsp;&nbsp;&nbsp;&nbsp;<b>优点</b>：<br>\n",
    "      &nbsp;&nbsp;&nbsp;&nbsp;&nbsp;&nbsp;1)该可视化图表适合<b><U><I>定制化</I></U></b>需求，适合度多组合、重复性可视化场景。<br>\n",
    "      &nbsp;&nbsp;&nbsp;&nbsp;&nbsp;&nbsp;2)满足<b><U><I>快速迭代</I></U></b>的要求且不占用开发资源，后期形成固定化需求再开发上线。"
   ]
  },
  {
   "cell_type": "code",
   "execution_count": 7,
   "metadata": {
    "ExecuteTime": {
     "end_time": "2018-12-09T10:50:56.598179Z",
     "start_time": "2018-12-09T10:50:55.828314Z"
    }
   },
   "outputs": [
    {
     "data": {
      "application/vnd.plotly.v1+json": {
       "data": [
        {
         "line": {
          "color": "rgb(202,178,214)",
          "shape": "spline"
         },
         "marker": {
          "color": "rgb(202,178,214)"
         },
         "mode": "lines+markers",
         "name": "A产品",
         "showlegend": true,
         "type": "scatter",
         "visible": false,
         "x": [
          "2018-10-01",
          "2018-10-02",
          "2018-10-03",
          "2018-10-04",
          "2018-10-05",
          "2018-10-06",
          "2018-10-07",
          "2018-10-08",
          "2018-10-09",
          "2018-10-10"
         ],
         "y": [
          0.508,
          0.78,
          0.402,
          0.307,
          0.147,
          0.262,
          0.729,
          0.747,
          0.876,
          0.656
         ]
        },
        {
         "line": {
          "color": "rgb(255,127,0)",
          "shape": "spline"
         },
         "marker": {
          "color": "rgb(255,127,0)"
         },
         "mode": "lines+markers",
         "name": "B产品",
         "showlegend": true,
         "type": "scatter",
         "visible": false,
         "x": [
          "2018-10-01",
          "2018-10-02",
          "2018-10-03",
          "2018-10-04",
          "2018-10-05",
          "2018-10-06",
          "2018-10-07",
          "2018-10-08",
          "2018-10-09",
          "2018-10-10"
         ],
         "y": [
          0.901,
          0.52,
          0.365,
          0.824,
          0.911,
          0.253,
          0.391,
          0.26,
          0.348,
          0.499
         ]
        },
        {
         "line": {
          "color": "rgb(253,191,111)",
          "shape": "spline"
         },
         "marker": {
          "color": "rgb(253,191,111)"
         },
         "mode": "lines+markers",
         "name": "C产品",
         "showlegend": true,
         "type": "scatter",
         "visible": false,
         "x": [
          "2018-10-01",
          "2018-10-02",
          "2018-10-03",
          "2018-10-04",
          "2018-10-05",
          "2018-10-06",
          "2018-10-07",
          "2018-10-08",
          "2018-10-09",
          "2018-10-10"
         ],
         "y": [
          0.676,
          0.77,
          0.633,
          0.835,
          0.064,
          0.887,
          0.709,
          0.77,
          0.803,
          0.73
         ]
        },
        {
         "line": {
          "color": "rgb(227,26,28)",
          "shape": "spline"
         },
         "marker": {
          "color": "rgb(227,26,28)"
         },
         "mode": "lines+markers",
         "name": "D产品",
         "showlegend": true,
         "type": "scatter",
         "visible": false,
         "x": [
          "2018-10-01",
          "2018-10-02",
          "2018-10-03",
          "2018-10-04",
          "2018-10-05",
          "2018-10-06",
          "2018-10-07",
          "2018-10-08",
          "2018-10-09",
          "2018-10-10"
         ],
         "y": [
          0.727,
          0.035,
          0.285,
          0.685,
          0.981,
          0.111,
          0.545,
          0.003,
          0.748,
          0.779
         ]
        },
        {
         "line": {
          "color": "rgb(251,154,153)",
          "shape": "spline"
         },
         "marker": {
          "color": "rgb(251,154,153)"
         },
         "mode": "lines+markers",
         "name": "E产品",
         "showlegend": true,
         "type": "scatter",
         "visible": false,
         "x": [
          "2018-10-01",
          "2018-10-02",
          "2018-10-03",
          "2018-10-04",
          "2018-10-05",
          "2018-10-06",
          "2018-10-07",
          "2018-10-08",
          "2018-10-09",
          "2018-10-10"
         ],
         "y": [
          0.547,
          0.549,
          0.674,
          0.066,
          0.269,
          0.833,
          0.922,
          0.58,
          0.287,
          0.252
         ]
        },
        {
         "line": {
          "color": "rgb(51,160,44)",
          "shape": "spline"
         },
         "marker": {
          "color": "rgb(51,160,44)"
         },
         "mode": "lines+markers",
         "name": "F产品",
         "showlegend": true,
         "type": "scatter",
         "visible": false,
         "x": [
          "2018-10-01",
          "2018-10-02",
          "2018-10-03",
          "2018-10-04",
          "2018-10-05",
          "2018-10-06",
          "2018-10-07",
          "2018-10-08",
          "2018-10-09",
          "2018-10-10"
         ],
         "y": [
          0.212,
          0.349,
          0.182,
          0.08,
          0.803,
          0.734,
          0.071,
          0.158,
          0.852,
          0.003
         ]
        },
        {
         "line": {
          "color": "rgb(178,223,138)",
          "shape": "spline"
         },
         "marker": {
          "color": "rgb(178,223,138)"
         },
         "mode": "lines+markers",
         "name": "G产品",
         "showlegend": true,
         "type": "scatter",
         "visible": false,
         "x": [
          "2018-10-01",
          "2018-10-02",
          "2018-10-03",
          "2018-10-04",
          "2018-10-05",
          "2018-10-06",
          "2018-10-07",
          "2018-10-08",
          "2018-10-09",
          "2018-10-10"
         ],
         "y": [
          0.03,
          0.11,
          0.087,
          0.879,
          0.198,
          0.855,
          0.191,
          0.356,
          0.457,
          0.019
         ]
        },
        {
         "line": {
          "color": "rgb(31,120,180)",
          "shape": "spline"
         },
         "marker": {
          "color": "rgb(31,120,180)"
         },
         "mode": "lines+markers",
         "name": "H产品",
         "showlegend": true,
         "type": "scatter",
         "visible": false,
         "x": [
          "2018-10-01",
          "2018-10-02",
          "2018-10-03",
          "2018-10-04",
          "2018-10-05",
          "2018-10-06",
          "2018-10-07",
          "2018-10-08",
          "2018-10-09",
          "2018-10-10"
         ],
         "y": [
          0.335,
          0.87,
          0.959,
          0.11,
          0.69,
          0.788,
          0.348,
          0.252,
          0.565,
          0.828
         ]
        },
        {
         "line": {
          "color": "rgb(166,206,227)",
          "shape": "spline"
         },
         "marker": {
          "color": "rgb(166,206,227)"
         },
         "mode": "lines+markers",
         "name": "整体",
         "showlegend": true,
         "type": "scatter",
         "visible": false,
         "x": [
          "2018-10-01",
          "2018-10-02",
          "2018-10-03",
          "2018-10-04",
          "2018-10-05",
          "2018-10-06",
          "2018-10-07",
          "2018-10-08",
          "2018-10-09",
          "2018-10-10"
         ],
         "y": [
          0.246,
          0.68,
          0.841,
          0.739,
          0.022,
          0.345,
          0.236,
          0.235,
          0.307,
          0.199
         ]
        },
        {
         "line": {
          "color": "rgb(202,178,214)",
          "shape": "spline"
         },
         "marker": {
          "color": "rgb(202,178,214)"
         },
         "mode": "lines+markers",
         "name": "A产品",
         "showlegend": true,
         "type": "scatter",
         "visible": false,
         "x": [
          "2018-10-01",
          "2018-10-02",
          "2018-10-03",
          "2018-10-04",
          "2018-10-05",
          "2018-10-06",
          "2018-10-07",
          "2018-10-08",
          "2018-10-09",
          "2018-10-10"
         ],
         "y": [
          0.85,
          0.24,
          0.451,
          0.297,
          0.592,
          0.522,
          0.867,
          0.323,
          0.815,
          0.207
         ]
        },
        {
         "line": {
          "color": "rgb(255,127,0)",
          "shape": "spline"
         },
         "marker": {
          "color": "rgb(255,127,0)"
         },
         "mode": "lines+markers",
         "name": "B产品",
         "showlegend": true,
         "type": "scatter",
         "visible": false,
         "x": [
          "2018-10-01",
          "2018-10-02",
          "2018-10-03",
          "2018-10-04",
          "2018-10-05",
          "2018-10-06",
          "2018-10-07",
          "2018-10-08",
          "2018-10-09",
          "2018-10-10"
         ],
         "y": [
          0.537,
          0.01,
          0.276,
          0.22,
          0.084,
          0.873,
          0.124,
          0.175,
          0.108,
          0.968
         ]
        },
        {
         "line": {
          "color": "rgb(253,191,111)",
          "shape": "spline"
         },
         "marker": {
          "color": "rgb(253,191,111)"
         },
         "mode": "lines+markers",
         "name": "C产品",
         "showlegend": true,
         "type": "scatter",
         "visible": false,
         "x": [
          "2018-10-01",
          "2018-10-02",
          "2018-10-03",
          "2018-10-04",
          "2018-10-05",
          "2018-10-06",
          "2018-10-07",
          "2018-10-08",
          "2018-10-09",
          "2018-10-10"
         ],
         "y": [
          0.226,
          0.175,
          0.659,
          0.653,
          0.956,
          0.203,
          0.033,
          0.943,
          0.464,
          0.993
         ]
        },
        {
         "line": {
          "color": "rgb(227,26,28)",
          "shape": "spline"
         },
         "marker": {
          "color": "rgb(227,26,28)"
         },
         "mode": "lines+markers",
         "name": "D产品",
         "showlegend": true,
         "type": "scatter",
         "visible": false,
         "x": [
          "2018-10-01",
          "2018-10-02",
          "2018-10-03",
          "2018-10-04",
          "2018-10-05",
          "2018-10-06",
          "2018-10-07",
          "2018-10-08",
          "2018-10-09",
          "2018-10-10"
         ],
         "y": [
          0.507,
          0.104,
          0.421,
          0.623,
          0.744,
          0.939,
          0.594,
          0.806,
          0.554,
          0.682
         ]
        },
        {
         "line": {
          "color": "rgb(251,154,153)",
          "shape": "spline"
         },
         "marker": {
          "color": "rgb(251,154,153)"
         },
         "mode": "lines+markers",
         "name": "E产品",
         "showlegend": true,
         "type": "scatter",
         "visible": false,
         "x": [
          "2018-10-01",
          "2018-10-02",
          "2018-10-03",
          "2018-10-04",
          "2018-10-05",
          "2018-10-06",
          "2018-10-07",
          "2018-10-08",
          "2018-10-09",
          "2018-10-10"
         ],
         "y": [
          0.438,
          0.29,
          0.553,
          0.838,
          0.84,
          0.95,
          0.077,
          0.045,
          0.862,
          0.92
         ]
        },
        {
         "line": {
          "color": "rgb(51,160,44)",
          "shape": "spline"
         },
         "marker": {
          "color": "rgb(51,160,44)"
         },
         "mode": "lines+markers",
         "name": "F产品",
         "showlegend": true,
         "type": "scatter",
         "visible": false,
         "x": [
          "2018-10-01",
          "2018-10-02",
          "2018-10-03",
          "2018-10-04",
          "2018-10-05",
          "2018-10-06",
          "2018-10-07",
          "2018-10-08",
          "2018-10-09",
          "2018-10-10"
         ],
         "y": [
          0.535,
          0.838,
          0.203,
          0.594,
          0.271,
          0.246,
          0.197,
          0.884,
          0.981,
          0.501
         ]
        },
        {
         "line": {
          "color": "rgb(178,223,138)",
          "shape": "spline"
         },
         "marker": {
          "color": "rgb(178,223,138)"
         },
         "mode": "lines+markers",
         "name": "G产品",
         "showlegend": true,
         "type": "scatter",
         "visible": false,
         "x": [
          "2018-10-01",
          "2018-10-02",
          "2018-10-03",
          "2018-10-04",
          "2018-10-05",
          "2018-10-06",
          "2018-10-07",
          "2018-10-08",
          "2018-10-09",
          "2018-10-10"
         ],
         "y": [
          0.822,
          0.586,
          0.96,
          0.079,
          0.542,
          0.83,
          0.263,
          0.26,
          0.365,
          0.743
         ]
        },
        {
         "line": {
          "color": "rgb(31,120,180)",
          "shape": "spline"
         },
         "marker": {
          "color": "rgb(31,120,180)"
         },
         "mode": "lines+markers",
         "name": "H产品",
         "showlegend": true,
         "type": "scatter",
         "visible": false,
         "x": [
          "2018-10-01",
          "2018-10-02",
          "2018-10-03",
          "2018-10-04",
          "2018-10-05",
          "2018-10-06",
          "2018-10-07",
          "2018-10-08",
          "2018-10-09",
          "2018-10-10"
         ],
         "y": [
          0.606,
          0.004,
          0.822,
          0.243,
          0.837,
          0.426,
          0.645,
          0.816,
          0.876,
          0.832
         ]
        },
        {
         "line": {
          "color": "rgb(166,206,227)",
          "shape": "spline"
         },
         "marker": {
          "color": "rgb(166,206,227)"
         },
         "mode": "lines+markers",
         "name": "整体",
         "showlegend": true,
         "type": "scatter",
         "visible": false,
         "x": [
          "2018-10-01",
          "2018-10-02",
          "2018-10-03",
          "2018-10-04",
          "2018-10-05",
          "2018-10-06",
          "2018-10-07",
          "2018-10-08",
          "2018-10-09",
          "2018-10-10"
         ],
         "y": [
          0.364,
          0.967,
          0.997,
          0.896,
          0.568,
          0.512,
          0.955,
          0.957,
          0.057,
          0.86
         ]
        },
        {
         "line": {
          "color": "rgb(202,178,214)",
          "shape": "spline"
         },
         "marker": {
          "color": "rgb(202,178,214)"
         },
         "mode": "lines+markers",
         "name": "A产品",
         "showlegend": true,
         "type": "scatter",
         "visible": true,
         "x": [
          "2018-10-01",
          "2018-10-02",
          "2018-10-03",
          "2018-10-04",
          "2018-10-05",
          "2018-10-06",
          "2018-10-07",
          "2018-10-08",
          "2018-10-09",
          "2018-10-10"
         ],
         "y": [
          0.632,
          0.869,
          0.658,
          0.173,
          0.11,
          0.276,
          0.281,
          0.478,
          0.476,
          0.102
         ]
        },
        {
         "line": {
          "color": "rgb(255,127,0)",
          "shape": "spline"
         },
         "marker": {
          "color": "rgb(255,127,0)"
         },
         "mode": "lines+markers",
         "name": "B产品",
         "showlegend": true,
         "type": "scatter",
         "visible": true,
         "x": [
          "2018-10-01",
          "2018-10-02",
          "2018-10-03",
          "2018-10-04",
          "2018-10-05",
          "2018-10-06",
          "2018-10-07",
          "2018-10-08",
          "2018-10-09",
          "2018-10-10"
         ],
         "y": [
          0.668,
          0.424,
          0.858,
          0.679,
          0.763,
          0.971,
          0.776,
          0.098,
          0.814,
          0.223
         ]
        },
        {
         "line": {
          "color": "rgb(253,191,111)",
          "shape": "spline"
         },
         "marker": {
          "color": "rgb(253,191,111)"
         },
         "mode": "lines+markers",
         "name": "C产品",
         "showlegend": true,
         "type": "scatter",
         "visible": true,
         "x": [
          "2018-10-01",
          "2018-10-02",
          "2018-10-03",
          "2018-10-04",
          "2018-10-05",
          "2018-10-06",
          "2018-10-07",
          "2018-10-08",
          "2018-10-09",
          "2018-10-10"
         ],
         "y": [
          0.987,
          0.708,
          0.094,
          0.127,
          0.38,
          0.351,
          0.013,
          0.629,
          0.213,
          0.149
         ]
        },
        {
         "line": {
          "color": "rgb(227,26,28)",
          "shape": "spline"
         },
         "marker": {
          "color": "rgb(227,26,28)"
         },
         "mode": "lines+markers",
         "name": "D产品",
         "showlegend": true,
         "type": "scatter",
         "visible": true,
         "x": [
          "2018-10-01",
          "2018-10-02",
          "2018-10-03",
          "2018-10-04",
          "2018-10-05",
          "2018-10-06",
          "2018-10-07",
          "2018-10-08",
          "2018-10-09",
          "2018-10-10"
         ],
         "y": [
          0.733,
          0.917,
          0.544,
          0.449,
          0.061,
          0.896,
          0.276,
          0.169,
          0.875,
          0.412
         ]
        },
        {
         "line": {
          "color": "rgb(251,154,153)",
          "shape": "spline"
         },
         "marker": {
          "color": "rgb(251,154,153)"
         },
         "mode": "lines+markers",
         "name": "E产品",
         "showlegend": true,
         "type": "scatter",
         "visible": true,
         "x": [
          "2018-10-01",
          "2018-10-02",
          "2018-10-03",
          "2018-10-04",
          "2018-10-05",
          "2018-10-06",
          "2018-10-07",
          "2018-10-08",
          "2018-10-09",
          "2018-10-10"
         ],
         "y": [
          0.708,
          0.691,
          0.998,
          0.677,
          0.224,
          0.992,
          0.706,
          0.958,
          0.996,
          0.21
         ]
        },
        {
         "line": {
          "color": "rgb(51,160,44)",
          "shape": "spline"
         },
         "marker": {
          "color": "rgb(51,160,44)"
         },
         "mode": "lines+markers",
         "name": "F产品",
         "showlegend": true,
         "type": "scatter",
         "visible": true,
         "x": [
          "2018-10-01",
          "2018-10-02",
          "2018-10-03",
          "2018-10-04",
          "2018-10-05",
          "2018-10-06",
          "2018-10-07",
          "2018-10-08",
          "2018-10-09",
          "2018-10-10"
         ],
         "y": [
          0.313,
          0.712,
          0.145,
          0.7,
          0.097,
          0.633,
          0.678,
          0.256,
          0.016,
          0.306
         ]
        },
        {
         "line": {
          "color": "rgb(178,223,138)",
          "shape": "spline"
         },
         "marker": {
          "color": "rgb(178,223,138)"
         },
         "mode": "lines+markers",
         "name": "G产品",
         "showlegend": true,
         "type": "scatter",
         "visible": true,
         "x": [
          "2018-10-01",
          "2018-10-02",
          "2018-10-03",
          "2018-10-04",
          "2018-10-05",
          "2018-10-06",
          "2018-10-07",
          "2018-10-08",
          "2018-10-09",
          "2018-10-10"
         ],
         "y": [
          0.552,
          0.802,
          0.301,
          0.253,
          0.721,
          0.796,
          0.591,
          0.612,
          0.033,
          0.488
         ]
        },
        {
         "line": {
          "color": "rgb(31,120,180)",
          "shape": "spline"
         },
         "marker": {
          "color": "rgb(31,120,180)"
         },
         "mode": "lines+markers",
         "name": "H产品",
         "showlegend": true,
         "type": "scatter",
         "visible": true,
         "x": [
          "2018-10-01",
          "2018-10-02",
          "2018-10-03",
          "2018-10-04",
          "2018-10-05",
          "2018-10-06",
          "2018-10-07",
          "2018-10-08",
          "2018-10-09",
          "2018-10-10"
         ],
         "y": [
          0.908,
          0.575,
          0.719,
          0.876,
          0.106,
          0.898,
          0.29,
          0.357,
          0.304,
          0.481
         ]
        },
        {
         "line": {
          "color": "rgb(166,206,227)",
          "shape": "spline"
         },
         "marker": {
          "color": "rgb(166,206,227)"
         },
         "mode": "lines+markers",
         "name": "整体",
         "showlegend": true,
         "type": "scatter",
         "visible": true,
         "x": [
          "2018-10-01",
          "2018-10-02",
          "2018-10-03",
          "2018-10-04",
          "2018-10-05",
          "2018-10-06",
          "2018-10-07",
          "2018-10-08",
          "2018-10-09",
          "2018-10-10"
         ],
         "y": [
          0.384,
          0.149,
          0.461,
          0.376,
          0.659,
          0.984,
          0.426,
          0.05,
          0.401,
          0.726
         ]
        }
       ],
       "layout": {
        "annotations": [
         {
          "font": {
           "family": "Pt Sans Narrow",
           "size": 12
          },
          "showarrow": false,
          "text": "本周整体逾期率：",
          "x": 0.9,
          "xref": "paper",
          "y": 1.17,
          "yref": "paper"
         },
         {
          "font": {
           "family": "Pt Sans Narrow",
           "size": 20
          },
          "showarrow": false,
          "text": "<b><i>0.726%</b></i>",
          "x": 0.985,
          "xref": "paper",
          "y": 1.19,
          "yref": "paper"
         },
         {
          "font": {
           "family": "Pt Sans Narrow",
           "size": 12
          },
          "showarrow": false,
          "text": "较上阶段 ⬆️  81.05%",
          "x": 1.113,
          "xref": "paper",
          "y": 1.17,
          "yref": "paper"
         },
         {
          "font": {
           "family": "Pt Sans Narrow",
           "size": 12
          },
          "showarrow": false,
          "text": "本周逾期率最高：",
          "x": 0.9,
          "xref": "paper",
          "y": 1.07,
          "yref": "paper"
         },
         {
          "font": {
           "family": "Pt Sans Narrow",
           "size": 15
          },
          "showarrow": false,
          "text": "<b>整体</b>",
          "x": 1.05,
          "xref": "paper",
          "y": 1.079,
          "yref": "paper"
         },
         {
          "font": {
           "family": "Pt Sans Narrow",
           "size": 12
          },
          "showarrow": false,
          "text": "本周逾期率最低：",
          "x": 0.9,
          "xref": "paper",
          "y": 0.97,
          "yref": "paper"
         },
         {
          "font": {
           "family": "Pt Sans Narrow",
           "size": 15
          },
          "showarrow": false,
          "text": "<b>A产品</b>",
          "x": 1.05,
          "xref": "paper",
          "y": 0.98,
          "yref": "paper"
         }
        ],
        "height": 500,
        "legend": {
         "font": {
          "size": 10
         },
         "traceorder": "reversed",
         "y": 0.8
        },
        "title": "整体与各产品线FPD0",
        "titlefont": {
         "size": 20
        },
        "updatemenus": [
         {
          "buttons": [
           {
            "args": [
             {
              "visible": [
               false,
               false,
               false,
               false,
               false,
               false,
               false,
               false,
               false,
               false,
               false,
               false,
               false,
               false,
               false,
               false,
               false,
               false,
               true,
               true,
               true,
               true,
               true,
               true,
               true,
               true,
               true
              ]
             },
             {
              "annotations": [
               {
                "font": {
                 "family": "Pt Sans Narrow",
                 "size": 12
                },
                "showarrow": false,
                "text": "本周整体逾期率：",
                "x": 0.9,
                "xref": "paper",
                "y": 1.17,
                "yref": "paper"
               },
               {
                "font": {
                 "family": "Pt Sans Narrow",
                 "size": 20
                },
                "showarrow": false,
                "text": "<b><i>0.726%</b></i>",
                "x": 0.985,
                "xref": "paper",
                "y": 1.19,
                "yref": "paper"
               },
               {
                "font": {
                 "family": "Pt Sans Narrow",
                 "size": 12
                },
                "showarrow": false,
                "text": "较上阶段 ⬆️  81.05%",
                "x": 1.113,
                "xref": "paper",
                "y": 1.17,
                "yref": "paper"
               },
               {
                "font": {
                 "family": "Pt Sans Narrow",
                 "size": 12
                },
                "showarrow": false,
                "text": "本周逾期率最高：",
                "x": 0.9,
                "xref": "paper",
                "y": 1.07,
                "yref": "paper"
               },
               {
                "font": {
                 "family": "Pt Sans Narrow",
                 "size": 15
                },
                "showarrow": false,
                "text": "<b>整体</b>",
                "x": 1.05,
                "xref": "paper",
                "y": 1.079,
                "yref": "paper"
               },
               {
                "font": {
                 "family": "Pt Sans Narrow",
                 "size": 12
                },
                "showarrow": false,
                "text": "本周逾期率最低：",
                "x": 0.9,
                "xref": "paper",
                "y": 0.97,
                "yref": "paper"
               },
               {
                "font": {
                 "family": "Pt Sans Narrow",
                 "size": 15
                },
                "showarrow": false,
                "text": "<b>A产品</b>",
                "x": 1.05,
                "xref": "paper",
                "y": 0.98,
                "yref": "paper"
               }
              ],
              "title": "整体与各产品线FPD0"
             }
            ],
            "label": "FPD0",
            "method": "update"
           },
           {
            "args": [
             {
              "visible": [
               false,
               false,
               false,
               false,
               false,
               false,
               false,
               false,
               false,
               true,
               true,
               true,
               true,
               true,
               true,
               true,
               true,
               true,
               false,
               false,
               false,
               false,
               false,
               false,
               false,
               false,
               false
              ]
             },
             {
              "annotations": [
               {
                "font": {
                 "family": "Pt Sans Narrow",
                 "size": 12
                },
                "showarrow": false,
                "text": "本周整体逾期率：",
                "x": 0.9,
                "xref": "paper",
                "y": 1.17,
                "yref": "paper"
               },
               {
                "font": {
                 "family": "Pt Sans Narrow",
                 "size": 20
                },
                "showarrow": false,
                "text": "<b><i>0.86%</b></i>",
                "x": 0.985,
                "xref": "paper",
                "y": 1.19,
                "yref": "paper"
               },
               {
                "font": {
                 "family": "Pt Sans Narrow",
                 "size": 12
                },
                "showarrow": false,
                "text": "较上阶段 ⬆️  1408.77%",
                "x": 1.113,
                "xref": "paper",
                "y": 1.17,
                "yref": "paper"
               },
               {
                "font": {
                 "family": "Pt Sans Narrow",
                 "size": 12
                },
                "showarrow": false,
                "text": "本周逾期率最高：",
                "x": 0.9,
                "xref": "paper",
                "y": 1.07,
                "yref": "paper"
               },
               {
                "font": {
                 "family": "Pt Sans Narrow",
                 "size": 15
                },
                "showarrow": false,
                "text": "<b>C产品</b>",
                "x": 1.05,
                "xref": "paper",
                "y": 1.079,
                "yref": "paper"
               },
               {
                "font": {
                 "family": "Pt Sans Narrow",
                 "size": 12
                },
                "showarrow": false,
                "text": "本周逾期率最低：",
                "x": 0.9,
                "xref": "paper",
                "y": 0.97,
                "yref": "paper"
               },
               {
                "font": {
                 "family": "Pt Sans Narrow",
                 "size": 15
                },
                "showarrow": false,
                "text": "<b>A产品</b>",
                "x": 1.05,
                "xref": "paper",
                "y": 0.98,
                "yref": "paper"
               }
              ],
              "title": "整体与各产品线FPD7"
             }
            ],
            "label": "FPD7",
            "method": "update"
           },
           {
            "args": [
             {
              "visible": [
               true,
               true,
               true,
               true,
               true,
               true,
               true,
               true,
               true,
               false,
               false,
               false,
               false,
               false,
               false,
               false,
               false,
               false,
               false,
               false,
               false,
               false,
               false,
               false,
               false,
               false,
               false
              ]
             },
             {
              "annotations": [
               {
                "font": {
                 "family": "Pt Sans Narrow",
                 "size": 12
                },
                "showarrow": false,
                "text": "本周整体逾期率：",
                "x": 0.9,
                "xref": "paper",
                "y": 1.17,
                "yref": "paper"
               },
               {
                "font": {
                 "family": "Pt Sans Narrow",
                 "size": 20
                },
                "showarrow": false,
                "text": "<b><i>0.199%</b></i>",
                "x": 0.985,
                "xref": "paper",
                "y": 1.19,
                "yref": "paper"
               },
               {
                "font": {
                 "family": "Pt Sans Narrow",
                 "size": 12
                },
                "showarrow": false,
                "text": "较上阶段 ⬇️  35.18%",
                "x": 1.113,
                "xref": "paper",
                "y": 1.17,
                "yref": "paper"
               },
               {
                "font": {
                 "family": "Pt Sans Narrow",
                 "size": 12
                },
                "showarrow": false,
                "text": "本周逾期率最高：",
                "x": 0.9,
                "xref": "paper",
                "y": 1.07,
                "yref": "paper"
               },
               {
                "font": {
                 "family": "Pt Sans Narrow",
                 "size": 15
                },
                "showarrow": false,
                "text": "<b>H产品</b>",
                "x": 1.05,
                "xref": "paper",
                "y": 1.079,
                "yref": "paper"
               },
               {
                "font": {
                 "family": "Pt Sans Narrow",
                 "size": 12
                },
                "showarrow": false,
                "text": "本周逾期率最低：",
                "x": 0.9,
                "xref": "paper",
                "y": 0.97,
                "yref": "paper"
               },
               {
                "font": {
                 "family": "Pt Sans Narrow",
                 "size": 15
                },
                "showarrow": false,
                "text": "<b>F产品</b>",
                "x": 1.05,
                "xref": "paper",
                "y": 0.98,
                "yref": "paper"
               }
              ],
              "title": "整体与各产品线FPD30"
             }
            ],
            "label": "FPD30",
            "method": "update"
           }
          ],
          "direction": "down",
          "pad": {
           "r": 10,
           "t": 10
          },
          "showactive": true,
          "x": 0.12,
          "xanchor": "left",
          "y": 1.2,
          "yanchor": "top"
         },
         {
          "buttons": [
           {
            "args": [
             "type",
             "scatter"
            ],
            "label": "折线图",
            "method": "restyle"
           },
           {
            "args": [
             "type",
             "bar"
            ],
            "label": "柱状图",
            "method": "restyle"
           },
           {
            "args": [
             "type",
             "box"
            ],
            "label": "排名",
            "method": "restyle"
           }
          ],
          "direction": "down",
          "pad": {
           "r": 10,
           "t": 10
          },
          "showactive": true,
          "x": 0,
          "xanchor": "left",
          "y": 1.2,
          "yanchor": "top"
         }
        ],
        "xaxis": {
         "side": "bottom",
         "tickfont": {
          "family": "Pt Sans Narrow",
          "size": 10
         },
         "ticks": "outside",
         "title": "每天一更新"
        },
        "yaxis": {
         "domain": [
          0,
          0.9
         ],
         "side": "left",
         "tickfont": {
          "family": "Pt Sans Narrow",
          "size": 13
         },
         "title": "比例％"
        }
       }
      },
      "text/html": [
       "<div id=\"8acf9005-d536-4e70-a2f3-54374819ab65\" style=\"height: 500px; width: 100%;\" class=\"plotly-graph-div\"></div><script type=\"text/javascript\">require([\"plotly\"], function(Plotly) { window.PLOTLYENV=window.PLOTLYENV || {};window.PLOTLYENV.BASE_URL=\"https://plot.ly\";Plotly.newPlot(\"8acf9005-d536-4e70-a2f3-54374819ab65\", [{\"type\": \"scatter\", \"x\": [\"2018-10-01\", \"2018-10-02\", \"2018-10-03\", \"2018-10-04\", \"2018-10-05\", \"2018-10-06\", \"2018-10-07\", \"2018-10-08\", \"2018-10-09\", \"2018-10-10\"], \"y\": [0.508, 0.78, 0.402, 0.307, 0.147, 0.262, 0.729, 0.747, 0.876, 0.656], \"mode\": \"lines+markers\", \"name\": \"A\\u4ea7\\u54c1\", \"showlegend\": true, \"visible\": false, \"line\": {\"color\": \"rgb(202,178,214)\", \"shape\": \"spline\"}, \"marker\": {\"color\": \"rgb(202,178,214)\"}}, {\"type\": \"scatter\", \"x\": [\"2018-10-01\", \"2018-10-02\", \"2018-10-03\", \"2018-10-04\", \"2018-10-05\", \"2018-10-06\", \"2018-10-07\", \"2018-10-08\", \"2018-10-09\", \"2018-10-10\"], \"y\": [0.901, 0.52, 0.365, 0.824, 0.911, 0.253, 0.391, 0.26, 0.348, 0.499], \"mode\": \"lines+markers\", \"name\": \"B\\u4ea7\\u54c1\", \"showlegend\": true, \"visible\": false, \"line\": {\"color\": \"rgb(255,127,0)\", \"shape\": \"spline\"}, \"marker\": {\"color\": \"rgb(255,127,0)\"}}, {\"type\": \"scatter\", \"x\": [\"2018-10-01\", \"2018-10-02\", \"2018-10-03\", \"2018-10-04\", \"2018-10-05\", \"2018-10-06\", \"2018-10-07\", \"2018-10-08\", \"2018-10-09\", \"2018-10-10\"], \"y\": [0.676, 0.77, 0.633, 0.835, 0.064, 0.887, 0.709, 0.77, 0.803, 0.73], \"mode\": \"lines+markers\", \"name\": \"C\\u4ea7\\u54c1\", \"showlegend\": true, \"visible\": false, \"line\": {\"color\": \"rgb(253,191,111)\", \"shape\": \"spline\"}, \"marker\": {\"color\": \"rgb(253,191,111)\"}}, {\"type\": \"scatter\", \"x\": [\"2018-10-01\", \"2018-10-02\", \"2018-10-03\", \"2018-10-04\", \"2018-10-05\", \"2018-10-06\", \"2018-10-07\", \"2018-10-08\", \"2018-10-09\", \"2018-10-10\"], \"y\": [0.727, 0.035, 0.285, 0.685, 0.981, 0.111, 0.545, 0.003, 0.748, 0.779], \"mode\": \"lines+markers\", \"name\": \"D\\u4ea7\\u54c1\", \"showlegend\": true, \"visible\": false, \"line\": {\"color\": \"rgb(227,26,28)\", \"shape\": \"spline\"}, \"marker\": {\"color\": \"rgb(227,26,28)\"}}, {\"type\": \"scatter\", \"x\": [\"2018-10-01\", \"2018-10-02\", \"2018-10-03\", \"2018-10-04\", \"2018-10-05\", \"2018-10-06\", \"2018-10-07\", \"2018-10-08\", \"2018-10-09\", \"2018-10-10\"], \"y\": [0.547, 0.549, 0.674, 0.066, 0.269, 0.833, 0.922, 0.58, 0.287, 0.252], \"mode\": \"lines+markers\", \"name\": \"E\\u4ea7\\u54c1\", \"showlegend\": true, \"visible\": false, \"line\": {\"color\": \"rgb(251,154,153)\", \"shape\": \"spline\"}, \"marker\": {\"color\": \"rgb(251,154,153)\"}}, {\"type\": \"scatter\", \"x\": [\"2018-10-01\", \"2018-10-02\", \"2018-10-03\", \"2018-10-04\", \"2018-10-05\", \"2018-10-06\", \"2018-10-07\", \"2018-10-08\", \"2018-10-09\", \"2018-10-10\"], \"y\": [0.212, 0.349, 0.182, 0.08, 0.803, 0.734, 0.071, 0.158, 0.852, 0.003], \"mode\": \"lines+markers\", \"name\": \"F\\u4ea7\\u54c1\", \"showlegend\": true, \"visible\": false, \"line\": {\"color\": \"rgb(51,160,44)\", \"shape\": \"spline\"}, \"marker\": {\"color\": \"rgb(51,160,44)\"}}, {\"type\": \"scatter\", \"x\": [\"2018-10-01\", \"2018-10-02\", \"2018-10-03\", \"2018-10-04\", \"2018-10-05\", \"2018-10-06\", \"2018-10-07\", \"2018-10-08\", \"2018-10-09\", \"2018-10-10\"], \"y\": [0.03, 0.11, 0.087, 0.879, 0.198, 0.855, 0.191, 0.356, 0.457, 0.019], \"mode\": \"lines+markers\", \"name\": \"G\\u4ea7\\u54c1\", \"showlegend\": true, \"visible\": false, \"line\": {\"color\": \"rgb(178,223,138)\", \"shape\": \"spline\"}, \"marker\": {\"color\": \"rgb(178,223,138)\"}}, {\"type\": \"scatter\", \"x\": [\"2018-10-01\", \"2018-10-02\", \"2018-10-03\", \"2018-10-04\", \"2018-10-05\", \"2018-10-06\", \"2018-10-07\", \"2018-10-08\", \"2018-10-09\", \"2018-10-10\"], \"y\": [0.335, 0.87, 0.959, 0.11, 0.69, 0.788, 0.348, 0.252, 0.565, 0.828], \"mode\": \"lines+markers\", \"name\": \"H\\u4ea7\\u54c1\", \"showlegend\": true, \"visible\": false, \"line\": {\"color\": \"rgb(31,120,180)\", \"shape\": \"spline\"}, \"marker\": {\"color\": \"rgb(31,120,180)\"}}, {\"type\": \"scatter\", \"x\": [\"2018-10-01\", \"2018-10-02\", \"2018-10-03\", \"2018-10-04\", \"2018-10-05\", \"2018-10-06\", \"2018-10-07\", \"2018-10-08\", \"2018-10-09\", \"2018-10-10\"], \"y\": [0.246, 0.68, 0.841, 0.739, 0.022, 0.345, 0.236, 0.235, 0.307, 0.199], \"mode\": \"lines+markers\", \"name\": \"\\u6574\\u4f53\", \"showlegend\": true, \"visible\": false, \"line\": {\"color\": \"rgb(166,206,227)\", \"shape\": \"spline\"}, \"marker\": {\"color\": \"rgb(166,206,227)\"}}, {\"type\": \"scatter\", \"x\": [\"2018-10-01\", \"2018-10-02\", \"2018-10-03\", \"2018-10-04\", \"2018-10-05\", \"2018-10-06\", \"2018-10-07\", \"2018-10-08\", \"2018-10-09\", \"2018-10-10\"], \"y\": [0.85, 0.24, 0.451, 0.297, 0.592, 0.522, 0.867, 0.323, 0.815, 0.207], \"mode\": \"lines+markers\", \"name\": \"A\\u4ea7\\u54c1\", \"showlegend\": true, \"visible\": false, \"line\": {\"color\": \"rgb(202,178,214)\", \"shape\": \"spline\"}, \"marker\": {\"color\": \"rgb(202,178,214)\"}}, {\"type\": \"scatter\", \"x\": [\"2018-10-01\", \"2018-10-02\", \"2018-10-03\", \"2018-10-04\", \"2018-10-05\", \"2018-10-06\", \"2018-10-07\", \"2018-10-08\", \"2018-10-09\", \"2018-10-10\"], \"y\": [0.537, 0.01, 0.276, 0.22, 0.084, 0.873, 0.124, 0.175, 0.108, 0.968], \"mode\": \"lines+markers\", \"name\": \"B\\u4ea7\\u54c1\", \"showlegend\": true, \"visible\": false, \"line\": {\"color\": \"rgb(255,127,0)\", \"shape\": \"spline\"}, \"marker\": {\"color\": \"rgb(255,127,0)\"}}, {\"type\": \"scatter\", \"x\": [\"2018-10-01\", \"2018-10-02\", \"2018-10-03\", \"2018-10-04\", \"2018-10-05\", \"2018-10-06\", \"2018-10-07\", \"2018-10-08\", \"2018-10-09\", \"2018-10-10\"], \"y\": [0.226, 0.175, 0.659, 0.653, 0.956, 0.203, 0.033, 0.943, 0.464, 0.993], \"mode\": \"lines+markers\", \"name\": \"C\\u4ea7\\u54c1\", \"showlegend\": true, \"visible\": false, \"line\": {\"color\": \"rgb(253,191,111)\", \"shape\": \"spline\"}, \"marker\": {\"color\": \"rgb(253,191,111)\"}}, {\"type\": \"scatter\", \"x\": [\"2018-10-01\", \"2018-10-02\", \"2018-10-03\", \"2018-10-04\", \"2018-10-05\", \"2018-10-06\", \"2018-10-07\", \"2018-10-08\", \"2018-10-09\", \"2018-10-10\"], \"y\": [0.507, 0.104, 0.421, 0.623, 0.744, 0.939, 0.594, 0.806, 0.554, 0.682], \"mode\": \"lines+markers\", \"name\": \"D\\u4ea7\\u54c1\", \"showlegend\": true, \"visible\": false, \"line\": {\"color\": \"rgb(227,26,28)\", \"shape\": \"spline\"}, \"marker\": {\"color\": \"rgb(227,26,28)\"}}, {\"type\": \"scatter\", \"x\": [\"2018-10-01\", \"2018-10-02\", \"2018-10-03\", \"2018-10-04\", \"2018-10-05\", \"2018-10-06\", \"2018-10-07\", \"2018-10-08\", \"2018-10-09\", \"2018-10-10\"], \"y\": [0.438, 0.29, 0.553, 0.838, 0.84, 0.95, 0.077, 0.045, 0.862, 0.92], \"mode\": \"lines+markers\", \"name\": \"E\\u4ea7\\u54c1\", \"showlegend\": true, \"visible\": false, \"line\": {\"color\": \"rgb(251,154,153)\", \"shape\": \"spline\"}, \"marker\": {\"color\": \"rgb(251,154,153)\"}}, {\"type\": \"scatter\", \"x\": [\"2018-10-01\", \"2018-10-02\", \"2018-10-03\", \"2018-10-04\", \"2018-10-05\", \"2018-10-06\", \"2018-10-07\", \"2018-10-08\", \"2018-10-09\", \"2018-10-10\"], \"y\": [0.535, 0.838, 0.203, 0.594, 0.271, 0.246, 0.197, 0.884, 0.981, 0.501], \"mode\": \"lines+markers\", \"name\": \"F\\u4ea7\\u54c1\", \"showlegend\": true, \"visible\": false, \"line\": {\"color\": \"rgb(51,160,44)\", \"shape\": \"spline\"}, \"marker\": {\"color\": \"rgb(51,160,44)\"}}, {\"type\": \"scatter\", \"x\": [\"2018-10-01\", \"2018-10-02\", \"2018-10-03\", \"2018-10-04\", \"2018-10-05\", \"2018-10-06\", \"2018-10-07\", \"2018-10-08\", \"2018-10-09\", \"2018-10-10\"], \"y\": [0.822, 0.586, 0.96, 0.079, 0.542, 0.83, 0.263, 0.26, 0.365, 0.743], \"mode\": \"lines+markers\", \"name\": \"G\\u4ea7\\u54c1\", \"showlegend\": true, \"visible\": false, \"line\": {\"color\": \"rgb(178,223,138)\", \"shape\": \"spline\"}, \"marker\": {\"color\": \"rgb(178,223,138)\"}}, {\"type\": \"scatter\", \"x\": [\"2018-10-01\", \"2018-10-02\", \"2018-10-03\", \"2018-10-04\", \"2018-10-05\", \"2018-10-06\", \"2018-10-07\", \"2018-10-08\", \"2018-10-09\", \"2018-10-10\"], \"y\": [0.606, 0.004, 0.822, 0.243, 0.837, 0.426, 0.645, 0.816, 0.876, 0.832], \"mode\": \"lines+markers\", \"name\": \"H\\u4ea7\\u54c1\", \"showlegend\": true, \"visible\": false, \"line\": {\"color\": \"rgb(31,120,180)\", \"shape\": \"spline\"}, \"marker\": {\"color\": \"rgb(31,120,180)\"}}, {\"type\": \"scatter\", \"x\": [\"2018-10-01\", \"2018-10-02\", \"2018-10-03\", \"2018-10-04\", \"2018-10-05\", \"2018-10-06\", \"2018-10-07\", \"2018-10-08\", \"2018-10-09\", \"2018-10-10\"], \"y\": [0.364, 0.967, 0.997, 0.896, 0.568, 0.512, 0.955, 0.957, 0.057, 0.86], \"mode\": \"lines+markers\", \"name\": \"\\u6574\\u4f53\", \"showlegend\": true, \"visible\": false, \"line\": {\"color\": \"rgb(166,206,227)\", \"shape\": \"spline\"}, \"marker\": {\"color\": \"rgb(166,206,227)\"}}, {\"type\": \"scatter\", \"x\": [\"2018-10-01\", \"2018-10-02\", \"2018-10-03\", \"2018-10-04\", \"2018-10-05\", \"2018-10-06\", \"2018-10-07\", \"2018-10-08\", \"2018-10-09\", \"2018-10-10\"], \"y\": [0.632, 0.869, 0.658, 0.173, 0.11, 0.276, 0.281, 0.478, 0.476, 0.102], \"mode\": \"lines+markers\", \"name\": \"A\\u4ea7\\u54c1\", \"showlegend\": true, \"visible\": true, \"line\": {\"color\": \"rgb(202,178,214)\", \"shape\": \"spline\"}, \"marker\": {\"color\": \"rgb(202,178,214)\"}}, {\"type\": \"scatter\", \"x\": [\"2018-10-01\", \"2018-10-02\", \"2018-10-03\", \"2018-10-04\", \"2018-10-05\", \"2018-10-06\", \"2018-10-07\", \"2018-10-08\", \"2018-10-09\", \"2018-10-10\"], \"y\": [0.668, 0.424, 0.858, 0.679, 0.763, 0.971, 0.776, 0.098, 0.814, 0.223], \"mode\": \"lines+markers\", \"name\": \"B\\u4ea7\\u54c1\", \"showlegend\": true, \"visible\": true, \"line\": {\"color\": \"rgb(255,127,0)\", \"shape\": \"spline\"}, \"marker\": {\"color\": \"rgb(255,127,0)\"}}, {\"type\": \"scatter\", \"x\": [\"2018-10-01\", \"2018-10-02\", \"2018-10-03\", \"2018-10-04\", \"2018-10-05\", \"2018-10-06\", \"2018-10-07\", \"2018-10-08\", \"2018-10-09\", \"2018-10-10\"], \"y\": [0.987, 0.708, 0.094, 0.127, 0.38, 0.351, 0.013, 0.629, 0.213, 0.149], \"mode\": \"lines+markers\", \"name\": \"C\\u4ea7\\u54c1\", \"showlegend\": true, \"visible\": true, \"line\": {\"color\": \"rgb(253,191,111)\", \"shape\": \"spline\"}, \"marker\": {\"color\": \"rgb(253,191,111)\"}}, {\"type\": \"scatter\", \"x\": [\"2018-10-01\", \"2018-10-02\", \"2018-10-03\", \"2018-10-04\", \"2018-10-05\", \"2018-10-06\", \"2018-10-07\", \"2018-10-08\", \"2018-10-09\", \"2018-10-10\"], \"y\": [0.733, 0.917, 0.544, 0.449, 0.061, 0.896, 0.276, 0.169, 0.875, 0.412], \"mode\": \"lines+markers\", \"name\": \"D\\u4ea7\\u54c1\", \"showlegend\": true, \"visible\": true, \"line\": {\"color\": \"rgb(227,26,28)\", \"shape\": \"spline\"}, \"marker\": {\"color\": \"rgb(227,26,28)\"}}, {\"type\": \"scatter\", \"x\": [\"2018-10-01\", \"2018-10-02\", \"2018-10-03\", \"2018-10-04\", \"2018-10-05\", \"2018-10-06\", \"2018-10-07\", \"2018-10-08\", \"2018-10-09\", \"2018-10-10\"], \"y\": [0.708, 0.691, 0.998, 0.677, 0.224, 0.992, 0.706, 0.958, 0.996, 0.21], \"mode\": \"lines+markers\", \"name\": \"E\\u4ea7\\u54c1\", \"showlegend\": true, \"visible\": true, \"line\": {\"color\": \"rgb(251,154,153)\", \"shape\": \"spline\"}, \"marker\": {\"color\": \"rgb(251,154,153)\"}}, {\"type\": \"scatter\", \"x\": [\"2018-10-01\", \"2018-10-02\", \"2018-10-03\", \"2018-10-04\", \"2018-10-05\", \"2018-10-06\", \"2018-10-07\", \"2018-10-08\", \"2018-10-09\", \"2018-10-10\"], \"y\": [0.313, 0.712, 0.145, 0.7, 0.097, 0.633, 0.678, 0.256, 0.016, 0.306], \"mode\": \"lines+markers\", \"name\": \"F\\u4ea7\\u54c1\", \"showlegend\": true, \"visible\": true, \"line\": {\"color\": \"rgb(51,160,44)\", \"shape\": \"spline\"}, \"marker\": {\"color\": \"rgb(51,160,44)\"}}, {\"type\": \"scatter\", \"x\": [\"2018-10-01\", \"2018-10-02\", \"2018-10-03\", \"2018-10-04\", \"2018-10-05\", \"2018-10-06\", \"2018-10-07\", \"2018-10-08\", \"2018-10-09\", \"2018-10-10\"], \"y\": [0.552, 0.802, 0.301, 0.253, 0.721, 0.796, 0.591, 0.612, 0.033, 0.488], \"mode\": \"lines+markers\", \"name\": \"G\\u4ea7\\u54c1\", \"showlegend\": true, \"visible\": true, \"line\": {\"color\": \"rgb(178,223,138)\", \"shape\": \"spline\"}, \"marker\": {\"color\": \"rgb(178,223,138)\"}}, {\"type\": \"scatter\", \"x\": [\"2018-10-01\", \"2018-10-02\", \"2018-10-03\", \"2018-10-04\", \"2018-10-05\", \"2018-10-06\", \"2018-10-07\", \"2018-10-08\", \"2018-10-09\", \"2018-10-10\"], \"y\": [0.908, 0.575, 0.719, 0.876, 0.106, 0.898, 0.29, 0.357, 0.304, 0.481], \"mode\": \"lines+markers\", \"name\": \"H\\u4ea7\\u54c1\", \"showlegend\": true, \"visible\": true, \"line\": {\"color\": \"rgb(31,120,180)\", \"shape\": \"spline\"}, \"marker\": {\"color\": \"rgb(31,120,180)\"}}, {\"type\": \"scatter\", \"x\": [\"2018-10-01\", \"2018-10-02\", \"2018-10-03\", \"2018-10-04\", \"2018-10-05\", \"2018-10-06\", \"2018-10-07\", \"2018-10-08\", \"2018-10-09\", \"2018-10-10\"], \"y\": [0.384, 0.149, 0.461, 0.376, 0.659, 0.984, 0.426, 0.05, 0.401, 0.726], \"mode\": \"lines+markers\", \"name\": \"\\u6574\\u4f53\", \"showlegend\": true, \"visible\": true, \"line\": {\"color\": \"rgb(166,206,227)\", \"shape\": \"spline\"}, \"marker\": {\"color\": \"rgb(166,206,227)\"}}], {\"title\": \"\\u6574\\u4f53\\u4e0e\\u5404\\u4ea7\\u54c1\\u7ebfFPD0\", \"titlefont\": {\"size\": 20}, \"height\": 500, \"legend\": {\"traceorder\": \"reversed\", \"font\": {\"size\": 10}, \"y\": 0.8}, \"xaxis\": {\"ticks\": \"outside\", \"side\": \"bottom\", \"tickfont\": {\"family\": \"Pt Sans Narrow\", \"size\": 10}, \"title\": \"\\u6bcf\\u5929\\u4e00\\u66f4\\u65b0\"}, \"yaxis\": {\"side\": \"left\", \"domain\": [0, 0.9], \"tickfont\": {\"family\": \"Pt Sans Narrow\", \"size\": 13}, \"title\": \"\\u6bd4\\u4f8b\\uff05\"}, \"updatemenus\": [{\"buttons\": [{\"label\": \"FPD0\", \"method\": \"update\", \"args\": [{\"visible\": [false, false, false, false, false, false, false, false, false, false, false, false, false, false, false, false, false, false, true, true, true, true, true, true, true, true, true]}, {\"title\": \"\\u6574\\u4f53\\u4e0e\\u5404\\u4ea7\\u54c1\\u7ebfFPD0\", \"annotations\": [{\"x\": 0.9, \"y\": 1.17, \"text\": \"\\u672c\\u5468\\u6574\\u4f53\\u903e\\u671f\\u7387\\uff1a\", \"xref\": \"paper\", \"yref\": \"paper\", \"font\": {\"family\": \"Pt Sans Narrow\", \"size\": 12}, \"showarrow\": false}, {\"x\": 0.985, \"y\": 1.19, \"text\": \"<b><i>0.726%</b></i>\", \"xref\": \"paper\", \"yref\": \"paper\", \"font\": {\"family\": \"Pt Sans Narrow\", \"size\": 20}, \"showarrow\": false}, {\"x\": 1.113, \"y\": 1.17, \"text\": \"\\u8f83\\u4e0a\\u9636\\u6bb5 \\u2b06\\ufe0f  81.05%\", \"xref\": \"paper\", \"yref\": \"paper\", \"font\": {\"family\": \"Pt Sans Narrow\", \"size\": 12}, \"showarrow\": false}, {\"x\": 0.9, \"y\": 1.07, \"text\": \"\\u672c\\u5468\\u903e\\u671f\\u7387\\u6700\\u9ad8\\uff1a\", \"xref\": \"paper\", \"yref\": \"paper\", \"font\": {\"family\": \"Pt Sans Narrow\", \"size\": 12}, \"showarrow\": false}, {\"x\": 1.05, \"y\": 1.079, \"text\": \"<b>\\u6574\\u4f53</b>\", \"xref\": \"paper\", \"yref\": \"paper\", \"font\": {\"family\": \"Pt Sans Narrow\", \"size\": 15}, \"showarrow\": false}, {\"x\": 0.9, \"y\": 0.97, \"text\": \"\\u672c\\u5468\\u903e\\u671f\\u7387\\u6700\\u4f4e\\uff1a\", \"xref\": \"paper\", \"yref\": \"paper\", \"font\": {\"family\": \"Pt Sans Narrow\", \"size\": 12}, \"showarrow\": false}, {\"x\": 1.05, \"y\": 0.98, \"text\": \"<b>A\\u4ea7\\u54c1</b>\", \"xref\": \"paper\", \"yref\": \"paper\", \"font\": {\"family\": \"Pt Sans Narrow\", \"size\": 15}, \"showarrow\": false}]}]}, {\"label\": \"FPD7\", \"method\": \"update\", \"args\": [{\"visible\": [false, false, false, false, false, false, false, false, false, true, true, true, true, true, true, true, true, true, false, false, false, false, false, false, false, false, false]}, {\"title\": \"\\u6574\\u4f53\\u4e0e\\u5404\\u4ea7\\u54c1\\u7ebfFPD7\", \"annotations\": [{\"x\": 0.9, \"y\": 1.17, \"text\": \"\\u672c\\u5468\\u6574\\u4f53\\u903e\\u671f\\u7387\\uff1a\", \"xref\": \"paper\", \"yref\": \"paper\", \"font\": {\"family\": \"Pt Sans Narrow\", \"size\": 12}, \"showarrow\": false}, {\"x\": 0.985, \"y\": 1.19, \"text\": \"<b><i>0.86%</b></i>\", \"xref\": \"paper\", \"yref\": \"paper\", \"font\": {\"family\": \"Pt Sans Narrow\", \"size\": 20}, \"showarrow\": false}, {\"x\": 1.113, \"y\": 1.17, \"text\": \"\\u8f83\\u4e0a\\u9636\\u6bb5 \\u2b06\\ufe0f  1408.77%\", \"xref\": \"paper\", \"yref\": \"paper\", \"font\": {\"family\": \"Pt Sans Narrow\", \"size\": 12}, \"showarrow\": false}, {\"x\": 0.9, \"y\": 1.07, \"text\": \"\\u672c\\u5468\\u903e\\u671f\\u7387\\u6700\\u9ad8\\uff1a\", \"xref\": \"paper\", \"yref\": \"paper\", \"font\": {\"family\": \"Pt Sans Narrow\", \"size\": 12}, \"showarrow\": false}, {\"x\": 1.05, \"y\": 1.079, \"text\": \"<b>C\\u4ea7\\u54c1</b>\", \"xref\": \"paper\", \"yref\": \"paper\", \"font\": {\"family\": \"Pt Sans Narrow\", \"size\": 15}, \"showarrow\": false}, {\"x\": 0.9, \"y\": 0.97, \"text\": \"\\u672c\\u5468\\u903e\\u671f\\u7387\\u6700\\u4f4e\\uff1a\", \"xref\": \"paper\", \"yref\": \"paper\", \"font\": {\"family\": \"Pt Sans Narrow\", \"size\": 12}, \"showarrow\": false}, {\"x\": 1.05, \"y\": 0.98, \"text\": \"<b>A\\u4ea7\\u54c1</b>\", \"xref\": \"paper\", \"yref\": \"paper\", \"font\": {\"family\": \"Pt Sans Narrow\", \"size\": 15}, \"showarrow\": false}]}]}, {\"label\": \"FPD30\", \"method\": \"update\", \"args\": [{\"visible\": [true, true, true, true, true, true, true, true, true, false, false, false, false, false, false, false, false, false, false, false, false, false, false, false, false, false, false]}, {\"title\": \"\\u6574\\u4f53\\u4e0e\\u5404\\u4ea7\\u54c1\\u7ebfFPD30\", \"annotations\": [{\"x\": 0.9, \"y\": 1.17, \"text\": \"\\u672c\\u5468\\u6574\\u4f53\\u903e\\u671f\\u7387\\uff1a\", \"xref\": \"paper\", \"yref\": \"paper\", \"font\": {\"family\": \"Pt Sans Narrow\", \"size\": 12}, \"showarrow\": false}, {\"x\": 0.985, \"y\": 1.19, \"text\": \"<b><i>0.199%</b></i>\", \"xref\": \"paper\", \"yref\": \"paper\", \"font\": {\"family\": \"Pt Sans Narrow\", \"size\": 20}, \"showarrow\": false}, {\"x\": 1.113, \"y\": 1.17, \"text\": \"\\u8f83\\u4e0a\\u9636\\u6bb5 \\u2b07\\ufe0f  35.18%\", \"xref\": \"paper\", \"yref\": \"paper\", \"font\": {\"family\": \"Pt Sans Narrow\", \"size\": 12}, \"showarrow\": false}, {\"x\": 0.9, \"y\": 1.07, \"text\": \"\\u672c\\u5468\\u903e\\u671f\\u7387\\u6700\\u9ad8\\uff1a\", \"xref\": \"paper\", \"yref\": \"paper\", \"font\": {\"family\": \"Pt Sans Narrow\", \"size\": 12}, \"showarrow\": false}, {\"x\": 1.05, \"y\": 1.079, \"text\": \"<b>H\\u4ea7\\u54c1</b>\", \"xref\": \"paper\", \"yref\": \"paper\", \"font\": {\"family\": \"Pt Sans Narrow\", \"size\": 15}, \"showarrow\": false}, {\"x\": 0.9, \"y\": 0.97, \"text\": \"\\u672c\\u5468\\u903e\\u671f\\u7387\\u6700\\u4f4e\\uff1a\", \"xref\": \"paper\", \"yref\": \"paper\", \"font\": {\"family\": \"Pt Sans Narrow\", \"size\": 12}, \"showarrow\": false}, {\"x\": 1.05, \"y\": 0.98, \"text\": \"<b>F\\u4ea7\\u54c1</b>\", \"xref\": \"paper\", \"yref\": \"paper\", \"font\": {\"family\": \"Pt Sans Narrow\", \"size\": 15}, \"showarrow\": false}]}]}], \"direction\": \"down\", \"pad\": {\"r\": 10, \"t\": 10}, \"showactive\": true, \"x\": 0.12, \"xanchor\": \"left\", \"y\": 1.2, \"yanchor\": \"top\"}, {\"buttons\": [{\"args\": [\"type\", \"scatter\"], \"label\": \"\\u6298\\u7ebf\\u56fe\", \"method\": \"restyle\"}, {\"args\": [\"type\", \"bar\"], \"label\": \"\\u67f1\\u72b6\\u56fe\", \"method\": \"restyle\"}, {\"args\": [\"type\", \"box\"], \"label\": \"\\u6392\\u540d\", \"method\": \"restyle\"}], \"direction\": \"down\", \"pad\": {\"r\": 10, \"t\": 10}, \"showactive\": true, \"x\": 0, \"xanchor\": \"left\", \"y\": 1.2, \"yanchor\": \"top\"}], \"annotations\": [{\"x\": 0.9, \"y\": 1.17, \"text\": \"\\u672c\\u5468\\u6574\\u4f53\\u903e\\u671f\\u7387\\uff1a\", \"xref\": \"paper\", \"yref\": \"paper\", \"font\": {\"family\": \"Pt Sans Narrow\", \"size\": 12}, \"showarrow\": false}, {\"x\": 0.985, \"y\": 1.19, \"text\": \"<b><i>0.726%</b></i>\", \"xref\": \"paper\", \"yref\": \"paper\", \"font\": {\"family\": \"Pt Sans Narrow\", \"size\": 20}, \"showarrow\": false}, {\"x\": 1.113, \"y\": 1.17, \"text\": \"\\u8f83\\u4e0a\\u9636\\u6bb5 \\u2b06\\ufe0f  81.05%\", \"xref\": \"paper\", \"yref\": \"paper\", \"font\": {\"family\": \"Pt Sans Narrow\", \"size\": 12}, \"showarrow\": false}, {\"x\": 0.9, \"y\": 1.07, \"text\": \"\\u672c\\u5468\\u903e\\u671f\\u7387\\u6700\\u9ad8\\uff1a\", \"xref\": \"paper\", \"yref\": \"paper\", \"font\": {\"family\": \"Pt Sans Narrow\", \"size\": 12}, \"showarrow\": false}, {\"x\": 1.05, \"y\": 1.079, \"text\": \"<b>\\u6574\\u4f53</b>\", \"xref\": \"paper\", \"yref\": \"paper\", \"font\": {\"family\": \"Pt Sans Narrow\", \"size\": 15}, \"showarrow\": false}, {\"x\": 0.9, \"y\": 0.97, \"text\": \"\\u672c\\u5468\\u903e\\u671f\\u7387\\u6700\\u4f4e\\uff1a\", \"xref\": \"paper\", \"yref\": \"paper\", \"font\": {\"family\": \"Pt Sans Narrow\", \"size\": 12}, \"showarrow\": false}, {\"x\": 1.05, \"y\": 0.98, \"text\": \"<b>A\\u4ea7\\u54c1</b>\", \"xref\": \"paper\", \"yref\": \"paper\", \"font\": {\"family\": \"Pt Sans Narrow\", \"size\": 15}, \"showarrow\": false}]}, {\"showLink\": true, \"linkText\": \"Export to plot.ly\"})});</script>"
      ],
      "text/vnd.plotly.v1+html": [
       "<div id=\"8acf9005-d536-4e70-a2f3-54374819ab65\" style=\"height: 500px; width: 100%;\" class=\"plotly-graph-div\"></div><script type=\"text/javascript\">require([\"plotly\"], function(Plotly) { window.PLOTLYENV=window.PLOTLYENV || {};window.PLOTLYENV.BASE_URL=\"https://plot.ly\";Plotly.newPlot(\"8acf9005-d536-4e70-a2f3-54374819ab65\", [{\"type\": \"scatter\", \"x\": [\"2018-10-01\", \"2018-10-02\", \"2018-10-03\", \"2018-10-04\", \"2018-10-05\", \"2018-10-06\", \"2018-10-07\", \"2018-10-08\", \"2018-10-09\", \"2018-10-10\"], \"y\": [0.508, 0.78, 0.402, 0.307, 0.147, 0.262, 0.729, 0.747, 0.876, 0.656], \"mode\": \"lines+markers\", \"name\": \"A\\u4ea7\\u54c1\", \"showlegend\": true, \"visible\": false, \"line\": {\"color\": \"rgb(202,178,214)\", \"shape\": \"spline\"}, \"marker\": {\"color\": \"rgb(202,178,214)\"}}, {\"type\": \"scatter\", \"x\": [\"2018-10-01\", \"2018-10-02\", \"2018-10-03\", \"2018-10-04\", \"2018-10-05\", \"2018-10-06\", \"2018-10-07\", \"2018-10-08\", \"2018-10-09\", \"2018-10-10\"], \"y\": [0.901, 0.52, 0.365, 0.824, 0.911, 0.253, 0.391, 0.26, 0.348, 0.499], \"mode\": \"lines+markers\", \"name\": \"B\\u4ea7\\u54c1\", \"showlegend\": true, \"visible\": false, \"line\": {\"color\": \"rgb(255,127,0)\", \"shape\": \"spline\"}, \"marker\": {\"color\": \"rgb(255,127,0)\"}}, {\"type\": \"scatter\", \"x\": [\"2018-10-01\", \"2018-10-02\", \"2018-10-03\", \"2018-10-04\", \"2018-10-05\", \"2018-10-06\", \"2018-10-07\", \"2018-10-08\", \"2018-10-09\", \"2018-10-10\"], \"y\": [0.676, 0.77, 0.633, 0.835, 0.064, 0.887, 0.709, 0.77, 0.803, 0.73], \"mode\": \"lines+markers\", \"name\": \"C\\u4ea7\\u54c1\", \"showlegend\": true, \"visible\": false, \"line\": {\"color\": \"rgb(253,191,111)\", \"shape\": \"spline\"}, \"marker\": {\"color\": \"rgb(253,191,111)\"}}, {\"type\": \"scatter\", \"x\": [\"2018-10-01\", \"2018-10-02\", \"2018-10-03\", \"2018-10-04\", \"2018-10-05\", \"2018-10-06\", \"2018-10-07\", \"2018-10-08\", \"2018-10-09\", \"2018-10-10\"], \"y\": [0.727, 0.035, 0.285, 0.685, 0.981, 0.111, 0.545, 0.003, 0.748, 0.779], \"mode\": \"lines+markers\", \"name\": \"D\\u4ea7\\u54c1\", \"showlegend\": true, \"visible\": false, \"line\": {\"color\": \"rgb(227,26,28)\", \"shape\": \"spline\"}, \"marker\": {\"color\": \"rgb(227,26,28)\"}}, {\"type\": \"scatter\", \"x\": [\"2018-10-01\", \"2018-10-02\", \"2018-10-03\", \"2018-10-04\", \"2018-10-05\", \"2018-10-06\", \"2018-10-07\", \"2018-10-08\", \"2018-10-09\", \"2018-10-10\"], \"y\": [0.547, 0.549, 0.674, 0.066, 0.269, 0.833, 0.922, 0.58, 0.287, 0.252], \"mode\": \"lines+markers\", \"name\": \"E\\u4ea7\\u54c1\", \"showlegend\": true, \"visible\": false, \"line\": {\"color\": \"rgb(251,154,153)\", \"shape\": \"spline\"}, \"marker\": {\"color\": \"rgb(251,154,153)\"}}, {\"type\": \"scatter\", \"x\": [\"2018-10-01\", \"2018-10-02\", \"2018-10-03\", \"2018-10-04\", \"2018-10-05\", \"2018-10-06\", \"2018-10-07\", \"2018-10-08\", \"2018-10-09\", \"2018-10-10\"], \"y\": [0.212, 0.349, 0.182, 0.08, 0.803, 0.734, 0.071, 0.158, 0.852, 0.003], \"mode\": \"lines+markers\", \"name\": \"F\\u4ea7\\u54c1\", \"showlegend\": true, \"visible\": false, \"line\": {\"color\": \"rgb(51,160,44)\", \"shape\": \"spline\"}, \"marker\": {\"color\": \"rgb(51,160,44)\"}}, {\"type\": \"scatter\", \"x\": [\"2018-10-01\", \"2018-10-02\", \"2018-10-03\", \"2018-10-04\", \"2018-10-05\", \"2018-10-06\", \"2018-10-07\", \"2018-10-08\", \"2018-10-09\", \"2018-10-10\"], \"y\": [0.03, 0.11, 0.087, 0.879, 0.198, 0.855, 0.191, 0.356, 0.457, 0.019], \"mode\": \"lines+markers\", \"name\": \"G\\u4ea7\\u54c1\", \"showlegend\": true, \"visible\": false, \"line\": {\"color\": \"rgb(178,223,138)\", \"shape\": \"spline\"}, \"marker\": {\"color\": \"rgb(178,223,138)\"}}, {\"type\": \"scatter\", \"x\": [\"2018-10-01\", \"2018-10-02\", \"2018-10-03\", \"2018-10-04\", \"2018-10-05\", \"2018-10-06\", \"2018-10-07\", \"2018-10-08\", \"2018-10-09\", \"2018-10-10\"], \"y\": [0.335, 0.87, 0.959, 0.11, 0.69, 0.788, 0.348, 0.252, 0.565, 0.828], \"mode\": \"lines+markers\", \"name\": \"H\\u4ea7\\u54c1\", \"showlegend\": true, \"visible\": false, \"line\": {\"color\": \"rgb(31,120,180)\", \"shape\": \"spline\"}, \"marker\": {\"color\": \"rgb(31,120,180)\"}}, {\"type\": \"scatter\", \"x\": [\"2018-10-01\", \"2018-10-02\", \"2018-10-03\", \"2018-10-04\", \"2018-10-05\", \"2018-10-06\", \"2018-10-07\", \"2018-10-08\", \"2018-10-09\", \"2018-10-10\"], \"y\": [0.246, 0.68, 0.841, 0.739, 0.022, 0.345, 0.236, 0.235, 0.307, 0.199], \"mode\": \"lines+markers\", \"name\": \"\\u6574\\u4f53\", \"showlegend\": true, \"visible\": false, \"line\": {\"color\": \"rgb(166,206,227)\", \"shape\": \"spline\"}, \"marker\": {\"color\": \"rgb(166,206,227)\"}}, {\"type\": \"scatter\", \"x\": [\"2018-10-01\", \"2018-10-02\", \"2018-10-03\", \"2018-10-04\", \"2018-10-05\", \"2018-10-06\", \"2018-10-07\", \"2018-10-08\", \"2018-10-09\", \"2018-10-10\"], \"y\": [0.85, 0.24, 0.451, 0.297, 0.592, 0.522, 0.867, 0.323, 0.815, 0.207], \"mode\": \"lines+markers\", \"name\": \"A\\u4ea7\\u54c1\", \"showlegend\": true, \"visible\": false, \"line\": {\"color\": \"rgb(202,178,214)\", \"shape\": \"spline\"}, \"marker\": {\"color\": \"rgb(202,178,214)\"}}, {\"type\": \"scatter\", \"x\": [\"2018-10-01\", \"2018-10-02\", \"2018-10-03\", \"2018-10-04\", \"2018-10-05\", \"2018-10-06\", \"2018-10-07\", \"2018-10-08\", \"2018-10-09\", \"2018-10-10\"], \"y\": [0.537, 0.01, 0.276, 0.22, 0.084, 0.873, 0.124, 0.175, 0.108, 0.968], \"mode\": \"lines+markers\", \"name\": \"B\\u4ea7\\u54c1\", \"showlegend\": true, \"visible\": false, \"line\": {\"color\": \"rgb(255,127,0)\", \"shape\": \"spline\"}, \"marker\": {\"color\": \"rgb(255,127,0)\"}}, {\"type\": \"scatter\", \"x\": [\"2018-10-01\", \"2018-10-02\", \"2018-10-03\", \"2018-10-04\", \"2018-10-05\", \"2018-10-06\", \"2018-10-07\", \"2018-10-08\", \"2018-10-09\", \"2018-10-10\"], \"y\": [0.226, 0.175, 0.659, 0.653, 0.956, 0.203, 0.033, 0.943, 0.464, 0.993], \"mode\": \"lines+markers\", \"name\": \"C\\u4ea7\\u54c1\", \"showlegend\": true, \"visible\": false, \"line\": {\"color\": \"rgb(253,191,111)\", \"shape\": \"spline\"}, \"marker\": {\"color\": \"rgb(253,191,111)\"}}, {\"type\": \"scatter\", \"x\": [\"2018-10-01\", \"2018-10-02\", \"2018-10-03\", \"2018-10-04\", \"2018-10-05\", \"2018-10-06\", \"2018-10-07\", \"2018-10-08\", \"2018-10-09\", \"2018-10-10\"], \"y\": [0.507, 0.104, 0.421, 0.623, 0.744, 0.939, 0.594, 0.806, 0.554, 0.682], \"mode\": \"lines+markers\", \"name\": \"D\\u4ea7\\u54c1\", \"showlegend\": true, \"visible\": false, \"line\": {\"color\": \"rgb(227,26,28)\", \"shape\": \"spline\"}, \"marker\": {\"color\": \"rgb(227,26,28)\"}}, {\"type\": \"scatter\", \"x\": [\"2018-10-01\", \"2018-10-02\", \"2018-10-03\", \"2018-10-04\", \"2018-10-05\", \"2018-10-06\", \"2018-10-07\", \"2018-10-08\", \"2018-10-09\", \"2018-10-10\"], \"y\": [0.438, 0.29, 0.553, 0.838, 0.84, 0.95, 0.077, 0.045, 0.862, 0.92], \"mode\": \"lines+markers\", \"name\": \"E\\u4ea7\\u54c1\", \"showlegend\": true, \"visible\": false, \"line\": {\"color\": \"rgb(251,154,153)\", \"shape\": \"spline\"}, \"marker\": {\"color\": \"rgb(251,154,153)\"}}, {\"type\": \"scatter\", \"x\": [\"2018-10-01\", \"2018-10-02\", \"2018-10-03\", \"2018-10-04\", \"2018-10-05\", \"2018-10-06\", \"2018-10-07\", \"2018-10-08\", \"2018-10-09\", \"2018-10-10\"], \"y\": [0.535, 0.838, 0.203, 0.594, 0.271, 0.246, 0.197, 0.884, 0.981, 0.501], \"mode\": \"lines+markers\", \"name\": \"F\\u4ea7\\u54c1\", \"showlegend\": true, \"visible\": false, \"line\": {\"color\": \"rgb(51,160,44)\", \"shape\": \"spline\"}, \"marker\": {\"color\": \"rgb(51,160,44)\"}}, {\"type\": \"scatter\", \"x\": [\"2018-10-01\", \"2018-10-02\", \"2018-10-03\", \"2018-10-04\", \"2018-10-05\", \"2018-10-06\", \"2018-10-07\", \"2018-10-08\", \"2018-10-09\", \"2018-10-10\"], \"y\": [0.822, 0.586, 0.96, 0.079, 0.542, 0.83, 0.263, 0.26, 0.365, 0.743], \"mode\": \"lines+markers\", \"name\": \"G\\u4ea7\\u54c1\", \"showlegend\": true, \"visible\": false, \"line\": {\"color\": \"rgb(178,223,138)\", \"shape\": \"spline\"}, \"marker\": {\"color\": \"rgb(178,223,138)\"}}, {\"type\": \"scatter\", \"x\": [\"2018-10-01\", \"2018-10-02\", \"2018-10-03\", \"2018-10-04\", \"2018-10-05\", \"2018-10-06\", \"2018-10-07\", \"2018-10-08\", \"2018-10-09\", \"2018-10-10\"], \"y\": [0.606, 0.004, 0.822, 0.243, 0.837, 0.426, 0.645, 0.816, 0.876, 0.832], \"mode\": \"lines+markers\", \"name\": \"H\\u4ea7\\u54c1\", \"showlegend\": true, \"visible\": false, \"line\": {\"color\": \"rgb(31,120,180)\", \"shape\": \"spline\"}, \"marker\": {\"color\": \"rgb(31,120,180)\"}}, {\"type\": \"scatter\", \"x\": [\"2018-10-01\", \"2018-10-02\", \"2018-10-03\", \"2018-10-04\", \"2018-10-05\", \"2018-10-06\", \"2018-10-07\", \"2018-10-08\", \"2018-10-09\", \"2018-10-10\"], \"y\": [0.364, 0.967, 0.997, 0.896, 0.568, 0.512, 0.955, 0.957, 0.057, 0.86], \"mode\": \"lines+markers\", \"name\": \"\\u6574\\u4f53\", \"showlegend\": true, \"visible\": false, \"line\": {\"color\": \"rgb(166,206,227)\", \"shape\": \"spline\"}, \"marker\": {\"color\": \"rgb(166,206,227)\"}}, {\"type\": \"scatter\", \"x\": [\"2018-10-01\", \"2018-10-02\", \"2018-10-03\", \"2018-10-04\", \"2018-10-05\", \"2018-10-06\", \"2018-10-07\", \"2018-10-08\", \"2018-10-09\", \"2018-10-10\"], \"y\": [0.632, 0.869, 0.658, 0.173, 0.11, 0.276, 0.281, 0.478, 0.476, 0.102], \"mode\": \"lines+markers\", \"name\": \"A\\u4ea7\\u54c1\", \"showlegend\": true, \"visible\": true, \"line\": {\"color\": \"rgb(202,178,214)\", \"shape\": \"spline\"}, \"marker\": {\"color\": \"rgb(202,178,214)\"}}, {\"type\": \"scatter\", \"x\": [\"2018-10-01\", \"2018-10-02\", \"2018-10-03\", \"2018-10-04\", \"2018-10-05\", \"2018-10-06\", \"2018-10-07\", \"2018-10-08\", \"2018-10-09\", \"2018-10-10\"], \"y\": [0.668, 0.424, 0.858, 0.679, 0.763, 0.971, 0.776, 0.098, 0.814, 0.223], \"mode\": \"lines+markers\", \"name\": \"B\\u4ea7\\u54c1\", \"showlegend\": true, \"visible\": true, \"line\": {\"color\": \"rgb(255,127,0)\", \"shape\": \"spline\"}, \"marker\": {\"color\": \"rgb(255,127,0)\"}}, {\"type\": \"scatter\", \"x\": [\"2018-10-01\", \"2018-10-02\", \"2018-10-03\", \"2018-10-04\", \"2018-10-05\", \"2018-10-06\", \"2018-10-07\", \"2018-10-08\", \"2018-10-09\", \"2018-10-10\"], \"y\": [0.987, 0.708, 0.094, 0.127, 0.38, 0.351, 0.013, 0.629, 0.213, 0.149], \"mode\": \"lines+markers\", \"name\": \"C\\u4ea7\\u54c1\", \"showlegend\": true, \"visible\": true, \"line\": {\"color\": \"rgb(253,191,111)\", \"shape\": \"spline\"}, \"marker\": {\"color\": \"rgb(253,191,111)\"}}, {\"type\": \"scatter\", \"x\": [\"2018-10-01\", \"2018-10-02\", \"2018-10-03\", \"2018-10-04\", \"2018-10-05\", \"2018-10-06\", \"2018-10-07\", \"2018-10-08\", \"2018-10-09\", \"2018-10-10\"], \"y\": [0.733, 0.917, 0.544, 0.449, 0.061, 0.896, 0.276, 0.169, 0.875, 0.412], \"mode\": \"lines+markers\", \"name\": \"D\\u4ea7\\u54c1\", \"showlegend\": true, \"visible\": true, \"line\": {\"color\": \"rgb(227,26,28)\", \"shape\": \"spline\"}, \"marker\": {\"color\": \"rgb(227,26,28)\"}}, {\"type\": \"scatter\", \"x\": [\"2018-10-01\", \"2018-10-02\", \"2018-10-03\", \"2018-10-04\", \"2018-10-05\", \"2018-10-06\", \"2018-10-07\", \"2018-10-08\", \"2018-10-09\", \"2018-10-10\"], \"y\": [0.708, 0.691, 0.998, 0.677, 0.224, 0.992, 0.706, 0.958, 0.996, 0.21], \"mode\": \"lines+markers\", \"name\": \"E\\u4ea7\\u54c1\", \"showlegend\": true, \"visible\": true, \"line\": {\"color\": \"rgb(251,154,153)\", \"shape\": \"spline\"}, \"marker\": {\"color\": \"rgb(251,154,153)\"}}, {\"type\": \"scatter\", \"x\": [\"2018-10-01\", \"2018-10-02\", \"2018-10-03\", \"2018-10-04\", \"2018-10-05\", \"2018-10-06\", \"2018-10-07\", \"2018-10-08\", \"2018-10-09\", \"2018-10-10\"], \"y\": [0.313, 0.712, 0.145, 0.7, 0.097, 0.633, 0.678, 0.256, 0.016, 0.306], \"mode\": \"lines+markers\", \"name\": \"F\\u4ea7\\u54c1\", \"showlegend\": true, \"visible\": true, \"line\": {\"color\": \"rgb(51,160,44)\", \"shape\": \"spline\"}, \"marker\": {\"color\": \"rgb(51,160,44)\"}}, {\"type\": \"scatter\", \"x\": [\"2018-10-01\", \"2018-10-02\", \"2018-10-03\", \"2018-10-04\", \"2018-10-05\", \"2018-10-06\", \"2018-10-07\", \"2018-10-08\", \"2018-10-09\", \"2018-10-10\"], \"y\": [0.552, 0.802, 0.301, 0.253, 0.721, 0.796, 0.591, 0.612, 0.033, 0.488], \"mode\": \"lines+markers\", \"name\": \"G\\u4ea7\\u54c1\", \"showlegend\": true, \"visible\": true, \"line\": {\"color\": \"rgb(178,223,138)\", \"shape\": \"spline\"}, \"marker\": {\"color\": \"rgb(178,223,138)\"}}, {\"type\": \"scatter\", \"x\": [\"2018-10-01\", \"2018-10-02\", \"2018-10-03\", \"2018-10-04\", \"2018-10-05\", \"2018-10-06\", \"2018-10-07\", \"2018-10-08\", \"2018-10-09\", \"2018-10-10\"], \"y\": [0.908, 0.575, 0.719, 0.876, 0.106, 0.898, 0.29, 0.357, 0.304, 0.481], \"mode\": \"lines+markers\", \"name\": \"H\\u4ea7\\u54c1\", \"showlegend\": true, \"visible\": true, \"line\": {\"color\": \"rgb(31,120,180)\", \"shape\": \"spline\"}, \"marker\": {\"color\": \"rgb(31,120,180)\"}}, {\"type\": \"scatter\", \"x\": [\"2018-10-01\", \"2018-10-02\", \"2018-10-03\", \"2018-10-04\", \"2018-10-05\", \"2018-10-06\", \"2018-10-07\", \"2018-10-08\", \"2018-10-09\", \"2018-10-10\"], \"y\": [0.384, 0.149, 0.461, 0.376, 0.659, 0.984, 0.426, 0.05, 0.401, 0.726], \"mode\": \"lines+markers\", \"name\": \"\\u6574\\u4f53\", \"showlegend\": true, \"visible\": true, \"line\": {\"color\": \"rgb(166,206,227)\", \"shape\": \"spline\"}, \"marker\": {\"color\": \"rgb(166,206,227)\"}}], {\"title\": \"\\u6574\\u4f53\\u4e0e\\u5404\\u4ea7\\u54c1\\u7ebfFPD0\", \"titlefont\": {\"size\": 20}, \"height\": 500, \"legend\": {\"traceorder\": \"reversed\", \"font\": {\"size\": 10}, \"y\": 0.8}, \"xaxis\": {\"ticks\": \"outside\", \"side\": \"bottom\", \"tickfont\": {\"family\": \"Pt Sans Narrow\", \"size\": 10}, \"title\": \"\\u6bcf\\u5929\\u4e00\\u66f4\\u65b0\"}, \"yaxis\": {\"side\": \"left\", \"domain\": [0, 0.9], \"tickfont\": {\"family\": \"Pt Sans Narrow\", \"size\": 13}, \"title\": \"\\u6bd4\\u4f8b\\uff05\"}, \"updatemenus\": [{\"buttons\": [{\"label\": \"FPD0\", \"method\": \"update\", \"args\": [{\"visible\": [false, false, false, false, false, false, false, false, false, false, false, false, false, false, false, false, false, false, true, true, true, true, true, true, true, true, true]}, {\"title\": \"\\u6574\\u4f53\\u4e0e\\u5404\\u4ea7\\u54c1\\u7ebfFPD0\", \"annotations\": [{\"x\": 0.9, \"y\": 1.17, \"text\": \"\\u672c\\u5468\\u6574\\u4f53\\u903e\\u671f\\u7387\\uff1a\", \"xref\": \"paper\", \"yref\": \"paper\", \"font\": {\"family\": \"Pt Sans Narrow\", \"size\": 12}, \"showarrow\": false}, {\"x\": 0.985, \"y\": 1.19, \"text\": \"<b><i>0.726%</b></i>\", \"xref\": \"paper\", \"yref\": \"paper\", \"font\": {\"family\": \"Pt Sans Narrow\", \"size\": 20}, \"showarrow\": false}, {\"x\": 1.113, \"y\": 1.17, \"text\": \"\\u8f83\\u4e0a\\u9636\\u6bb5 \\u2b06\\ufe0f  81.05%\", \"xref\": \"paper\", \"yref\": \"paper\", \"font\": {\"family\": \"Pt Sans Narrow\", \"size\": 12}, \"showarrow\": false}, {\"x\": 0.9, \"y\": 1.07, \"text\": \"\\u672c\\u5468\\u903e\\u671f\\u7387\\u6700\\u9ad8\\uff1a\", \"xref\": \"paper\", \"yref\": \"paper\", \"font\": {\"family\": \"Pt Sans Narrow\", \"size\": 12}, \"showarrow\": false}, {\"x\": 1.05, \"y\": 1.079, \"text\": \"<b>\\u6574\\u4f53</b>\", \"xref\": \"paper\", \"yref\": \"paper\", \"font\": {\"family\": \"Pt Sans Narrow\", \"size\": 15}, \"showarrow\": false}, {\"x\": 0.9, \"y\": 0.97, \"text\": \"\\u672c\\u5468\\u903e\\u671f\\u7387\\u6700\\u4f4e\\uff1a\", \"xref\": \"paper\", \"yref\": \"paper\", \"font\": {\"family\": \"Pt Sans Narrow\", \"size\": 12}, \"showarrow\": false}, {\"x\": 1.05, \"y\": 0.98, \"text\": \"<b>A\\u4ea7\\u54c1</b>\", \"xref\": \"paper\", \"yref\": \"paper\", \"font\": {\"family\": \"Pt Sans Narrow\", \"size\": 15}, \"showarrow\": false}]}]}, {\"label\": \"FPD7\", \"method\": \"update\", \"args\": [{\"visible\": [false, false, false, false, false, false, false, false, false, true, true, true, true, true, true, true, true, true, false, false, false, false, false, false, false, false, false]}, {\"title\": \"\\u6574\\u4f53\\u4e0e\\u5404\\u4ea7\\u54c1\\u7ebfFPD7\", \"annotations\": [{\"x\": 0.9, \"y\": 1.17, \"text\": \"\\u672c\\u5468\\u6574\\u4f53\\u903e\\u671f\\u7387\\uff1a\", \"xref\": \"paper\", \"yref\": \"paper\", \"font\": {\"family\": \"Pt Sans Narrow\", \"size\": 12}, \"showarrow\": false}, {\"x\": 0.985, \"y\": 1.19, \"text\": \"<b><i>0.86%</b></i>\", \"xref\": \"paper\", \"yref\": \"paper\", \"font\": {\"family\": \"Pt Sans Narrow\", \"size\": 20}, \"showarrow\": false}, {\"x\": 1.113, \"y\": 1.17, \"text\": \"\\u8f83\\u4e0a\\u9636\\u6bb5 \\u2b06\\ufe0f  1408.77%\", \"xref\": \"paper\", \"yref\": \"paper\", \"font\": {\"family\": \"Pt Sans Narrow\", \"size\": 12}, \"showarrow\": false}, {\"x\": 0.9, \"y\": 1.07, \"text\": \"\\u672c\\u5468\\u903e\\u671f\\u7387\\u6700\\u9ad8\\uff1a\", \"xref\": \"paper\", \"yref\": \"paper\", \"font\": {\"family\": \"Pt Sans Narrow\", \"size\": 12}, \"showarrow\": false}, {\"x\": 1.05, \"y\": 1.079, \"text\": \"<b>C\\u4ea7\\u54c1</b>\", \"xref\": \"paper\", \"yref\": \"paper\", \"font\": {\"family\": \"Pt Sans Narrow\", \"size\": 15}, \"showarrow\": false}, {\"x\": 0.9, \"y\": 0.97, \"text\": \"\\u672c\\u5468\\u903e\\u671f\\u7387\\u6700\\u4f4e\\uff1a\", \"xref\": \"paper\", \"yref\": \"paper\", \"font\": {\"family\": \"Pt Sans Narrow\", \"size\": 12}, \"showarrow\": false}, {\"x\": 1.05, \"y\": 0.98, \"text\": \"<b>A\\u4ea7\\u54c1</b>\", \"xref\": \"paper\", \"yref\": \"paper\", \"font\": {\"family\": \"Pt Sans Narrow\", \"size\": 15}, \"showarrow\": false}]}]}, {\"label\": \"FPD30\", \"method\": \"update\", \"args\": [{\"visible\": [true, true, true, true, true, true, true, true, true, false, false, false, false, false, false, false, false, false, false, false, false, false, false, false, false, false, false]}, {\"title\": \"\\u6574\\u4f53\\u4e0e\\u5404\\u4ea7\\u54c1\\u7ebfFPD30\", \"annotations\": [{\"x\": 0.9, \"y\": 1.17, \"text\": \"\\u672c\\u5468\\u6574\\u4f53\\u903e\\u671f\\u7387\\uff1a\", \"xref\": \"paper\", \"yref\": \"paper\", \"font\": {\"family\": \"Pt Sans Narrow\", \"size\": 12}, \"showarrow\": false}, {\"x\": 0.985, \"y\": 1.19, \"text\": \"<b><i>0.199%</b></i>\", \"xref\": \"paper\", \"yref\": \"paper\", \"font\": {\"family\": \"Pt Sans Narrow\", \"size\": 20}, \"showarrow\": false}, {\"x\": 1.113, \"y\": 1.17, \"text\": \"\\u8f83\\u4e0a\\u9636\\u6bb5 \\u2b07\\ufe0f  35.18%\", \"xref\": \"paper\", \"yref\": \"paper\", \"font\": {\"family\": \"Pt Sans Narrow\", \"size\": 12}, \"showarrow\": false}, {\"x\": 0.9, \"y\": 1.07, \"text\": \"\\u672c\\u5468\\u903e\\u671f\\u7387\\u6700\\u9ad8\\uff1a\", \"xref\": \"paper\", \"yref\": \"paper\", \"font\": {\"family\": \"Pt Sans Narrow\", \"size\": 12}, \"showarrow\": false}, {\"x\": 1.05, \"y\": 1.079, \"text\": \"<b>H\\u4ea7\\u54c1</b>\", \"xref\": \"paper\", \"yref\": \"paper\", \"font\": {\"family\": \"Pt Sans Narrow\", \"size\": 15}, \"showarrow\": false}, {\"x\": 0.9, \"y\": 0.97, \"text\": \"\\u672c\\u5468\\u903e\\u671f\\u7387\\u6700\\u4f4e\\uff1a\", \"xref\": \"paper\", \"yref\": \"paper\", \"font\": {\"family\": \"Pt Sans Narrow\", \"size\": 12}, \"showarrow\": false}, {\"x\": 1.05, \"y\": 0.98, \"text\": \"<b>F\\u4ea7\\u54c1</b>\", \"xref\": \"paper\", \"yref\": \"paper\", \"font\": {\"family\": \"Pt Sans Narrow\", \"size\": 15}, \"showarrow\": false}]}]}], \"direction\": \"down\", \"pad\": {\"r\": 10, \"t\": 10}, \"showactive\": true, \"x\": 0.12, \"xanchor\": \"left\", \"y\": 1.2, \"yanchor\": \"top\"}, {\"buttons\": [{\"args\": [\"type\", \"scatter\"], \"label\": \"\\u6298\\u7ebf\\u56fe\", \"method\": \"restyle\"}, {\"args\": [\"type\", \"bar\"], \"label\": \"\\u67f1\\u72b6\\u56fe\", \"method\": \"restyle\"}, {\"args\": [\"type\", \"box\"], \"label\": \"\\u6392\\u540d\", \"method\": \"restyle\"}], \"direction\": \"down\", \"pad\": {\"r\": 10, \"t\": 10}, \"showactive\": true, \"x\": 0, \"xanchor\": \"left\", \"y\": 1.2, \"yanchor\": \"top\"}], \"annotations\": [{\"x\": 0.9, \"y\": 1.17, \"text\": \"\\u672c\\u5468\\u6574\\u4f53\\u903e\\u671f\\u7387\\uff1a\", \"xref\": \"paper\", \"yref\": \"paper\", \"font\": {\"family\": \"Pt Sans Narrow\", \"size\": 12}, \"showarrow\": false}, {\"x\": 0.985, \"y\": 1.19, \"text\": \"<b><i>0.726%</b></i>\", \"xref\": \"paper\", \"yref\": \"paper\", \"font\": {\"family\": \"Pt Sans Narrow\", \"size\": 20}, \"showarrow\": false}, {\"x\": 1.113, \"y\": 1.17, \"text\": \"\\u8f83\\u4e0a\\u9636\\u6bb5 \\u2b06\\ufe0f  81.05%\", \"xref\": \"paper\", \"yref\": \"paper\", \"font\": {\"family\": \"Pt Sans Narrow\", \"size\": 12}, \"showarrow\": false}, {\"x\": 0.9, \"y\": 1.07, \"text\": \"\\u672c\\u5468\\u903e\\u671f\\u7387\\u6700\\u9ad8\\uff1a\", \"xref\": \"paper\", \"yref\": \"paper\", \"font\": {\"family\": \"Pt Sans Narrow\", \"size\": 12}, \"showarrow\": false}, {\"x\": 1.05, \"y\": 1.079, \"text\": \"<b>\\u6574\\u4f53</b>\", \"xref\": \"paper\", \"yref\": \"paper\", \"font\": {\"family\": \"Pt Sans Narrow\", \"size\": 15}, \"showarrow\": false}, {\"x\": 0.9, \"y\": 0.97, \"text\": \"\\u672c\\u5468\\u903e\\u671f\\u7387\\u6700\\u4f4e\\uff1a\", \"xref\": \"paper\", \"yref\": \"paper\", \"font\": {\"family\": \"Pt Sans Narrow\", \"size\": 12}, \"showarrow\": false}, {\"x\": 1.05, \"y\": 0.98, \"text\": \"<b>A\\u4ea7\\u54c1</b>\", \"xref\": \"paper\", \"yref\": \"paper\", \"font\": {\"family\": \"Pt Sans Narrow\", \"size\": 15}, \"showarrow\": false}]}, {\"showLink\": true, \"linkText\": \"Export to plot.ly\"})});</script>"
      ]
     },
     "metadata": {},
     "output_type": "display_data"
    }
   ],
   "source": [
    "# 数据\n",
    "product = ['A产品','B产品','C产品','D产品','E产品','F产品','G产品','H产品','整体']\n",
    "df_product30 = pd.DataFrame(np.random.rand(10,9),columns=product,index=pd.date_range('10/01/2018',freq = 'D',periods = 10))\n",
    "df_product30 = df_product30.applymap(lambda x:round(x,3))\n",
    "df_product30 = df_product30.T\n",
    "\n",
    "df_product7 = pd.DataFrame(np.random.rand(10,9),columns=product,index=pd.date_range('10/01/2018',freq = 'D',periods = 10))\n",
    "df_product7 = df_product7.applymap(lambda x:round(x,3))\n",
    "df_product7 = df_product7.T\n",
    "\n",
    "df_product = pd.DataFrame(np.random.rand(10,9),columns=product,index=pd.date_range('10/01/2018',freq = 'D',periods = 10))\n",
    "df_product = df_product.applymap(lambda x:round(x,3))\n",
    "df_product = df_product.T\n",
    "\n",
    "# 图表\n",
    "traces = []\n",
    "annotations = []\n",
    "\n",
    "visible1 = []\n",
    "visible2 = []\n",
    "visible3 = []\n",
    "\n",
    "loop = 0\n",
    "\n",
    "for df in (df_product30, df_product7, df_product):\n",
    "    df = df.T\n",
    "    group_mapping = list(df.columns.drop_duplicates(keep='first'))\n",
    "\n",
    "    n = str(len(group_mapping))\n",
    "    colors = reversed(cl.scales[n]['qual']['Paired'])\n",
    "\n",
    "    loop = loop + 1\n",
    "\n",
    "    for i, clr in zip(group_mapping, colors):\n",
    "\n",
    "        if loop == 1:\n",
    "            visible = False\n",
    "            visible1.append(False)\n",
    "            visible2.append(False)\n",
    "            visible3.append(True)\n",
    "        elif loop == 2:\n",
    "            visible = False\n",
    "            visible1.append(False)\n",
    "            visible2.append(True)\n",
    "            visible3.append(False)\n",
    "        elif loop == 3:\n",
    "            visible =  True\n",
    "            visible1.append(True)\n",
    "            visible2.append(False)\n",
    "            visible3.append(False)\n",
    "\n",
    "        traces.append(go.Scatter(\n",
    "            x=df.index,\n",
    "            y=df[i],\n",
    "            mode='lines+markers',\n",
    "            name=i,\n",
    "            showlegend=True,\n",
    "            visible=visible,\n",
    "            line=dict(color=clr, shape='spline'),\n",
    "            marker=dict(color=clr)\n",
    "        ))\n",
    "        \n",
    "    dft = df.T\n",
    "    title = list(dft.columns.drop_duplicates(keep='first'))\n",
    "    n = len(title)\n",
    "\n",
    "    annotations.append(dict(x=0.9, y=1.17, text='本周整体逾期率：',\n",
    "                            xref='paper', yref='paper',\n",
    "                            font=dict(family='Pt Sans Narrow', size=12),\n",
    "                            showarrow=False))\n",
    "\n",
    "    annotations.append(dict(x=0.985, y=1.19, text='<b><i>' + dft[title[n - 1]]['整体'].astype(str) + '%</b></i>',\n",
    "                            xref='paper', yref='paper',\n",
    "                            font=dict(family='Pt Sans Narrow', size=20),\n",
    "                            showarrow=False))\n",
    "\n",
    "    if dft[title[n - 1]]['整体'] - dft[title[n - 2]]['整体'] > 0:\n",
    "        compare_text = '较上阶段 ⬆️'\n",
    "    elif dft[title[n - 1]]['整体'] - dft[title[n - 2]]['整体'] < 0:\n",
    "        compare_text = '较上阶段 ⬇️'\n",
    "    else:\n",
    "        compare_text = '与上阶段变化'\n",
    "\n",
    "    change_rate = ((dft[title[n - 1]]['整体'] - dft[title[n - 2]]['整体']) * 100\n",
    "                   / dft[title[n - 2]]['整体'])\n",
    "    change_rate = str(abs(round(change_rate, 2))) + '%'\n",
    "\n",
    "    annotations.append(dict(x=1.113, y=1.17, text=compare_text + '  ' + change_rate,\n",
    "                            xref='paper', yref='paper',\n",
    "                            font=dict(family='Pt Sans Narrow', size=12),\n",
    "                            showarrow=False))\n",
    "\n",
    "    annotations.append(dict(x=0.9, y=1.07, text='本周逾期率最高：',\n",
    "                            xref='paper', yref='paper',\n",
    "                            font=dict(family='Pt Sans Narrow', size=12),\n",
    "                            showarrow=False))\n",
    "\n",
    "    annotations.append(dict(x=1.05, y=1.079, text='<b>' + dft[title[n - 1]].idxmax() + '</b>',\n",
    "                            xref='paper', yref='paper',\n",
    "                            font=dict(family='Pt Sans Narrow', size=15),\n",
    "                            showarrow=False))\n",
    "\n",
    "    annotations.append(dict(x=0.9, y=0.97, text='本周逾期率最低：',\n",
    "                            xref='paper', yref='paper',\n",
    "                            font=dict(family='Pt Sans Narrow', size=12),\n",
    "                            showarrow=False))\n",
    "\n",
    "    annotations.append(dict(x=1.05, y=0.98, text='<b>' + dft[title[n - 1]].idxmin() + '</b>',\n",
    "                            xref='paper', yref='paper',\n",
    "                            font=dict(family='Pt Sans Narrow', size=15),\n",
    "                            showarrow=False))\n",
    "\n",
    "#########################################################################################\n",
    "\n",
    "\n",
    "updatemenus = list([\n",
    "    dict(\n",
    "        buttons=list([\n",
    "            dict(label='FPD0',\n",
    "                 method='update',\n",
    "                 args=[{'visible': visible1},\n",
    "                       {'title': '整体与各产品线FPD0',\n",
    "                        'annotations': annotations[14:]}]),\n",
    "            dict(label='FPD7',\n",
    "                 method='update',\n",
    "                 args=[{'visible': visible2},\n",
    "                       {'title': '整体与各产品线FPD7',\n",
    "                        'annotations': annotations[7:14]}]),\n",
    "            dict(label='FPD30',\n",
    "                 method='update',\n",
    "                 args=[{'visible': visible3},\n",
    "                       {'title': '整体与各产品线FPD30',\n",
    "                        'annotations': annotations[0:7]}]),\n",
    "        ]),\n",
    "        direction='down',\n",
    "        pad={'r': 10, 't': 10},\n",
    "        showactive=True,\n",
    "        x=0.12,\n",
    "        xanchor='left',\n",
    "        y=1.2,\n",
    "        yanchor='top'\n",
    "    ),\n",
    "    dict(\n",
    "        buttons=list([\n",
    "            dict(\n",
    "                args=['type', 'scatter'],\n",
    "                label='折线图',\n",
    "                method='restyle'\n",
    "            ),\n",
    "            dict(\n",
    "                args=['type', 'bar'],\n",
    "                label='柱状图',\n",
    "                method='restyle'\n",
    "            ),\n",
    "            dict(\n",
    "                args=['type', 'box'],\n",
    "                label='排名',\n",
    "                method='restyle'\n",
    "            )\n",
    "        ]),\n",
    "        direction='down',\n",
    "        pad={'r': 10, 't': 10},\n",
    "        showactive=True,\n",
    "        x=0,\n",
    "        xanchor='left',\n",
    "        y=1.2,\n",
    "        yanchor='top'\n",
    "    ),\n",
    "])\n",
    "\n",
    "layout = dict(\n",
    "    title='整体与各产品线FPD0',\n",
    "    titlefont = dict(size = 20),\n",
    "    height=500,\n",
    "    legend=dict(traceorder='reversed', font=dict(size=10),y=0.8),\n",
    "    xaxis=dict(ticks='outside', side='bottom', tickfont=dict(family='Pt Sans Narrow', size=10),\n",
    "               title='每天一更新'),\n",
    "    yaxis=dict(side='left', domain = [0,0.9],\n",
    "               tickfont=dict(family='Pt Sans Narrow', size=13),title='比例％'),\n",
    "    updatemenus=updatemenus\n",
    ")\n",
    "\n",
    "layout['annotations'] = annotations[14:21]\n",
    "\n",
    "fig = dict(data=traces, layout=layout)\n",
    "py.iplot(fig)"
   ]
  },
  {
   "cell_type": "code",
   "execution_count": 8,
   "metadata": {
    "ExecuteTime": {
     "end_time": "2018-12-09T10:59:45.672258Z",
     "start_time": "2018-12-09T10:59:45.057791Z"
    },
    "scrolled": false
   },
   "outputs": [
    {
     "data": {
      "application/vnd.plotly.v1+json": {
       "data": [
        {
         "marker": {
          "color": "rgb(253,218,236)"
         },
         "name": "A渠道",
         "showlegend": true,
         "type": "bar",
         "visible": true,
         "x": [
          "2018-10-01",
          "2018-10-02",
          "2018-10-03",
          "2018-10-04",
          "2018-10-05",
          "2018-10-06",
          "2018-10-07",
          "2018-10-08",
          "2018-10-09",
          "2018-10-10",
          "2018-10-11",
          "2018-10-12",
          "2018-10-13",
          "2018-10-14",
          "2018-10-15",
          "2018-10-16",
          "2018-10-17",
          "2018-10-18",
          "2018-10-19",
          "2018-10-20"
         ],
         "xaxis": "x2",
         "y": [
          875,
          181,
          132,
          23,
          709,
          214,
          31,
          552,
          185,
          341,
          641,
          329,
          373,
          520,
          171,
          160,
          220,
          875,
          619,
          939
         ],
         "yaxis": "y2"
        },
        {
         "marker": {
          "color": "rgb(229,216,189)"
         },
         "name": "B渠道",
         "showlegend": true,
         "type": "bar",
         "visible": true,
         "x": [
          "2018-10-01",
          "2018-10-02",
          "2018-10-03",
          "2018-10-04",
          "2018-10-05",
          "2018-10-06",
          "2018-10-07",
          "2018-10-08",
          "2018-10-09",
          "2018-10-10",
          "2018-10-11",
          "2018-10-12",
          "2018-10-13",
          "2018-10-14",
          "2018-10-15",
          "2018-10-16",
          "2018-10-17",
          "2018-10-18",
          "2018-10-19",
          "2018-10-20"
         ],
         "xaxis": "x2",
         "y": [
          213,
          494,
          352,
          379,
          532,
          33,
          158,
          842,
          951,
          558,
          993,
          809,
          503,
          275,
          121,
          243,
          846,
          856,
          488,
          719
         ],
         "yaxis": "y2"
        },
        {
         "marker": {
          "color": "rgb(255,255,204)"
         },
         "name": "C渠道",
         "showlegend": true,
         "type": "bar",
         "visible": true,
         "x": [
          "2018-10-01",
          "2018-10-02",
          "2018-10-03",
          "2018-10-04",
          "2018-10-05",
          "2018-10-06",
          "2018-10-07",
          "2018-10-08",
          "2018-10-09",
          "2018-10-10",
          "2018-10-11",
          "2018-10-12",
          "2018-10-13",
          "2018-10-14",
          "2018-10-15",
          "2018-10-16",
          "2018-10-17",
          "2018-10-18",
          "2018-10-19",
          "2018-10-20"
         ],
         "xaxis": "x2",
         "y": [
          710,
          858,
          444,
          285,
          538,
          760,
          533,
          46,
          364,
          13,
          868,
          174,
          827,
          844,
          613,
          394,
          14,
          139,
          301,
          574
         ],
         "yaxis": "y2"
        },
        {
         "marker": {
          "color": "rgb(254,217,166)"
         },
         "name": "D渠道",
         "showlegend": true,
         "type": "bar",
         "visible": true,
         "x": [
          "2018-10-01",
          "2018-10-02",
          "2018-10-03",
          "2018-10-04",
          "2018-10-05",
          "2018-10-06",
          "2018-10-07",
          "2018-10-08",
          "2018-10-09",
          "2018-10-10",
          "2018-10-11",
          "2018-10-12",
          "2018-10-13",
          "2018-10-14",
          "2018-10-15",
          "2018-10-16",
          "2018-10-17",
          "2018-10-18",
          "2018-10-19",
          "2018-10-20"
         ],
         "xaxis": "x2",
         "y": [
          826,
          51,
          536,
          848,
          472,
          184,
          309,
          89,
          489,
          285,
          399,
          980,
          366,
          221,
          866,
          763,
          896,
          975,
          752,
          437
         ],
         "yaxis": "y2"
        },
        {
         "marker": {
          "color": "rgb(222,203,228)"
         },
         "name": "E渠道",
         "showlegend": true,
         "type": "bar",
         "visible": true,
         "x": [
          "2018-10-01",
          "2018-10-02",
          "2018-10-03",
          "2018-10-04",
          "2018-10-05",
          "2018-10-06",
          "2018-10-07",
          "2018-10-08",
          "2018-10-09",
          "2018-10-10",
          "2018-10-11",
          "2018-10-12",
          "2018-10-13",
          "2018-10-14",
          "2018-10-15",
          "2018-10-16",
          "2018-10-17",
          "2018-10-18",
          "2018-10-19",
          "2018-10-20"
         ],
         "xaxis": "x2",
         "y": [
          301,
          182,
          214,
          431,
          311,
          647,
          436,
          279,
          146,
          269,
          454,
          82,
          689,
          809,
          359,
          334,
          695,
          881,
          184,
          935
         ],
         "yaxis": "y2"
        },
        {
         "marker": {
          "color": "rgb(204,235,197)"
         },
         "name": "F渠道",
         "showlegend": true,
         "type": "bar",
         "visible": true,
         "x": [
          "2018-10-01",
          "2018-10-02",
          "2018-10-03",
          "2018-10-04",
          "2018-10-05",
          "2018-10-06",
          "2018-10-07",
          "2018-10-08",
          "2018-10-09",
          "2018-10-10",
          "2018-10-11",
          "2018-10-12",
          "2018-10-13",
          "2018-10-14",
          "2018-10-15",
          "2018-10-16",
          "2018-10-17",
          "2018-10-18",
          "2018-10-19",
          "2018-10-20"
         ],
         "xaxis": "x2",
         "y": [
          122,
          155,
          714,
          179,
          643,
          442,
          515,
          700,
          831,
          513,
          35,
          846,
          681,
          175,
          53,
          918,
          516,
          992,
          156,
          336
         ],
         "yaxis": "y2"
        },
        {
         "marker": {
          "color": "rgb(179,205,227)"
         },
         "name": "G渠道",
         "showlegend": true,
         "type": "bar",
         "visible": true,
         "x": [
          "2018-10-01",
          "2018-10-02",
          "2018-10-03",
          "2018-10-04",
          "2018-10-05",
          "2018-10-06",
          "2018-10-07",
          "2018-10-08",
          "2018-10-09",
          "2018-10-10",
          "2018-10-11",
          "2018-10-12",
          "2018-10-13",
          "2018-10-14",
          "2018-10-15",
          "2018-10-16",
          "2018-10-17",
          "2018-10-18",
          "2018-10-19",
          "2018-10-20"
         ],
         "xaxis": "x2",
         "y": [
          155,
          76,
          381,
          981,
          84,
          821,
          48,
          323,
          843,
          890,
          791,
          668,
          790,
          601,
          997,
          778,
          16,
          610,
          493,
          480
         ],
         "yaxis": "y2"
        },
        {
         "marker": {
          "color": "rgb(251,180,174)"
         },
         "name": "H渠道",
         "showlegend": true,
         "type": "bar",
         "visible": true,
         "x": [
          "2018-10-01",
          "2018-10-02",
          "2018-10-03",
          "2018-10-04",
          "2018-10-05",
          "2018-10-06",
          "2018-10-07",
          "2018-10-08",
          "2018-10-09",
          "2018-10-10",
          "2018-10-11",
          "2018-10-12",
          "2018-10-13",
          "2018-10-14",
          "2018-10-15",
          "2018-10-16",
          "2018-10-17",
          "2018-10-18",
          "2018-10-19",
          "2018-10-20"
         ],
         "xaxis": "x2",
         "y": [
          755,
          214,
          784,
          429,
          359,
          720,
          491,
          76,
          736,
          738,
          608,
          932,
          110,
          567,
          212,
          973,
          860,
          592,
          574,
          14
         ],
         "yaxis": "y2"
        },
        {
         "domain": {
          "x": [
           0.8,
           1
          ]
         },
         "labels": [
          "A渠道",
          "B渠道",
          "C渠道",
          "D渠道",
          "E渠道",
          "F渠道",
          "G渠道",
          "H渠道"
         ],
         "marker": {
          "colors": [
           "rgb(253,218,236)",
           "rgb(229,216,189)",
           "rgb(255,255,204)",
           "rgb(254,217,166)",
           "rgb(222,203,228)",
           "rgb(204,235,197)",
           "rgb(179,205,227)",
           "rgb(251,180,174)"
          ]
         },
         "showlegend": false,
         "text": [
          "A渠道",
          "B渠道",
          "C渠道",
          "D渠道",
          "E渠道",
          "F渠道",
          "G渠道",
          "H渠道"
         ],
         "textfont": {
          "size": 8
         },
         "type": "pie",
         "values": [
          939,
          719,
          574,
          437,
          935,
          336,
          480,
          14
         ],
         "visible": true
        },
        {
         "marker": {
          "color": "rgb(253,218,236)"
         },
         "name": "A渠道",
         "showlegend": true,
         "type": "bar",
         "visible": false,
         "x": [
          "2018-10-01",
          "2018-10-02",
          "2018-10-03",
          "2018-10-04",
          "2018-10-05",
          "2018-10-06",
          "2018-10-07",
          "2018-10-08",
          "2018-10-09",
          "2018-10-10",
          "2018-10-11",
          "2018-10-12",
          "2018-10-13",
          "2018-10-14",
          "2018-10-15",
          "2018-10-16",
          "2018-10-17",
          "2018-10-18",
          "2018-10-19",
          "2018-10-20"
         ],
         "xaxis": "x2",
         "y": [
          916,
          830,
          752,
          474,
          202,
          553,
          68,
          596,
          315,
          468,
          827,
          976,
          115,
          79,
          608,
          335,
          533,
          130,
          311,
          84
         ],
         "yaxis": "y2"
        },
        {
         "marker": {
          "color": "rgb(229,216,189)"
         },
         "name": "B渠道",
         "showlegend": true,
         "type": "bar",
         "visible": false,
         "x": [
          "2018-10-01",
          "2018-10-02",
          "2018-10-03",
          "2018-10-04",
          "2018-10-05",
          "2018-10-06",
          "2018-10-07",
          "2018-10-08",
          "2018-10-09",
          "2018-10-10",
          "2018-10-11",
          "2018-10-12",
          "2018-10-13",
          "2018-10-14",
          "2018-10-15",
          "2018-10-16",
          "2018-10-17",
          "2018-10-18",
          "2018-10-19",
          "2018-10-20"
         ],
         "xaxis": "x2",
         "y": [
          0,
          702,
          541,
          979,
          189,
          415,
          137,
          476,
          888,
          451,
          294,
          291,
          587,
          30,
          22,
          136,
          47,
          999,
          884,
          536
         ],
         "yaxis": "y2"
        },
        {
         "marker": {
          "color": "rgb(255,255,204)"
         },
         "name": "C渠道",
         "showlegend": true,
         "type": "bar",
         "visible": false,
         "x": [
          "2018-10-01",
          "2018-10-02",
          "2018-10-03",
          "2018-10-04",
          "2018-10-05",
          "2018-10-06",
          "2018-10-07",
          "2018-10-08",
          "2018-10-09",
          "2018-10-10",
          "2018-10-11",
          "2018-10-12",
          "2018-10-13",
          "2018-10-14",
          "2018-10-15",
          "2018-10-16",
          "2018-10-17",
          "2018-10-18",
          "2018-10-19",
          "2018-10-20"
         ],
         "xaxis": "x2",
         "y": [
          134,
          473,
          240,
          914,
          888,
          407,
          168,
          706,
          551,
          51,
          421,
          131,
          900,
          664,
          132,
          646,
          72,
          699,
          113,
          370
         ],
         "yaxis": "y2"
        },
        {
         "marker": {
          "color": "rgb(254,217,166)"
         },
         "name": "D渠道",
         "showlegend": true,
         "type": "bar",
         "visible": false,
         "x": [
          "2018-10-01",
          "2018-10-02",
          "2018-10-03",
          "2018-10-04",
          "2018-10-05",
          "2018-10-06",
          "2018-10-07",
          "2018-10-08",
          "2018-10-09",
          "2018-10-10",
          "2018-10-11",
          "2018-10-12",
          "2018-10-13",
          "2018-10-14",
          "2018-10-15",
          "2018-10-16",
          "2018-10-17",
          "2018-10-18",
          "2018-10-19",
          "2018-10-20"
         ],
         "xaxis": "x2",
         "y": [
          297,
          403,
          69,
          178,
          699,
          473,
          175,
          880,
          718,
          620,
          892,
          759,
          651,
          166,
          75,
          32,
          72,
          232,
          333,
          911
         ],
         "yaxis": "y2"
        },
        {
         "marker": {
          "color": "rgb(222,203,228)"
         },
         "name": "E渠道",
         "showlegend": true,
         "type": "bar",
         "visible": false,
         "x": [
          "2018-10-01",
          "2018-10-02",
          "2018-10-03",
          "2018-10-04",
          "2018-10-05",
          "2018-10-06",
          "2018-10-07",
          "2018-10-08",
          "2018-10-09",
          "2018-10-10",
          "2018-10-11",
          "2018-10-12",
          "2018-10-13",
          "2018-10-14",
          "2018-10-15",
          "2018-10-16",
          "2018-10-17",
          "2018-10-18",
          "2018-10-19",
          "2018-10-20"
         ],
         "xaxis": "x2",
         "y": [
          978,
          585,
          328,
          156,
          903,
          757,
          625,
          859,
          686,
          950,
          185,
          392,
          634,
          535,
          320,
          820,
          680,
          998,
          730,
          61
         ],
         "yaxis": "y2"
        },
        {
         "marker": {
          "color": "rgb(204,235,197)"
         },
         "name": "F渠道",
         "showlegend": true,
         "type": "bar",
         "visible": false,
         "x": [
          "2018-10-01",
          "2018-10-02",
          "2018-10-03",
          "2018-10-04",
          "2018-10-05",
          "2018-10-06",
          "2018-10-07",
          "2018-10-08",
          "2018-10-09",
          "2018-10-10",
          "2018-10-11",
          "2018-10-12",
          "2018-10-13",
          "2018-10-14",
          "2018-10-15",
          "2018-10-16",
          "2018-10-17",
          "2018-10-18",
          "2018-10-19",
          "2018-10-20"
         ],
         "xaxis": "x2",
         "y": [
          127,
          73,
          577,
          215,
          118,
          515,
          31,
          77,
          20,
          26,
          142,
          343,
          564,
          532,
          591,
          417,
          583,
          642,
          673,
          579
         ],
         "yaxis": "y2"
        },
        {
         "marker": {
          "color": "rgb(179,205,227)"
         },
         "name": "G渠道",
         "showlegend": true,
         "type": "bar",
         "visible": false,
         "x": [
          "2018-10-01",
          "2018-10-02",
          "2018-10-03",
          "2018-10-04",
          "2018-10-05",
          "2018-10-06",
          "2018-10-07",
          "2018-10-08",
          "2018-10-09",
          "2018-10-10",
          "2018-10-11",
          "2018-10-12",
          "2018-10-13",
          "2018-10-14",
          "2018-10-15",
          "2018-10-16",
          "2018-10-17",
          "2018-10-18",
          "2018-10-19",
          "2018-10-20"
         ],
         "xaxis": "x2",
         "y": [
          156,
          899,
          190,
          156,
          941,
          645,
          178,
          152,
          135,
          747,
          186,
          245,
          335,
          515,
          714,
          396,
          824,
          682,
          757,
          361
         ],
         "yaxis": "y2"
        },
        {
         "marker": {
          "color": "rgb(251,180,174)"
         },
         "name": "H渠道",
         "showlegend": true,
         "type": "bar",
         "visible": false,
         "x": [
          "2018-10-01",
          "2018-10-02",
          "2018-10-03",
          "2018-10-04",
          "2018-10-05",
          "2018-10-06",
          "2018-10-07",
          "2018-10-08",
          "2018-10-09",
          "2018-10-10",
          "2018-10-11",
          "2018-10-12",
          "2018-10-13",
          "2018-10-14",
          "2018-10-15",
          "2018-10-16",
          "2018-10-17",
          "2018-10-18",
          "2018-10-19",
          "2018-10-20"
         ],
         "xaxis": "x2",
         "y": [
          408,
          666,
          582,
          35,
          564,
          628,
          762,
          93,
          17,
          655,
          860,
          853,
          735,
          940,
          412,
          548,
          196,
          220,
          63,
          717
         ],
         "yaxis": "y2"
        },
        {
         "domain": {
          "x": [
           0.8,
           1
          ]
         },
         "labels": [
          "A渠道",
          "B渠道",
          "C渠道",
          "D渠道",
          "E渠道",
          "F渠道",
          "G渠道",
          "H渠道"
         ],
         "marker": {
          "colors": [
           "rgb(253,218,236)",
           "rgb(229,216,189)",
           "rgb(255,255,204)",
           "rgb(254,217,166)",
           "rgb(222,203,228)",
           "rgb(204,235,197)",
           "rgb(179,205,227)",
           "rgb(251,180,174)"
          ]
         },
         "showlegend": false,
         "text": [
          "A渠道",
          "B渠道",
          "C渠道",
          "D渠道",
          "E渠道",
          "F渠道",
          "G渠道",
          "H渠道"
         ],
         "textfont": {
          "size": 8
         },
         "type": "pie",
         "values": [
          84,
          536,
          370,
          911,
          61,
          579,
          361,
          717
         ],
         "visible": false
        }
       ],
       "layout": {
        "annotations": [
         {
          "font": {
           "family": "Pt Sans Narrow",
           "size": 12
          },
          "showarrow": false,
          "text": "<b>用户类型：</b>",
          "x": -0.05,
          "xref": "paper",
          "y": 1.31,
          "yref": "paper"
         },
         {
          "font": {
           "family": "Pt Sans Narrow",
           "size": 12
          },
          "showarrow": false,
          "text": "本阶段收入：",
          "x": 1,
          "xref": "paper",
          "y": 1.2,
          "yref": "paper"
         },
         {
          "font": {
           "family": "Pt Sans Narrow",
           "size": 20
          },
          "showarrow": false,
          "text": "<b><i>3.4 M</b></i>",
          "x": 1.085,
          "xref": "paper",
          "y": 1.235,
          "yref": "paper"
         },
         {
          "font": {
           "family": "Pt Sans Narrow",
           "size": 12
          },
          "showarrow": false,
          "text": "较上阶段 ⬆️  159.54%",
          "x": 1.22,
          "xref": "paper",
          "y": 1.2,
          "yref": "paper"
         }
        ],
        "barmode": "stack",
        "height": 380,
        "legend": {
         "font": {
          "size": 10
         },
         "traceorder": "reversed",
         "x": 1.1,
         "y": 0.5
        },
        "title": "各渠道用户情况",
        "titlefont": {
         "size": 20
        },
        "updatemenus": [
         {
          "buttons": [
           {
            "args": [
             {
              "visible": [
               true,
               true,
               true,
               true,
               true,
               true,
               true,
               true,
               true,
               false,
               false,
               false,
               false,
               false,
               false,
               false,
               false,
               false
              ]
             },
             {
              "annotations": [
               {
                "font": {
                 "family": "Pt Sans Narrow",
                 "size": 12
                },
                "showarrow": false,
                "text": "<b>用户类型：</b>",
                "x": -0.05,
                "xref": "paper",
                "y": 1.31,
                "yref": "paper"
               },
               {
                "font": {
                 "family": "Pt Sans Narrow",
                 "size": 12
                },
                "showarrow": false,
                "text": "本阶段收入：",
                "x": 1,
                "xref": "paper",
                "y": 1.2,
                "yref": "paper"
               },
               {
                "font": {
                 "family": "Pt Sans Narrow",
                 "size": 20
                },
                "showarrow": false,
                "text": "<b><i>3.4 M</b></i>",
                "x": 1.085,
                "xref": "paper",
                "y": 1.235,
                "yref": "paper"
               },
               {
                "font": {
                 "family": "Pt Sans Narrow",
                 "size": 12
                },
                "showarrow": false,
                "text": "较上阶段 ⬆️  159.54%",
                "x": 1.22,
                "xref": "paper",
                "y": 1.2,
                "yref": "paper"
               }
              ],
              "title": "各渠道新用户收入"
             }
            ],
            "label": "新用户",
            "method": "update"
           },
           {
            "args": [
             {
              "visible": [
               false,
               false,
               false,
               false,
               false,
               false,
               false,
               false,
               false,
               true,
               true,
               true,
               true,
               true,
               true,
               true,
               true,
               true
              ]
             },
             {
              "annotations": [
               {
                "font": {
                 "family": "Pt Sans Narrow",
                 "size": 12
                },
                "showarrow": false,
                "text": "<b>用户类型：</b>",
                "x": -0.05,
                "xref": "paper",
                "y": 1.31,
                "yref": "paper"
               },
               {
                "font": {
                 "family": "Pt Sans Narrow",
                 "size": 12
                },
                "showarrow": false,
                "text": "本阶段收入：",
                "x": 1,
                "xref": "paper",
                "y": 1.2,
                "yref": "paper"
               },
               {
                "font": {
                 "family": "Pt Sans Narrow",
                 "size": 20
                },
                "showarrow": false,
                "text": "<b><i>3.87 M</b></i>",
                "x": 1.085,
                "xref": "paper",
                "y": 1.235,
                "yref": "paper"
               },
               {
                "font": {
                 "family": "Pt Sans Narrow",
                 "size": 12
                },
                "showarrow": false,
                "text": "较上阶段 ⬇️  37.28%",
                "x": 1.22,
                "xref": "paper",
                "y": 1.2,
                "yref": "paper"
               }
              ],
              "title": "各渠道复贷用户收入"
             }
            ],
            "label": "复贷用户",
            "method": "update"
           }
          ],
          "direction": "down",
          "pad": {
           "r": 10,
           "t": 10
          },
          "showactive": true,
          "x": 0.05,
          "xanchor": "left",
          "y": 1.4,
          "yanchor": "top"
         }
        ],
        "xaxis2": {
         "anchor": "y2",
         "domain": [
          0,
          0.75
         ],
         "tickfont": {
          "size": 8
         },
         "title": "每天一更新"
        },
        "yaxis2": {
         "anchor": "x2",
         "domain": [
          0,
          1
         ],
         "side": "left",
         "title": "累计金额"
        }
       }
      },
      "text/html": [
       "<div id=\"c4dd758e-b035-4452-98dd-f6d0b48615ff\" style=\"height: 380px; width: 100%;\" class=\"plotly-graph-div\"></div><script type=\"text/javascript\">require([\"plotly\"], function(Plotly) { window.PLOTLYENV=window.PLOTLYENV || {};window.PLOTLYENV.BASE_URL=\"https://plot.ly\";Plotly.newPlot(\"c4dd758e-b035-4452-98dd-f6d0b48615ff\", [{\"type\": \"bar\", \"x\": [\"2018-10-01\", \"2018-10-02\", \"2018-10-03\", \"2018-10-04\", \"2018-10-05\", \"2018-10-06\", \"2018-10-07\", \"2018-10-08\", \"2018-10-09\", \"2018-10-10\", \"2018-10-11\", \"2018-10-12\", \"2018-10-13\", \"2018-10-14\", \"2018-10-15\", \"2018-10-16\", \"2018-10-17\", \"2018-10-18\", \"2018-10-19\", \"2018-10-20\"], \"y\": [875.0, 181.0, 132.0, 23.0, 709.0, 214.0, 31.0, 552.0, 185.0, 341.0, 641.0, 329.0, 373.0, 520.0, 171.0, 160.0, 220.0, 875.0, 619.0, 939.0], \"name\": \"A\\u6e20\\u9053\", \"showlegend\": true, \"marker\": {\"color\": \"rgb(253,218,236)\"}, \"xaxis\": \"x2\", \"yaxis\": \"y2\", \"visible\": true}, {\"type\": \"bar\", \"x\": [\"2018-10-01\", \"2018-10-02\", \"2018-10-03\", \"2018-10-04\", \"2018-10-05\", \"2018-10-06\", \"2018-10-07\", \"2018-10-08\", \"2018-10-09\", \"2018-10-10\", \"2018-10-11\", \"2018-10-12\", \"2018-10-13\", \"2018-10-14\", \"2018-10-15\", \"2018-10-16\", \"2018-10-17\", \"2018-10-18\", \"2018-10-19\", \"2018-10-20\"], \"y\": [213.0, 494.0, 352.0, 379.0, 532.0, 33.0, 158.0, 842.0, 951.0, 558.0, 993.0, 809.0, 503.0, 275.0, 121.0, 243.0, 846.0, 856.0, 488.0, 719.0], \"name\": \"B\\u6e20\\u9053\", \"showlegend\": true, \"marker\": {\"color\": \"rgb(229,216,189)\"}, \"xaxis\": \"x2\", \"yaxis\": \"y2\", \"visible\": true}, {\"type\": \"bar\", \"x\": [\"2018-10-01\", \"2018-10-02\", \"2018-10-03\", \"2018-10-04\", \"2018-10-05\", \"2018-10-06\", \"2018-10-07\", \"2018-10-08\", \"2018-10-09\", \"2018-10-10\", \"2018-10-11\", \"2018-10-12\", \"2018-10-13\", \"2018-10-14\", \"2018-10-15\", \"2018-10-16\", \"2018-10-17\", \"2018-10-18\", \"2018-10-19\", \"2018-10-20\"], \"y\": [710.0, 858.0, 444.0, 285.0, 538.0, 760.0, 533.0, 46.0, 364.0, 13.0, 868.0, 174.0, 827.0, 844.0, 613.0, 394.0, 14.0, 139.0, 301.0, 574.0], \"name\": \"C\\u6e20\\u9053\", \"showlegend\": true, \"marker\": {\"color\": \"rgb(255,255,204)\"}, \"xaxis\": \"x2\", \"yaxis\": \"y2\", \"visible\": true}, {\"type\": \"bar\", \"x\": [\"2018-10-01\", \"2018-10-02\", \"2018-10-03\", \"2018-10-04\", \"2018-10-05\", \"2018-10-06\", \"2018-10-07\", \"2018-10-08\", \"2018-10-09\", \"2018-10-10\", \"2018-10-11\", \"2018-10-12\", \"2018-10-13\", \"2018-10-14\", \"2018-10-15\", \"2018-10-16\", \"2018-10-17\", \"2018-10-18\", \"2018-10-19\", \"2018-10-20\"], \"y\": [826.0, 51.0, 536.0, 848.0, 472.0, 184.0, 309.0, 89.0, 489.0, 285.0, 399.0, 980.0, 366.0, 221.0, 866.0, 763.0, 896.0, 975.0, 752.0, 437.0], \"name\": \"D\\u6e20\\u9053\", \"showlegend\": true, \"marker\": {\"color\": \"rgb(254,217,166)\"}, \"xaxis\": \"x2\", \"yaxis\": \"y2\", \"visible\": true}, {\"type\": \"bar\", \"x\": [\"2018-10-01\", \"2018-10-02\", \"2018-10-03\", \"2018-10-04\", \"2018-10-05\", \"2018-10-06\", \"2018-10-07\", \"2018-10-08\", \"2018-10-09\", \"2018-10-10\", \"2018-10-11\", \"2018-10-12\", \"2018-10-13\", \"2018-10-14\", \"2018-10-15\", \"2018-10-16\", \"2018-10-17\", \"2018-10-18\", \"2018-10-19\", \"2018-10-20\"], \"y\": [301.0, 182.0, 214.0, 431.0, 311.0, 647.0, 436.0, 279.0, 146.0, 269.0, 454.0, 82.0, 689.0, 809.0, 359.0, 334.0, 695.0, 881.0, 184.0, 935.0], \"name\": \"E\\u6e20\\u9053\", \"showlegend\": true, \"marker\": {\"color\": \"rgb(222,203,228)\"}, \"xaxis\": \"x2\", \"yaxis\": \"y2\", \"visible\": true}, {\"type\": \"bar\", \"x\": [\"2018-10-01\", \"2018-10-02\", \"2018-10-03\", \"2018-10-04\", \"2018-10-05\", \"2018-10-06\", \"2018-10-07\", \"2018-10-08\", \"2018-10-09\", \"2018-10-10\", \"2018-10-11\", \"2018-10-12\", \"2018-10-13\", \"2018-10-14\", \"2018-10-15\", \"2018-10-16\", \"2018-10-17\", \"2018-10-18\", \"2018-10-19\", \"2018-10-20\"], \"y\": [122.0, 155.0, 714.0, 179.0, 643.0, 442.0, 515.0, 700.0, 831.0, 513.0, 35.0, 846.0, 681.0, 175.0, 53.0, 918.0, 516.0, 992.0, 156.0, 336.0], \"name\": \"F\\u6e20\\u9053\", \"showlegend\": true, \"marker\": {\"color\": \"rgb(204,235,197)\"}, \"xaxis\": \"x2\", \"yaxis\": \"y2\", \"visible\": true}, {\"type\": \"bar\", \"x\": [\"2018-10-01\", \"2018-10-02\", \"2018-10-03\", \"2018-10-04\", \"2018-10-05\", \"2018-10-06\", \"2018-10-07\", \"2018-10-08\", \"2018-10-09\", \"2018-10-10\", \"2018-10-11\", \"2018-10-12\", \"2018-10-13\", \"2018-10-14\", \"2018-10-15\", \"2018-10-16\", \"2018-10-17\", \"2018-10-18\", \"2018-10-19\", \"2018-10-20\"], \"y\": [155.0, 76.0, 381.0, 981.0, 84.0, 821.0, 48.0, 323.0, 843.0, 890.0, 791.0, 668.0, 790.0, 601.0, 997.0, 778.0, 16.0, 610.0, 493.0, 480.0], \"name\": \"G\\u6e20\\u9053\", \"showlegend\": true, \"marker\": {\"color\": \"rgb(179,205,227)\"}, \"xaxis\": \"x2\", \"yaxis\": \"y2\", \"visible\": true}, {\"type\": \"bar\", \"x\": [\"2018-10-01\", \"2018-10-02\", \"2018-10-03\", \"2018-10-04\", \"2018-10-05\", \"2018-10-06\", \"2018-10-07\", \"2018-10-08\", \"2018-10-09\", \"2018-10-10\", \"2018-10-11\", \"2018-10-12\", \"2018-10-13\", \"2018-10-14\", \"2018-10-15\", \"2018-10-16\", \"2018-10-17\", \"2018-10-18\", \"2018-10-19\", \"2018-10-20\"], \"y\": [755.0, 214.0, 784.0, 429.0, 359.0, 720.0, 491.0, 76.0, 736.0, 738.0, 608.0, 932.0, 110.0, 567.0, 212.0, 973.0, 860.0, 592.0, 574.0, 14.0], \"name\": \"H\\u6e20\\u9053\", \"showlegend\": true, \"marker\": {\"color\": \"rgb(251,180,174)\"}, \"xaxis\": \"x2\", \"yaxis\": \"y2\", \"visible\": true}, {\"type\": \"pie\", \"labels\": [\"A\\u6e20\\u9053\", \"B\\u6e20\\u9053\", \"C\\u6e20\\u9053\", \"D\\u6e20\\u9053\", \"E\\u6e20\\u9053\", \"F\\u6e20\\u9053\", \"G\\u6e20\\u9053\", \"H\\u6e20\\u9053\"], \"values\": [939.0, 719.0, 574.0, 437.0, 935.0, 336.0, 480.0, 14.0], \"domain\": {\"x\": [0.8, 1]}, \"text\": [\"A\\u6e20\\u9053\", \"B\\u6e20\\u9053\", \"C\\u6e20\\u9053\", \"D\\u6e20\\u9053\", \"E\\u6e20\\u9053\", \"F\\u6e20\\u9053\", \"G\\u6e20\\u9053\", \"H\\u6e20\\u9053\"], \"showlegend\": false, \"marker\": {\"colors\": [\"rgb(253,218,236)\", \"rgb(229,216,189)\", \"rgb(255,255,204)\", \"rgb(254,217,166)\", \"rgb(222,203,228)\", \"rgb(204,235,197)\", \"rgb(179,205,227)\", \"rgb(251,180,174)\"]}, \"textfont\": {\"size\": 8}, \"visible\": true}, {\"type\": \"bar\", \"x\": [\"2018-10-01\", \"2018-10-02\", \"2018-10-03\", \"2018-10-04\", \"2018-10-05\", \"2018-10-06\", \"2018-10-07\", \"2018-10-08\", \"2018-10-09\", \"2018-10-10\", \"2018-10-11\", \"2018-10-12\", \"2018-10-13\", \"2018-10-14\", \"2018-10-15\", \"2018-10-16\", \"2018-10-17\", \"2018-10-18\", \"2018-10-19\", \"2018-10-20\"], \"y\": [916.0, 830.0, 752.0, 474.0, 202.0, 553.0, 68.0, 596.0, 315.0, 468.0, 827.0, 976.0, 115.0, 79.0, 608.0, 335.0, 533.0, 130.0, 311.0, 84.0], \"name\": \"A\\u6e20\\u9053\", \"showlegend\": true, \"marker\": {\"color\": \"rgb(253,218,236)\"}, \"xaxis\": \"x2\", \"yaxis\": \"y2\", \"visible\": false}, {\"type\": \"bar\", \"x\": [\"2018-10-01\", \"2018-10-02\", \"2018-10-03\", \"2018-10-04\", \"2018-10-05\", \"2018-10-06\", \"2018-10-07\", \"2018-10-08\", \"2018-10-09\", \"2018-10-10\", \"2018-10-11\", \"2018-10-12\", \"2018-10-13\", \"2018-10-14\", \"2018-10-15\", \"2018-10-16\", \"2018-10-17\", \"2018-10-18\", \"2018-10-19\", \"2018-10-20\"], \"y\": [0.0, 702.0, 541.0, 979.0, 189.0, 415.0, 137.0, 476.0, 888.0, 451.0, 294.0, 291.0, 587.0, 30.0, 22.0, 136.0, 47.0, 999.0, 884.0, 536.0], \"name\": \"B\\u6e20\\u9053\", \"showlegend\": true, \"marker\": {\"color\": \"rgb(229,216,189)\"}, \"xaxis\": \"x2\", \"yaxis\": \"y2\", \"visible\": false}, {\"type\": \"bar\", \"x\": [\"2018-10-01\", \"2018-10-02\", \"2018-10-03\", \"2018-10-04\", \"2018-10-05\", \"2018-10-06\", \"2018-10-07\", \"2018-10-08\", \"2018-10-09\", \"2018-10-10\", \"2018-10-11\", \"2018-10-12\", \"2018-10-13\", \"2018-10-14\", \"2018-10-15\", \"2018-10-16\", \"2018-10-17\", \"2018-10-18\", \"2018-10-19\", \"2018-10-20\"], \"y\": [134.0, 473.0, 240.0, 914.0, 888.0, 407.0, 168.0, 706.0, 551.0, 51.0, 421.0, 131.0, 900.0, 664.0, 132.0, 646.0, 72.0, 699.0, 113.0, 370.0], \"name\": \"C\\u6e20\\u9053\", \"showlegend\": true, \"marker\": {\"color\": \"rgb(255,255,204)\"}, \"xaxis\": \"x2\", \"yaxis\": \"y2\", \"visible\": false}, {\"type\": \"bar\", \"x\": [\"2018-10-01\", \"2018-10-02\", \"2018-10-03\", \"2018-10-04\", \"2018-10-05\", \"2018-10-06\", \"2018-10-07\", \"2018-10-08\", \"2018-10-09\", \"2018-10-10\", \"2018-10-11\", \"2018-10-12\", \"2018-10-13\", \"2018-10-14\", \"2018-10-15\", \"2018-10-16\", \"2018-10-17\", \"2018-10-18\", \"2018-10-19\", \"2018-10-20\"], \"y\": [297.0, 403.0, 69.0, 178.0, 699.0, 473.0, 175.0, 880.0, 718.0, 620.0, 892.0, 759.0, 651.0, 166.0, 75.0, 32.0, 72.0, 232.0, 333.0, 911.0], \"name\": \"D\\u6e20\\u9053\", \"showlegend\": true, \"marker\": {\"color\": \"rgb(254,217,166)\"}, \"xaxis\": \"x2\", \"yaxis\": \"y2\", \"visible\": false}, {\"type\": \"bar\", \"x\": [\"2018-10-01\", \"2018-10-02\", \"2018-10-03\", \"2018-10-04\", \"2018-10-05\", \"2018-10-06\", \"2018-10-07\", \"2018-10-08\", \"2018-10-09\", \"2018-10-10\", \"2018-10-11\", \"2018-10-12\", \"2018-10-13\", \"2018-10-14\", \"2018-10-15\", \"2018-10-16\", \"2018-10-17\", \"2018-10-18\", \"2018-10-19\", \"2018-10-20\"], \"y\": [978.0, 585.0, 328.0, 156.0, 903.0, 757.0, 625.0, 859.0, 686.0, 950.0, 185.0, 392.0, 634.0, 535.0, 320.0, 820.0, 680.0, 998.0, 730.0, 61.0], \"name\": \"E\\u6e20\\u9053\", \"showlegend\": true, \"marker\": {\"color\": \"rgb(222,203,228)\"}, \"xaxis\": \"x2\", \"yaxis\": \"y2\", \"visible\": false}, {\"type\": \"bar\", \"x\": [\"2018-10-01\", \"2018-10-02\", \"2018-10-03\", \"2018-10-04\", \"2018-10-05\", \"2018-10-06\", \"2018-10-07\", \"2018-10-08\", \"2018-10-09\", \"2018-10-10\", \"2018-10-11\", \"2018-10-12\", \"2018-10-13\", \"2018-10-14\", \"2018-10-15\", \"2018-10-16\", \"2018-10-17\", \"2018-10-18\", \"2018-10-19\", \"2018-10-20\"], \"y\": [127.0, 73.0, 577.0, 215.0, 118.0, 515.0, 31.0, 77.0, 20.0, 26.0, 142.0, 343.0, 564.0, 532.0, 591.0, 417.0, 583.0, 642.0, 673.0, 579.0], \"name\": \"F\\u6e20\\u9053\", \"showlegend\": true, \"marker\": {\"color\": \"rgb(204,235,197)\"}, \"xaxis\": \"x2\", \"yaxis\": \"y2\", \"visible\": false}, {\"type\": \"bar\", \"x\": [\"2018-10-01\", \"2018-10-02\", \"2018-10-03\", \"2018-10-04\", \"2018-10-05\", \"2018-10-06\", \"2018-10-07\", \"2018-10-08\", \"2018-10-09\", \"2018-10-10\", \"2018-10-11\", \"2018-10-12\", \"2018-10-13\", \"2018-10-14\", \"2018-10-15\", \"2018-10-16\", \"2018-10-17\", \"2018-10-18\", \"2018-10-19\", \"2018-10-20\"], \"y\": [156.0, 899.0, 190.0, 156.0, 941.0, 645.0, 178.0, 152.0, 135.0, 747.0, 186.0, 245.0, 335.0, 515.0, 714.0, 396.0, 824.0, 682.0, 757.0, 361.0], \"name\": \"G\\u6e20\\u9053\", \"showlegend\": true, \"marker\": {\"color\": \"rgb(179,205,227)\"}, \"xaxis\": \"x2\", \"yaxis\": \"y2\", \"visible\": false}, {\"type\": \"bar\", \"x\": [\"2018-10-01\", \"2018-10-02\", \"2018-10-03\", \"2018-10-04\", \"2018-10-05\", \"2018-10-06\", \"2018-10-07\", \"2018-10-08\", \"2018-10-09\", \"2018-10-10\", \"2018-10-11\", \"2018-10-12\", \"2018-10-13\", \"2018-10-14\", \"2018-10-15\", \"2018-10-16\", \"2018-10-17\", \"2018-10-18\", \"2018-10-19\", \"2018-10-20\"], \"y\": [408.0, 666.0, 582.0, 35.0, 564.0, 628.0, 762.0, 93.0, 17.0, 655.0, 860.0, 853.0, 735.0, 940.0, 412.0, 548.0, 196.0, 220.0, 63.0, 717.0], \"name\": \"H\\u6e20\\u9053\", \"showlegend\": true, \"marker\": {\"color\": \"rgb(251,180,174)\"}, \"xaxis\": \"x2\", \"yaxis\": \"y2\", \"visible\": false}, {\"type\": \"pie\", \"labels\": [\"A\\u6e20\\u9053\", \"B\\u6e20\\u9053\", \"C\\u6e20\\u9053\", \"D\\u6e20\\u9053\", \"E\\u6e20\\u9053\", \"F\\u6e20\\u9053\", \"G\\u6e20\\u9053\", \"H\\u6e20\\u9053\"], \"values\": [84.0, 536.0, 370.0, 911.0, 61.0, 579.0, 361.0, 717.0], \"domain\": {\"x\": [0.8, 1]}, \"text\": [\"A\\u6e20\\u9053\", \"B\\u6e20\\u9053\", \"C\\u6e20\\u9053\", \"D\\u6e20\\u9053\", \"E\\u6e20\\u9053\", \"F\\u6e20\\u9053\", \"G\\u6e20\\u9053\", \"H\\u6e20\\u9053\"], \"showlegend\": false, \"marker\": {\"colors\": [\"rgb(253,218,236)\", \"rgb(229,216,189)\", \"rgb(255,255,204)\", \"rgb(254,217,166)\", \"rgb(222,203,228)\", \"rgb(204,235,197)\", \"rgb(179,205,227)\", \"rgb(251,180,174)\"]}, \"textfont\": {\"size\": 8}, \"visible\": false}], {\"title\": \"\\u5404\\u6e20\\u9053\\u7528\\u6237\\u60c5\\u51b5\", \"titlefont\": {\"size\": 20}, \"height\": 380, \"legend\": {\"x\": 1.1, \"y\": 0.5, \"traceorder\": \"reversed\", \"font\": {\"size\": 10}}, \"xaxis2\": {\"domain\": [0, 0.75], \"title\": \"\\u6bcf\\u5929\\u4e00\\u66f4\\u65b0\", \"tickfont\": {\"size\": 8}, \"anchor\": \"y2\"}, \"yaxis2\": {\"domain\": [0, 1], \"side\": \"left\", \"title\": \"\\u7d2f\\u8ba1\\u91d1\\u989d\", \"anchor\": \"x2\"}, \"barmode\": \"stack\", \"updatemenus\": [{\"buttons\": [{\"label\": \"\\u65b0\\u7528\\u6237\", \"method\": \"update\", \"args\": [{\"visible\": [true, true, true, true, true, true, true, true, true, false, false, false, false, false, false, false, false, false]}, {\"title\": \"\\u5404\\u6e20\\u9053\\u65b0\\u7528\\u6237\\u6536\\u5165\", \"annotations\": [{\"x\": -0.05, \"y\": 1.31, \"text\": \"<b>\\u7528\\u6237\\u7c7b\\u578b\\uff1a</b>\", \"xref\": \"paper\", \"yref\": \"paper\", \"font\": {\"family\": \"Pt Sans Narrow\", \"size\": 12}, \"showarrow\": false}, {\"x\": 1, \"y\": 1.2, \"text\": \"\\u672c\\u9636\\u6bb5\\u6536\\u5165\\uff1a\", \"xref\": \"paper\", \"yref\": \"paper\", \"font\": {\"family\": \"Pt Sans Narrow\", \"size\": 12}, \"showarrow\": false}, {\"x\": 1.085, \"y\": 1.235, \"text\": \"<b><i>3.4 M</b></i>\", \"xref\": \"paper\", \"yref\": \"paper\", \"font\": {\"family\": \"Pt Sans Narrow\", \"size\": 20}, \"showarrow\": false}, {\"x\": 1.22, \"y\": 1.2, \"text\": \"\\u8f83\\u4e0a\\u9636\\u6bb5 \\u2b06\\ufe0f  159.54%\", \"xref\": \"paper\", \"yref\": \"paper\", \"font\": {\"family\": \"Pt Sans Narrow\", \"size\": 12}, \"showarrow\": false}]}]}, {\"label\": \"\\u590d\\u8d37\\u7528\\u6237\", \"method\": \"update\", \"args\": [{\"visible\": [false, false, false, false, false, false, false, false, false, true, true, true, true, true, true, true, true, true]}, {\"title\": \"\\u5404\\u6e20\\u9053\\u590d\\u8d37\\u7528\\u6237\\u6536\\u5165\", \"annotations\": [{\"x\": -0.05, \"y\": 1.31, \"text\": \"<b>\\u7528\\u6237\\u7c7b\\u578b\\uff1a</b>\", \"xref\": \"paper\", \"yref\": \"paper\", \"font\": {\"family\": \"Pt Sans Narrow\", \"size\": 12}, \"showarrow\": false}, {\"x\": 1, \"y\": 1.2, \"text\": \"\\u672c\\u9636\\u6bb5\\u6536\\u5165\\uff1a\", \"xref\": \"paper\", \"yref\": \"paper\", \"font\": {\"family\": \"Pt Sans Narrow\", \"size\": 12}, \"showarrow\": false}, {\"x\": 1.085, \"y\": 1.235, \"text\": \"<b><i>3.87 M</b></i>\", \"xref\": \"paper\", \"yref\": \"paper\", \"font\": {\"family\": \"Pt Sans Narrow\", \"size\": 20}, \"showarrow\": false}, {\"x\": 1.22, \"y\": 1.2, \"text\": \"\\u8f83\\u4e0a\\u9636\\u6bb5 \\u2b07\\ufe0f  37.28%\", \"xref\": \"paper\", \"yref\": \"paper\", \"font\": {\"family\": \"Pt Sans Narrow\", \"size\": 12}, \"showarrow\": false}]}]}], \"direction\": \"down\", \"pad\": {\"r\": 10, \"t\": 10}, \"showactive\": true, \"x\": 0.05, \"xanchor\": \"left\", \"y\": 1.4, \"yanchor\": \"top\"}], \"annotations\": [{\"x\": -0.05, \"y\": 1.31, \"text\": \"<b>\\u7528\\u6237\\u7c7b\\u578b\\uff1a</b>\", \"xref\": \"paper\", \"yref\": \"paper\", \"font\": {\"family\": \"Pt Sans Narrow\", \"size\": 12}, \"showarrow\": false}, {\"x\": 1, \"y\": 1.2, \"text\": \"\\u672c\\u9636\\u6bb5\\u6536\\u5165\\uff1a\", \"xref\": \"paper\", \"yref\": \"paper\", \"font\": {\"family\": \"Pt Sans Narrow\", \"size\": 12}, \"showarrow\": false}, {\"x\": 1.085, \"y\": 1.235, \"text\": \"<b><i>3.4 M</b></i>\", \"xref\": \"paper\", \"yref\": \"paper\", \"font\": {\"family\": \"Pt Sans Narrow\", \"size\": 20}, \"showarrow\": false}, {\"x\": 1.22, \"y\": 1.2, \"text\": \"\\u8f83\\u4e0a\\u9636\\u6bb5 \\u2b06\\ufe0f  159.54%\", \"xref\": \"paper\", \"yref\": \"paper\", \"font\": {\"family\": \"Pt Sans Narrow\", \"size\": 12}, \"showarrow\": false}]}, {\"showLink\": true, \"linkText\": \"Export to plot.ly\"})});</script>"
      ],
      "text/vnd.plotly.v1+html": [
       "<div id=\"c4dd758e-b035-4452-98dd-f6d0b48615ff\" style=\"height: 380px; width: 100%;\" class=\"plotly-graph-div\"></div><script type=\"text/javascript\">require([\"plotly\"], function(Plotly) { window.PLOTLYENV=window.PLOTLYENV || {};window.PLOTLYENV.BASE_URL=\"https://plot.ly\";Plotly.newPlot(\"c4dd758e-b035-4452-98dd-f6d0b48615ff\", [{\"type\": \"bar\", \"x\": [\"2018-10-01\", \"2018-10-02\", \"2018-10-03\", \"2018-10-04\", \"2018-10-05\", \"2018-10-06\", \"2018-10-07\", \"2018-10-08\", \"2018-10-09\", \"2018-10-10\", \"2018-10-11\", \"2018-10-12\", \"2018-10-13\", \"2018-10-14\", \"2018-10-15\", \"2018-10-16\", \"2018-10-17\", \"2018-10-18\", \"2018-10-19\", \"2018-10-20\"], \"y\": [875.0, 181.0, 132.0, 23.0, 709.0, 214.0, 31.0, 552.0, 185.0, 341.0, 641.0, 329.0, 373.0, 520.0, 171.0, 160.0, 220.0, 875.0, 619.0, 939.0], \"name\": \"A\\u6e20\\u9053\", \"showlegend\": true, \"marker\": {\"color\": \"rgb(253,218,236)\"}, \"xaxis\": \"x2\", \"yaxis\": \"y2\", \"visible\": true}, {\"type\": \"bar\", \"x\": [\"2018-10-01\", \"2018-10-02\", \"2018-10-03\", \"2018-10-04\", \"2018-10-05\", \"2018-10-06\", \"2018-10-07\", \"2018-10-08\", \"2018-10-09\", \"2018-10-10\", \"2018-10-11\", \"2018-10-12\", \"2018-10-13\", \"2018-10-14\", \"2018-10-15\", \"2018-10-16\", \"2018-10-17\", \"2018-10-18\", \"2018-10-19\", \"2018-10-20\"], \"y\": [213.0, 494.0, 352.0, 379.0, 532.0, 33.0, 158.0, 842.0, 951.0, 558.0, 993.0, 809.0, 503.0, 275.0, 121.0, 243.0, 846.0, 856.0, 488.0, 719.0], \"name\": \"B\\u6e20\\u9053\", \"showlegend\": true, \"marker\": {\"color\": \"rgb(229,216,189)\"}, \"xaxis\": \"x2\", \"yaxis\": \"y2\", \"visible\": true}, {\"type\": \"bar\", \"x\": [\"2018-10-01\", \"2018-10-02\", \"2018-10-03\", \"2018-10-04\", \"2018-10-05\", \"2018-10-06\", \"2018-10-07\", \"2018-10-08\", \"2018-10-09\", \"2018-10-10\", \"2018-10-11\", \"2018-10-12\", \"2018-10-13\", \"2018-10-14\", \"2018-10-15\", \"2018-10-16\", \"2018-10-17\", \"2018-10-18\", \"2018-10-19\", \"2018-10-20\"], \"y\": [710.0, 858.0, 444.0, 285.0, 538.0, 760.0, 533.0, 46.0, 364.0, 13.0, 868.0, 174.0, 827.0, 844.0, 613.0, 394.0, 14.0, 139.0, 301.0, 574.0], \"name\": \"C\\u6e20\\u9053\", \"showlegend\": true, \"marker\": {\"color\": \"rgb(255,255,204)\"}, \"xaxis\": \"x2\", \"yaxis\": \"y2\", \"visible\": true}, {\"type\": \"bar\", \"x\": [\"2018-10-01\", \"2018-10-02\", \"2018-10-03\", \"2018-10-04\", \"2018-10-05\", \"2018-10-06\", \"2018-10-07\", \"2018-10-08\", \"2018-10-09\", \"2018-10-10\", \"2018-10-11\", \"2018-10-12\", \"2018-10-13\", \"2018-10-14\", \"2018-10-15\", \"2018-10-16\", \"2018-10-17\", \"2018-10-18\", \"2018-10-19\", \"2018-10-20\"], \"y\": [826.0, 51.0, 536.0, 848.0, 472.0, 184.0, 309.0, 89.0, 489.0, 285.0, 399.0, 980.0, 366.0, 221.0, 866.0, 763.0, 896.0, 975.0, 752.0, 437.0], \"name\": \"D\\u6e20\\u9053\", \"showlegend\": true, \"marker\": {\"color\": \"rgb(254,217,166)\"}, \"xaxis\": \"x2\", \"yaxis\": \"y2\", \"visible\": true}, {\"type\": \"bar\", \"x\": [\"2018-10-01\", \"2018-10-02\", \"2018-10-03\", \"2018-10-04\", \"2018-10-05\", \"2018-10-06\", \"2018-10-07\", \"2018-10-08\", \"2018-10-09\", \"2018-10-10\", \"2018-10-11\", \"2018-10-12\", \"2018-10-13\", \"2018-10-14\", \"2018-10-15\", \"2018-10-16\", \"2018-10-17\", \"2018-10-18\", \"2018-10-19\", \"2018-10-20\"], \"y\": [301.0, 182.0, 214.0, 431.0, 311.0, 647.0, 436.0, 279.0, 146.0, 269.0, 454.0, 82.0, 689.0, 809.0, 359.0, 334.0, 695.0, 881.0, 184.0, 935.0], \"name\": \"E\\u6e20\\u9053\", \"showlegend\": true, \"marker\": {\"color\": \"rgb(222,203,228)\"}, \"xaxis\": \"x2\", \"yaxis\": \"y2\", \"visible\": true}, {\"type\": \"bar\", \"x\": [\"2018-10-01\", \"2018-10-02\", \"2018-10-03\", \"2018-10-04\", \"2018-10-05\", \"2018-10-06\", \"2018-10-07\", \"2018-10-08\", \"2018-10-09\", \"2018-10-10\", \"2018-10-11\", \"2018-10-12\", \"2018-10-13\", \"2018-10-14\", \"2018-10-15\", \"2018-10-16\", \"2018-10-17\", \"2018-10-18\", \"2018-10-19\", \"2018-10-20\"], \"y\": [122.0, 155.0, 714.0, 179.0, 643.0, 442.0, 515.0, 700.0, 831.0, 513.0, 35.0, 846.0, 681.0, 175.0, 53.0, 918.0, 516.0, 992.0, 156.0, 336.0], \"name\": \"F\\u6e20\\u9053\", \"showlegend\": true, \"marker\": {\"color\": \"rgb(204,235,197)\"}, \"xaxis\": \"x2\", \"yaxis\": \"y2\", \"visible\": true}, {\"type\": \"bar\", \"x\": [\"2018-10-01\", \"2018-10-02\", \"2018-10-03\", \"2018-10-04\", \"2018-10-05\", \"2018-10-06\", \"2018-10-07\", \"2018-10-08\", \"2018-10-09\", \"2018-10-10\", \"2018-10-11\", \"2018-10-12\", \"2018-10-13\", \"2018-10-14\", \"2018-10-15\", \"2018-10-16\", \"2018-10-17\", \"2018-10-18\", \"2018-10-19\", \"2018-10-20\"], \"y\": [155.0, 76.0, 381.0, 981.0, 84.0, 821.0, 48.0, 323.0, 843.0, 890.0, 791.0, 668.0, 790.0, 601.0, 997.0, 778.0, 16.0, 610.0, 493.0, 480.0], \"name\": \"G\\u6e20\\u9053\", \"showlegend\": true, \"marker\": {\"color\": \"rgb(179,205,227)\"}, \"xaxis\": \"x2\", \"yaxis\": \"y2\", \"visible\": true}, {\"type\": \"bar\", \"x\": [\"2018-10-01\", \"2018-10-02\", \"2018-10-03\", \"2018-10-04\", \"2018-10-05\", \"2018-10-06\", \"2018-10-07\", \"2018-10-08\", \"2018-10-09\", \"2018-10-10\", \"2018-10-11\", \"2018-10-12\", \"2018-10-13\", \"2018-10-14\", \"2018-10-15\", \"2018-10-16\", \"2018-10-17\", \"2018-10-18\", \"2018-10-19\", \"2018-10-20\"], \"y\": [755.0, 214.0, 784.0, 429.0, 359.0, 720.0, 491.0, 76.0, 736.0, 738.0, 608.0, 932.0, 110.0, 567.0, 212.0, 973.0, 860.0, 592.0, 574.0, 14.0], \"name\": \"H\\u6e20\\u9053\", \"showlegend\": true, \"marker\": {\"color\": \"rgb(251,180,174)\"}, \"xaxis\": \"x2\", \"yaxis\": \"y2\", \"visible\": true}, {\"type\": \"pie\", \"labels\": [\"A\\u6e20\\u9053\", \"B\\u6e20\\u9053\", \"C\\u6e20\\u9053\", \"D\\u6e20\\u9053\", \"E\\u6e20\\u9053\", \"F\\u6e20\\u9053\", \"G\\u6e20\\u9053\", \"H\\u6e20\\u9053\"], \"values\": [939.0, 719.0, 574.0, 437.0, 935.0, 336.0, 480.0, 14.0], \"domain\": {\"x\": [0.8, 1]}, \"text\": [\"A\\u6e20\\u9053\", \"B\\u6e20\\u9053\", \"C\\u6e20\\u9053\", \"D\\u6e20\\u9053\", \"E\\u6e20\\u9053\", \"F\\u6e20\\u9053\", \"G\\u6e20\\u9053\", \"H\\u6e20\\u9053\"], \"showlegend\": false, \"marker\": {\"colors\": [\"rgb(253,218,236)\", \"rgb(229,216,189)\", \"rgb(255,255,204)\", \"rgb(254,217,166)\", \"rgb(222,203,228)\", \"rgb(204,235,197)\", \"rgb(179,205,227)\", \"rgb(251,180,174)\"]}, \"textfont\": {\"size\": 8}, \"visible\": true}, {\"type\": \"bar\", \"x\": [\"2018-10-01\", \"2018-10-02\", \"2018-10-03\", \"2018-10-04\", \"2018-10-05\", \"2018-10-06\", \"2018-10-07\", \"2018-10-08\", \"2018-10-09\", \"2018-10-10\", \"2018-10-11\", \"2018-10-12\", \"2018-10-13\", \"2018-10-14\", \"2018-10-15\", \"2018-10-16\", \"2018-10-17\", \"2018-10-18\", \"2018-10-19\", \"2018-10-20\"], \"y\": [916.0, 830.0, 752.0, 474.0, 202.0, 553.0, 68.0, 596.0, 315.0, 468.0, 827.0, 976.0, 115.0, 79.0, 608.0, 335.0, 533.0, 130.0, 311.0, 84.0], \"name\": \"A\\u6e20\\u9053\", \"showlegend\": true, \"marker\": {\"color\": \"rgb(253,218,236)\"}, \"xaxis\": \"x2\", \"yaxis\": \"y2\", \"visible\": false}, {\"type\": \"bar\", \"x\": [\"2018-10-01\", \"2018-10-02\", \"2018-10-03\", \"2018-10-04\", \"2018-10-05\", \"2018-10-06\", \"2018-10-07\", \"2018-10-08\", \"2018-10-09\", \"2018-10-10\", \"2018-10-11\", \"2018-10-12\", \"2018-10-13\", \"2018-10-14\", \"2018-10-15\", \"2018-10-16\", \"2018-10-17\", \"2018-10-18\", \"2018-10-19\", \"2018-10-20\"], \"y\": [0.0, 702.0, 541.0, 979.0, 189.0, 415.0, 137.0, 476.0, 888.0, 451.0, 294.0, 291.0, 587.0, 30.0, 22.0, 136.0, 47.0, 999.0, 884.0, 536.0], \"name\": \"B\\u6e20\\u9053\", \"showlegend\": true, \"marker\": {\"color\": \"rgb(229,216,189)\"}, \"xaxis\": \"x2\", \"yaxis\": \"y2\", \"visible\": false}, {\"type\": \"bar\", \"x\": [\"2018-10-01\", \"2018-10-02\", \"2018-10-03\", \"2018-10-04\", \"2018-10-05\", \"2018-10-06\", \"2018-10-07\", \"2018-10-08\", \"2018-10-09\", \"2018-10-10\", \"2018-10-11\", \"2018-10-12\", \"2018-10-13\", \"2018-10-14\", \"2018-10-15\", \"2018-10-16\", \"2018-10-17\", \"2018-10-18\", \"2018-10-19\", \"2018-10-20\"], \"y\": [134.0, 473.0, 240.0, 914.0, 888.0, 407.0, 168.0, 706.0, 551.0, 51.0, 421.0, 131.0, 900.0, 664.0, 132.0, 646.0, 72.0, 699.0, 113.0, 370.0], \"name\": \"C\\u6e20\\u9053\", \"showlegend\": true, \"marker\": {\"color\": \"rgb(255,255,204)\"}, \"xaxis\": \"x2\", \"yaxis\": \"y2\", \"visible\": false}, {\"type\": \"bar\", \"x\": [\"2018-10-01\", \"2018-10-02\", \"2018-10-03\", \"2018-10-04\", \"2018-10-05\", \"2018-10-06\", \"2018-10-07\", \"2018-10-08\", \"2018-10-09\", \"2018-10-10\", \"2018-10-11\", \"2018-10-12\", \"2018-10-13\", \"2018-10-14\", \"2018-10-15\", \"2018-10-16\", \"2018-10-17\", \"2018-10-18\", \"2018-10-19\", \"2018-10-20\"], \"y\": [297.0, 403.0, 69.0, 178.0, 699.0, 473.0, 175.0, 880.0, 718.0, 620.0, 892.0, 759.0, 651.0, 166.0, 75.0, 32.0, 72.0, 232.0, 333.0, 911.0], \"name\": \"D\\u6e20\\u9053\", \"showlegend\": true, \"marker\": {\"color\": \"rgb(254,217,166)\"}, \"xaxis\": \"x2\", \"yaxis\": \"y2\", \"visible\": false}, {\"type\": \"bar\", \"x\": [\"2018-10-01\", \"2018-10-02\", \"2018-10-03\", \"2018-10-04\", \"2018-10-05\", \"2018-10-06\", \"2018-10-07\", \"2018-10-08\", \"2018-10-09\", \"2018-10-10\", \"2018-10-11\", \"2018-10-12\", \"2018-10-13\", \"2018-10-14\", \"2018-10-15\", \"2018-10-16\", \"2018-10-17\", \"2018-10-18\", \"2018-10-19\", \"2018-10-20\"], \"y\": [978.0, 585.0, 328.0, 156.0, 903.0, 757.0, 625.0, 859.0, 686.0, 950.0, 185.0, 392.0, 634.0, 535.0, 320.0, 820.0, 680.0, 998.0, 730.0, 61.0], \"name\": \"E\\u6e20\\u9053\", \"showlegend\": true, \"marker\": {\"color\": \"rgb(222,203,228)\"}, \"xaxis\": \"x2\", \"yaxis\": \"y2\", \"visible\": false}, {\"type\": \"bar\", \"x\": [\"2018-10-01\", \"2018-10-02\", \"2018-10-03\", \"2018-10-04\", \"2018-10-05\", \"2018-10-06\", \"2018-10-07\", \"2018-10-08\", \"2018-10-09\", \"2018-10-10\", \"2018-10-11\", \"2018-10-12\", \"2018-10-13\", \"2018-10-14\", \"2018-10-15\", \"2018-10-16\", \"2018-10-17\", \"2018-10-18\", \"2018-10-19\", \"2018-10-20\"], \"y\": [127.0, 73.0, 577.0, 215.0, 118.0, 515.0, 31.0, 77.0, 20.0, 26.0, 142.0, 343.0, 564.0, 532.0, 591.0, 417.0, 583.0, 642.0, 673.0, 579.0], \"name\": \"F\\u6e20\\u9053\", \"showlegend\": true, \"marker\": {\"color\": \"rgb(204,235,197)\"}, \"xaxis\": \"x2\", \"yaxis\": \"y2\", \"visible\": false}, {\"type\": \"bar\", \"x\": [\"2018-10-01\", \"2018-10-02\", \"2018-10-03\", \"2018-10-04\", \"2018-10-05\", \"2018-10-06\", \"2018-10-07\", \"2018-10-08\", \"2018-10-09\", \"2018-10-10\", \"2018-10-11\", \"2018-10-12\", \"2018-10-13\", \"2018-10-14\", \"2018-10-15\", \"2018-10-16\", \"2018-10-17\", \"2018-10-18\", \"2018-10-19\", \"2018-10-20\"], \"y\": [156.0, 899.0, 190.0, 156.0, 941.0, 645.0, 178.0, 152.0, 135.0, 747.0, 186.0, 245.0, 335.0, 515.0, 714.0, 396.0, 824.0, 682.0, 757.0, 361.0], \"name\": \"G\\u6e20\\u9053\", \"showlegend\": true, \"marker\": {\"color\": \"rgb(179,205,227)\"}, \"xaxis\": \"x2\", \"yaxis\": \"y2\", \"visible\": false}, {\"type\": \"bar\", \"x\": [\"2018-10-01\", \"2018-10-02\", \"2018-10-03\", \"2018-10-04\", \"2018-10-05\", \"2018-10-06\", \"2018-10-07\", \"2018-10-08\", \"2018-10-09\", \"2018-10-10\", \"2018-10-11\", \"2018-10-12\", \"2018-10-13\", \"2018-10-14\", \"2018-10-15\", \"2018-10-16\", \"2018-10-17\", \"2018-10-18\", \"2018-10-19\", \"2018-10-20\"], \"y\": [408.0, 666.0, 582.0, 35.0, 564.0, 628.0, 762.0, 93.0, 17.0, 655.0, 860.0, 853.0, 735.0, 940.0, 412.0, 548.0, 196.0, 220.0, 63.0, 717.0], \"name\": \"H\\u6e20\\u9053\", \"showlegend\": true, \"marker\": {\"color\": \"rgb(251,180,174)\"}, \"xaxis\": \"x2\", \"yaxis\": \"y2\", \"visible\": false}, {\"type\": \"pie\", \"labels\": [\"A\\u6e20\\u9053\", \"B\\u6e20\\u9053\", \"C\\u6e20\\u9053\", \"D\\u6e20\\u9053\", \"E\\u6e20\\u9053\", \"F\\u6e20\\u9053\", \"G\\u6e20\\u9053\", \"H\\u6e20\\u9053\"], \"values\": [84.0, 536.0, 370.0, 911.0, 61.0, 579.0, 361.0, 717.0], \"domain\": {\"x\": [0.8, 1]}, \"text\": [\"A\\u6e20\\u9053\", \"B\\u6e20\\u9053\", \"C\\u6e20\\u9053\", \"D\\u6e20\\u9053\", \"E\\u6e20\\u9053\", \"F\\u6e20\\u9053\", \"G\\u6e20\\u9053\", \"H\\u6e20\\u9053\"], \"showlegend\": false, \"marker\": {\"colors\": [\"rgb(253,218,236)\", \"rgb(229,216,189)\", \"rgb(255,255,204)\", \"rgb(254,217,166)\", \"rgb(222,203,228)\", \"rgb(204,235,197)\", \"rgb(179,205,227)\", \"rgb(251,180,174)\"]}, \"textfont\": {\"size\": 8}, \"visible\": false}], {\"title\": \"\\u5404\\u6e20\\u9053\\u7528\\u6237\\u60c5\\u51b5\", \"titlefont\": {\"size\": 20}, \"height\": 380, \"legend\": {\"x\": 1.1, \"y\": 0.5, \"traceorder\": \"reversed\", \"font\": {\"size\": 10}}, \"xaxis2\": {\"domain\": [0, 0.75], \"title\": \"\\u6bcf\\u5929\\u4e00\\u66f4\\u65b0\", \"tickfont\": {\"size\": 8}, \"anchor\": \"y2\"}, \"yaxis2\": {\"domain\": [0, 1], \"side\": \"left\", \"title\": \"\\u7d2f\\u8ba1\\u91d1\\u989d\", \"anchor\": \"x2\"}, \"barmode\": \"stack\", \"updatemenus\": [{\"buttons\": [{\"label\": \"\\u65b0\\u7528\\u6237\", \"method\": \"update\", \"args\": [{\"visible\": [true, true, true, true, true, true, true, true, true, false, false, false, false, false, false, false, false, false]}, {\"title\": \"\\u5404\\u6e20\\u9053\\u65b0\\u7528\\u6237\\u6536\\u5165\", \"annotations\": [{\"x\": -0.05, \"y\": 1.31, \"text\": \"<b>\\u7528\\u6237\\u7c7b\\u578b\\uff1a</b>\", \"xref\": \"paper\", \"yref\": \"paper\", \"font\": {\"family\": \"Pt Sans Narrow\", \"size\": 12}, \"showarrow\": false}, {\"x\": 1, \"y\": 1.2, \"text\": \"\\u672c\\u9636\\u6bb5\\u6536\\u5165\\uff1a\", \"xref\": \"paper\", \"yref\": \"paper\", \"font\": {\"family\": \"Pt Sans Narrow\", \"size\": 12}, \"showarrow\": false}, {\"x\": 1.085, \"y\": 1.235, \"text\": \"<b><i>3.4 M</b></i>\", \"xref\": \"paper\", \"yref\": \"paper\", \"font\": {\"family\": \"Pt Sans Narrow\", \"size\": 20}, \"showarrow\": false}, {\"x\": 1.22, \"y\": 1.2, \"text\": \"\\u8f83\\u4e0a\\u9636\\u6bb5 \\u2b06\\ufe0f  159.54%\", \"xref\": \"paper\", \"yref\": \"paper\", \"font\": {\"family\": \"Pt Sans Narrow\", \"size\": 12}, \"showarrow\": false}]}]}, {\"label\": \"\\u590d\\u8d37\\u7528\\u6237\", \"method\": \"update\", \"args\": [{\"visible\": [false, false, false, false, false, false, false, false, false, true, true, true, true, true, true, true, true, true]}, {\"title\": \"\\u5404\\u6e20\\u9053\\u590d\\u8d37\\u7528\\u6237\\u6536\\u5165\", \"annotations\": [{\"x\": -0.05, \"y\": 1.31, \"text\": \"<b>\\u7528\\u6237\\u7c7b\\u578b\\uff1a</b>\", \"xref\": \"paper\", \"yref\": \"paper\", \"font\": {\"family\": \"Pt Sans Narrow\", \"size\": 12}, \"showarrow\": false}, {\"x\": 1, \"y\": 1.2, \"text\": \"\\u672c\\u9636\\u6bb5\\u6536\\u5165\\uff1a\", \"xref\": \"paper\", \"yref\": \"paper\", \"font\": {\"family\": \"Pt Sans Narrow\", \"size\": 12}, \"showarrow\": false}, {\"x\": 1.085, \"y\": 1.235, \"text\": \"<b><i>3.87 M</b></i>\", \"xref\": \"paper\", \"yref\": \"paper\", \"font\": {\"family\": \"Pt Sans Narrow\", \"size\": 20}, \"showarrow\": false}, {\"x\": 1.22, \"y\": 1.2, \"text\": \"\\u8f83\\u4e0a\\u9636\\u6bb5 \\u2b07\\ufe0f  37.28%\", \"xref\": \"paper\", \"yref\": \"paper\", \"font\": {\"family\": \"Pt Sans Narrow\", \"size\": 12}, \"showarrow\": false}]}]}], \"direction\": \"down\", \"pad\": {\"r\": 10, \"t\": 10}, \"showactive\": true, \"x\": 0.05, \"xanchor\": \"left\", \"y\": 1.4, \"yanchor\": \"top\"}], \"annotations\": [{\"x\": -0.05, \"y\": 1.31, \"text\": \"<b>\\u7528\\u6237\\u7c7b\\u578b\\uff1a</b>\", \"xref\": \"paper\", \"yref\": \"paper\", \"font\": {\"family\": \"Pt Sans Narrow\", \"size\": 12}, \"showarrow\": false}, {\"x\": 1, \"y\": 1.2, \"text\": \"\\u672c\\u9636\\u6bb5\\u6536\\u5165\\uff1a\", \"xref\": \"paper\", \"yref\": \"paper\", \"font\": {\"family\": \"Pt Sans Narrow\", \"size\": 12}, \"showarrow\": false}, {\"x\": 1.085, \"y\": 1.235, \"text\": \"<b><i>3.4 M</b></i>\", \"xref\": \"paper\", \"yref\": \"paper\", \"font\": {\"family\": \"Pt Sans Narrow\", \"size\": 20}, \"showarrow\": false}, {\"x\": 1.22, \"y\": 1.2, \"text\": \"\\u8f83\\u4e0a\\u9636\\u6bb5 \\u2b06\\ufe0f  159.54%\", \"xref\": \"paper\", \"yref\": \"paper\", \"font\": {\"family\": \"Pt Sans Narrow\", \"size\": 12}, \"showarrow\": false}]}, {\"showLink\": true, \"linkText\": \"Export to plot.ly\"})});</script>"
      ]
     },
     "metadata": {},
     "output_type": "display_data"
    }
   ],
   "source": [
    "# 数据\n",
    "channel = ['A渠道','B渠道','C渠道','D渠道','E渠道','F渠道','G渠道','H渠道','Col_sum']\n",
    "\n",
    "df_channel_old = pd.DataFrame(np.random.rand(20,9),columns=channel,index=pd.date_range('10/01/2018',freq = 'D',periods = 20))\n",
    "df_channel_old = df_channel_old.applymap(lambda x:round(x,3)*1000)\n",
    "\n",
    "df_channel_new = pd.DataFrame(np.random.rand(20,9),columns=channel,index=pd.date_range('10/01/2018',freq = 'D',periods = 20))\n",
    "df_channel_new = df_channel_new.applymap(lambda x:round(x,3)*1000)\n",
    "\n",
    "# 图表\n",
    "traces = []\n",
    "annotations = []\n",
    "visible1 = []\n",
    "visible2 = []\n",
    "\n",
    "loop = 0\n",
    "\n",
    "for df in (df_channel_new, df_channel_old):\n",
    "\n",
    "    loop = loop + 1\n",
    "\n",
    "    group_mapping = list(df.columns.drop_duplicates(keep='first'))\n",
    "    group_mapping = group_mapping[:-1]\n",
    "\n",
    "    n = str(len(group_mapping))\n",
    "    colors = list(reversed(cl.scales[n]['qual']['Pastel1']))\n",
    "\n",
    "    for i, clr in zip(group_mapping, colors):\n",
    "\n",
    "        if loop == 1:\n",
    "            visible = True\n",
    "            visible1.append(True)\n",
    "            visible2.append(False)\n",
    "        elif loop == 2:\n",
    "            visible = False\n",
    "            visible1.append(False)\n",
    "            visible2.append(True)\n",
    "\n",
    "        traces.append(go.Bar(\n",
    "            x=df.index,\n",
    "            y=df[i],\n",
    "            name=i,\n",
    "            showlegend=True,\n",
    "            marker=dict(color=clr),\n",
    "            xaxis='x2',\n",
    "            yaxis='y2',\n",
    "            visible=visible\n",
    "        ))\n",
    "\n",
    "    index_list = list(df.index.drop_duplicates(keep='first'))\n",
    "    n = len(index_list)\n",
    "    \n",
    "    values = df[df.index == index_list[n-1]].iloc[:, :-1].values.tolist()\n",
    "\n",
    "    traces.append(go.Pie(\n",
    "        labels=list(df.columns[:-1]),\n",
    "        values=values[0],\n",
    "        domain=dict(x=[0.8, 1]),\n",
    "        text=list(df.columns[:-1]),\n",
    "        showlegend=False,\n",
    "        marker=dict(colors=colors),\n",
    "        textfont=dict(size=8),\n",
    "        visible=visible\n",
    "    ))\n",
    "\n",
    "    if loop == 1:\n",
    "        visible = True\n",
    "        visible1.append(True)\n",
    "        visible2.append(False)\n",
    "    elif loop == 2:\n",
    "        visible = False\n",
    "        visible1.append(False)\n",
    "        visible2.append(True)\n",
    "\n",
    "    #########################################################################################\n",
    "\n",
    "    annotations.append(dict(x=-0.05, y=1.31, text='<b>用户类型：</b>',\n",
    "                            xref='paper', yref='paper',\n",
    "                            font=dict(family='Pt Sans Narrow', size=12),\n",
    "                            showarrow=False))\n",
    "\n",
    "    annotations.append(dict(x=1, y=1.2, text='本阶段收入：',\n",
    "                            xref='paper', yref='paper',\n",
    "                            font=dict(family='Pt Sans Narrow', size=12),\n",
    "                            showarrow=False))\n",
    "\n",
    "    annotations.append(dict(x=1.085, y=1.235,\n",
    "                            text='<b><i>' + (df[df.index == index_list[n - 1]]['Col_sum'] / 100).round(\n",
    "                                2).astype(str).item() + ' M</b></i>',\n",
    "                            xref='paper', yref='paper',\n",
    "                            font=dict(family='Pt Sans Narrow', size=20),\n",
    "                            showarrow=False))\n",
    "\n",
    "    if (df[df.index == index_list[n - 1]]['Col_sum']).item() - (\n",
    "    df[df.index == index_list[n - 2]]['Col_sum']).item() > 0:\n",
    "        compare_text = '较上阶段 ⬆️'\n",
    "    elif (df[df.index == index_list[n - 1]]['Col_sum']).item() - (\n",
    "    df[df.index == index_list[n - 2]]['Col_sum']).item() == 0:\n",
    "        compare_text = '与上阶段变化'\n",
    "    elif (df[df.index == index_list[n - 1]]['Col_sum']).item() - (\n",
    "    df[df.index == index_list[n - 2]]['Col_sum']).item() < 0:\n",
    "        compare_text = '较上阶段 ⬇️'\n",
    "\n",
    "    change_rate = ((df[df.index == index_list[n - 1]]['Col_sum'].item() - df[df.index == index_list[n - 2]][\n",
    "        'Col_sum'].item()) * 100\n",
    "                   / df[df.index == index_list[n - 2]]['Col_sum'].item())\n",
    "    change_rate = str(abs(round(change_rate, 2))) + '%'\n",
    "\n",
    "    annotations.append(dict(x=1.22, y=1.2, text=compare_text + '  ' + change_rate,\n",
    "                            xref='paper', yref='paper',\n",
    "                            font=dict(family='Pt Sans Narrow', size=12),\n",
    "                            showarrow=False))\n",
    "\n",
    "#########################################################################################\n",
    "\n",
    "updatemenus = list([\n",
    "    dict(\n",
    "        buttons=list([\n",
    "            dict(label='新用户',\n",
    "                 method='update',\n",
    "                 args=[{'visible': visible1},\n",
    "                       {'title': '各渠道新用户收入',\n",
    "                        'annotations': annotations[0:4]}]),\n",
    "            dict(label='复贷用户',\n",
    "                 method='update',\n",
    "                 args=[{'visible': visible2},\n",
    "                       {'title': '各渠道复贷用户收入',\n",
    "                        'annotations': annotations[4:]}]),\n",
    "        ]),\n",
    "        direction='down',\n",
    "        pad={'r': 10, 't': 10},\n",
    "        showactive=True,\n",
    "        x=0.05,\n",
    "        xanchor='left',\n",
    "        y=1.4,\n",
    "        yanchor='top'\n",
    "    )\n",
    "])\n",
    "\n",
    "layout = dict(\n",
    "    title='各渠道用户情况',\n",
    "    titlefont=dict(size=20),\n",
    "    height=380,\n",
    "    legend=dict(x=1.1,y=0.5, traceorder='reversed', font=dict(size=10)),\n",
    "    xaxis2=dict(domain=[0, 0.75], title='每天一更新', tickfont=dict(size=8), anchor='y2'),\n",
    "    yaxis2=dict(domain=[0, 1], side='left', title='累计金额', anchor='x2'),\n",
    "    barmode='stack',\n",
    "    updatemenus=updatemenus\n",
    ")\n",
    "\n",
    "layout['annotations'] = annotations[0:4]\n",
    "\n",
    "fig = dict(data=traces, layout=layout)\n",
    "py.iplot(fig)"
   ]
  },
  {
   "cell_type": "code",
   "execution_count": 175,
   "metadata": {
    "ExecuteTime": {
     "end_time": "2018-12-10T02:35:37.336909Z",
     "start_time": "2018-12-10T02:35:36.344648Z"
    },
    "scrolled": false
   },
   "outputs": [
    {
     "data": {
      "application/vnd.plotly.v1+json": {
       "data": [
        {
         "legendgroup": "O2O",
         "line": {
          "color": "rgb(102,194,165)",
          "shape": "spline"
         },
         "mode": "lines",
         "name": "O2O成本",
         "showlegend": true,
         "type": "scatter",
         "x": [
          "4月",
          "5月",
          "6月",
          "7月",
          "8月",
          "9月",
          "10月",
          "11月",
          "12月"
         ],
         "y": [
          230,
          837,
          878,
          362,
          724,
          223,
          454,
          540
         ],
         "yaxis": "y2"
        },
        {
         "legendgroup": "Cduan",
         "line": {
          "color": "rgb(252,141,98)",
          "shape": "spline"
         },
         "mode": "lines",
         "name": "A2A成本",
         "showlegend": true,
         "type": "scatter",
         "x": [
          "4月",
          "5月",
          "6月",
          "7月",
          "8月",
          "9月",
          "10月",
          "11月",
          "12月"
         ],
         "y": [
          862,
          197,
          876,
          557,
          381,
          736,
          794,
          620
         ],
         "yaxis": "y2"
        },
        {
         "legendgroup": "nami",
         "line": {
          "color": "rgb(141,160,203)",
          "shape": "spline"
         },
         "mode": "lines",
         "name": "M2M成本",
         "showlegend": true,
         "type": "scatter",
         "x": [
          "4月",
          "5月",
          "6月",
          "7月",
          "8月",
          "9月",
          "10月",
          "11月",
          "12月"
         ],
         "y": [
          864,
          249,
          117,
          520,
          544,
          561,
          740,
          261
         ],
         "yaxis": "y2"
        },
        {
         "legendgroup": "O2O",
         "marker": {
          "color": "rgb(102,194,165)"
         },
         "name": "O2O成本",
         "showlegend": false,
         "type": "bar",
         "x": [
          "4月",
          "5月",
          "6月",
          "7月",
          "8月",
          "9月",
          "10月",
          "11月",
          "12月"
         ],
         "y": [
          230,
          837,
          878,
          362,
          724,
          223,
          454,
          540
         ],
         "yaxis": "y"
        },
        {
         "legendgroup": "Cduan",
         "marker": {
          "color": "rgb(252,141,98)"
         },
         "name": "A2A成本",
         "showlegend": false,
         "type": "bar",
         "x": [
          "4月",
          "5月",
          "6月",
          "7月",
          "8月",
          "9月",
          "10月",
          "11月",
          "12月"
         ],
         "y": [
          862,
          197,
          876,
          557,
          381,
          736,
          794,
          620
         ],
         "yaxis": "y"
        },
        {
         "legendgroup": "nami",
         "marker": {
          "color": "rgb(141,160,203)"
         },
         "name": "M2M成本",
         "showlegend": false,
         "type": "bar",
         "x": [
          "4月",
          "5月",
          "6月",
          "7月",
          "8月",
          "9月",
          "10月",
          "11月",
          "12月"
         ],
         "y": [
          864,
          249,
          117,
          520,
          544,
          561,
          740,
          261
         ],
         "yaxis": "y"
        },
        {
         "legendgroup": "O2O",
         "line": {
          "color": "rgb(102,194,165)",
          "shape": "spline"
         },
         "mode": "lines",
         "name": "O2O收入",
         "showlegend": true,
         "type": "scatter",
         "visible": false,
         "x": [
          "4月",
          "5月",
          "6月",
          "7月",
          "8月",
          "9月",
          "10月",
          "11月",
          "12月"
         ],
         "y": [
          302,
          540,
          946,
          803,
          140,
          815,
          702,
          491
         ],
         "yaxis": "y2"
        },
        {
         "legendgroup": "Cduan",
         "line": {
          "color": "rgb(252,141,98)",
          "shape": "spline"
         },
         "mode": "lines",
         "name": "A2A收入",
         "showlegend": true,
         "type": "scatter",
         "visible": false,
         "x": [
          "4月",
          "5月",
          "6月",
          "7月",
          "8月",
          "9月",
          "10月",
          "11月",
          "12月"
         ],
         "y": [
          460,
          708,
          934,
          869,
          232,
          949,
          467,
          709
         ],
         "yaxis": "y2"
        },
        {
         "legendgroup": "nami",
         "line": {
          "color": "rgb(141,160,203)",
          "shape": "spline"
         },
         "mode": "lines",
         "name": "M2M收入",
         "showlegend": true,
         "type": "scatter",
         "visible": false,
         "x": [
          "4月",
          "5月",
          "6月",
          "7月",
          "8月",
          "9月",
          "10月",
          "11月",
          "12月"
         ],
         "y": [
          850,
          522,
          87,
          45,
          183,
          716,
          96,
          397
         ],
         "yaxis": "y2"
        },
        {
         "legendgroup": "O2O",
         "marker": {
          "color": "rgb(102,194,165)"
         },
         "name": "O2O收入",
         "showlegend": false,
         "type": "bar",
         "visible": false,
         "x": [
          "4月",
          "5月",
          "6月",
          "7月",
          "8月",
          "9月",
          "10月",
          "11月",
          "12月"
         ],
         "y": [
          302,
          540,
          946,
          803,
          140,
          815,
          702,
          491
         ],
         "yaxis": "y"
        },
        {
         "legendgroup": "Cduan",
         "marker": {
          "color": "rgb(252,141,98)"
         },
         "name": "A2A收入",
         "showlegend": false,
         "type": "bar",
         "visible": false,
         "x": [
          "4月",
          "5月",
          "6月",
          "7月",
          "8月",
          "9月",
          "10月",
          "11月",
          "12月"
         ],
         "y": [
          460,
          708,
          934,
          869,
          232,
          949,
          467,
          709
         ],
         "yaxis": "y"
        },
        {
         "legendgroup": "nami",
         "marker": {
          "color": "rgb(141,160,203)"
         },
         "name": "M2M收入",
         "showlegend": false,
         "type": "bar",
         "visible": false,
         "x": [
          "4月",
          "5月",
          "6月",
          "7月",
          "8月",
          "9月",
          "10月",
          "11月",
          "12月"
         ],
         "y": [
          850,
          522,
          87,
          45,
          183,
          716,
          96,
          397
         ],
         "yaxis": "y"
        },
        {
         "legendgroup": "O2O",
         "line": {
          "color": "rgb(102,194,165)",
          "shape": "spline"
         },
         "mode": "lines",
         "name": "O2O利润",
         "showlegend": true,
         "type": "scatter",
         "visible": false,
         "x": [
          "4月",
          "5月",
          "6月",
          "7月",
          "8月",
          "9月",
          "10月",
          "11月",
          "12月"
         ],
         "y": [
          875,
          595,
          109,
          31,
          562,
          377,
          646,
          459
         ],
         "yaxis": "y2"
        },
        {
         "legendgroup": "Cduan",
         "line": {
          "color": "rgb(252,141,98)",
          "shape": "spline"
         },
         "mode": "lines",
         "name": "A2A利润",
         "showlegend": true,
         "type": "scatter",
         "visible": false,
         "x": [
          "4月",
          "5月",
          "6月",
          "7月",
          "8月",
          "9月",
          "10月",
          "11月",
          "12月"
         ],
         "y": [
          97,
          76,
          524,
          607,
          428,
          187,
          695,
          970
         ],
         "yaxis": "y2"
        },
        {
         "legendgroup": "nami",
         "line": {
          "color": "rgb(141,160,203)",
          "shape": "spline"
         },
         "mode": "lines",
         "name": "M2M利润",
         "showlegend": true,
         "type": "scatter",
         "visible": false,
         "x": [
          "4月",
          "5月",
          "6月",
          "7月",
          "8月",
          "9月",
          "10月",
          "11月",
          "12月"
         ],
         "y": [
          690,
          934,
          562,
          126,
          487,
          129,
          674,
          761
         ],
         "yaxis": "y2"
        },
        {
         "legendgroup": "O2O",
         "marker": {
          "color": "rgb(102,194,165)"
         },
         "name": "O2O利润",
         "showlegend": false,
         "type": "bar",
         "visible": false,
         "x": [
          "4月",
          "5月",
          "6月",
          "7月",
          "8月",
          "9月",
          "10月",
          "11月",
          "12月"
         ],
         "y": [
          875,
          595,
          109,
          31,
          562,
          377,
          646,
          459
         ],
         "yaxis": "y"
        },
        {
         "legendgroup": "Cduan",
         "marker": {
          "color": "rgb(252,141,98)"
         },
         "name": "A2A利润",
         "showlegend": false,
         "type": "bar",
         "visible": false,
         "x": [
          "4月",
          "5月",
          "6月",
          "7月",
          "8月",
          "9月",
          "10月",
          "11月",
          "12月"
         ],
         "y": [
          97,
          76,
          524,
          607,
          428,
          187,
          695,
          970
         ],
         "yaxis": "y"
        },
        {
         "legendgroup": "nami",
         "marker": {
          "color": "rgb(141,160,203)"
         },
         "name": "M2M利润",
         "showlegend": false,
         "type": "bar",
         "visible": false,
         "x": [
          "4月",
          "5月",
          "6月",
          "7月",
          "8月",
          "9月",
          "10月",
          "11月",
          "12月"
         ],
         "y": [
          690,
          934,
          562,
          126,
          487,
          129,
          674,
          761
         ],
         "yaxis": "y"
        }
       ],
       "layout": {
        "title": "2018年各月成本",
        "titlefont": {
         "size": 20
        },
        "updatemenus": [
         {
          "active": 0,
          "buttons": [
           {
            "args": [
             {
              "visible": [
               true,
               true,
               true,
               true,
               true,
               true,
               false,
               false,
               false,
               false,
               false,
               false,
               false,
               false,
               false,
               false,
               false,
               false
              ]
             },
             {
              "title": "2018年各月成本"
             }
            ],
            "label": "成本",
            "method": "update"
           },
           {
            "args": [
             {
              "visible": [
               false,
               false,
               false,
               false,
               false,
               false,
               true,
               true,
               true,
               true,
               true,
               true,
               false,
               false,
               false,
               false,
               false,
               false
              ]
             },
             {
              "title": "2018年各月收入"
             }
            ],
            "label": "收入",
            "method": "update"
           },
           {
            "args": [
             {
              "visible": [
               false,
               false,
               false,
               false,
               false,
               false,
               false,
               false,
               false,
               false,
               false,
               false,
               true,
               true,
               true,
               true,
               true,
               true
              ]
             },
             {
              "title": "2018年各月利润"
             }
            ],
            "label": "利润",
            "method": "update"
           }
          ],
          "direction": "left",
          "pad": {
           "r": 10,
           "t": 10
          },
          "showactive": true,
          "type": "buttons",
          "x": 0,
          "xanchor": "left",
          "y": 1.25,
          "yanchor": "top"
         }
        ],
        "yaxis": {
         "domain": [
          0,
          0.25
         ],
         "showline": true,
         "title": "金额对比"
        },
        "yaxis2": {
         "domain": [
          0.4,
          1
         ],
         "showline": true,
         "title": "趋势"
        }
       }
      },
      "text/html": [
       "<div id=\"fa7e8b82-273f-4113-8d8f-2438f004fe24\" style=\"height: 525px; width: 100%;\" class=\"plotly-graph-div\"></div><script type=\"text/javascript\">require([\"plotly\"], function(Plotly) { window.PLOTLYENV=window.PLOTLYENV || {};window.PLOTLYENV.BASE_URL=\"https://plot.ly\";Plotly.newPlot(\"fa7e8b82-273f-4113-8d8f-2438f004fe24\", [{\"type\": \"scatter\", \"x\": [\"4\\u6708\", \"5\\u6708\", \"6\\u6708\", \"7\\u6708\", \"8\\u6708\", \"9\\u6708\", \"10\\u6708\", \"11\\u6708\", \"12\\u6708\"], \"y\": [230.0, 837.0, 878.0, 362.0, 724.0, 223.0, 454.0, 540.0], \"mode\": \"lines\", \"name\": \"O2O\\u6210\\u672c\", \"showlegend\": true, \"legendgroup\": \"O2O\", \"yaxis\": \"y2\", \"line\": {\"shape\": \"spline\", \"color\": \"rgb(102,194,165)\"}}, {\"type\": \"scatter\", \"x\": [\"4\\u6708\", \"5\\u6708\", \"6\\u6708\", \"7\\u6708\", \"8\\u6708\", \"9\\u6708\", \"10\\u6708\", \"11\\u6708\", \"12\\u6708\"], \"y\": [862.0, 197.0, 876.0, 557.0, 381.0, 736.0, 794.0, 620.0], \"mode\": \"lines\", \"name\": \"A2A\\u6210\\u672c\", \"showlegend\": true, \"legendgroup\": \"Cduan\", \"yaxis\": \"y2\", \"line\": {\"shape\": \"spline\", \"color\": \"rgb(252,141,98)\"}}, {\"type\": \"scatter\", \"x\": [\"4\\u6708\", \"5\\u6708\", \"6\\u6708\", \"7\\u6708\", \"8\\u6708\", \"9\\u6708\", \"10\\u6708\", \"11\\u6708\", \"12\\u6708\"], \"y\": [864.0, 249.0, 117.0, 520.0, 544.0, 561.0, 740.0, 261.0], \"mode\": \"lines\", \"name\": \"M2M\\u6210\\u672c\", \"showlegend\": true, \"legendgroup\": \"nami\", \"yaxis\": \"y2\", \"line\": {\"shape\": \"spline\", \"color\": \"rgb(141,160,203)\"}}, {\"type\": \"bar\", \"x\": [\"4\\u6708\", \"5\\u6708\", \"6\\u6708\", \"7\\u6708\", \"8\\u6708\", \"9\\u6708\", \"10\\u6708\", \"11\\u6708\", \"12\\u6708\"], \"y\": [230.0, 837.0, 878.0, 362.0, 724.0, 223.0, 454.0, 540.0], \"name\": \"O2O\\u6210\\u672c\", \"showlegend\": false, \"legendgroup\": \"O2O\", \"yaxis\": \"y\", \"marker\": {\"color\": \"rgb(102,194,165)\"}}, {\"type\": \"bar\", \"x\": [\"4\\u6708\", \"5\\u6708\", \"6\\u6708\", \"7\\u6708\", \"8\\u6708\", \"9\\u6708\", \"10\\u6708\", \"11\\u6708\", \"12\\u6708\"], \"y\": [862.0, 197.0, 876.0, 557.0, 381.0, 736.0, 794.0, 620.0], \"name\": \"A2A\\u6210\\u672c\", \"showlegend\": false, \"legendgroup\": \"Cduan\", \"yaxis\": \"y\", \"marker\": {\"color\": \"rgb(252,141,98)\"}}, {\"type\": \"bar\", \"x\": [\"4\\u6708\", \"5\\u6708\", \"6\\u6708\", \"7\\u6708\", \"8\\u6708\", \"9\\u6708\", \"10\\u6708\", \"11\\u6708\", \"12\\u6708\"], \"y\": [864.0, 249.0, 117.0, 520.0, 544.0, 561.0, 740.0, 261.0], \"name\": \"M2M\\u6210\\u672c\", \"showlegend\": false, \"legendgroup\": \"nami\", \"yaxis\": \"y\", \"marker\": {\"color\": \"rgb(141,160,203)\"}}, {\"type\": \"scatter\", \"x\": [\"4\\u6708\", \"5\\u6708\", \"6\\u6708\", \"7\\u6708\", \"8\\u6708\", \"9\\u6708\", \"10\\u6708\", \"11\\u6708\", \"12\\u6708\"], \"y\": [302.0, 540.0, 946.0, 803.0, 140.0, 815.0, 702.0, 491.0], \"mode\": \"lines\", \"name\": \"O2O\\u6536\\u5165\", \"showlegend\": true, \"legendgroup\": \"O2O\", \"yaxis\": \"y2\", \"visible\": false, \"line\": {\"shape\": \"spline\", \"color\": \"rgb(102,194,165)\"}}, {\"type\": \"scatter\", \"x\": [\"4\\u6708\", \"5\\u6708\", \"6\\u6708\", \"7\\u6708\", \"8\\u6708\", \"9\\u6708\", \"10\\u6708\", \"11\\u6708\", \"12\\u6708\"], \"y\": [460.0, 708.0, 934.0, 869.0, 232.0, 949.0, 467.0, 709.0], \"mode\": \"lines\", \"name\": \"A2A\\u6536\\u5165\", \"showlegend\": true, \"visible\": false, \"legendgroup\": \"Cduan\", \"yaxis\": \"y2\", \"line\": {\"shape\": \"spline\", \"color\": \"rgb(252,141,98)\"}}, {\"type\": \"scatter\", \"x\": [\"4\\u6708\", \"5\\u6708\", \"6\\u6708\", \"7\\u6708\", \"8\\u6708\", \"9\\u6708\", \"10\\u6708\", \"11\\u6708\", \"12\\u6708\"], \"y\": [850.0, 522.0, 87.0, 45.0, 183.0, 716.0, 96.0, 397.0], \"mode\": \"lines\", \"name\": \"M2M\\u6536\\u5165\", \"showlegend\": true, \"visible\": false, \"legendgroup\": \"nami\", \"yaxis\": \"y2\", \"line\": {\"shape\": \"spline\", \"color\": \"rgb(141,160,203)\"}}, {\"type\": \"bar\", \"x\": [\"4\\u6708\", \"5\\u6708\", \"6\\u6708\", \"7\\u6708\", \"8\\u6708\", \"9\\u6708\", \"10\\u6708\", \"11\\u6708\", \"12\\u6708\"], \"y\": [302.0, 540.0, 946.0, 803.0, 140.0, 815.0, 702.0, 491.0], \"name\": \"O2O\\u6536\\u5165\", \"showlegend\": false, \"visible\": false, \"legendgroup\": \"O2O\", \"yaxis\": \"y\", \"marker\": {\"color\": \"rgb(102,194,165)\"}}, {\"type\": \"bar\", \"x\": [\"4\\u6708\", \"5\\u6708\", \"6\\u6708\", \"7\\u6708\", \"8\\u6708\", \"9\\u6708\", \"10\\u6708\", \"11\\u6708\", \"12\\u6708\"], \"y\": [460.0, 708.0, 934.0, 869.0, 232.0, 949.0, 467.0, 709.0], \"name\": \"A2A\\u6536\\u5165\", \"showlegend\": false, \"visible\": false, \"legendgroup\": \"Cduan\", \"yaxis\": \"y\", \"marker\": {\"color\": \"rgb(252,141,98)\"}}, {\"type\": \"bar\", \"x\": [\"4\\u6708\", \"5\\u6708\", \"6\\u6708\", \"7\\u6708\", \"8\\u6708\", \"9\\u6708\", \"10\\u6708\", \"11\\u6708\", \"12\\u6708\"], \"y\": [850.0, 522.0, 87.0, 45.0, 183.0, 716.0, 96.0, 397.0], \"name\": \"M2M\\u6536\\u5165\", \"showlegend\": false, \"visible\": false, \"legendgroup\": \"nami\", \"yaxis\": \"y\", \"marker\": {\"color\": \"rgb(141,160,203)\"}}, {\"type\": \"scatter\", \"x\": [\"4\\u6708\", \"5\\u6708\", \"6\\u6708\", \"7\\u6708\", \"8\\u6708\", \"9\\u6708\", \"10\\u6708\", \"11\\u6708\", \"12\\u6708\"], \"y\": [875.0, 595.0, 109.0, 31.0, 562.0, 377.0, 646.0, 459.0], \"mode\": \"lines\", \"name\": \"O2O\\u5229\\u6da6\", \"showlegend\": true, \"legendgroup\": \"O2O\", \"yaxis\": \"y2\", \"visible\": false, \"line\": {\"shape\": \"spline\", \"color\": \"rgb(102,194,165)\"}}, {\"type\": \"scatter\", \"x\": [\"4\\u6708\", \"5\\u6708\", \"6\\u6708\", \"7\\u6708\", \"8\\u6708\", \"9\\u6708\", \"10\\u6708\", \"11\\u6708\", \"12\\u6708\"], \"y\": [97.0, 76.0, 524.0, 607.0, 428.0, 187.0, 695.0, 970.0], \"mode\": \"lines\", \"name\": \"A2A\\u5229\\u6da6\", \"showlegend\": true, \"visible\": false, \"legendgroup\": \"Cduan\", \"yaxis\": \"y2\", \"line\": {\"shape\": \"spline\", \"color\": \"rgb(252,141,98)\"}}, {\"type\": \"scatter\", \"x\": [\"4\\u6708\", \"5\\u6708\", \"6\\u6708\", \"7\\u6708\", \"8\\u6708\", \"9\\u6708\", \"10\\u6708\", \"11\\u6708\", \"12\\u6708\"], \"y\": [690.0, 934.0, 562.0, 126.0, 487.0, 129.0, 674.0, 761.0], \"mode\": \"lines\", \"name\": \"M2M\\u5229\\u6da6\", \"showlegend\": true, \"visible\": false, \"legendgroup\": \"nami\", \"yaxis\": \"y2\", \"line\": {\"shape\": \"spline\", \"color\": \"rgb(141,160,203)\"}}, {\"type\": \"bar\", \"x\": [\"4\\u6708\", \"5\\u6708\", \"6\\u6708\", \"7\\u6708\", \"8\\u6708\", \"9\\u6708\", \"10\\u6708\", \"11\\u6708\", \"12\\u6708\"], \"y\": [875.0, 595.0, 109.0, 31.0, 562.0, 377.0, 646.0, 459.0], \"name\": \"O2O\\u5229\\u6da6\", \"showlegend\": false, \"visible\": false, \"legendgroup\": \"O2O\", \"yaxis\": \"y\", \"marker\": {\"color\": \"rgb(102,194,165)\"}}, {\"type\": \"bar\", \"x\": [\"4\\u6708\", \"5\\u6708\", \"6\\u6708\", \"7\\u6708\", \"8\\u6708\", \"9\\u6708\", \"10\\u6708\", \"11\\u6708\", \"12\\u6708\"], \"y\": [97.0, 76.0, 524.0, 607.0, 428.0, 187.0, 695.0, 970.0], \"name\": \"A2A\\u5229\\u6da6\", \"showlegend\": false, \"visible\": false, \"legendgroup\": \"Cduan\", \"yaxis\": \"y\", \"marker\": {\"color\": \"rgb(252,141,98)\"}}, {\"type\": \"bar\", \"x\": [\"4\\u6708\", \"5\\u6708\", \"6\\u6708\", \"7\\u6708\", \"8\\u6708\", \"9\\u6708\", \"10\\u6708\", \"11\\u6708\", \"12\\u6708\"], \"y\": [690.0, 934.0, 562.0, 126.0, 487.0, 129.0, 674.0, 761.0], \"name\": \"M2M\\u5229\\u6da6\", \"showlegend\": false, \"visible\": false, \"legendgroup\": \"nami\", \"yaxis\": \"y\", \"marker\": {\"color\": \"rgb(141,160,203)\"}}], {\"title\": \"2018\\u5e74\\u5404\\u6708\\u6210\\u672c\", \"titlefont\": {\"size\": 20}, \"yaxis\": {\"domain\": [0, 0.25], \"title\": \"\\u91d1\\u989d\\u5bf9\\u6bd4\", \"showline\": true}, \"yaxis2\": {\"domain\": [0.4, 1], \"title\": \"\\u8d8b\\u52bf\", \"showline\": true}, \"updatemenus\": [{\"type\": \"buttons\", \"active\": 0, \"buttons\": [{\"label\": \"\\u6210\\u672c\", \"method\": \"update\", \"args\": [{\"visible\": [true, true, true, true, true, true, false, false, false, false, false, false, false, false, false, false, false, false]}, {\"title\": \"2018\\u5e74\\u5404\\u6708\\u6210\\u672c\"}]}, {\"label\": \"\\u6536\\u5165\", \"method\": \"update\", \"args\": [{\"visible\": [false, false, false, false, false, false, true, true, true, true, true, true, false, false, false, false, false, false]}, {\"title\": \"2018\\u5e74\\u5404\\u6708\\u6536\\u5165\"}]}, {\"label\": \"\\u5229\\u6da6\", \"method\": \"update\", \"args\": [{\"visible\": [false, false, false, false, false, false, false, false, false, false, false, false, true, true, true, true, true, true]}, {\"title\": \"2018\\u5e74\\u5404\\u6708\\u5229\\u6da6\"}]}], \"direction\": \"left\", \"pad\": {\"r\": 10, \"t\": 10}, \"showactive\": true, \"x\": 0, \"xanchor\": \"left\", \"y\": 1.25, \"yanchor\": \"top\"}]}, {\"showLink\": true, \"linkText\": \"Export to plot.ly\"})});</script>"
      ],
      "text/vnd.plotly.v1+html": [
       "<div id=\"fa7e8b82-273f-4113-8d8f-2438f004fe24\" style=\"height: 525px; width: 100%;\" class=\"plotly-graph-div\"></div><script type=\"text/javascript\">require([\"plotly\"], function(Plotly) { window.PLOTLYENV=window.PLOTLYENV || {};window.PLOTLYENV.BASE_URL=\"https://plot.ly\";Plotly.newPlot(\"fa7e8b82-273f-4113-8d8f-2438f004fe24\", [{\"type\": \"scatter\", \"x\": [\"4\\u6708\", \"5\\u6708\", \"6\\u6708\", \"7\\u6708\", \"8\\u6708\", \"9\\u6708\", \"10\\u6708\", \"11\\u6708\", \"12\\u6708\"], \"y\": [230.0, 837.0, 878.0, 362.0, 724.0, 223.0, 454.0, 540.0], \"mode\": \"lines\", \"name\": \"O2O\\u6210\\u672c\", \"showlegend\": true, \"legendgroup\": \"O2O\", \"yaxis\": \"y2\", \"line\": {\"shape\": \"spline\", \"color\": \"rgb(102,194,165)\"}}, {\"type\": \"scatter\", \"x\": [\"4\\u6708\", \"5\\u6708\", \"6\\u6708\", \"7\\u6708\", \"8\\u6708\", \"9\\u6708\", \"10\\u6708\", \"11\\u6708\", \"12\\u6708\"], \"y\": [862.0, 197.0, 876.0, 557.0, 381.0, 736.0, 794.0, 620.0], \"mode\": \"lines\", \"name\": \"A2A\\u6210\\u672c\", \"showlegend\": true, \"legendgroup\": \"Cduan\", \"yaxis\": \"y2\", \"line\": {\"shape\": \"spline\", \"color\": \"rgb(252,141,98)\"}}, {\"type\": \"scatter\", \"x\": [\"4\\u6708\", \"5\\u6708\", \"6\\u6708\", \"7\\u6708\", \"8\\u6708\", \"9\\u6708\", \"10\\u6708\", \"11\\u6708\", \"12\\u6708\"], \"y\": [864.0, 249.0, 117.0, 520.0, 544.0, 561.0, 740.0, 261.0], \"mode\": \"lines\", \"name\": \"M2M\\u6210\\u672c\", \"showlegend\": true, \"legendgroup\": \"nami\", \"yaxis\": \"y2\", \"line\": {\"shape\": \"spline\", \"color\": \"rgb(141,160,203)\"}}, {\"type\": \"bar\", \"x\": [\"4\\u6708\", \"5\\u6708\", \"6\\u6708\", \"7\\u6708\", \"8\\u6708\", \"9\\u6708\", \"10\\u6708\", \"11\\u6708\", \"12\\u6708\"], \"y\": [230.0, 837.0, 878.0, 362.0, 724.0, 223.0, 454.0, 540.0], \"name\": \"O2O\\u6210\\u672c\", \"showlegend\": false, \"legendgroup\": \"O2O\", \"yaxis\": \"y\", \"marker\": {\"color\": \"rgb(102,194,165)\"}}, {\"type\": \"bar\", \"x\": [\"4\\u6708\", \"5\\u6708\", \"6\\u6708\", \"7\\u6708\", \"8\\u6708\", \"9\\u6708\", \"10\\u6708\", \"11\\u6708\", \"12\\u6708\"], \"y\": [862.0, 197.0, 876.0, 557.0, 381.0, 736.0, 794.0, 620.0], \"name\": \"A2A\\u6210\\u672c\", \"showlegend\": false, \"legendgroup\": \"Cduan\", \"yaxis\": \"y\", \"marker\": {\"color\": \"rgb(252,141,98)\"}}, {\"type\": \"bar\", \"x\": [\"4\\u6708\", \"5\\u6708\", \"6\\u6708\", \"7\\u6708\", \"8\\u6708\", \"9\\u6708\", \"10\\u6708\", \"11\\u6708\", \"12\\u6708\"], \"y\": [864.0, 249.0, 117.0, 520.0, 544.0, 561.0, 740.0, 261.0], \"name\": \"M2M\\u6210\\u672c\", \"showlegend\": false, \"legendgroup\": \"nami\", \"yaxis\": \"y\", \"marker\": {\"color\": \"rgb(141,160,203)\"}}, {\"type\": \"scatter\", \"x\": [\"4\\u6708\", \"5\\u6708\", \"6\\u6708\", \"7\\u6708\", \"8\\u6708\", \"9\\u6708\", \"10\\u6708\", \"11\\u6708\", \"12\\u6708\"], \"y\": [302.0, 540.0, 946.0, 803.0, 140.0, 815.0, 702.0, 491.0], \"mode\": \"lines\", \"name\": \"O2O\\u6536\\u5165\", \"showlegend\": true, \"legendgroup\": \"O2O\", \"yaxis\": \"y2\", \"visible\": false, \"line\": {\"shape\": \"spline\", \"color\": \"rgb(102,194,165)\"}}, {\"type\": \"scatter\", \"x\": [\"4\\u6708\", \"5\\u6708\", \"6\\u6708\", \"7\\u6708\", \"8\\u6708\", \"9\\u6708\", \"10\\u6708\", \"11\\u6708\", \"12\\u6708\"], \"y\": [460.0, 708.0, 934.0, 869.0, 232.0, 949.0, 467.0, 709.0], \"mode\": \"lines\", \"name\": \"A2A\\u6536\\u5165\", \"showlegend\": true, \"visible\": false, \"legendgroup\": \"Cduan\", \"yaxis\": \"y2\", \"line\": {\"shape\": \"spline\", \"color\": \"rgb(252,141,98)\"}}, {\"type\": \"scatter\", \"x\": [\"4\\u6708\", \"5\\u6708\", \"6\\u6708\", \"7\\u6708\", \"8\\u6708\", \"9\\u6708\", \"10\\u6708\", \"11\\u6708\", \"12\\u6708\"], \"y\": [850.0, 522.0, 87.0, 45.0, 183.0, 716.0, 96.0, 397.0], \"mode\": \"lines\", \"name\": \"M2M\\u6536\\u5165\", \"showlegend\": true, \"visible\": false, \"legendgroup\": \"nami\", \"yaxis\": \"y2\", \"line\": {\"shape\": \"spline\", \"color\": \"rgb(141,160,203)\"}}, {\"type\": \"bar\", \"x\": [\"4\\u6708\", \"5\\u6708\", \"6\\u6708\", \"7\\u6708\", \"8\\u6708\", \"9\\u6708\", \"10\\u6708\", \"11\\u6708\", \"12\\u6708\"], \"y\": [302.0, 540.0, 946.0, 803.0, 140.0, 815.0, 702.0, 491.0], \"name\": \"O2O\\u6536\\u5165\", \"showlegend\": false, \"visible\": false, \"legendgroup\": \"O2O\", \"yaxis\": \"y\", \"marker\": {\"color\": \"rgb(102,194,165)\"}}, {\"type\": \"bar\", \"x\": [\"4\\u6708\", \"5\\u6708\", \"6\\u6708\", \"7\\u6708\", \"8\\u6708\", \"9\\u6708\", \"10\\u6708\", \"11\\u6708\", \"12\\u6708\"], \"y\": [460.0, 708.0, 934.0, 869.0, 232.0, 949.0, 467.0, 709.0], \"name\": \"A2A\\u6536\\u5165\", \"showlegend\": false, \"visible\": false, \"legendgroup\": \"Cduan\", \"yaxis\": \"y\", \"marker\": {\"color\": \"rgb(252,141,98)\"}}, {\"type\": \"bar\", \"x\": [\"4\\u6708\", \"5\\u6708\", \"6\\u6708\", \"7\\u6708\", \"8\\u6708\", \"9\\u6708\", \"10\\u6708\", \"11\\u6708\", \"12\\u6708\"], \"y\": [850.0, 522.0, 87.0, 45.0, 183.0, 716.0, 96.0, 397.0], \"name\": \"M2M\\u6536\\u5165\", \"showlegend\": false, \"visible\": false, \"legendgroup\": \"nami\", \"yaxis\": \"y\", \"marker\": {\"color\": \"rgb(141,160,203)\"}}, {\"type\": \"scatter\", \"x\": [\"4\\u6708\", \"5\\u6708\", \"6\\u6708\", \"7\\u6708\", \"8\\u6708\", \"9\\u6708\", \"10\\u6708\", \"11\\u6708\", \"12\\u6708\"], \"y\": [875.0, 595.0, 109.0, 31.0, 562.0, 377.0, 646.0, 459.0], \"mode\": \"lines\", \"name\": \"O2O\\u5229\\u6da6\", \"showlegend\": true, \"legendgroup\": \"O2O\", \"yaxis\": \"y2\", \"visible\": false, \"line\": {\"shape\": \"spline\", \"color\": \"rgb(102,194,165)\"}}, {\"type\": \"scatter\", \"x\": [\"4\\u6708\", \"5\\u6708\", \"6\\u6708\", \"7\\u6708\", \"8\\u6708\", \"9\\u6708\", \"10\\u6708\", \"11\\u6708\", \"12\\u6708\"], \"y\": [97.0, 76.0, 524.0, 607.0, 428.0, 187.0, 695.0, 970.0], \"mode\": \"lines\", \"name\": \"A2A\\u5229\\u6da6\", \"showlegend\": true, \"visible\": false, \"legendgroup\": \"Cduan\", \"yaxis\": \"y2\", \"line\": {\"shape\": \"spline\", \"color\": \"rgb(252,141,98)\"}}, {\"type\": \"scatter\", \"x\": [\"4\\u6708\", \"5\\u6708\", \"6\\u6708\", \"7\\u6708\", \"8\\u6708\", \"9\\u6708\", \"10\\u6708\", \"11\\u6708\", \"12\\u6708\"], \"y\": [690.0, 934.0, 562.0, 126.0, 487.0, 129.0, 674.0, 761.0], \"mode\": \"lines\", \"name\": \"M2M\\u5229\\u6da6\", \"showlegend\": true, \"visible\": false, \"legendgroup\": \"nami\", \"yaxis\": \"y2\", \"line\": {\"shape\": \"spline\", \"color\": \"rgb(141,160,203)\"}}, {\"type\": \"bar\", \"x\": [\"4\\u6708\", \"5\\u6708\", \"6\\u6708\", \"7\\u6708\", \"8\\u6708\", \"9\\u6708\", \"10\\u6708\", \"11\\u6708\", \"12\\u6708\"], \"y\": [875.0, 595.0, 109.0, 31.0, 562.0, 377.0, 646.0, 459.0], \"name\": \"O2O\\u5229\\u6da6\", \"showlegend\": false, \"visible\": false, \"legendgroup\": \"O2O\", \"yaxis\": \"y\", \"marker\": {\"color\": \"rgb(102,194,165)\"}}, {\"type\": \"bar\", \"x\": [\"4\\u6708\", \"5\\u6708\", \"6\\u6708\", \"7\\u6708\", \"8\\u6708\", \"9\\u6708\", \"10\\u6708\", \"11\\u6708\", \"12\\u6708\"], \"y\": [97.0, 76.0, 524.0, 607.0, 428.0, 187.0, 695.0, 970.0], \"name\": \"A2A\\u5229\\u6da6\", \"showlegend\": false, \"visible\": false, \"legendgroup\": \"Cduan\", \"yaxis\": \"y\", \"marker\": {\"color\": \"rgb(252,141,98)\"}}, {\"type\": \"bar\", \"x\": [\"4\\u6708\", \"5\\u6708\", \"6\\u6708\", \"7\\u6708\", \"8\\u6708\", \"9\\u6708\", \"10\\u6708\", \"11\\u6708\", \"12\\u6708\"], \"y\": [690.0, 934.0, 562.0, 126.0, 487.0, 129.0, 674.0, 761.0], \"name\": \"M2M\\u5229\\u6da6\", \"showlegend\": false, \"visible\": false, \"legendgroup\": \"nami\", \"yaxis\": \"y\", \"marker\": {\"color\": \"rgb(141,160,203)\"}}], {\"title\": \"2018\\u5e74\\u5404\\u6708\\u6210\\u672c\", \"titlefont\": {\"size\": 20}, \"yaxis\": {\"domain\": [0, 0.25], \"title\": \"\\u91d1\\u989d\\u5bf9\\u6bd4\", \"showline\": true}, \"yaxis2\": {\"domain\": [0.4, 1], \"title\": \"\\u8d8b\\u52bf\", \"showline\": true}, \"updatemenus\": [{\"type\": \"buttons\", \"active\": 0, \"buttons\": [{\"label\": \"\\u6210\\u672c\", \"method\": \"update\", \"args\": [{\"visible\": [true, true, true, true, true, true, false, false, false, false, false, false, false, false, false, false, false, false]}, {\"title\": \"2018\\u5e74\\u5404\\u6708\\u6210\\u672c\"}]}, {\"label\": \"\\u6536\\u5165\", \"method\": \"update\", \"args\": [{\"visible\": [false, false, false, false, false, false, true, true, true, true, true, true, false, false, false, false, false, false]}, {\"title\": \"2018\\u5e74\\u5404\\u6708\\u6536\\u5165\"}]}, {\"label\": \"\\u5229\\u6da6\", \"method\": \"update\", \"args\": [{\"visible\": [false, false, false, false, false, false, false, false, false, false, false, false, true, true, true, true, true, true]}, {\"title\": \"2018\\u5e74\\u5404\\u6708\\u5229\\u6da6\"}]}], \"direction\": \"left\", \"pad\": {\"r\": 10, \"t\": 10}, \"showactive\": true, \"x\": 0, \"xanchor\": \"left\", \"y\": 1.25, \"yanchor\": \"top\"}]}, {\"showLink\": true, \"linkText\": \"Export to plot.ly\"})});</script>"
      ]
     },
     "metadata": {},
     "output_type": "display_data"
    }
   ],
   "source": [
    "# 数据\n",
    "timelist = ['4月','5月','6月','7月','8月','9月','10月','11月','12月']\n",
    "cost = pd.DataFrame(np.random.rand(3,9))\n",
    "cost = cost.applymap(lambda x: round(x,3)*1000)\n",
    "profit = pd.DataFrame(np.random.rand(3,9))\n",
    "profit = profit.applymap(lambda x: round(x,3)*1000)\n",
    "income = pd.DataFrame(np.random.rand(3,9))\n",
    "income = income.applymap(lambda x: round(x,3)*1000)\n",
    "\n",
    "# 数据聚合\n",
    "O2o_cost = cost.iloc[2].tolist()\n",
    "C_cost = cost.iloc[0].tolist()\n",
    "nano_cost = cost.iloc[1].tolist()\n",
    "\n",
    "O2o_profit = profit.iloc[2].tolist()\n",
    "C_profit = profit.iloc[0].tolist()\n",
    "nano_profit = profit.iloc[1].tolist()\n",
    "\n",
    "O2o_income = income.iloc[2].tolist()\n",
    "C_income = income.iloc[0].tolist()\n",
    "nano_income = income.iloc[1].tolist()\n",
    "\n",
    "# 图表\n",
    "color = cl.scales['3']['qual']['Set2']\n",
    "\n",
    "\n",
    "traces = []\n",
    "\n",
    "traces.append(go.Scatter(\n",
    "    x=timelist,\n",
    "    y=O2o_cost[1:],\n",
    "    mode='lines',\n",
    "    name='O2O成本',\n",
    "    showlegend=True,\n",
    "    legendgroup='O2O',\n",
    "    yaxis='y2',\n",
    "#     xaxis='x2',\n",
    "    line=dict(shape='spline',color = color[0]),\n",
    "#     fill='tozeroy'\n",
    "))\n",
    "\n",
    "traces.append(go.Scatter(\n",
    "    x=timelist,\n",
    "    y=C_cost[1:],\n",
    "    mode='lines',\n",
    "    name='A2A成本',\n",
    "    showlegend=True,\n",
    "    legendgroup='Cduan',\n",
    "    yaxis='y2',\n",
    "#     xaxis='x2',\n",
    "    line=dict(shape='spline', color=color[1]),\n",
    "))\n",
    "\n",
    "\n",
    "# mode='lines',\n",
    "#     name='进入黑名单用户',\n",
    "#     yaxis='y2',\n",
    "#     line=dict(color = 'rgba(244,124,124,1)'),\n",
    "#     fill='tozeroy'\n",
    "traces.append(go.Scatter(\n",
    "    x=timelist,\n",
    "    y=nano_cost[1:],\n",
    "    mode='lines',\n",
    "    name='M2M成本',\n",
    "    showlegend=True,\n",
    "    legendgroup='nami',\n",
    "    yaxis='y2',\n",
    "#     xaxis='x2',\n",
    "    line=dict(shape='spline', color=color[2]),\n",
    "#     text=df['日期'].astype(str) + '<br>' + df['首次交易用户'].astype(str)+'人',\n",
    "#     textposition='top right',\n",
    "#     textfont=dict(color='#000000', family='Pt Sans Narrow', size=8),\n",
    "#     hoverinfo = 'name+text'\n",
    "))\n",
    "\n",
    "\n",
    "traces.append(go.Bar(\n",
    "    x=timelist,\n",
    "    y=O2o_cost[1:],\n",
    "#     mode='lines',\n",
    "    name='O2O成本',\n",
    "    showlegend=False,\n",
    "    legendgroup='O2O',\n",
    "    yaxis='y',\n",
    "#     xaxis='x'\n",
    "#     line=dict(color = 'rgba(244,124,124,1)'),\n",
    "#     fill='tozeroy'\n",
    "    marker = dict(color=color[0])\n",
    "))\n",
    "\n",
    "traces.append(go.Bar(\n",
    "    x=timelist,\n",
    "    y=C_cost[1:],\n",
    "#     mode='lines',\n",
    "    name='A2A成本',\n",
    "    showlegend=False,\n",
    "    legendgroup='Cduan', #用一个group约束所有category\n",
    "    yaxis='y',\n",
    "#     xaxis='x'\n",
    "#     line=dict(color = 'rgba(244,124,124,1)'),\n",
    "#     fill='tozeroy'\n",
    "    marker=dict(color=color[1])\n",
    "))\n",
    "\n",
    "\n",
    "traces.append(go.Bar(\n",
    "    x=timelist,\n",
    "    y=nano_cost[1:],\n",
    "#     mode='lines',\n",
    "    name='M2M成本',\n",
    "    showlegend=False,\n",
    "    legendgroup='nami',\n",
    "    yaxis='y',\n",
    "#     xaxis='x'\n",
    "#     line=dict(color = 'rgba(244,124,124,1)'),\n",
    "#     fill='tozeroy',\n",
    "    marker=dict(color=color[2])\n",
    "))\n",
    "#######################################################\n",
    "traces.append(go.Scatter(\n",
    "    x=timelist,\n",
    "    y=O2o_income[1:],\n",
    "    mode='lines',\n",
    "    name='O2O收入',\n",
    "    showlegend=True,\n",
    "    legendgroup='O2O',\n",
    "    yaxis='y2',\n",
    "    visible=False,\n",
    "#     xaxis='x2',\n",
    "    line=dict(shape='spline',color = color[0]),\n",
    "#     fill='tozeroy'\n",
    "))\n",
    "\n",
    "traces.append(go.Scatter(\n",
    "    x=timelist,\n",
    "    y=C_income[1:],\n",
    "    mode='lines',\n",
    "    name='A2A收入',\n",
    "    showlegend=True,\n",
    "    visible=False,\n",
    "    legendgroup='Cduan',\n",
    "    yaxis='y2',\n",
    "#     xaxis='x2',\n",
    "    line=dict(shape='spline', color=color[1]),\n",
    "))\n",
    "\n",
    "\n",
    "# mode='lines',\n",
    "#     name='进入黑名单用户',\n",
    "#     yaxis='y2',\n",
    "#     line=dict(color = 'rgba(244,124,124,1)'),\n",
    "#     fill='tozeroy'\n",
    "traces.append(go.Scatter(\n",
    "    x=timelist,\n",
    "    y=nano_income[1:],\n",
    "    mode='lines',\n",
    "    name='M2M收入',\n",
    "    showlegend=True,\n",
    "    visible=False,\n",
    "    legendgroup='nami',\n",
    "    yaxis='y2',\n",
    "#     xaxis='x2',\n",
    "    line=dict(shape='spline', color=color[2]),\n",
    "#     text=df['日期'].astype(str) + '<br>' + df['首次交易用户'].astype(str)+'人',\n",
    "#     textposition='top right',\n",
    "#     textfont=dict(color='#000000', family='Pt Sans Narrow', size=8),\n",
    "#     hoverinfo = 'name+text'\n",
    "))\n",
    "\n",
    "\n",
    "traces.append(go.Bar(\n",
    "    x=timelist,\n",
    "    y=O2o_income[1:],\n",
    "#     mode='lines',\n",
    "    name='O2O收入',\n",
    "    showlegend=False,\n",
    "    visible=False,\n",
    "    legendgroup='O2O',\n",
    "    yaxis='y',\n",
    "#     xaxis='x'\n",
    "#     line=dict(color = 'rgba(244,124,124,1)'),\n",
    "#     fill='tozeroy'\n",
    "    marker = dict(color=color[0])\n",
    "))\n",
    "\n",
    "traces.append(go.Bar(\n",
    "    x=timelist,\n",
    "    y=C_income[1:],\n",
    "#     mode='lines',\n",
    "    name='A2A收入',\n",
    "    showlegend=False,\n",
    "    visible=False,\n",
    "    legendgroup='Cduan', #用一个group约束所有category\n",
    "    yaxis='y',\n",
    "#     xaxis='x'\n",
    "#     line=dict(color = 'rgba(244,124,124,1)'),\n",
    "#     fill='tozeroy'\n",
    "    marker=dict(color=color[1])\n",
    "))\n",
    "\n",
    "\n",
    "traces.append(go.Bar(\n",
    "    x=timelist,\n",
    "    y=nano_income[1:],\n",
    "#     mode='lines',\n",
    "    name='M2M收入',\n",
    "    showlegend=False,\n",
    "    visible=False,\n",
    "    legendgroup='nami',\n",
    "    yaxis='y',\n",
    "#     xaxis='x'\n",
    "#     line=dict(color = 'rgba(244,124,124,1)'),\n",
    "#     fill='tozeroy',\n",
    "    marker=dict(color=color[2])\n",
    "))\n",
    "\n",
    "###########################################################\n",
    "traces.append(go.Scatter(\n",
    "    x=timelist,\n",
    "    y=O2o_profit[1:],\n",
    "    mode='lines',\n",
    "    name='O2O利润',\n",
    "    showlegend=True,\n",
    "    legendgroup='O2O',\n",
    "    yaxis='y2',\n",
    "    visible=False,\n",
    "#     xaxis='x2',\n",
    "    line=dict(shape='spline',color = color[0]),\n",
    "#     fill='tozeroy'\n",
    "))\n",
    "\n",
    "traces.append(go.Scatter(\n",
    "    x=timelist,\n",
    "    y=C_profit[1:],\n",
    "    mode='lines',\n",
    "    name='A2A利润',\n",
    "    showlegend=True,\n",
    "    visible=False,\n",
    "    legendgroup='Cduan',\n",
    "    yaxis='y2',\n",
    "#     xaxis='x2',\n",
    "    line=dict(shape='spline', color=color[1]),\n",
    "))\n",
    "\n",
    "\n",
    "# mode='lines',\n",
    "#     name='进入黑名单用户',\n",
    "#     yaxis='y2',\n",
    "#     line=dict(color = 'rgba(244,124,124,1)'),\n",
    "#     fill='tozeroy'\n",
    "traces.append(go.Scatter(\n",
    "    x=timelist,\n",
    "    y=nano_profit[1:],\n",
    "    mode='lines',\n",
    "    name='M2M利润',\n",
    "    showlegend=True,\n",
    "    visible=False,\n",
    "    legendgroup='nami',\n",
    "    yaxis='y2',\n",
    "#     xaxis='x2',\n",
    "    line=dict(shape='spline', color=color[2]),\n",
    "#     text=df['日期'].astype(str) + '<br>' + df['首次交易用户'].astype(str)+'人',\n",
    "#     textposition='top right',\n",
    "#     textfont=dict(color='#000000', family='Pt Sans Narrow', size=8),\n",
    "#     hoverinfo = 'name+text'\n",
    "))\n",
    "\n",
    "\n",
    "traces.append(go.Bar(\n",
    "    x=timelist,\n",
    "    y=O2o_profit[1:],\n",
    "#     mode='lines',\n",
    "    name='O2O利润',\n",
    "    showlegend=False,\n",
    "    visible=False,\n",
    "    legendgroup='O2O',\n",
    "    yaxis='y',\n",
    "#     xaxis='x'\n",
    "#     line=dict(color = 'rgba(244,124,124,1)'),\n",
    "#     fill='tozeroy'\n",
    "    marker = dict(color=color[0])\n",
    "))\n",
    "\n",
    "traces.append(go.Bar(\n",
    "    x=timelist,\n",
    "    y=C_profit[1:],\n",
    "#     mode='lines',\n",
    "    name='A2A利润',\n",
    "    showlegend=False,\n",
    "    visible=False,\n",
    "    legendgroup='Cduan', #用一个group约束所有category\n",
    "    yaxis='y',\n",
    "#     xaxis='x'\n",
    "#     line=dict(color = 'rgba(244,124,124,1)'),\n",
    "#     fill='tozeroy'\n",
    "    marker=dict(color=color[1])\n",
    "))\n",
    "\n",
    "\n",
    "traces.append(go.Bar(\n",
    "    x=timelist,\n",
    "    y=nano_profit[1:],\n",
    "#     mode='lines',\n",
    "    name='M2M利润',\n",
    "    showlegend=False,\n",
    "    visible=False,\n",
    "    legendgroup='nami',\n",
    "    yaxis='y',\n",
    "#     xaxis='x'\n",
    "#     line=dict(color = 'rgba(244,124,124,1)'),\n",
    "#     fill='tozeroy',\n",
    "    marker=dict(color=color[2])\n",
    "))\n",
    "\n",
    "\n",
    "\n",
    "updatemenus = list([\n",
    "    dict(type=\"buttons\",\n",
    "         active=0,\n",
    "         buttons=list([   \n",
    "            dict(label = '成本',\n",
    "                 method = 'update',\n",
    "                 args = [{'visible': [True, True,True, True,True, True, False, False,False, False,False, False, False, False,False, False,False, False]},\n",
    "                         {'title': '2018年各月成本'}]),\n",
    "            dict(label = '收入',\n",
    "                 method = 'update',\n",
    "                 args = [{'visible': [False, False,False,False,False, False, True, True, True,True, True,True, False, False,False, False,False, False]},\n",
    "                         {'title': '2018年各月收入'}]),\n",
    "             dict(label = '利润',\n",
    "                 method = 'update',\n",
    "                 args = [{'visible': [False, False,False,False,False, False,False, False,False,False,False, False, True, True, True,True, True,True]},\n",
    "                         {'title': '2018年各月利润'}]),\n",
    "        ]),\n",
    "         direction='left',\n",
    "             pad={'r': 10, 't': 10},\n",
    "             showactive=True,\n",
    "             x=0,\n",
    "             xanchor='left',\n",
    "             y=1.25,\n",
    "             yanchor='top'\n",
    "         \n",
    "    )\n",
    "])\n",
    "\n",
    "\n",
    "\n",
    "layout = dict(\n",
    "    title='2018年各月成本',titlefont = dict(size = 20),\n",
    "#     height=600,\n",
    "#     legend=dict(orientation=\"h\", font=dict(size=10),x = 0.65,y =1.1),\n",
    "#     xaxis=dict(title='月份',domain = [2, 1],),\n",
    "#     xaxis2=dict(title='月份',domain = [0,1],),\n",
    "    yaxis=dict(domain=[0, 0.25],  title='金额对比', showline=True),\n",
    "    yaxis2=dict(domain=[0.40, 1], title='趋势', showline=True),updatemenus=updatemenus\n",
    "\n",
    ")\n",
    "\n",
    "fig = dict(data=traces,layout=layout)\n",
    "py.iplot(fig)"
   ]
  },
  {
   "cell_type": "markdown",
   "metadata": {},
   "source": [
    "## 二.建模分析"
   ]
  },
  {
   "cell_type": "markdown",
   "metadata": {},
   "source": [
    "### 1.申请评分卡"
   ]
  },
  {
   "cell_type": "markdown",
   "metadata": {},
   "source": [
    "&nbsp;&nbsp;&nbsp;&nbsp;<b>要点</b>：<br>\n",
    "      &nbsp;&nbsp;&nbsp;&nbsp;&nbsp;&nbsp;1)根据申请信息进行申请评分卡搭建，综合运用可视化图表进行展示<br>\n",
    "      &nbsp;&nbsp;&nbsp;&nbsp;&nbsp;&nbsp;2)主要展示了分箱后的<b><U><I>变量分布、模型情况和评分卡得分明细</I></U></b>等几个重要部分"
   ]
  },
  {
   "cell_type": "code",
   "execution_count": 1,
   "metadata": {
    "ExecuteTime": {
     "end_time": "2018-12-18T04:23:47.195892Z",
     "start_time": "2018-12-18T04:23:42.808808Z"
    }
   },
   "outputs": [],
   "source": [
    "import pickle\n",
    "import numpy as np\n",
    "import pandas as pd"
   ]
  },
  {
   "cell_type": "code",
   "execution_count": 3,
   "metadata": {
    "ExecuteTime": {
     "end_time": "2018-12-18T04:25:30.177648Z",
     "start_time": "2018-12-18T04:25:29.665696Z"
    }
   },
   "outputs": [],
   "source": [
    "folderOfData = '/Users/livedong/Documents/XXXX/ML实践&测试代码/Scorecard-notebook/J03申请评分卡/A_Card/'\n",
    "\n",
    "pkl_file = open(folderOfData + 'trainData1.pkl', 'rb+')\n",
    "traindata1 = pickle.load(pkl_file)\n",
    "pkl_file.close()\n",
    "\n",
    "pkl_file = open(folderOfData + 'LR_Model_Normal.pkl', 'rb+')\n",
    "LR_Model_Normal= pickle.load(pkl_file)\n",
    "pkl_file.close()\n",
    "\n",
    "pkl_file = open(folderOfData + 'testData.pkl', 'rb+')\n",
    "testData= pickle.load(pkl_file)\n",
    "pkl_file.close()\n",
    "\n",
    "pkl_file = open(folderOfData + 'testData_score.pkl', 'rb+')\n",
    "testData_score= pickle.load(pkl_file)\n",
    "pkl_file.close()"
   ]
  },
  {
   "cell_type": "code",
   "execution_count": 5,
   "metadata": {
    "ExecuteTime": {
     "end_time": "2018-12-18T04:27:38.436297Z",
     "start_time": "2018-12-18T04:27:38.277823Z"
    }
   },
   "outputs": [],
   "source": [
    "def CalcWOE1(df, col, target):\n",
    "    '''\n",
    "    :param df: 包含需要计算WOE的变量和目标变量\n",
    "    :param col: 需要计算WOE、IV的变量，必须是分箱后的变量，或者不需要分箱的类别型变量\n",
    "    :param target: 目标变量，0、1表示好、坏\n",
    "    :return: 返回WOE和IV\n",
    "    '''\n",
    "    total = df.groupby([col])[target].count()\n",
    "    total = pd.DataFrame({'total': total})\n",
    "    bad = df.groupby([col])[target].sum()\n",
    "    bad = pd.DataFrame({'bad': bad})\n",
    "    regroup = total.merge(bad, left_index=True, right_index=True, how='left')\n",
    "    regroup.reset_index(level=0, inplace=True)\n",
    "    N = sum(regroup['total'])\n",
    "    B = sum(regroup['bad'])\n",
    "    regroup['good'] = regroup['total'] - regroup['bad']\n",
    "    G = N - B\n",
    "    regroup['bad_pcnt'] = regroup['bad'].map(lambda x: x*1.0/B)\n",
    "    regroup['good_pcnt'] = regroup['good'].map(lambda x: x * 1.0 / G)\n",
    "    regroup['bad_rate'] = regroup.apply(lambda x:x.bad/x.total,axis = 1)\n",
    "    regroup['WOE'] = regroup.apply(lambda x: np.log(x.good_pcnt*1.0/x.bad_pcnt),axis = 1)    \n",
    "    WOE_dict = regroup[[col,'WOE']].set_index(col).to_dict(orient='index')\n",
    "    for k, v in WOE_dict.items():\n",
    "        WOE_dict[k] = v['WOE']\n",
    "    IV = regroup.apply(lambda x: (x.good_pcnt-x.bad_pcnt)*np.log(x.good_pcnt*1.0/x.bad_pcnt),axis = 1)\n",
    "    regroup = regroup[[i for i in regroup.columns.tolist() if i not in ['bad_pcnt','good_pcnt']]]\n",
    "    return regroup"
   ]
  },
  {
   "cell_type": "code",
   "execution_count": 6,
   "metadata": {
    "ExecuteTime": {
     "end_time": "2018-12-18T04:27:40.183832Z",
     "start_time": "2018-12-18T04:27:40.178812Z"
    }
   },
   "outputs": [],
   "source": [
    "multi_var = ['int_rate_clean_Bin',\n",
    "             'purpose_br_encoding_Bin',\n",
    "             'annual_inc_Bin',\n",
    "             'addr_state_br_encoding_Bin',\n",
    "             'zip_code_br_encoding_Bin',\n",
    "             'inq_last_6mths_Bin',\n",
    "             'mths_since_last_record_clean_Bin',\n",
    "             'limit_income_Bin',\n",
    "             'total_acc_Bin',\n",
    "             'dti_Bin']\n",
    "multi_var1 = ['int_rate','purpose_br','annual_inc','addr_state','zip_code','inq_last_6mths','mths_last_record','limit_income','total_acc','dti']"
   ]
  },
  {
   "cell_type": "markdown",
   "metadata": {},
   "source": [
    "&nbsp;&nbsp;&nbsp;&nbsp;<b>评分卡模型变量分布情况</b>：<br>"
   ]
  },
  {
   "cell_type": "code",
   "execution_count": 29,
   "metadata": {
    "ExecuteTime": {
     "end_time": "2018-12-18T10:31:35.324049Z",
     "start_time": "2018-12-18T10:31:33.369450Z"
    }
   },
   "outputs": [
    {
     "data": {
      "application/vnd.plotly.v1+json": {
       "data": [
        {
         "marker": {
          "color": "rgb(255,127,0)"
         },
         "name": "bad_rate",
         "text": [
          4260,
          2577,
          4133,
          2820,
          3667
         ],
         "type": "scatter",
         "x": [
          "Bin 0",
          "Bin 1",
          "Bin 2",
          "Bin 3",
          "Bin 4"
         ],
         "xaxis": "x3",
         "y": [
          0.048,
          0.086,
          0.11,
          0.139,
          0.181
         ],
         "yaxis": "y3"
        },
        {
         "cells": {
          "align": [
           "left",
           "center",
           "center",
           "center",
           "center",
           "center"
          ],
          "fill": {
           "color": [
            "rgb(64,70,114)",
            [
             "rgb(245, 245, 245)",
             "rgb(245, 245, 245)",
             "rgb(255, 255, 255)",
             "rgb(255, 255, 255)",
             "rgb(245, 245, 245)",
             "rgb(245, 245, 245)"
            ]
           ]
          },
          "font": {
           "color": [
            "white",
            "#506784",
            "#506784",
            "#506784"
           ],
           "size": 12
          },
          "height": 50,
          "line": {
           "color": "rgba(80,103,132,0.2)",
           "width": 1
          },
          "values": [
           [
            "Bin 0",
            "Bin 1",
            "Bin 2",
            "Bin 3",
            "Bin 4"
           ],
           [
            4260,
            2577,
            4133,
            2820,
            3667
           ],
           [
            205,
            221,
            456,
            392,
            664
           ],
           [
            4055,
            2356,
            3677,
            2428,
            3003
           ],
           [
            0.048,
            0.086,
            0.11,
            0.139,
            0.181
           ],
           [
            0.904,
            0.286,
            0.007,
            -0.257,
            -0.571
           ]
          ]
         },
         "columnwidth": [
          1.2,
          1.2,
          1.2,
          1.2
         ],
         "domain": {
          "x": [
           0,
           0.45
          ],
          "y": [
           0,
           0.83
          ]
         },
         "header": {
          "align": [
           "center",
           "center",
           "center",
           "center",
           "center"
          ],
          "fill": {
           "color": "rgb(64,70,114)"
          },
          "font": {
           "color": "white",
           "size": 12
          },
          "height": 40,
          "line": {
           "color": "rgba(80,103,132,0.2)",
           "width": 0.5
          },
          "values": [
           "",
           "total",
           "bad",
           "good",
           "bad_rate",
           "WOE"
          ]
         },
         "type": "table"
        },
        {
         "marker": {
          "color": [
           "rgb(43,131,186)",
           "rgb(171,221,164)",
           "rgb(255,255,191)",
           "rgb(253,174,97)",
           "rgb(215,25,28)"
          ]
         },
         "name": "cnts",
         "showlegend": false,
         "text": [
          4260,
          2577,
          4133,
          2820,
          3667
         ],
         "type": "bar",
         "x": [
          "Bin 0",
          "Bin 1",
          "Bin 2",
          "Bin 3",
          "Bin 4"
         ],
         "xaxis": "x2",
         "y": [
          4260,
          2577,
          4133,
          2820,
          3667
         ],
         "yaxis": "y2"
        },
        {
         "marker": {
          "color": "rgb(255,127,0)"
         },
         "name": "bad_rate",
         "text": [
          4045,
          1841,
          10016,
          771,
          784
         ],
         "type": "scatter",
         "visible": false,
         "x": [
          "Bin 0",
          "Bin 1",
          "Bin 2",
          "Bin 3",
          "Bin 4"
         ],
         "xaxis": "x3",
         "y": [
          0.078,
          0.098,
          0.115,
          0.162,
          0.21
         ],
         "yaxis": "y3"
        },
        {
         "cells": {
          "align": [
           "left",
           "center",
           "center",
           "center",
           "center",
           "center"
          ],
          "fill": {
           "color": [
            "rgb(64,70,114)",
            [
             "rgb(245, 245, 245)",
             "rgb(245, 245, 245)",
             "rgb(255, 255, 255)",
             "rgb(255, 255, 255)",
             "rgb(245, 245, 245)",
             "rgb(245, 245, 245)"
            ]
           ]
          },
          "font": {
           "color": [
            "white",
            "#506784",
            "#506784",
            "#506784"
           ],
           "size": 12
          },
          "height": 50,
          "line": {
           "color": "rgba(80,103,132,0.2)",
           "width": 1
          },
          "values": [
           [
            "Bin 0",
            "Bin 1",
            "Bin 2",
            "Bin 3",
            "Bin 4"
           ],
           [
            4045,
            1841,
            10016,
            771,
            784
           ],
           [
            316,
            181,
            1151,
            125,
            165
           ],
           [
            3729,
            1660,
            8865,
            646,
            619
           ],
           [
            0.078,
            0.098,
            0.115,
            0.162,
            0.21
           ],
           [
            0.388,
            0.136,
            -0.039,
            -0.438,
            -0.758
           ]
          ]
         },
         "columnwidth": [
          1.2,
          1.2,
          1.2,
          1.2
         ],
         "domain": {
          "x": [
           0,
           0.45
          ],
          "y": [
           0,
           0.83
          ]
         },
         "header": {
          "align": [
           "center",
           "center",
           "center",
           "center",
           "center"
          ],
          "fill": {
           "color": "rgb(64,70,114)"
          },
          "font": {
           "color": "white",
           "size": 12
          },
          "height": 40,
          "line": {
           "color": "rgba(80,103,132,0.2)",
           "width": 0.5
          },
          "values": [
           "",
           "total",
           "bad",
           "good",
           "bad_rate",
           "WOE"
          ]
         },
         "type": "table",
         "visible": false
        },
        {
         "marker": {
          "color": [
           "rgb(43,131,186)",
           "rgb(171,221,164)",
           "rgb(255,255,191)",
           "rgb(253,174,97)",
           "rgb(215,25,28)"
          ]
         },
         "name": "cnts",
         "showlegend": false,
         "text": [
          4045,
          1841,
          10016,
          771,
          784
         ],
         "type": "bar",
         "visible": false,
         "x": [
          "Bin 0",
          "Bin 1",
          "Bin 2",
          "Bin 3",
          "Bin 4"
         ],
         "xaxis": "x2",
         "y": [
          4045,
          1841,
          10016,
          771,
          784
         ],
         "yaxis": "y2"
        },
        {
         "marker": {
          "color": "rgb(255,127,0)"
         },
         "name": "bad_rate",
         "text": [
          716,
          3113,
          4327,
          2665,
          6636
         ],
         "type": "scatter",
         "visible": false,
         "x": [
          "Bin 0",
          "Bin 1",
          "Bin 2",
          "Bin 3",
          "Bin 4"
         ],
         "xaxis": "x3",
         "y": [
          0.179,
          0.15,
          0.116,
          0.106,
          0.084
         ],
         "yaxis": "y3"
        },
        {
         "cells": {
          "align": [
           "left",
           "center",
           "center",
           "center",
           "center",
           "center"
          ],
          "fill": {
           "color": [
            "rgb(64,70,114)",
            [
             "rgb(245, 245, 245)",
             "rgb(245, 245, 245)",
             "rgb(255, 255, 255)",
             "rgb(255, 255, 255)",
             "rgb(245, 245, 245)",
             "rgb(245, 245, 245)"
            ]
           ]
          },
          "font": {
           "color": [
            "white",
            "#506784",
            "#506784",
            "#506784"
           ],
           "size": 12
          },
          "height": 50,
          "line": {
           "color": "rgba(80,103,132,0.2)",
           "width": 1
          },
          "values": [
           [
            "Bin 0",
            "Bin 1",
            "Bin 2",
            "Bin 3",
            "Bin 4"
           ],
           [
            716,
            3113,
            4327,
            2665,
            6636
           ],
           [
            128,
            466,
            501,
            283,
            560
           ],
           [
            588,
            2647,
            3826,
            2382,
            6076
           ],
           [
            0.179,
            0.15,
            0.116,
            0.106,
            0.084
           ],
           [
            -0.556,
            -0.343,
            -0.047,
            0.05,
            0.304
           ]
          ]
         },
         "columnwidth": [
          1.2,
          1.2,
          1.2,
          1.2
         ],
         "domain": {
          "x": [
           0,
           0.45
          ],
          "y": [
           0,
           0.83
          ]
         },
         "header": {
          "align": [
           "center",
           "center",
           "center",
           "center",
           "center"
          ],
          "fill": {
           "color": "rgb(64,70,114)"
          },
          "font": {
           "color": "white",
           "size": 12
          },
          "height": 40,
          "line": {
           "color": "rgba(80,103,132,0.2)",
           "width": 0.5
          },
          "values": [
           "",
           "total",
           "bad",
           "good",
           "bad_rate",
           "WOE"
          ]
         },
         "type": "table",
         "visible": false
        },
        {
         "marker": {
          "color": [
           "rgb(43,131,186)",
           "rgb(171,221,164)",
           "rgb(255,255,191)",
           "rgb(253,174,97)",
           "rgb(215,25,28)"
          ]
         },
         "name": "cnts",
         "showlegend": false,
         "text": [
          716,
          3113,
          4327,
          2665,
          6636
         ],
         "type": "bar",
         "visible": false,
         "x": [
          "Bin 0",
          "Bin 1",
          "Bin 2",
          "Bin 3",
          "Bin 4"
         ],
         "xaxis": "x2",
         "y": [
          716,
          3113,
          4327,
          2665,
          6636
         ],
         "yaxis": "y2"
        },
        {
         "marker": {
          "color": "rgb(255,127,0)"
         },
         "name": "bad_rate",
         "text": [
          1447,
          7689,
          6065,
          2251,
          5
         ],
         "type": "scatter",
         "visible": false,
         "x": [
          "Bin 0",
          "Bin 1",
          "Bin 2",
          "Bin 3",
          "Bin 4"
         ],
         "xaxis": "x3",
         "y": [
          0.069,
          0.097,
          0.125,
          0.148,
          0.6
         ],
         "yaxis": "y3"
        },
        {
         "cells": {
          "align": [
           "left",
           "center",
           "center",
           "center",
           "center",
           "center"
          ],
          "fill": {
           "color": [
            "rgb(64,70,114)",
            [
             "rgb(245, 245, 245)",
             "rgb(245, 245, 245)",
             "rgb(255, 255, 255)",
             "rgb(255, 255, 255)",
             "rgb(245, 245, 245)",
             "rgb(245, 245, 245)"
            ]
           ]
          },
          "font": {
           "color": [
            "white",
            "#506784",
            "#506784",
            "#506784"
           ],
           "size": 12
          },
          "height": 50,
          "line": {
           "color": "rgba(80,103,132,0.2)",
           "width": 1
          },
          "values": [
           [
            "Bin 0",
            "Bin 1",
            "Bin 2",
            "Bin 3",
            "Bin 4"
           ],
           [
            1447,
            7689,
            6065,
            2251,
            5
           ],
           [
            100,
            744,
            758,
            333,
            3
           ],
           [
            1347,
            6945,
            5307,
            1918,
            2
           ],
           [
            0.069,
            0.097,
            0.125,
            0.148,
            0.6
           ],
           [
            0.52,
            0.153,
            -0.134,
            -0.33,
            -2.486
           ]
          ]
         },
         "columnwidth": [
          1.2,
          1.2,
          1.2,
          1.2
         ],
         "domain": {
          "x": [
           0,
           0.45
          ],
          "y": [
           0,
           0.83
          ]
         },
         "header": {
          "align": [
           "center",
           "center",
           "center",
           "center",
           "center"
          ],
          "fill": {
           "color": "rgb(64,70,114)"
          },
          "font": {
           "color": "white",
           "size": 12
          },
          "height": 40,
          "line": {
           "color": "rgba(80,103,132,0.2)",
           "width": 0.5
          },
          "values": [
           "",
           "total",
           "bad",
           "good",
           "bad_rate",
           "WOE"
          ]
         },
         "type": "table",
         "visible": false
        },
        {
         "marker": {
          "color": [
           "rgb(43,131,186)",
           "rgb(171,221,164)",
           "rgb(255,255,191)",
           "rgb(253,174,97)",
           "rgb(215,25,28)"
          ]
         },
         "name": "cnts",
         "showlegend": false,
         "text": [
          1447,
          7689,
          6065,
          2251,
          5
         ],
         "type": "bar",
         "visible": false,
         "x": [
          "Bin 0",
          "Bin 1",
          "Bin 2",
          "Bin 3",
          "Bin 4"
         ],
         "xaxis": "x2",
         "y": [
          1447,
          7689,
          6065,
          2251,
          5
         ],
         "yaxis": "y2"
        },
        {
         "marker": {
          "color": "rgb(255,127,0)"
         },
         "name": "bad_rate",
         "text": [
          7452,
          7042,
          2739,
          224
         ],
         "type": "scatter",
         "visible": false,
         "x": [
          "Bin 0",
          "Bin 1",
          "Bin 2",
          "Bin 3"
         ],
         "xaxis": "x3",
         "y": [
          0.054,
          0.124,
          0.205,
          0.438
         ],
         "yaxis": "y3"
        },
        {
         "cells": {
          "align": [
           "left",
           "center",
           "center",
           "center",
           "center",
           "center"
          ],
          "fill": {
           "color": [
            "rgb(64,70,114)",
            [
             "rgb(245, 245, 245)",
             "rgb(245, 245, 245)",
             "rgb(255, 255, 255)",
             "rgb(255, 255, 255)",
             "rgb(245, 245, 245)",
             "rgb(245, 245, 245)"
            ]
           ]
          },
          "font": {
           "color": [
            "white",
            "#506784",
            "#506784",
            "#506784"
           ],
           "size": 12
          },
          "height": 50,
          "line": {
           "color": "rgba(80,103,132,0.2)",
           "width": 1
          },
          "values": [
           [
            "Bin 0",
            "Bin 1",
            "Bin 2",
            "Bin 3"
           ],
           [
            7452,
            7042,
            2739,
            224
           ],
           [
            406,
            872,
            562,
            98
           ],
           [
            7046,
            6170,
            2177,
            126
           ],
           [
            0.054,
            0.124,
            0.205,
            0.438
           ],
           [
            0.773,
            -0.124,
            -0.726,
            -1.829
           ]
          ]
         },
         "columnwidth": [
          1.2,
          1.2,
          1.2,
          1.2
         ],
         "domain": {
          "x": [
           0,
           0.45
          ],
          "y": [
           0,
           0.83
          ]
         },
         "header": {
          "align": [
           "center",
           "center",
           "center",
           "center",
           "center"
          ],
          "fill": {
           "color": "rgb(64,70,114)"
          },
          "font": {
           "color": "white",
           "size": 12
          },
          "height": 40,
          "line": {
           "color": "rgba(80,103,132,0.2)",
           "width": 0.5
          },
          "values": [
           "",
           "total",
           "bad",
           "good",
           "bad_rate",
           "WOE"
          ]
         },
         "type": "table",
         "visible": false
        },
        {
         "marker": {
          "color": [
           "rgb(43,131,186)",
           "rgb(171,221,164)",
           "rgb(255,255,191)",
           "rgb(253,174,97)",
           "rgb(215,25,28)"
          ]
         },
         "name": "cnts",
         "showlegend": false,
         "text": [
          7452,
          7042,
          2739,
          224
         ],
         "type": "bar",
         "visible": false,
         "x": [
          "Bin 0",
          "Bin 1",
          "Bin 2",
          "Bin 3"
         ],
         "xaxis": "x2",
         "y": [
          7452,
          7042,
          2739,
          224
         ],
         "yaxis": "y2"
        },
        {
         "marker": {
          "color": "rgb(255,127,0)"
         },
         "name": "bad_rate",
         "text": [
          8684,
          7202,
          1567,
          4
         ],
         "type": "scatter",
         "visible": false,
         "x": [
          "Bin 0",
          "Bin 1",
          "Bin 2",
          "Bin 3"
         ],
         "xaxis": "x3",
         "y": [
          0.089,
          0.124,
          0.168,
          0.5
         ],
         "yaxis": "y3"
        },
        {
         "cells": {
          "align": [
           "left",
           "center",
           "center",
           "center",
           "center",
           "center"
          ],
          "fill": {
           "color": [
            "rgb(64,70,114)",
            [
             "rgb(245, 245, 245)",
             "rgb(245, 245, 245)",
             "rgb(255, 255, 255)",
             "rgb(255, 255, 255)",
             "rgb(245, 245, 245)",
             "rgb(245, 245, 245)"
            ]
           ]
          },
          "font": {
           "color": [
            "white",
            "#506784",
            "#506784",
            "#506784"
           ],
           "size": 12
          },
          "height": 50,
          "line": {
           "color": "rgba(80,103,132,0.2)",
           "width": 1
          },
          "values": [
           [
            "Bin 0",
            "Bin 1",
            "Bin 2",
            "Bin 3"
           ],
           [
            8684,
            7202,
            1567,
            4
           ],
           [
            777,
            896,
            263,
            2
           ],
           [
            7907,
            6306,
            1304,
            2
           ],
           [
            0.089,
            0.124,
            0.168,
            0.5
           ],
           [
            0.24,
            -0.129,
            -0.479,
            -2.08
           ]
          ]
         },
         "columnwidth": [
          1.2,
          1.2,
          1.2,
          1.2
         ],
         "domain": {
          "x": [
           0,
           0.45
          ],
          "y": [
           0,
           0.83
          ]
         },
         "header": {
          "align": [
           "center",
           "center",
           "center",
           "center",
           "center"
          ],
          "fill": {
           "color": "rgb(64,70,114)"
          },
          "font": {
           "color": "white",
           "size": 12
          },
          "height": 40,
          "line": {
           "color": "rgba(80,103,132,0.2)",
           "width": 0.5
          },
          "values": [
           "",
           "total",
           "bad",
           "good",
           "bad_rate",
           "WOE"
          ]
         },
         "type": "table",
         "visible": false
        },
        {
         "marker": {
          "color": [
           "rgb(43,131,186)",
           "rgb(171,221,164)",
           "rgb(255,255,191)",
           "rgb(253,174,97)",
           "rgb(215,25,28)"
          ]
         },
         "name": "cnts",
         "showlegend": false,
         "text": [
          8684,
          7202,
          1567,
          4
         ],
         "type": "bar",
         "visible": false,
         "x": [
          "Bin 0",
          "Bin 1",
          "Bin 2",
          "Bin 3"
         ],
         "xaxis": "x2",
         "y": [
          8684,
          7202,
          1567,
          4
         ],
         "yaxis": "y2"
        },
        {
         "marker": {
          "color": "rgb(255,127,0)"
         },
         "name": "bad_rate",
         "text": [
          16158,
          603,
          696
         ],
         "type": "scatter",
         "visible": false,
         "x": [
          "Bin -1",
          "Bin 1",
          "Bin 3"
         ],
         "xaxis": "x3",
         "y": [
          0.106,
          0.199,
          0.148
         ],
         "yaxis": "y3"
        },
        {
         "cells": {
          "align": [
           "left",
           "center",
           "center",
           "center",
           "center",
           "center"
          ],
          "fill": {
           "color": [
            "rgb(64,70,114)",
            [
             "rgb(245, 245, 245)",
             "rgb(245, 245, 245)",
             "rgb(255, 255, 255)",
             "rgb(255, 255, 255)",
             "rgb(245, 245, 245)",
             "rgb(245, 245, 245)"
            ]
           ]
          },
          "font": {
           "color": [
            "white",
            "#506784",
            "#506784",
            "#506784"
           ],
           "size": 12
          },
          "height": 50,
          "line": {
           "color": "rgba(80,103,132,0.2)",
           "width": 1
          },
          "values": [
           [
            "Bin -1",
            "Bin 1",
            "Bin 3"
           ],
           [
            16158,
            603,
            696
           ],
           [
            1715,
            120,
            103
           ],
           [
            14443,
            483,
            593
           ],
           [
            0.106,
            0.199,
            0.148
           ],
           [
            0.05,
            -0.688,
            -0.33
           ]
          ]
         },
         "columnwidth": [
          1.2,
          1.2,
          1.2,
          1.2
         ],
         "domain": {
          "x": [
           0,
           0.45
          ],
          "y": [
           0,
           0.83
          ]
         },
         "header": {
          "align": [
           "center",
           "center",
           "center",
           "center",
           "center"
          ],
          "fill": {
           "color": "rgb(64,70,114)"
          },
          "font": {
           "color": "white",
           "size": 12
          },
          "height": 40,
          "line": {
           "color": "rgba(80,103,132,0.2)",
           "width": 0.5
          },
          "values": [
           "",
           "total",
           "bad",
           "good",
           "bad_rate",
           "WOE"
          ]
         },
         "type": "table",
         "visible": false
        },
        {
         "marker": {
          "color": [
           "rgb(43,131,186)",
           "rgb(171,221,164)",
           "rgb(255,255,191)",
           "rgb(253,174,97)",
           "rgb(215,25,28)"
          ]
         },
         "name": "cnts",
         "showlegend": false,
         "text": [
          16158,
          603,
          696
         ],
         "type": "bar",
         "visible": false,
         "x": [
          "Bin -1",
          "Bin 1",
          "Bin 3"
         ],
         "xaxis": "x2",
         "y": [
          16158,
          603,
          696
         ],
         "yaxis": "y2"
        },
        {
         "marker": {
          "color": "rgb(255,127,0)"
         },
         "name": "bad_rate",
         "text": [
          8005,
          6265,
          3187
         ],
         "type": "scatter",
         "visible": false,
         "x": [
          "Bin 0",
          "Bin 1",
          "Bin 2"
         ],
         "xaxis": "x3",
         "y": [
          0.099,
          0.109,
          0.146
         ],
         "yaxis": "y3"
        },
        {
         "cells": {
          "align": [
           "left",
           "center",
           "center",
           "center",
           "center",
           "center"
          ],
          "fill": {
           "color": [
            "rgb(64,70,114)",
            [
             "rgb(245, 245, 245)",
             "rgb(245, 245, 245)",
             "rgb(255, 255, 255)",
             "rgb(255, 255, 255)",
             "rgb(245, 245, 245)",
             "rgb(245, 245, 245)"
            ]
           ]
          },
          "font": {
           "color": [
            "white",
            "#506784",
            "#506784",
            "#506784"
           ],
           "size": 12
          },
          "height": 50,
          "line": {
           "color": "rgba(80,103,132,0.2)",
           "width": 1
          },
          "values": [
           [
            "Bin 0",
            "Bin 1",
            "Bin 2"
           ],
           [
            8005,
            6265,
            3187
           ],
           [
            790,
            683,
            465
           ],
           [
            7215,
            5582,
            2722
           ],
           [
            0.099,
            0.109,
            0.146
           ],
           [
            0.131,
            0.02,
            -0.313
           ]
          ]
         },
         "columnwidth": [
          1.2,
          1.2,
          1.2,
          1.2
         ],
         "domain": {
          "x": [
           0,
           0.45
          ],
          "y": [
           0,
           0.83
          ]
         },
         "header": {
          "align": [
           "center",
           "center",
           "center",
           "center",
           "center"
          ],
          "fill": {
           "color": "rgb(64,70,114)"
          },
          "font": {
           "color": "white",
           "size": 12
          },
          "height": 40,
          "line": {
           "color": "rgba(80,103,132,0.2)",
           "width": 0.5
          },
          "values": [
           "",
           "total",
           "bad",
           "good",
           "bad_rate",
           "WOE"
          ]
         },
         "type": "table",
         "visible": false
        },
        {
         "marker": {
          "color": [
           "rgb(43,131,186)",
           "rgb(171,221,164)",
           "rgb(255,255,191)",
           "rgb(253,174,97)",
           "rgb(215,25,28)"
          ]
         },
         "name": "cnts",
         "showlegend": false,
         "text": [
          8005,
          6265,
          3187
         ],
         "type": "bar",
         "visible": false,
         "x": [
          "Bin 0",
          "Bin 1",
          "Bin 2"
         ],
         "xaxis": "x2",
         "y": [
          8005,
          6265,
          3187
         ],
         "yaxis": "y2"
        },
        {
         "marker": {
          "color": "rgb(255,127,0)"
         },
         "name": "bad_rate",
         "text": [
          5304,
          12153
         ],
         "type": "scatter",
         "visible": false,
         "x": [
          "Bin 0",
          "Bin 1"
         ],
         "xaxis": "x3",
         "y": [
          0.135,
          0.1
         ],
         "yaxis": "y3"
        },
        {
         "cells": {
          "align": [
           "left",
           "center",
           "center",
           "center",
           "center",
           "center"
          ],
          "fill": {
           "color": [
            "rgb(64,70,114)",
            [
             "rgb(245, 245, 245)",
             "rgb(245, 245, 245)",
             "rgb(255, 255, 255)",
             "rgb(255, 255, 255)",
             "rgb(245, 245, 245)",
             "rgb(245, 245, 245)"
            ]
           ]
          },
          "font": {
           "color": [
            "white",
            "#506784",
            "#506784",
            "#506784"
           ],
           "size": 12
          },
          "height": 50,
          "line": {
           "color": "rgba(80,103,132,0.2)",
           "width": 1
          },
          "values": [
           [
            "Bin 0",
            "Bin 1"
           ],
           [
            5304,
            12153
           ],
           [
            717,
            1221
           ],
           [
            4587,
            10932
           ],
           [
            0.135,
            0.1
           ],
           [
            -0.225,
            0.112
           ]
          ]
         },
         "columnwidth": [
          1.2,
          1.2,
          1.2,
          1.2
         ],
         "domain": {
          "x": [
           0,
           0.45
          ],
          "y": [
           0,
           0.83
          ]
         },
         "header": {
          "align": [
           "center",
           "center",
           "center",
           "center",
           "center"
          ],
          "fill": {
           "color": "rgb(64,70,114)"
          },
          "font": {
           "color": "white",
           "size": 12
          },
          "height": 40,
          "line": {
           "color": "rgba(80,103,132,0.2)",
           "width": 0.5
          },
          "values": [
           "",
           "total",
           "bad",
           "good",
           "bad_rate",
           "WOE"
          ]
         },
         "type": "table",
         "visible": false
        },
        {
         "marker": {
          "color": [
           "rgb(43,131,186)",
           "rgb(171,221,164)",
           "rgb(255,255,191)",
           "rgb(253,174,97)",
           "rgb(215,25,28)"
          ]
         },
         "name": "cnts",
         "showlegend": false,
         "text": [
          5304,
          12153
         ],
         "type": "bar",
         "visible": false,
         "x": [
          "Bin 0",
          "Bin 1"
         ],
         "xaxis": "x2",
         "y": [
          5304,
          12153
         ],
         "yaxis": "y2"
        },
        {
         "marker": {
          "color": "rgb(255,127,0)"
         },
         "name": "bad_rate",
         "text": [
          4181,
          3306,
          2781,
          5567,
          1622
         ],
         "type": "scatter",
         "visible": false,
         "x": [
          "Bin 0",
          "Bin 1",
          "Bin 2",
          "Bin 3",
          "Bin 4"
         ],
         "xaxis": "x3",
         "y": [
          0.089,
          0.11,
          0.111,
          0.12,
          0.137
         ],
         "yaxis": "y3"
        },
        {
         "cells": {
          "align": [
           "left",
           "center",
           "center",
           "center",
           "center",
           "center"
          ],
          "fill": {
           "color": [
            "rgb(64,70,114)",
            [
             "rgb(245, 245, 245)",
             "rgb(245, 245, 245)",
             "rgb(255, 255, 255)",
             "rgb(255, 255, 255)",
             "rgb(245, 245, 245)",
             "rgb(245, 245, 245)"
            ]
           ]
          },
          "font": {
           "color": [
            "white",
            "#506784",
            "#506784",
            "#506784"
           ],
           "size": 12
          },
          "height": 50,
          "line": {
           "color": "rgba(80,103,132,0.2)",
           "width": 1
          },
          "values": [
           [
            "Bin 0",
            "Bin 1",
            "Bin 2",
            "Bin 3",
            "Bin 4"
           ],
           [
            4181,
            3306,
            2781,
            5567,
            1622
           ],
           [
            374,
            363,
            309,
            670,
            222
           ],
           [
            3807,
            2943,
            2472,
            4897,
            1400
           ],
           [
            0.089,
            0.11,
            0.111,
            0.12,
            0.137
           ],
           [
            0.24,
            0.012,
            -0.001,
            -0.091,
            -0.239
           ]
          ]
         },
         "columnwidth": [
          1.2,
          1.2,
          1.2,
          1.2
         ],
         "domain": {
          "x": [
           0,
           0.45
          ],
          "y": [
           0,
           0.83
          ]
         },
         "header": {
          "align": [
           "center",
           "center",
           "center",
           "center",
           "center"
          ],
          "fill": {
           "color": "rgb(64,70,114)"
          },
          "font": {
           "color": "white",
           "size": 12
          },
          "height": 40,
          "line": {
           "color": "rgba(80,103,132,0.2)",
           "width": 0.5
          },
          "values": [
           "",
           "total",
           "bad",
           "good",
           "bad_rate",
           "WOE"
          ]
         },
         "type": "table",
         "visible": false
        },
        {
         "marker": {
          "color": [
           "rgb(43,131,186)",
           "rgb(171,221,164)",
           "rgb(255,255,191)",
           "rgb(253,174,97)",
           "rgb(215,25,28)"
          ]
         },
         "name": "cnts",
         "showlegend": false,
         "text": [
          4181,
          3306,
          2781,
          5567,
          1622
         ],
         "type": "bar",
         "visible": false,
         "x": [
          "Bin 0",
          "Bin 1",
          "Bin 2",
          "Bin 3",
          "Bin 4"
         ],
         "xaxis": "x2",
         "y": [
          4181,
          3306,
          2781,
          5567,
          1622
         ],
         "yaxis": "y2"
        },
        {
         "marker": {
          "color": "rgb(255,127,0)"
         },
         "name": "bad_rate",
         "text": [
          4260,
          2577,
          4133,
          2820,
          3667
         ],
         "type": "scatter",
         "x": [
          "Bin 0",
          "Bin 1",
          "Bin 2",
          "Bin 3",
          "Bin 4"
         ],
         "xaxis": "x3",
         "y": [
          0.048,
          0.086,
          0.11,
          0.139,
          0.181
         ],
         "yaxis": "y3"
        },
        {
         "cells": {
          "align": [
           "left",
           "center",
           "center",
           "center",
           "center",
           "center"
          ],
          "fill": {
           "color": [
            "rgb(64,70,114)",
            [
             "rgb(245, 245, 245)",
             "rgb(245, 245, 245)",
             "rgb(255, 255, 255)",
             "rgb(255, 255, 255)",
             "rgb(245, 245, 245)",
             "rgb(245, 245, 245)"
            ]
           ]
          },
          "font": {
           "color": [
            "white",
            "#506784",
            "#506784",
            "#506784"
           ],
           "size": 12
          },
          "height": 50,
          "line": {
           "color": "rgba(80,103,132,0.2)",
           "width": 1
          },
          "values": [
           [
            "Bin 0",
            "Bin 1",
            "Bin 2",
            "Bin 3",
            "Bin 4"
           ],
           [
            4260,
            2577,
            4133,
            2820,
            3667
           ],
           [
            205,
            221,
            456,
            392,
            664
           ],
           [
            4055,
            2356,
            3677,
            2428,
            3003
           ],
           [
            0.048,
            0.086,
            0.11,
            0.139,
            0.181
           ],
           [
            0.904,
            0.286,
            0.007,
            -0.257,
            -0.571
           ]
          ]
         },
         "columnwidth": [
          1.2,
          1.2,
          1.2,
          1.2
         ],
         "domain": {
          "x": [
           0,
           0.45
          ],
          "y": [
           0,
           0.83
          ]
         },
         "header": {
          "align": [
           "center",
           "center",
           "center",
           "center",
           "center"
          ],
          "fill": {
           "color": "rgb(64,70,114)"
          },
          "font": {
           "color": "white",
           "size": 12
          },
          "height": 40,
          "line": {
           "color": "rgba(80,103,132,0.2)",
           "width": 0.5
          },
          "values": [
           "",
           "total",
           "bad",
           "good",
           "bad_rate",
           "WOE"
          ]
         },
         "type": "table"
        },
        {
         "marker": {
          "color": [
           "rgb(43,131,186)",
           "rgb(171,221,164)",
           "rgb(255,255,191)",
           "rgb(253,174,97)",
           "rgb(215,25,28)"
          ]
         },
         "name": "cnts",
         "showlegend": false,
         "text": [
          4260,
          2577,
          4133,
          2820,
          3667
         ],
         "type": "bar",
         "x": [
          "Bin 0",
          "Bin 1",
          "Bin 2",
          "Bin 3",
          "Bin 4"
         ],
         "xaxis": "x2",
         "y": [
          4260,
          2577,
          4133,
          2820,
          3667
         ],
         "yaxis": "y2"
        },
        {
         "marker": {
          "color": "rgb(255,127,0)"
         },
         "name": "bad_rate",
         "text": [
          4045,
          1841,
          10016,
          771,
          784
         ],
         "type": "scatter",
         "visible": false,
         "x": [
          "Bin 0",
          "Bin 1",
          "Bin 2",
          "Bin 3",
          "Bin 4"
         ],
         "xaxis": "x3",
         "y": [
          0.078,
          0.098,
          0.115,
          0.162,
          0.21
         ],
         "yaxis": "y3"
        },
        {
         "cells": {
          "align": [
           "left",
           "center",
           "center",
           "center",
           "center",
           "center"
          ],
          "fill": {
           "color": [
            "rgb(64,70,114)",
            [
             "rgb(245, 245, 245)",
             "rgb(245, 245, 245)",
             "rgb(255, 255, 255)",
             "rgb(255, 255, 255)",
             "rgb(245, 245, 245)",
             "rgb(245, 245, 245)"
            ]
           ]
          },
          "font": {
           "color": [
            "white",
            "#506784",
            "#506784",
            "#506784"
           ],
           "size": 12
          },
          "height": 50,
          "line": {
           "color": "rgba(80,103,132,0.2)",
           "width": 1
          },
          "values": [
           [
            "Bin 0",
            "Bin 1",
            "Bin 2",
            "Bin 3",
            "Bin 4"
           ],
           [
            4045,
            1841,
            10016,
            771,
            784
           ],
           [
            316,
            181,
            1151,
            125,
            165
           ],
           [
            3729,
            1660,
            8865,
            646,
            619
           ],
           [
            0.078,
            0.098,
            0.115,
            0.162,
            0.21
           ],
           [
            0.388,
            0.136,
            -0.039,
            -0.438,
            -0.758
           ]
          ]
         },
         "columnwidth": [
          1.2,
          1.2,
          1.2,
          1.2
         ],
         "domain": {
          "x": [
           0,
           0.45
          ],
          "y": [
           0,
           0.83
          ]
         },
         "header": {
          "align": [
           "center",
           "center",
           "center",
           "center",
           "center"
          ],
          "fill": {
           "color": "rgb(64,70,114)"
          },
          "font": {
           "color": "white",
           "size": 12
          },
          "height": 40,
          "line": {
           "color": "rgba(80,103,132,0.2)",
           "width": 0.5
          },
          "values": [
           "",
           "total",
           "bad",
           "good",
           "bad_rate",
           "WOE"
          ]
         },
         "type": "table",
         "visible": false
        },
        {
         "marker": {
          "color": [
           "rgb(43,131,186)",
           "rgb(171,221,164)",
           "rgb(255,255,191)",
           "rgb(253,174,97)",
           "rgb(215,25,28)"
          ]
         },
         "name": "cnts",
         "showlegend": false,
         "text": [
          4045,
          1841,
          10016,
          771,
          784
         ],
         "type": "bar",
         "visible": false,
         "x": [
          "Bin 0",
          "Bin 1",
          "Bin 2",
          "Bin 3",
          "Bin 4"
         ],
         "xaxis": "x2",
         "y": [
          4045,
          1841,
          10016,
          771,
          784
         ],
         "yaxis": "y2"
        },
        {
         "marker": {
          "color": "rgb(255,127,0)"
         },
         "name": "bad_rate",
         "text": [
          716,
          3113,
          4327,
          2665,
          6636
         ],
         "type": "scatter",
         "visible": false,
         "x": [
          "Bin 0",
          "Bin 1",
          "Bin 2",
          "Bin 3",
          "Bin 4"
         ],
         "xaxis": "x3",
         "y": [
          0.179,
          0.15,
          0.116,
          0.106,
          0.084
         ],
         "yaxis": "y3"
        },
        {
         "cells": {
          "align": [
           "left",
           "center",
           "center",
           "center",
           "center",
           "center"
          ],
          "fill": {
           "color": [
            "rgb(64,70,114)",
            [
             "rgb(245, 245, 245)",
             "rgb(245, 245, 245)",
             "rgb(255, 255, 255)",
             "rgb(255, 255, 255)",
             "rgb(245, 245, 245)",
             "rgb(245, 245, 245)"
            ]
           ]
          },
          "font": {
           "color": [
            "white",
            "#506784",
            "#506784",
            "#506784"
           ],
           "size": 12
          },
          "height": 50,
          "line": {
           "color": "rgba(80,103,132,0.2)",
           "width": 1
          },
          "values": [
           [
            "Bin 0",
            "Bin 1",
            "Bin 2",
            "Bin 3",
            "Bin 4"
           ],
           [
            716,
            3113,
            4327,
            2665,
            6636
           ],
           [
            128,
            466,
            501,
            283,
            560
           ],
           [
            588,
            2647,
            3826,
            2382,
            6076
           ],
           [
            0.179,
            0.15,
            0.116,
            0.106,
            0.084
           ],
           [
            -0.556,
            -0.343,
            -0.047,
            0.05,
            0.304
           ]
          ]
         },
         "columnwidth": [
          1.2,
          1.2,
          1.2,
          1.2
         ],
         "domain": {
          "x": [
           0,
           0.45
          ],
          "y": [
           0,
           0.83
          ]
         },
         "header": {
          "align": [
           "center",
           "center",
           "center",
           "center",
           "center"
          ],
          "fill": {
           "color": "rgb(64,70,114)"
          },
          "font": {
           "color": "white",
           "size": 12
          },
          "height": 40,
          "line": {
           "color": "rgba(80,103,132,0.2)",
           "width": 0.5
          },
          "values": [
           "",
           "total",
           "bad",
           "good",
           "bad_rate",
           "WOE"
          ]
         },
         "type": "table",
         "visible": false
        },
        {
         "marker": {
          "color": [
           "rgb(43,131,186)",
           "rgb(171,221,164)",
           "rgb(255,255,191)",
           "rgb(253,174,97)",
           "rgb(215,25,28)"
          ]
         },
         "name": "cnts",
         "showlegend": false,
         "text": [
          716,
          3113,
          4327,
          2665,
          6636
         ],
         "type": "bar",
         "visible": false,
         "x": [
          "Bin 0",
          "Bin 1",
          "Bin 2",
          "Bin 3",
          "Bin 4"
         ],
         "xaxis": "x2",
         "y": [
          716,
          3113,
          4327,
          2665,
          6636
         ],
         "yaxis": "y2"
        },
        {
         "marker": {
          "color": "rgb(255,127,0)"
         },
         "name": "bad_rate",
         "text": [
          1447,
          7689,
          6065,
          2251,
          5
         ],
         "type": "scatter",
         "visible": false,
         "x": [
          "Bin 0",
          "Bin 1",
          "Bin 2",
          "Bin 3",
          "Bin 4"
         ],
         "xaxis": "x3",
         "y": [
          0.069,
          0.097,
          0.125,
          0.148,
          0.6
         ],
         "yaxis": "y3"
        },
        {
         "cells": {
          "align": [
           "left",
           "center",
           "center",
           "center",
           "center",
           "center"
          ],
          "fill": {
           "color": [
            "rgb(64,70,114)",
            [
             "rgb(245, 245, 245)",
             "rgb(245, 245, 245)",
             "rgb(255, 255, 255)",
             "rgb(255, 255, 255)",
             "rgb(245, 245, 245)",
             "rgb(245, 245, 245)"
            ]
           ]
          },
          "font": {
           "color": [
            "white",
            "#506784",
            "#506784",
            "#506784"
           ],
           "size": 12
          },
          "height": 50,
          "line": {
           "color": "rgba(80,103,132,0.2)",
           "width": 1
          },
          "values": [
           [
            "Bin 0",
            "Bin 1",
            "Bin 2",
            "Bin 3",
            "Bin 4"
           ],
           [
            1447,
            7689,
            6065,
            2251,
            5
           ],
           [
            100,
            744,
            758,
            333,
            3
           ],
           [
            1347,
            6945,
            5307,
            1918,
            2
           ],
           [
            0.069,
            0.097,
            0.125,
            0.148,
            0.6
           ],
           [
            0.52,
            0.153,
            -0.134,
            -0.33,
            -2.486
           ]
          ]
         },
         "columnwidth": [
          1.2,
          1.2,
          1.2,
          1.2
         ],
         "domain": {
          "x": [
           0,
           0.45
          ],
          "y": [
           0,
           0.83
          ]
         },
         "header": {
          "align": [
           "center",
           "center",
           "center",
           "center",
           "center"
          ],
          "fill": {
           "color": "rgb(64,70,114)"
          },
          "font": {
           "color": "white",
           "size": 12
          },
          "height": 40,
          "line": {
           "color": "rgba(80,103,132,0.2)",
           "width": 0.5
          },
          "values": [
           "",
           "total",
           "bad",
           "good",
           "bad_rate",
           "WOE"
          ]
         },
         "type": "table",
         "visible": false
        },
        {
         "marker": {
          "color": [
           "rgb(43,131,186)",
           "rgb(171,221,164)",
           "rgb(255,255,191)",
           "rgb(253,174,97)",
           "rgb(215,25,28)"
          ]
         },
         "name": "cnts",
         "showlegend": false,
         "text": [
          1447,
          7689,
          6065,
          2251,
          5
         ],
         "type": "bar",
         "visible": false,
         "x": [
          "Bin 0",
          "Bin 1",
          "Bin 2",
          "Bin 3",
          "Bin 4"
         ],
         "xaxis": "x2",
         "y": [
          1447,
          7689,
          6065,
          2251,
          5
         ],
         "yaxis": "y2"
        },
        {
         "marker": {
          "color": "rgb(255,127,0)"
         },
         "name": "bad_rate",
         "text": [
          7452,
          7042,
          2739,
          224
         ],
         "type": "scatter",
         "visible": false,
         "x": [
          "Bin 0",
          "Bin 1",
          "Bin 2",
          "Bin 3"
         ],
         "xaxis": "x3",
         "y": [
          0.054,
          0.124,
          0.205,
          0.438
         ],
         "yaxis": "y3"
        },
        {
         "cells": {
          "align": [
           "left",
           "center",
           "center",
           "center",
           "center",
           "center"
          ],
          "fill": {
           "color": [
            "rgb(64,70,114)",
            [
             "rgb(245, 245, 245)",
             "rgb(245, 245, 245)",
             "rgb(255, 255, 255)",
             "rgb(255, 255, 255)",
             "rgb(245, 245, 245)",
             "rgb(245, 245, 245)"
            ]
           ]
          },
          "font": {
           "color": [
            "white",
            "#506784",
            "#506784",
            "#506784"
           ],
           "size": 12
          },
          "height": 50,
          "line": {
           "color": "rgba(80,103,132,0.2)",
           "width": 1
          },
          "values": [
           [
            "Bin 0",
            "Bin 1",
            "Bin 2",
            "Bin 3"
           ],
           [
            7452,
            7042,
            2739,
            224
           ],
           [
            406,
            872,
            562,
            98
           ],
           [
            7046,
            6170,
            2177,
            126
           ],
           [
            0.054,
            0.124,
            0.205,
            0.438
           ],
           [
            0.773,
            -0.124,
            -0.726,
            -1.829
           ]
          ]
         },
         "columnwidth": [
          1.2,
          1.2,
          1.2,
          1.2
         ],
         "domain": {
          "x": [
           0,
           0.45
          ],
          "y": [
           0,
           0.83
          ]
         },
         "header": {
          "align": [
           "center",
           "center",
           "center",
           "center",
           "center"
          ],
          "fill": {
           "color": "rgb(64,70,114)"
          },
          "font": {
           "color": "white",
           "size": 12
          },
          "height": 40,
          "line": {
           "color": "rgba(80,103,132,0.2)",
           "width": 0.5
          },
          "values": [
           "",
           "total",
           "bad",
           "good",
           "bad_rate",
           "WOE"
          ]
         },
         "type": "table",
         "visible": false
        },
        {
         "marker": {
          "color": [
           "rgb(43,131,186)",
           "rgb(171,221,164)",
           "rgb(255,255,191)",
           "rgb(253,174,97)",
           "rgb(215,25,28)"
          ]
         },
         "name": "cnts",
         "showlegend": false,
         "text": [
          7452,
          7042,
          2739,
          224
         ],
         "type": "bar",
         "visible": false,
         "x": [
          "Bin 0",
          "Bin 1",
          "Bin 2",
          "Bin 3"
         ],
         "xaxis": "x2",
         "y": [
          7452,
          7042,
          2739,
          224
         ],
         "yaxis": "y2"
        },
        {
         "marker": {
          "color": "rgb(255,127,0)"
         },
         "name": "bad_rate",
         "text": [
          8684,
          7202,
          1567,
          4
         ],
         "type": "scatter",
         "visible": false,
         "x": [
          "Bin 0",
          "Bin 1",
          "Bin 2",
          "Bin 3"
         ],
         "xaxis": "x3",
         "y": [
          0.089,
          0.124,
          0.168,
          0.5
         ],
         "yaxis": "y3"
        },
        {
         "cells": {
          "align": [
           "left",
           "center",
           "center",
           "center",
           "center",
           "center"
          ],
          "fill": {
           "color": [
            "rgb(64,70,114)",
            [
             "rgb(245, 245, 245)",
             "rgb(245, 245, 245)",
             "rgb(255, 255, 255)",
             "rgb(255, 255, 255)",
             "rgb(245, 245, 245)",
             "rgb(245, 245, 245)"
            ]
           ]
          },
          "font": {
           "color": [
            "white",
            "#506784",
            "#506784",
            "#506784"
           ],
           "size": 12
          },
          "height": 50,
          "line": {
           "color": "rgba(80,103,132,0.2)",
           "width": 1
          },
          "values": [
           [
            "Bin 0",
            "Bin 1",
            "Bin 2",
            "Bin 3"
           ],
           [
            8684,
            7202,
            1567,
            4
           ],
           [
            777,
            896,
            263,
            2
           ],
           [
            7907,
            6306,
            1304,
            2
           ],
           [
            0.089,
            0.124,
            0.168,
            0.5
           ],
           [
            0.24,
            -0.129,
            -0.479,
            -2.08
           ]
          ]
         },
         "columnwidth": [
          1.2,
          1.2,
          1.2,
          1.2
         ],
         "domain": {
          "x": [
           0,
           0.45
          ],
          "y": [
           0,
           0.83
          ]
         },
         "header": {
          "align": [
           "center",
           "center",
           "center",
           "center",
           "center"
          ],
          "fill": {
           "color": "rgb(64,70,114)"
          },
          "font": {
           "color": "white",
           "size": 12
          },
          "height": 40,
          "line": {
           "color": "rgba(80,103,132,0.2)",
           "width": 0.5
          },
          "values": [
           "",
           "total",
           "bad",
           "good",
           "bad_rate",
           "WOE"
          ]
         },
         "type": "table",
         "visible": false
        },
        {
         "marker": {
          "color": [
           "rgb(43,131,186)",
           "rgb(171,221,164)",
           "rgb(255,255,191)",
           "rgb(253,174,97)",
           "rgb(215,25,28)"
          ]
         },
         "name": "cnts",
         "showlegend": false,
         "text": [
          8684,
          7202,
          1567,
          4
         ],
         "type": "bar",
         "visible": false,
         "x": [
          "Bin 0",
          "Bin 1",
          "Bin 2",
          "Bin 3"
         ],
         "xaxis": "x2",
         "y": [
          8684,
          7202,
          1567,
          4
         ],
         "yaxis": "y2"
        },
        {
         "marker": {
          "color": "rgb(255,127,0)"
         },
         "name": "bad_rate",
         "text": [
          16158,
          603,
          696
         ],
         "type": "scatter",
         "visible": false,
         "x": [
          "Bin -1",
          "Bin 1",
          "Bin 3"
         ],
         "xaxis": "x3",
         "y": [
          0.106,
          0.199,
          0.148
         ],
         "yaxis": "y3"
        },
        {
         "cells": {
          "align": [
           "left",
           "center",
           "center",
           "center",
           "center",
           "center"
          ],
          "fill": {
           "color": [
            "rgb(64,70,114)",
            [
             "rgb(245, 245, 245)",
             "rgb(245, 245, 245)",
             "rgb(255, 255, 255)",
             "rgb(255, 255, 255)",
             "rgb(245, 245, 245)",
             "rgb(245, 245, 245)"
            ]
           ]
          },
          "font": {
           "color": [
            "white",
            "#506784",
            "#506784",
            "#506784"
           ],
           "size": 12
          },
          "height": 50,
          "line": {
           "color": "rgba(80,103,132,0.2)",
           "width": 1
          },
          "values": [
           [
            "Bin -1",
            "Bin 1",
            "Bin 3"
           ],
           [
            16158,
            603,
            696
           ],
           [
            1715,
            120,
            103
           ],
           [
            14443,
            483,
            593
           ],
           [
            0.106,
            0.199,
            0.148
           ],
           [
            0.05,
            -0.688,
            -0.33
           ]
          ]
         },
         "columnwidth": [
          1.2,
          1.2,
          1.2,
          1.2
         ],
         "domain": {
          "x": [
           0,
           0.45
          ],
          "y": [
           0,
           0.83
          ]
         },
         "header": {
          "align": [
           "center",
           "center",
           "center",
           "center",
           "center"
          ],
          "fill": {
           "color": "rgb(64,70,114)"
          },
          "font": {
           "color": "white",
           "size": 12
          },
          "height": 40,
          "line": {
           "color": "rgba(80,103,132,0.2)",
           "width": 0.5
          },
          "values": [
           "",
           "total",
           "bad",
           "good",
           "bad_rate",
           "WOE"
          ]
         },
         "type": "table",
         "visible": false
        },
        {
         "marker": {
          "color": [
           "rgb(43,131,186)",
           "rgb(171,221,164)",
           "rgb(255,255,191)",
           "rgb(253,174,97)",
           "rgb(215,25,28)"
          ]
         },
         "name": "cnts",
         "showlegend": false,
         "text": [
          16158,
          603,
          696
         ],
         "type": "bar",
         "visible": false,
         "x": [
          "Bin -1",
          "Bin 1",
          "Bin 3"
         ],
         "xaxis": "x2",
         "y": [
          16158,
          603,
          696
         ],
         "yaxis": "y2"
        },
        {
         "marker": {
          "color": "rgb(255,127,0)"
         },
         "name": "bad_rate",
         "text": [
          8005,
          6265,
          3187
         ],
         "type": "scatter",
         "visible": false,
         "x": [
          "Bin 0",
          "Bin 1",
          "Bin 2"
         ],
         "xaxis": "x3",
         "y": [
          0.099,
          0.109,
          0.146
         ],
         "yaxis": "y3"
        },
        {
         "cells": {
          "align": [
           "left",
           "center",
           "center",
           "center",
           "center",
           "center"
          ],
          "fill": {
           "color": [
            "rgb(64,70,114)",
            [
             "rgb(245, 245, 245)",
             "rgb(245, 245, 245)",
             "rgb(255, 255, 255)",
             "rgb(255, 255, 255)",
             "rgb(245, 245, 245)",
             "rgb(245, 245, 245)"
            ]
           ]
          },
          "font": {
           "color": [
            "white",
            "#506784",
            "#506784",
            "#506784"
           ],
           "size": 12
          },
          "height": 50,
          "line": {
           "color": "rgba(80,103,132,0.2)",
           "width": 1
          },
          "values": [
           [
            "Bin 0",
            "Bin 1",
            "Bin 2"
           ],
           [
            8005,
            6265,
            3187
           ],
           [
            790,
            683,
            465
           ],
           [
            7215,
            5582,
            2722
           ],
           [
            0.099,
            0.109,
            0.146
           ],
           [
            0.131,
            0.02,
            -0.313
           ]
          ]
         },
         "columnwidth": [
          1.2,
          1.2,
          1.2,
          1.2
         ],
         "domain": {
          "x": [
           0,
           0.45
          ],
          "y": [
           0,
           0.83
          ]
         },
         "header": {
          "align": [
           "center",
           "center",
           "center",
           "center",
           "center"
          ],
          "fill": {
           "color": "rgb(64,70,114)"
          },
          "font": {
           "color": "white",
           "size": 12
          },
          "height": 40,
          "line": {
           "color": "rgba(80,103,132,0.2)",
           "width": 0.5
          },
          "values": [
           "",
           "total",
           "bad",
           "good",
           "bad_rate",
           "WOE"
          ]
         },
         "type": "table",
         "visible": false
        },
        {
         "marker": {
          "color": [
           "rgb(43,131,186)",
           "rgb(171,221,164)",
           "rgb(255,255,191)",
           "rgb(253,174,97)",
           "rgb(215,25,28)"
          ]
         },
         "name": "cnts",
         "showlegend": false,
         "text": [
          8005,
          6265,
          3187
         ],
         "type": "bar",
         "visible": false,
         "x": [
          "Bin 0",
          "Bin 1",
          "Bin 2"
         ],
         "xaxis": "x2",
         "y": [
          8005,
          6265,
          3187
         ],
         "yaxis": "y2"
        },
        {
         "marker": {
          "color": "rgb(255,127,0)"
         },
         "name": "bad_rate",
         "text": [
          5304,
          12153
         ],
         "type": "scatter",
         "visible": false,
         "x": [
          "Bin 0",
          "Bin 1"
         ],
         "xaxis": "x3",
         "y": [
          0.135,
          0.1
         ],
         "yaxis": "y3"
        },
        {
         "cells": {
          "align": [
           "left",
           "center",
           "center",
           "center",
           "center",
           "center"
          ],
          "fill": {
           "color": [
            "rgb(64,70,114)",
            [
             "rgb(245, 245, 245)",
             "rgb(245, 245, 245)",
             "rgb(255, 255, 255)",
             "rgb(255, 255, 255)",
             "rgb(245, 245, 245)",
             "rgb(245, 245, 245)"
            ]
           ]
          },
          "font": {
           "color": [
            "white",
            "#506784",
            "#506784",
            "#506784"
           ],
           "size": 12
          },
          "height": 50,
          "line": {
           "color": "rgba(80,103,132,0.2)",
           "width": 1
          },
          "values": [
           [
            "Bin 0",
            "Bin 1"
           ],
           [
            5304,
            12153
           ],
           [
            717,
            1221
           ],
           [
            4587,
            10932
           ],
           [
            0.135,
            0.1
           ],
           [
            -0.225,
            0.112
           ]
          ]
         },
         "columnwidth": [
          1.2,
          1.2,
          1.2,
          1.2
         ],
         "domain": {
          "x": [
           0,
           0.45
          ],
          "y": [
           0,
           0.83
          ]
         },
         "header": {
          "align": [
           "center",
           "center",
           "center",
           "center",
           "center"
          ],
          "fill": {
           "color": "rgb(64,70,114)"
          },
          "font": {
           "color": "white",
           "size": 12
          },
          "height": 40,
          "line": {
           "color": "rgba(80,103,132,0.2)",
           "width": 0.5
          },
          "values": [
           "",
           "total",
           "bad",
           "good",
           "bad_rate",
           "WOE"
          ]
         },
         "type": "table",
         "visible": false
        },
        {
         "marker": {
          "color": [
           "rgb(43,131,186)",
           "rgb(171,221,164)",
           "rgb(255,255,191)",
           "rgb(253,174,97)",
           "rgb(215,25,28)"
          ]
         },
         "name": "cnts",
         "showlegend": false,
         "text": [
          5304,
          12153
         ],
         "type": "bar",
         "visible": false,
         "x": [
          "Bin 0",
          "Bin 1"
         ],
         "xaxis": "x2",
         "y": [
          5304,
          12153
         ],
         "yaxis": "y2"
        },
        {
         "marker": {
          "color": "rgb(255,127,0)"
         },
         "name": "bad_rate",
         "text": [
          4181,
          3306,
          2781,
          5567,
          1622
         ],
         "type": "scatter",
         "visible": false,
         "x": [
          "Bin 0",
          "Bin 1",
          "Bin 2",
          "Bin 3",
          "Bin 4"
         ],
         "xaxis": "x3",
         "y": [
          0.089,
          0.11,
          0.111,
          0.12,
          0.137
         ],
         "yaxis": "y3"
        },
        {
         "cells": {
          "align": [
           "left",
           "center",
           "center",
           "center",
           "center",
           "center"
          ],
          "fill": {
           "color": [
            "rgb(64,70,114)",
            [
             "rgb(245, 245, 245)",
             "rgb(245, 245, 245)",
             "rgb(255, 255, 255)",
             "rgb(255, 255, 255)",
             "rgb(245, 245, 245)",
             "rgb(245, 245, 245)"
            ]
           ]
          },
          "font": {
           "color": [
            "white",
            "#506784",
            "#506784",
            "#506784"
           ],
           "size": 12
          },
          "height": 50,
          "line": {
           "color": "rgba(80,103,132,0.2)",
           "width": 1
          },
          "values": [
           [
            "Bin 0",
            "Bin 1",
            "Bin 2",
            "Bin 3",
            "Bin 4"
           ],
           [
            4181,
            3306,
            2781,
            5567,
            1622
           ],
           [
            374,
            363,
            309,
            670,
            222
           ],
           [
            3807,
            2943,
            2472,
            4897,
            1400
           ],
           [
            0.089,
            0.11,
            0.111,
            0.12,
            0.137
           ],
           [
            0.24,
            0.012,
            -0.001,
            -0.091,
            -0.239
           ]
          ]
         },
         "columnwidth": [
          1.2,
          1.2,
          1.2,
          1.2
         ],
         "domain": {
          "x": [
           0,
           0.45
          ],
          "y": [
           0,
           0.83
          ]
         },
         "header": {
          "align": [
           "center",
           "center",
           "center",
           "center",
           "center"
          ],
          "fill": {
           "color": "rgb(64,70,114)"
          },
          "font": {
           "color": "white",
           "size": 12
          },
          "height": 40,
          "line": {
           "color": "rgba(80,103,132,0.2)",
           "width": 0.5
          },
          "values": [
           "",
           "total",
           "bad",
           "good",
           "bad_rate",
           "WOE"
          ]
         },
         "type": "table",
         "visible": false
        },
        {
         "marker": {
          "color": [
           "rgb(43,131,186)",
           "rgb(171,221,164)",
           "rgb(255,255,191)",
           "rgb(253,174,97)",
           "rgb(215,25,28)"
          ]
         },
         "name": "cnts",
         "showlegend": false,
         "text": [
          4181,
          3306,
          2781,
          5567,
          1622
         ],
         "type": "bar",
         "visible": false,
         "x": [
          "Bin 0",
          "Bin 1",
          "Bin 2",
          "Bin 3",
          "Bin 4"
         ],
         "xaxis": "x2",
         "y": [
          4181,
          3306,
          2781,
          5567,
          1622
         ],
         "yaxis": "y2"
        },
        {
         "marker": {
          "color": "rgb(255,127,0)"
         },
         "name": "bad_rate",
         "showlegend": false,
         "text": [
          4260,
          2577,
          4133,
          2820,
          3667
         ],
         "type": "scatter",
         "x": [
          "Bin 0",
          "Bin 1",
          "Bin 2",
          "Bin 3",
          "Bin 4"
         ],
         "xaxis": "x3",
         "y": [
          0.048,
          0.086,
          0.11,
          0.139,
          0.181
         ],
         "yaxis": "y3"
        },
        {
         "cells": {
          "align": [
           "left",
           "center",
           "center",
           "center",
           "center",
           "center"
          ],
          "fill": {
           "color": [
            "rgb(64,70,114)",
            [
             "rgb(245, 245, 245)",
             "rgb(245, 245, 245)",
             "rgb(255, 255, 255)",
             "rgb(255, 255, 255)",
             "rgb(245, 245, 245)",
             "rgb(245, 245, 245)"
            ]
           ]
          },
          "font": {
           "color": [
            "white",
            "#506784",
            "#506784",
            "#506784"
           ],
           "size": 12
          },
          "height": 50,
          "line": {
           "color": "rgba(80,103,132,0.2)",
           "width": 1
          },
          "values": [
           [
            "Bin 0",
            "Bin 1",
            "Bin 2",
            "Bin 3",
            "Bin 4"
           ],
           [
            4260,
            2577,
            4133,
            2820,
            3667
           ],
           [
            205,
            221,
            456,
            392,
            664
           ],
           [
            4055,
            2356,
            3677,
            2428,
            3003
           ],
           [
            0.048,
            0.086,
            0.11,
            0.139,
            0.181
           ],
           [
            0.904,
            0.286,
            0.007,
            -0.257,
            -0.571
           ]
          ]
         },
         "columnwidth": [
          1.2,
          1.2,
          1.2,
          1.2
         ],
         "domain": {
          "x": [
           0,
           0.45
          ],
          "y": [
           0,
           0.83
          ]
         },
         "header": {
          "align": [
           "center",
           "center",
           "center",
           "center",
           "center"
          ],
          "fill": {
           "color": "rgb(64,70,114)"
          },
          "font": {
           "color": "white",
           "size": 12
          },
          "height": 40,
          "line": {
           "color": "rgba(80,103,132,0.2)",
           "width": 0.5
          },
          "values": [
           "",
           "total",
           "bad",
           "good",
           "bad_rate",
           "WOE"
          ]
         },
         "type": "table"
        },
        {
         "marker": {
          "color": [
           "rgb(43,131,186)",
           "rgb(171,221,164)",
           "rgb(255,255,191)",
           "rgb(253,174,97)",
           "rgb(215,25,28)"
          ]
         },
         "name": "cnts",
         "showlegend": false,
         "text": [
          4260,
          2577,
          4133,
          2820,
          3667
         ],
         "type": "bar",
         "x": [
          "Bin 0",
          "Bin 1",
          "Bin 2",
          "Bin 3",
          "Bin 4"
         ],
         "xaxis": "x2",
         "y": [
          4260,
          2577,
          4133,
          2820,
          3667
         ],
         "yaxis": "y2"
        },
        {
         "marker": {
          "color": "rgb(255,127,0)"
         },
         "name": "bad_rate",
         "text": [
          4045,
          1841,
          10016,
          771,
          784
         ],
         "type": "scatter",
         "visible": false,
         "x": [
          "Bin 0",
          "Bin 1",
          "Bin 2",
          "Bin 3",
          "Bin 4"
         ],
         "xaxis": "x3",
         "y": [
          0.078,
          0.098,
          0.115,
          0.162,
          0.21
         ],
         "yaxis": "y3"
        },
        {
         "cells": {
          "align": [
           "left",
           "center",
           "center",
           "center",
           "center",
           "center"
          ],
          "fill": {
           "color": [
            "rgb(64,70,114)",
            [
             "rgb(245, 245, 245)",
             "rgb(245, 245, 245)",
             "rgb(255, 255, 255)",
             "rgb(255, 255, 255)",
             "rgb(245, 245, 245)",
             "rgb(245, 245, 245)"
            ]
           ]
          },
          "font": {
           "color": [
            "white",
            "#506784",
            "#506784",
            "#506784"
           ],
           "size": 12
          },
          "height": 50,
          "line": {
           "color": "rgba(80,103,132,0.2)",
           "width": 1
          },
          "values": [
           [
            "Bin 0",
            "Bin 1",
            "Bin 2",
            "Bin 3",
            "Bin 4"
           ],
           [
            4045,
            1841,
            10016,
            771,
            784
           ],
           [
            316,
            181,
            1151,
            125,
            165
           ],
           [
            3729,
            1660,
            8865,
            646,
            619
           ],
           [
            0.078,
            0.098,
            0.115,
            0.162,
            0.21
           ],
           [
            0.388,
            0.136,
            -0.039,
            -0.438,
            -0.758
           ]
          ]
         },
         "columnwidth": [
          1.2,
          1.2,
          1.2,
          1.2
         ],
         "domain": {
          "x": [
           0,
           0.45
          ],
          "y": [
           0,
           0.83
          ]
         },
         "header": {
          "align": [
           "center",
           "center",
           "center",
           "center",
           "center"
          ],
          "fill": {
           "color": "rgb(64,70,114)"
          },
          "font": {
           "color": "white",
           "size": 12
          },
          "height": 40,
          "line": {
           "color": "rgba(80,103,132,0.2)",
           "width": 0.5
          },
          "values": [
           "",
           "total",
           "bad",
           "good",
           "bad_rate",
           "WOE"
          ]
         },
         "type": "table",
         "visible": false
        },
        {
         "marker": {
          "color": [
           "rgb(43,131,186)",
           "rgb(171,221,164)",
           "rgb(255,255,191)",
           "rgb(253,174,97)",
           "rgb(215,25,28)"
          ]
         },
         "name": "cnts",
         "showlegend": false,
         "text": [
          4045,
          1841,
          10016,
          771,
          784
         ],
         "type": "bar",
         "visible": false,
         "x": [
          "Bin 0",
          "Bin 1",
          "Bin 2",
          "Bin 3",
          "Bin 4"
         ],
         "xaxis": "x2",
         "y": [
          4045,
          1841,
          10016,
          771,
          784
         ],
         "yaxis": "y2"
        },
        {
         "marker": {
          "color": "rgb(255,127,0)"
         },
         "name": "bad_rate",
         "text": [
          716,
          3113,
          4327,
          2665,
          6636
         ],
         "type": "scatter",
         "visible": false,
         "x": [
          "Bin 0",
          "Bin 1",
          "Bin 2",
          "Bin 3",
          "Bin 4"
         ],
         "xaxis": "x3",
         "y": [
          0.179,
          0.15,
          0.116,
          0.106,
          0.084
         ],
         "yaxis": "y3"
        },
        {
         "cells": {
          "align": [
           "left",
           "center",
           "center",
           "center",
           "center",
           "center"
          ],
          "fill": {
           "color": [
            "rgb(64,70,114)",
            [
             "rgb(245, 245, 245)",
             "rgb(245, 245, 245)",
             "rgb(255, 255, 255)",
             "rgb(255, 255, 255)",
             "rgb(245, 245, 245)",
             "rgb(245, 245, 245)"
            ]
           ]
          },
          "font": {
           "color": [
            "white",
            "#506784",
            "#506784",
            "#506784"
           ],
           "size": 12
          },
          "height": 50,
          "line": {
           "color": "rgba(80,103,132,0.2)",
           "width": 1
          },
          "values": [
           [
            "Bin 0",
            "Bin 1",
            "Bin 2",
            "Bin 3",
            "Bin 4"
           ],
           [
            716,
            3113,
            4327,
            2665,
            6636
           ],
           [
            128,
            466,
            501,
            283,
            560
           ],
           [
            588,
            2647,
            3826,
            2382,
            6076
           ],
           [
            0.179,
            0.15,
            0.116,
            0.106,
            0.084
           ],
           [
            -0.556,
            -0.343,
            -0.047,
            0.05,
            0.304
           ]
          ]
         },
         "columnwidth": [
          1.2,
          1.2,
          1.2,
          1.2
         ],
         "domain": {
          "x": [
           0,
           0.45
          ],
          "y": [
           0,
           0.83
          ]
         },
         "header": {
          "align": [
           "center",
           "center",
           "center",
           "center",
           "center"
          ],
          "fill": {
           "color": "rgb(64,70,114)"
          },
          "font": {
           "color": "white",
           "size": 12
          },
          "height": 40,
          "line": {
           "color": "rgba(80,103,132,0.2)",
           "width": 0.5
          },
          "values": [
           "",
           "total",
           "bad",
           "good",
           "bad_rate",
           "WOE"
          ]
         },
         "type": "table",
         "visible": false
        },
        {
         "marker": {
          "color": [
           "rgb(43,131,186)",
           "rgb(171,221,164)",
           "rgb(255,255,191)",
           "rgb(253,174,97)",
           "rgb(215,25,28)"
          ]
         },
         "name": "cnts",
         "showlegend": false,
         "text": [
          716,
          3113,
          4327,
          2665,
          6636
         ],
         "type": "bar",
         "visible": false,
         "x": [
          "Bin 0",
          "Bin 1",
          "Bin 2",
          "Bin 3",
          "Bin 4"
         ],
         "xaxis": "x2",
         "y": [
          716,
          3113,
          4327,
          2665,
          6636
         ],
         "yaxis": "y2"
        },
        {
         "marker": {
          "color": "rgb(255,127,0)"
         },
         "name": "bad_rate",
         "text": [
          1447,
          7689,
          6065,
          2251,
          5
         ],
         "type": "scatter",
         "visible": false,
         "x": [
          "Bin 0",
          "Bin 1",
          "Bin 2",
          "Bin 3",
          "Bin 4"
         ],
         "xaxis": "x3",
         "y": [
          0.069,
          0.097,
          0.125,
          0.148,
          0.6
         ],
         "yaxis": "y3"
        },
        {
         "cells": {
          "align": [
           "left",
           "center",
           "center",
           "center",
           "center",
           "center"
          ],
          "fill": {
           "color": [
            "rgb(64,70,114)",
            [
             "rgb(245, 245, 245)",
             "rgb(245, 245, 245)",
             "rgb(255, 255, 255)",
             "rgb(255, 255, 255)",
             "rgb(245, 245, 245)",
             "rgb(245, 245, 245)"
            ]
           ]
          },
          "font": {
           "color": [
            "white",
            "#506784",
            "#506784",
            "#506784"
           ],
           "size": 12
          },
          "height": 50,
          "line": {
           "color": "rgba(80,103,132,0.2)",
           "width": 1
          },
          "values": [
           [
            "Bin 0",
            "Bin 1",
            "Bin 2",
            "Bin 3",
            "Bin 4"
           ],
           [
            1447,
            7689,
            6065,
            2251,
            5
           ],
           [
            100,
            744,
            758,
            333,
            3
           ],
           [
            1347,
            6945,
            5307,
            1918,
            2
           ],
           [
            0.069,
            0.097,
            0.125,
            0.148,
            0.6
           ],
           [
            0.52,
            0.153,
            -0.134,
            -0.33,
            -2.486
           ]
          ]
         },
         "columnwidth": [
          1.2,
          1.2,
          1.2,
          1.2
         ],
         "domain": {
          "x": [
           0,
           0.45
          ],
          "y": [
           0,
           0.83
          ]
         },
         "header": {
          "align": [
           "center",
           "center",
           "center",
           "center",
           "center"
          ],
          "fill": {
           "color": "rgb(64,70,114)"
          },
          "font": {
           "color": "white",
           "size": 12
          },
          "height": 40,
          "line": {
           "color": "rgba(80,103,132,0.2)",
           "width": 0.5
          },
          "values": [
           "",
           "total",
           "bad",
           "good",
           "bad_rate",
           "WOE"
          ]
         },
         "type": "table",
         "visible": false
        },
        {
         "marker": {
          "color": [
           "rgb(43,131,186)",
           "rgb(171,221,164)",
           "rgb(255,255,191)",
           "rgb(253,174,97)",
           "rgb(215,25,28)"
          ]
         },
         "name": "cnts",
         "showlegend": false,
         "text": [
          1447,
          7689,
          6065,
          2251,
          5
         ],
         "type": "bar",
         "visible": false,
         "x": [
          "Bin 0",
          "Bin 1",
          "Bin 2",
          "Bin 3",
          "Bin 4"
         ],
         "xaxis": "x2",
         "y": [
          1447,
          7689,
          6065,
          2251,
          5
         ],
         "yaxis": "y2"
        },
        {
         "marker": {
          "color": "rgb(255,127,0)"
         },
         "name": "bad_rate",
         "text": [
          7452,
          7042,
          2739,
          224
         ],
         "type": "scatter",
         "visible": false,
         "x": [
          "Bin 0",
          "Bin 1",
          "Bin 2",
          "Bin 3"
         ],
         "xaxis": "x3",
         "y": [
          0.054,
          0.124,
          0.205,
          0.438
         ],
         "yaxis": "y3"
        },
        {
         "cells": {
          "align": [
           "left",
           "center",
           "center",
           "center",
           "center",
           "center"
          ],
          "fill": {
           "color": [
            "rgb(64,70,114)",
            [
             "rgb(245, 245, 245)",
             "rgb(245, 245, 245)",
             "rgb(255, 255, 255)",
             "rgb(255, 255, 255)",
             "rgb(245, 245, 245)",
             "rgb(245, 245, 245)"
            ]
           ]
          },
          "font": {
           "color": [
            "white",
            "#506784",
            "#506784",
            "#506784"
           ],
           "size": 12
          },
          "height": 50,
          "line": {
           "color": "rgba(80,103,132,0.2)",
           "width": 1
          },
          "values": [
           [
            "Bin 0",
            "Bin 1",
            "Bin 2",
            "Bin 3"
           ],
           [
            7452,
            7042,
            2739,
            224
           ],
           [
            406,
            872,
            562,
            98
           ],
           [
            7046,
            6170,
            2177,
            126
           ],
           [
            0.054,
            0.124,
            0.205,
            0.438
           ],
           [
            0.773,
            -0.124,
            -0.726,
            -1.829
           ]
          ]
         },
         "columnwidth": [
          1.2,
          1.2,
          1.2,
          1.2
         ],
         "domain": {
          "x": [
           0,
           0.45
          ],
          "y": [
           0,
           0.83
          ]
         },
         "header": {
          "align": [
           "center",
           "center",
           "center",
           "center",
           "center"
          ],
          "fill": {
           "color": "rgb(64,70,114)"
          },
          "font": {
           "color": "white",
           "size": 12
          },
          "height": 40,
          "line": {
           "color": "rgba(80,103,132,0.2)",
           "width": 0.5
          },
          "values": [
           "",
           "total",
           "bad",
           "good",
           "bad_rate",
           "WOE"
          ]
         },
         "type": "table",
         "visible": false
        },
        {
         "marker": {
          "color": [
           "rgb(43,131,186)",
           "rgb(171,221,164)",
           "rgb(255,255,191)",
           "rgb(253,174,97)",
           "rgb(215,25,28)"
          ]
         },
         "name": "cnts",
         "showlegend": false,
         "text": [
          7452,
          7042,
          2739,
          224
         ],
         "type": "bar",
         "visible": false,
         "x": [
          "Bin 0",
          "Bin 1",
          "Bin 2",
          "Bin 3"
         ],
         "xaxis": "x2",
         "y": [
          7452,
          7042,
          2739,
          224
         ],
         "yaxis": "y2"
        },
        {
         "marker": {
          "color": "rgb(255,127,0)"
         },
         "name": "bad_rate",
         "text": [
          8684,
          7202,
          1567,
          4
         ],
         "type": "scatter",
         "visible": false,
         "x": [
          "Bin 0",
          "Bin 1",
          "Bin 2",
          "Bin 3"
         ],
         "xaxis": "x3",
         "y": [
          0.089,
          0.124,
          0.168,
          0.5
         ],
         "yaxis": "y3"
        },
        {
         "cells": {
          "align": [
           "left",
           "center",
           "center",
           "center",
           "center",
           "center"
          ],
          "fill": {
           "color": [
            "rgb(64,70,114)",
            [
             "rgb(245, 245, 245)",
             "rgb(245, 245, 245)",
             "rgb(255, 255, 255)",
             "rgb(255, 255, 255)",
             "rgb(245, 245, 245)",
             "rgb(245, 245, 245)"
            ]
           ]
          },
          "font": {
           "color": [
            "white",
            "#506784",
            "#506784",
            "#506784"
           ],
           "size": 12
          },
          "height": 50,
          "line": {
           "color": "rgba(80,103,132,0.2)",
           "width": 1
          },
          "values": [
           [
            "Bin 0",
            "Bin 1",
            "Bin 2",
            "Bin 3"
           ],
           [
            8684,
            7202,
            1567,
            4
           ],
           [
            777,
            896,
            263,
            2
           ],
           [
            7907,
            6306,
            1304,
            2
           ],
           [
            0.089,
            0.124,
            0.168,
            0.5
           ],
           [
            0.24,
            -0.129,
            -0.479,
            -2.08
           ]
          ]
         },
         "columnwidth": [
          1.2,
          1.2,
          1.2,
          1.2
         ],
         "domain": {
          "x": [
           0,
           0.45
          ],
          "y": [
           0,
           0.83
          ]
         },
         "header": {
          "align": [
           "center",
           "center",
           "center",
           "center",
           "center"
          ],
          "fill": {
           "color": "rgb(64,70,114)"
          },
          "font": {
           "color": "white",
           "size": 12
          },
          "height": 40,
          "line": {
           "color": "rgba(80,103,132,0.2)",
           "width": 0.5
          },
          "values": [
           "",
           "total",
           "bad",
           "good",
           "bad_rate",
           "WOE"
          ]
         },
         "type": "table",
         "visible": false
        },
        {
         "marker": {
          "color": [
           "rgb(43,131,186)",
           "rgb(171,221,164)",
           "rgb(255,255,191)",
           "rgb(253,174,97)",
           "rgb(215,25,28)"
          ]
         },
         "name": "cnts",
         "showlegend": false,
         "text": [
          8684,
          7202,
          1567,
          4
         ],
         "type": "bar",
         "visible": false,
         "x": [
          "Bin 0",
          "Bin 1",
          "Bin 2",
          "Bin 3"
         ],
         "xaxis": "x2",
         "y": [
          8684,
          7202,
          1567,
          4
         ],
         "yaxis": "y2"
        },
        {
         "marker": {
          "color": "rgb(255,127,0)"
         },
         "name": "bad_rate",
         "text": [
          16158,
          603,
          696
         ],
         "type": "scatter",
         "visible": false,
         "x": [
          "Bin -1",
          "Bin 1",
          "Bin 3"
         ],
         "xaxis": "x3",
         "y": [
          0.106,
          0.199,
          0.148
         ],
         "yaxis": "y3"
        },
        {
         "cells": {
          "align": [
           "left",
           "center",
           "center",
           "center",
           "center",
           "center"
          ],
          "fill": {
           "color": [
            "rgb(64,70,114)",
            [
             "rgb(245, 245, 245)",
             "rgb(245, 245, 245)",
             "rgb(255, 255, 255)",
             "rgb(255, 255, 255)",
             "rgb(245, 245, 245)",
             "rgb(245, 245, 245)"
            ]
           ]
          },
          "font": {
           "color": [
            "white",
            "#506784",
            "#506784",
            "#506784"
           ],
           "size": 12
          },
          "height": 50,
          "line": {
           "color": "rgba(80,103,132,0.2)",
           "width": 1
          },
          "values": [
           [
            "Bin -1",
            "Bin 1",
            "Bin 3"
           ],
           [
            16158,
            603,
            696
           ],
           [
            1715,
            120,
            103
           ],
           [
            14443,
            483,
            593
           ],
           [
            0.106,
            0.199,
            0.148
           ],
           [
            0.05,
            -0.688,
            -0.33
           ]
          ]
         },
         "columnwidth": [
          1.2,
          1.2,
          1.2,
          1.2
         ],
         "domain": {
          "x": [
           0,
           0.45
          ],
          "y": [
           0,
           0.83
          ]
         },
         "header": {
          "align": [
           "center",
           "center",
           "center",
           "center",
           "center"
          ],
          "fill": {
           "color": "rgb(64,70,114)"
          },
          "font": {
           "color": "white",
           "size": 12
          },
          "height": 40,
          "line": {
           "color": "rgba(80,103,132,0.2)",
           "width": 0.5
          },
          "values": [
           "",
           "total",
           "bad",
           "good",
           "bad_rate",
           "WOE"
          ]
         },
         "type": "table",
         "visible": false
        },
        {
         "marker": {
          "color": [
           "rgb(43,131,186)",
           "rgb(171,221,164)",
           "rgb(255,255,191)",
           "rgb(253,174,97)",
           "rgb(215,25,28)"
          ]
         },
         "name": "cnts",
         "showlegend": false,
         "text": [
          16158,
          603,
          696
         ],
         "type": "bar",
         "visible": false,
         "x": [
          "Bin -1",
          "Bin 1",
          "Bin 3"
         ],
         "xaxis": "x2",
         "y": [
          16158,
          603,
          696
         ],
         "yaxis": "y2"
        },
        {
         "marker": {
          "color": "rgb(255,127,0)"
         },
         "name": "bad_rate",
         "text": [
          8005,
          6265,
          3187
         ],
         "type": "scatter",
         "visible": false,
         "x": [
          "Bin 0",
          "Bin 1",
          "Bin 2"
         ],
         "xaxis": "x3",
         "y": [
          0.099,
          0.109,
          0.146
         ],
         "yaxis": "y3"
        },
        {
         "cells": {
          "align": [
           "left",
           "center",
           "center",
           "center",
           "center",
           "center"
          ],
          "fill": {
           "color": [
            "rgb(64,70,114)",
            [
             "rgb(245, 245, 245)",
             "rgb(245, 245, 245)",
             "rgb(255, 255, 255)",
             "rgb(255, 255, 255)",
             "rgb(245, 245, 245)",
             "rgb(245, 245, 245)"
            ]
           ]
          },
          "font": {
           "color": [
            "white",
            "#506784",
            "#506784",
            "#506784"
           ],
           "size": 12
          },
          "height": 50,
          "line": {
           "color": "rgba(80,103,132,0.2)",
           "width": 1
          },
          "values": [
           [
            "Bin 0",
            "Bin 1",
            "Bin 2"
           ],
           [
            8005,
            6265,
            3187
           ],
           [
            790,
            683,
            465
           ],
           [
            7215,
            5582,
            2722
           ],
           [
            0.099,
            0.109,
            0.146
           ],
           [
            0.131,
            0.02,
            -0.313
           ]
          ]
         },
         "columnwidth": [
          1.2,
          1.2,
          1.2,
          1.2
         ],
         "domain": {
          "x": [
           0,
           0.45
          ],
          "y": [
           0,
           0.83
          ]
         },
         "header": {
          "align": [
           "center",
           "center",
           "center",
           "center",
           "center"
          ],
          "fill": {
           "color": "rgb(64,70,114)"
          },
          "font": {
           "color": "white",
           "size": 12
          },
          "height": 40,
          "line": {
           "color": "rgba(80,103,132,0.2)",
           "width": 0.5
          },
          "values": [
           "",
           "total",
           "bad",
           "good",
           "bad_rate",
           "WOE"
          ]
         },
         "type": "table",
         "visible": false
        },
        {
         "marker": {
          "color": [
           "rgb(43,131,186)",
           "rgb(171,221,164)",
           "rgb(255,255,191)",
           "rgb(253,174,97)",
           "rgb(215,25,28)"
          ]
         },
         "name": "cnts",
         "showlegend": false,
         "text": [
          8005,
          6265,
          3187
         ],
         "type": "bar",
         "visible": false,
         "x": [
          "Bin 0",
          "Bin 1",
          "Bin 2"
         ],
         "xaxis": "x2",
         "y": [
          8005,
          6265,
          3187
         ],
         "yaxis": "y2"
        },
        {
         "marker": {
          "color": "rgb(255,127,0)"
         },
         "name": "bad_rate",
         "text": [
          5304,
          12153
         ],
         "type": "scatter",
         "visible": false,
         "x": [
          "Bin 0",
          "Bin 1"
         ],
         "xaxis": "x3",
         "y": [
          0.135,
          0.1
         ],
         "yaxis": "y3"
        },
        {
         "cells": {
          "align": [
           "left",
           "center",
           "center",
           "center",
           "center",
           "center"
          ],
          "fill": {
           "color": [
            "rgb(64,70,114)",
            [
             "rgb(245, 245, 245)",
             "rgb(245, 245, 245)",
             "rgb(255, 255, 255)",
             "rgb(255, 255, 255)",
             "rgb(245, 245, 245)",
             "rgb(245, 245, 245)"
            ]
           ]
          },
          "font": {
           "color": [
            "white",
            "#506784",
            "#506784",
            "#506784"
           ],
           "size": 12
          },
          "height": 50,
          "line": {
           "color": "rgba(80,103,132,0.2)",
           "width": 1
          },
          "values": [
           [
            "Bin 0",
            "Bin 1"
           ],
           [
            5304,
            12153
           ],
           [
            717,
            1221
           ],
           [
            4587,
            10932
           ],
           [
            0.135,
            0.1
           ],
           [
            -0.225,
            0.112
           ]
          ]
         },
         "columnwidth": [
          1.2,
          1.2,
          1.2,
          1.2
         ],
         "domain": {
          "x": [
           0,
           0.45
          ],
          "y": [
           0,
           0.83
          ]
         },
         "header": {
          "align": [
           "center",
           "center",
           "center",
           "center",
           "center"
          ],
          "fill": {
           "color": "rgb(64,70,114)"
          },
          "font": {
           "color": "white",
           "size": 12
          },
          "height": 40,
          "line": {
           "color": "rgba(80,103,132,0.2)",
           "width": 0.5
          },
          "values": [
           "",
           "total",
           "bad",
           "good",
           "bad_rate",
           "WOE"
          ]
         },
         "type": "table",
         "visible": false
        },
        {
         "marker": {
          "color": [
           "rgb(43,131,186)",
           "rgb(171,221,164)",
           "rgb(255,255,191)",
           "rgb(253,174,97)",
           "rgb(215,25,28)"
          ]
         },
         "name": "cnts",
         "showlegend": false,
         "text": [
          5304,
          12153
         ],
         "type": "bar",
         "visible": false,
         "x": [
          "Bin 0",
          "Bin 1"
         ],
         "xaxis": "x2",
         "y": [
          5304,
          12153
         ],
         "yaxis": "y2"
        },
        {
         "marker": {
          "color": "rgb(255,127,0)"
         },
         "name": "bad_rate",
         "text": [
          4181,
          3306,
          2781,
          5567,
          1622
         ],
         "type": "scatter",
         "visible": false,
         "x": [
          "Bin 0",
          "Bin 1",
          "Bin 2",
          "Bin 3",
          "Bin 4"
         ],
         "xaxis": "x3",
         "y": [
          0.089,
          0.11,
          0.111,
          0.12,
          0.137
         ],
         "yaxis": "y3"
        },
        {
         "cells": {
          "align": [
           "left",
           "center",
           "center",
           "center",
           "center",
           "center"
          ],
          "fill": {
           "color": [
            "rgb(64,70,114)",
            [
             "rgb(245, 245, 245)",
             "rgb(245, 245, 245)",
             "rgb(255, 255, 255)",
             "rgb(255, 255, 255)",
             "rgb(245, 245, 245)",
             "rgb(245, 245, 245)"
            ]
           ]
          },
          "font": {
           "color": [
            "white",
            "#506784",
            "#506784",
            "#506784"
           ],
           "size": 12
          },
          "height": 50,
          "line": {
           "color": "rgba(80,103,132,0.2)",
           "width": 1
          },
          "values": [
           [
            "Bin 0",
            "Bin 1",
            "Bin 2",
            "Bin 3",
            "Bin 4"
           ],
           [
            4181,
            3306,
            2781,
            5567,
            1622
           ],
           [
            374,
            363,
            309,
            670,
            222
           ],
           [
            3807,
            2943,
            2472,
            4897,
            1400
           ],
           [
            0.089,
            0.11,
            0.111,
            0.12,
            0.137
           ],
           [
            0.24,
            0.012,
            -0.001,
            -0.091,
            -0.239
           ]
          ]
         },
         "columnwidth": [
          1.2,
          1.2,
          1.2,
          1.2
         ],
         "domain": {
          "x": [
           0,
           0.45
          ],
          "y": [
           0,
           0.83
          ]
         },
         "header": {
          "align": [
           "center",
           "center",
           "center",
           "center",
           "center"
          ],
          "fill": {
           "color": "rgb(64,70,114)"
          },
          "font": {
           "color": "white",
           "size": 12
          },
          "height": 40,
          "line": {
           "color": "rgba(80,103,132,0.2)",
           "width": 0.5
          },
          "values": [
           "",
           "total",
           "bad",
           "good",
           "bad_rate",
           "WOE"
          ]
         },
         "type": "table",
         "visible": false
        },
        {
         "marker": {
          "color": [
           "rgb(43,131,186)",
           "rgb(171,221,164)",
           "rgb(255,255,191)",
           "rgb(253,174,97)",
           "rgb(215,25,28)"
          ]
         },
         "name": "cnts",
         "showlegend": false,
         "text": [
          4181,
          3306,
          2781,
          5567,
          1622
         ],
         "type": "bar",
         "visible": false,
         "x": [
          "Bin 0",
          "Bin 1",
          "Bin 2",
          "Bin 3",
          "Bin 4"
         ],
         "xaxis": "x2",
         "y": [
          4181,
          3306,
          2781,
          5567,
          1622
         ],
         "yaxis": "y2"
        },
        {
         "marker": {
          "color": "rgb(255,127,0)"
         },
         "name": "bad_rate",
         "showlegend": false,
         "text": [
          4260,
          2577,
          4133,
          2820,
          3667
         ],
         "type": "scatter",
         "x": [
          "Bin 0",
          "Bin 1",
          "Bin 2",
          "Bin 3",
          "Bin 4"
         ],
         "xaxis": "x3",
         "y": [
          0.048,
          0.086,
          0.11,
          0.139,
          0.181
         ],
         "yaxis": "y3"
        },
        {
         "cells": {
          "align": [
           "left",
           "center",
           "center",
           "center",
           "center",
           "center"
          ],
          "fill": {
           "color": [
            "rgb(64,70,114)",
            [
             "rgb(245, 245, 245)",
             "rgb(245, 245, 245)",
             "rgb(255, 255, 255)",
             "rgb(255, 255, 255)",
             "rgb(245, 245, 245)",
             "rgb(245, 245, 245)"
            ]
           ]
          },
          "font": {
           "color": [
            "white",
            "#506784",
            "#506784",
            "#506784"
           ],
           "size": 12
          },
          "height": 50,
          "line": {
           "color": "rgba(80,103,132,0.2)",
           "width": 1
          },
          "values": [
           [
            "Bin 0",
            "Bin 1",
            "Bin 2",
            "Bin 3",
            "Bin 4"
           ],
           [
            4260,
            2577,
            4133,
            2820,
            3667
           ],
           [
            205,
            221,
            456,
            392,
            664
           ],
           [
            4055,
            2356,
            3677,
            2428,
            3003
           ],
           [
            0.048,
            0.086,
            0.11,
            0.139,
            0.181
           ],
           [
            0.904,
            0.286,
            0.007,
            -0.257,
            -0.571
           ]
          ]
         },
         "columnwidth": [
          1.2,
          1.2,
          1.2,
          1.2
         ],
         "domain": {
          "x": [
           0,
           0.45
          ],
          "y": [
           0,
           0.83
          ]
         },
         "header": {
          "align": [
           "center",
           "center",
           "center",
           "center",
           "center"
          ],
          "fill": {
           "color": "rgb(64,70,114)"
          },
          "font": {
           "color": "white",
           "size": 12
          },
          "height": 40,
          "line": {
           "color": "rgba(80,103,132,0.2)",
           "width": 0.5
          },
          "values": [
           "",
           "total",
           "bad",
           "good",
           "bad_rate",
           "WOE"
          ]
         },
         "type": "table"
        },
        {
         "marker": {
          "color": [
           "rgb(43,131,186)",
           "rgb(171,221,164)",
           "rgb(255,255,191)",
           "rgb(253,174,97)",
           "rgb(215,25,28)"
          ]
         },
         "name": "cnts",
         "showlegend": false,
         "text": [
          4260,
          2577,
          4133,
          2820,
          3667
         ],
         "type": "bar",
         "x": [
          "Bin 0",
          "Bin 1",
          "Bin 2",
          "Bin 3",
          "Bin 4"
         ],
         "xaxis": "x2",
         "y": [
          4260,
          2577,
          4133,
          2820,
          3667
         ],
         "yaxis": "y2"
        },
        {
         "marker": {
          "color": "rgb(255,127,0)"
         },
         "name": "bad_rate",
         "showlegend": false,
         "text": [
          4045,
          1841,
          10016,
          771,
          784
         ],
         "type": "scatter",
         "visible": false,
         "x": [
          "Bin 0",
          "Bin 1",
          "Bin 2",
          "Bin 3",
          "Bin 4"
         ],
         "xaxis": "x3",
         "y": [
          0.078,
          0.098,
          0.115,
          0.162,
          0.21
         ],
         "yaxis": "y3"
        },
        {
         "cells": {
          "align": [
           "left",
           "center",
           "center",
           "center",
           "center",
           "center"
          ],
          "fill": {
           "color": [
            "rgb(64,70,114)",
            [
             "rgb(245, 245, 245)",
             "rgb(245, 245, 245)",
             "rgb(255, 255, 255)",
             "rgb(255, 255, 255)",
             "rgb(245, 245, 245)",
             "rgb(245, 245, 245)"
            ]
           ]
          },
          "font": {
           "color": [
            "white",
            "#506784",
            "#506784",
            "#506784"
           ],
           "size": 12
          },
          "height": 50,
          "line": {
           "color": "rgba(80,103,132,0.2)",
           "width": 1
          },
          "values": [
           [
            "Bin 0",
            "Bin 1",
            "Bin 2",
            "Bin 3",
            "Bin 4"
           ],
           [
            4045,
            1841,
            10016,
            771,
            784
           ],
           [
            316,
            181,
            1151,
            125,
            165
           ],
           [
            3729,
            1660,
            8865,
            646,
            619
           ],
           [
            0.078,
            0.098,
            0.115,
            0.162,
            0.21
           ],
           [
            0.388,
            0.136,
            -0.039,
            -0.438,
            -0.758
           ]
          ]
         },
         "columnwidth": [
          1.2,
          1.2,
          1.2,
          1.2
         ],
         "domain": {
          "x": [
           0,
           0.45
          ],
          "y": [
           0,
           0.83
          ]
         },
         "header": {
          "align": [
           "center",
           "center",
           "center",
           "center",
           "center"
          ],
          "fill": {
           "color": "rgb(64,70,114)"
          },
          "font": {
           "color": "white",
           "size": 12
          },
          "height": 40,
          "line": {
           "color": "rgba(80,103,132,0.2)",
           "width": 0.5
          },
          "values": [
           "",
           "total",
           "bad",
           "good",
           "bad_rate",
           "WOE"
          ]
         },
         "type": "table",
         "visible": false
        },
        {
         "marker": {
          "color": [
           "rgb(43,131,186)",
           "rgb(171,221,164)",
           "rgb(255,255,191)",
           "rgb(253,174,97)",
           "rgb(215,25,28)"
          ]
         },
         "name": "cnts",
         "showlegend": false,
         "text": [
          4045,
          1841,
          10016,
          771,
          784
         ],
         "type": "bar",
         "visible": false,
         "x": [
          "Bin 0",
          "Bin 1",
          "Bin 2",
          "Bin 3",
          "Bin 4"
         ],
         "xaxis": "x2",
         "y": [
          4045,
          1841,
          10016,
          771,
          784
         ],
         "yaxis": "y2"
        },
        {
         "marker": {
          "color": "rgb(255,127,0)"
         },
         "name": "bad_rate",
         "showlegend": false,
         "text": [
          716,
          3113,
          4327,
          2665,
          6636
         ],
         "type": "scatter",
         "visible": false,
         "x": [
          "Bin 0",
          "Bin 1",
          "Bin 2",
          "Bin 3",
          "Bin 4"
         ],
         "xaxis": "x3",
         "y": [
          0.179,
          0.15,
          0.116,
          0.106,
          0.084
         ],
         "yaxis": "y3"
        },
        {
         "cells": {
          "align": [
           "left",
           "center",
           "center",
           "center",
           "center",
           "center"
          ],
          "fill": {
           "color": [
            "rgb(64,70,114)",
            [
             "rgb(245, 245, 245)",
             "rgb(245, 245, 245)",
             "rgb(255, 255, 255)",
             "rgb(255, 255, 255)",
             "rgb(245, 245, 245)",
             "rgb(245, 245, 245)"
            ]
           ]
          },
          "font": {
           "color": [
            "white",
            "#506784",
            "#506784",
            "#506784"
           ],
           "size": 12
          },
          "height": 50,
          "line": {
           "color": "rgba(80,103,132,0.2)",
           "width": 1
          },
          "values": [
           [
            "Bin 0",
            "Bin 1",
            "Bin 2",
            "Bin 3",
            "Bin 4"
           ],
           [
            716,
            3113,
            4327,
            2665,
            6636
           ],
           [
            128,
            466,
            501,
            283,
            560
           ],
           [
            588,
            2647,
            3826,
            2382,
            6076
           ],
           [
            0.179,
            0.15,
            0.116,
            0.106,
            0.084
           ],
           [
            -0.556,
            -0.343,
            -0.047,
            0.05,
            0.304
           ]
          ]
         },
         "columnwidth": [
          1.2,
          1.2,
          1.2,
          1.2
         ],
         "domain": {
          "x": [
           0,
           0.45
          ],
          "y": [
           0,
           0.83
          ]
         },
         "header": {
          "align": [
           "center",
           "center",
           "center",
           "center",
           "center"
          ],
          "fill": {
           "color": "rgb(64,70,114)"
          },
          "font": {
           "color": "white",
           "size": 12
          },
          "height": 40,
          "line": {
           "color": "rgba(80,103,132,0.2)",
           "width": 0.5
          },
          "values": [
           "",
           "total",
           "bad",
           "good",
           "bad_rate",
           "WOE"
          ]
         },
         "type": "table",
         "visible": false
        },
        {
         "marker": {
          "color": [
           "rgb(43,131,186)",
           "rgb(171,221,164)",
           "rgb(255,255,191)",
           "rgb(253,174,97)",
           "rgb(215,25,28)"
          ]
         },
         "name": "cnts",
         "showlegend": false,
         "text": [
          716,
          3113,
          4327,
          2665,
          6636
         ],
         "type": "bar",
         "visible": false,
         "x": [
          "Bin 0",
          "Bin 1",
          "Bin 2",
          "Bin 3",
          "Bin 4"
         ],
         "xaxis": "x2",
         "y": [
          716,
          3113,
          4327,
          2665,
          6636
         ],
         "yaxis": "y2"
        },
        {
         "marker": {
          "color": "rgb(255,127,0)"
         },
         "name": "bad_rate",
         "showlegend": false,
         "text": [
          1447,
          7689,
          6065,
          2251,
          5
         ],
         "type": "scatter",
         "visible": false,
         "x": [
          "Bin 0",
          "Bin 1",
          "Bin 2",
          "Bin 3",
          "Bin 4"
         ],
         "xaxis": "x3",
         "y": [
          0.069,
          0.097,
          0.125,
          0.148,
          0.6
         ],
         "yaxis": "y3"
        },
        {
         "cells": {
          "align": [
           "left",
           "center",
           "center",
           "center",
           "center",
           "center"
          ],
          "fill": {
           "color": [
            "rgb(64,70,114)",
            [
             "rgb(245, 245, 245)",
             "rgb(245, 245, 245)",
             "rgb(255, 255, 255)",
             "rgb(255, 255, 255)",
             "rgb(245, 245, 245)",
             "rgb(245, 245, 245)"
            ]
           ]
          },
          "font": {
           "color": [
            "white",
            "#506784",
            "#506784",
            "#506784"
           ],
           "size": 12
          },
          "height": 50,
          "line": {
           "color": "rgba(80,103,132,0.2)",
           "width": 1
          },
          "values": [
           [
            "Bin 0",
            "Bin 1",
            "Bin 2",
            "Bin 3",
            "Bin 4"
           ],
           [
            1447,
            7689,
            6065,
            2251,
            5
           ],
           [
            100,
            744,
            758,
            333,
            3
           ],
           [
            1347,
            6945,
            5307,
            1918,
            2
           ],
           [
            0.069,
            0.097,
            0.125,
            0.148,
            0.6
           ],
           [
            0.52,
            0.153,
            -0.134,
            -0.33,
            -2.486
           ]
          ]
         },
         "columnwidth": [
          1.2,
          1.2,
          1.2,
          1.2
         ],
         "domain": {
          "x": [
           0,
           0.45
          ],
          "y": [
           0,
           0.83
          ]
         },
         "header": {
          "align": [
           "center",
           "center",
           "center",
           "center",
           "center"
          ],
          "fill": {
           "color": "rgb(64,70,114)"
          },
          "font": {
           "color": "white",
           "size": 12
          },
          "height": 40,
          "line": {
           "color": "rgba(80,103,132,0.2)",
           "width": 0.5
          },
          "values": [
           "",
           "total",
           "bad",
           "good",
           "bad_rate",
           "WOE"
          ]
         },
         "type": "table",
         "visible": false
        },
        {
         "marker": {
          "color": [
           "rgb(43,131,186)",
           "rgb(171,221,164)",
           "rgb(255,255,191)",
           "rgb(253,174,97)",
           "rgb(215,25,28)"
          ]
         },
         "name": "cnts",
         "showlegend": false,
         "text": [
          1447,
          7689,
          6065,
          2251,
          5
         ],
         "type": "bar",
         "visible": false,
         "x": [
          "Bin 0",
          "Bin 1",
          "Bin 2",
          "Bin 3",
          "Bin 4"
         ],
         "xaxis": "x2",
         "y": [
          1447,
          7689,
          6065,
          2251,
          5
         ],
         "yaxis": "y2"
        },
        {
         "marker": {
          "color": "rgb(255,127,0)"
         },
         "name": "bad_rate",
         "showlegend": false,
         "text": [
          7452,
          7042,
          2739,
          224
         ],
         "type": "scatter",
         "visible": false,
         "x": [
          "Bin 0",
          "Bin 1",
          "Bin 2",
          "Bin 3"
         ],
         "xaxis": "x3",
         "y": [
          0.054,
          0.124,
          0.205,
          0.438
         ],
         "yaxis": "y3"
        },
        {
         "cells": {
          "align": [
           "left",
           "center",
           "center",
           "center",
           "center",
           "center"
          ],
          "fill": {
           "color": [
            "rgb(64,70,114)",
            [
             "rgb(245, 245, 245)",
             "rgb(245, 245, 245)",
             "rgb(255, 255, 255)",
             "rgb(255, 255, 255)",
             "rgb(245, 245, 245)",
             "rgb(245, 245, 245)"
            ]
           ]
          },
          "font": {
           "color": [
            "white",
            "#506784",
            "#506784",
            "#506784"
           ],
           "size": 12
          },
          "height": 50,
          "line": {
           "color": "rgba(80,103,132,0.2)",
           "width": 1
          },
          "values": [
           [
            "Bin 0",
            "Bin 1",
            "Bin 2",
            "Bin 3"
           ],
           [
            7452,
            7042,
            2739,
            224
           ],
           [
            406,
            872,
            562,
            98
           ],
           [
            7046,
            6170,
            2177,
            126
           ],
           [
            0.054,
            0.124,
            0.205,
            0.438
           ],
           [
            0.773,
            -0.124,
            -0.726,
            -1.829
           ]
          ]
         },
         "columnwidth": [
          1.2,
          1.2,
          1.2,
          1.2
         ],
         "domain": {
          "x": [
           0,
           0.45
          ],
          "y": [
           0,
           0.83
          ]
         },
         "header": {
          "align": [
           "center",
           "center",
           "center",
           "center",
           "center"
          ],
          "fill": {
           "color": "rgb(64,70,114)"
          },
          "font": {
           "color": "white",
           "size": 12
          },
          "height": 40,
          "line": {
           "color": "rgba(80,103,132,0.2)",
           "width": 0.5
          },
          "values": [
           "",
           "total",
           "bad",
           "good",
           "bad_rate",
           "WOE"
          ]
         },
         "type": "table",
         "visible": false
        },
        {
         "marker": {
          "color": [
           "rgb(43,131,186)",
           "rgb(171,221,164)",
           "rgb(255,255,191)",
           "rgb(253,174,97)",
           "rgb(215,25,28)"
          ]
         },
         "name": "cnts",
         "showlegend": false,
         "text": [
          7452,
          7042,
          2739,
          224
         ],
         "type": "bar",
         "visible": false,
         "x": [
          "Bin 0",
          "Bin 1",
          "Bin 2",
          "Bin 3"
         ],
         "xaxis": "x2",
         "y": [
          7452,
          7042,
          2739,
          224
         ],
         "yaxis": "y2"
        },
        {
         "marker": {
          "color": "rgb(255,127,0)"
         },
         "name": "bad_rate",
         "showlegend": false,
         "text": [
          8684,
          7202,
          1567,
          4
         ],
         "type": "scatter",
         "visible": false,
         "x": [
          "Bin 0",
          "Bin 1",
          "Bin 2",
          "Bin 3"
         ],
         "xaxis": "x3",
         "y": [
          0.089,
          0.124,
          0.168,
          0.5
         ],
         "yaxis": "y3"
        },
        {
         "cells": {
          "align": [
           "left",
           "center",
           "center",
           "center",
           "center",
           "center"
          ],
          "fill": {
           "color": [
            "rgb(64,70,114)",
            [
             "rgb(245, 245, 245)",
             "rgb(245, 245, 245)",
             "rgb(255, 255, 255)",
             "rgb(255, 255, 255)",
             "rgb(245, 245, 245)",
             "rgb(245, 245, 245)"
            ]
           ]
          },
          "font": {
           "color": [
            "white",
            "#506784",
            "#506784",
            "#506784"
           ],
           "size": 12
          },
          "height": 50,
          "line": {
           "color": "rgba(80,103,132,0.2)",
           "width": 1
          },
          "values": [
           [
            "Bin 0",
            "Bin 1",
            "Bin 2",
            "Bin 3"
           ],
           [
            8684,
            7202,
            1567,
            4
           ],
           [
            777,
            896,
            263,
            2
           ],
           [
            7907,
            6306,
            1304,
            2
           ],
           [
            0.089,
            0.124,
            0.168,
            0.5
           ],
           [
            0.24,
            -0.129,
            -0.479,
            -2.08
           ]
          ]
         },
         "columnwidth": [
          1.2,
          1.2,
          1.2,
          1.2
         ],
         "domain": {
          "x": [
           0,
           0.45
          ],
          "y": [
           0,
           0.83
          ]
         },
         "header": {
          "align": [
           "center",
           "center",
           "center",
           "center",
           "center"
          ],
          "fill": {
           "color": "rgb(64,70,114)"
          },
          "font": {
           "color": "white",
           "size": 12
          },
          "height": 40,
          "line": {
           "color": "rgba(80,103,132,0.2)",
           "width": 0.5
          },
          "values": [
           "",
           "total",
           "bad",
           "good",
           "bad_rate",
           "WOE"
          ]
         },
         "type": "table",
         "visible": false
        },
        {
         "marker": {
          "color": [
           "rgb(43,131,186)",
           "rgb(171,221,164)",
           "rgb(255,255,191)",
           "rgb(253,174,97)",
           "rgb(215,25,28)"
          ]
         },
         "name": "cnts",
         "showlegend": false,
         "text": [
          8684,
          7202,
          1567,
          4
         ],
         "type": "bar",
         "visible": false,
         "x": [
          "Bin 0",
          "Bin 1",
          "Bin 2",
          "Bin 3"
         ],
         "xaxis": "x2",
         "y": [
          8684,
          7202,
          1567,
          4
         ],
         "yaxis": "y2"
        },
        {
         "marker": {
          "color": "rgb(255,127,0)"
         },
         "name": "bad_rate",
         "showlegend": false,
         "text": [
          16158,
          603,
          696
         ],
         "type": "scatter",
         "visible": false,
         "x": [
          "Bin -1",
          "Bin 1",
          "Bin 3"
         ],
         "xaxis": "x3",
         "y": [
          0.106,
          0.199,
          0.148
         ],
         "yaxis": "y3"
        },
        {
         "cells": {
          "align": [
           "left",
           "center",
           "center",
           "center",
           "center",
           "center"
          ],
          "fill": {
           "color": [
            "rgb(64,70,114)",
            [
             "rgb(245, 245, 245)",
             "rgb(245, 245, 245)",
             "rgb(255, 255, 255)",
             "rgb(255, 255, 255)",
             "rgb(245, 245, 245)",
             "rgb(245, 245, 245)"
            ]
           ]
          },
          "font": {
           "color": [
            "white",
            "#506784",
            "#506784",
            "#506784"
           ],
           "size": 12
          },
          "height": 50,
          "line": {
           "color": "rgba(80,103,132,0.2)",
           "width": 1
          },
          "values": [
           [
            "Bin -1",
            "Bin 1",
            "Bin 3"
           ],
           [
            16158,
            603,
            696
           ],
           [
            1715,
            120,
            103
           ],
           [
            14443,
            483,
            593
           ],
           [
            0.106,
            0.199,
            0.148
           ],
           [
            0.05,
            -0.688,
            -0.33
           ]
          ]
         },
         "columnwidth": [
          1.2,
          1.2,
          1.2,
          1.2
         ],
         "domain": {
          "x": [
           0,
           0.45
          ],
          "y": [
           0,
           0.83
          ]
         },
         "header": {
          "align": [
           "center",
           "center",
           "center",
           "center",
           "center"
          ],
          "fill": {
           "color": "rgb(64,70,114)"
          },
          "font": {
           "color": "white",
           "size": 12
          },
          "height": 40,
          "line": {
           "color": "rgba(80,103,132,0.2)",
           "width": 0.5
          },
          "values": [
           "",
           "total",
           "bad",
           "good",
           "bad_rate",
           "WOE"
          ]
         },
         "type": "table",
         "visible": false
        },
        {
         "marker": {
          "color": [
           "rgb(43,131,186)",
           "rgb(171,221,164)",
           "rgb(255,255,191)",
           "rgb(253,174,97)",
           "rgb(215,25,28)"
          ]
         },
         "name": "cnts",
         "showlegend": false,
         "text": [
          16158,
          603,
          696
         ],
         "type": "bar",
         "visible": false,
         "x": [
          "Bin -1",
          "Bin 1",
          "Bin 3"
         ],
         "xaxis": "x2",
         "y": [
          16158,
          603,
          696
         ],
         "yaxis": "y2"
        },
        {
         "marker": {
          "color": "rgb(255,127,0)"
         },
         "name": "bad_rate",
         "showlegend": false,
         "text": [
          8005,
          6265,
          3187
         ],
         "type": "scatter",
         "visible": false,
         "x": [
          "Bin 0",
          "Bin 1",
          "Bin 2"
         ],
         "xaxis": "x3",
         "y": [
          0.099,
          0.109,
          0.146
         ],
         "yaxis": "y3"
        },
        {
         "cells": {
          "align": [
           "left",
           "center",
           "center",
           "center",
           "center",
           "center"
          ],
          "fill": {
           "color": [
            "rgb(64,70,114)",
            [
             "rgb(245, 245, 245)",
             "rgb(245, 245, 245)",
             "rgb(255, 255, 255)",
             "rgb(255, 255, 255)",
             "rgb(245, 245, 245)",
             "rgb(245, 245, 245)"
            ]
           ]
          },
          "font": {
           "color": [
            "white",
            "#506784",
            "#506784",
            "#506784"
           ],
           "size": 12
          },
          "height": 50,
          "line": {
           "color": "rgba(80,103,132,0.2)",
           "width": 1
          },
          "values": [
           [
            "Bin 0",
            "Bin 1",
            "Bin 2"
           ],
           [
            8005,
            6265,
            3187
           ],
           [
            790,
            683,
            465
           ],
           [
            7215,
            5582,
            2722
           ],
           [
            0.099,
            0.109,
            0.146
           ],
           [
            0.131,
            0.02,
            -0.313
           ]
          ]
         },
         "columnwidth": [
          1.2,
          1.2,
          1.2,
          1.2
         ],
         "domain": {
          "x": [
           0,
           0.45
          ],
          "y": [
           0,
           0.83
          ]
         },
         "header": {
          "align": [
           "center",
           "center",
           "center",
           "center",
           "center"
          ],
          "fill": {
           "color": "rgb(64,70,114)"
          },
          "font": {
           "color": "white",
           "size": 12
          },
          "height": 40,
          "line": {
           "color": "rgba(80,103,132,0.2)",
           "width": 0.5
          },
          "values": [
           "",
           "total",
           "bad",
           "good",
           "bad_rate",
           "WOE"
          ]
         },
         "type": "table",
         "visible": false
        },
        {
         "marker": {
          "color": [
           "rgb(43,131,186)",
           "rgb(171,221,164)",
           "rgb(255,255,191)",
           "rgb(253,174,97)",
           "rgb(215,25,28)"
          ]
         },
         "name": "cnts",
         "showlegend": false,
         "text": [
          8005,
          6265,
          3187
         ],
         "type": "bar",
         "visible": false,
         "x": [
          "Bin 0",
          "Bin 1",
          "Bin 2"
         ],
         "xaxis": "x2",
         "y": [
          8005,
          6265,
          3187
         ],
         "yaxis": "y2"
        },
        {
         "marker": {
          "color": "rgb(255,127,0)"
         },
         "name": "bad_rate",
         "showlegend": false,
         "text": [
          5304,
          12153
         ],
         "type": "scatter",
         "visible": false,
         "x": [
          "Bin 0",
          "Bin 1"
         ],
         "xaxis": "x3",
         "y": [
          0.135,
          0.1
         ],
         "yaxis": "y3"
        },
        {
         "cells": {
          "align": [
           "left",
           "center",
           "center",
           "center",
           "center",
           "center"
          ],
          "fill": {
           "color": [
            "rgb(64,70,114)",
            [
             "rgb(245, 245, 245)",
             "rgb(245, 245, 245)",
             "rgb(255, 255, 255)",
             "rgb(255, 255, 255)",
             "rgb(245, 245, 245)",
             "rgb(245, 245, 245)"
            ]
           ]
          },
          "font": {
           "color": [
            "white",
            "#506784",
            "#506784",
            "#506784"
           ],
           "size": 12
          },
          "height": 50,
          "line": {
           "color": "rgba(80,103,132,0.2)",
           "width": 1
          },
          "values": [
           [
            "Bin 0",
            "Bin 1"
           ],
           [
            5304,
            12153
           ],
           [
            717,
            1221
           ],
           [
            4587,
            10932
           ],
           [
            0.135,
            0.1
           ],
           [
            -0.225,
            0.112
           ]
          ]
         },
         "columnwidth": [
          1.2,
          1.2,
          1.2,
          1.2
         ],
         "domain": {
          "x": [
           0,
           0.45
          ],
          "y": [
           0,
           0.83
          ]
         },
         "header": {
          "align": [
           "center",
           "center",
           "center",
           "center",
           "center"
          ],
          "fill": {
           "color": "rgb(64,70,114)"
          },
          "font": {
           "color": "white",
           "size": 12
          },
          "height": 40,
          "line": {
           "color": "rgba(80,103,132,0.2)",
           "width": 0.5
          },
          "values": [
           "",
           "total",
           "bad",
           "good",
           "bad_rate",
           "WOE"
          ]
         },
         "type": "table",
         "visible": false
        },
        {
         "marker": {
          "color": [
           "rgb(43,131,186)",
           "rgb(171,221,164)",
           "rgb(255,255,191)",
           "rgb(253,174,97)",
           "rgb(215,25,28)"
          ]
         },
         "name": "cnts",
         "showlegend": false,
         "text": [
          5304,
          12153
         ],
         "type": "bar",
         "visible": false,
         "x": [
          "Bin 0",
          "Bin 1"
         ],
         "xaxis": "x2",
         "y": [
          5304,
          12153
         ],
         "yaxis": "y2"
        },
        {
         "marker": {
          "color": "rgb(255,127,0)"
         },
         "name": "bad_rate",
         "showlegend": false,
         "text": [
          4181,
          3306,
          2781,
          5567,
          1622
         ],
         "type": "scatter",
         "visible": false,
         "x": [
          "Bin 0",
          "Bin 1",
          "Bin 2",
          "Bin 3",
          "Bin 4"
         ],
         "xaxis": "x3",
         "y": [
          0.089,
          0.11,
          0.111,
          0.12,
          0.137
         ],
         "yaxis": "y3"
        },
        {
         "cells": {
          "align": [
           "left",
           "center",
           "center",
           "center",
           "center",
           "center"
          ],
          "fill": {
           "color": [
            "rgb(64,70,114)",
            [
             "rgb(245, 245, 245)",
             "rgb(245, 245, 245)",
             "rgb(255, 255, 255)",
             "rgb(255, 255, 255)",
             "rgb(245, 245, 245)",
             "rgb(245, 245, 245)"
            ]
           ]
          },
          "font": {
           "color": [
            "white",
            "#506784",
            "#506784",
            "#506784"
           ],
           "size": 12
          },
          "height": 50,
          "line": {
           "color": "rgba(80,103,132,0.2)",
           "width": 1
          },
          "values": [
           [
            "Bin 0",
            "Bin 1",
            "Bin 2",
            "Bin 3",
            "Bin 4"
           ],
           [
            4181,
            3306,
            2781,
            5567,
            1622
           ],
           [
            374,
            363,
            309,
            670,
            222
           ],
           [
            3807,
            2943,
            2472,
            4897,
            1400
           ],
           [
            0.089,
            0.11,
            0.111,
            0.12,
            0.137
           ],
           [
            0.24,
            0.012,
            -0.001,
            -0.091,
            -0.239
           ]
          ]
         },
         "columnwidth": [
          1.2,
          1.2,
          1.2,
          1.2
         ],
         "domain": {
          "x": [
           0,
           0.45
          ],
          "y": [
           0,
           0.83
          ]
         },
         "header": {
          "align": [
           "center",
           "center",
           "center",
           "center",
           "center"
          ],
          "fill": {
           "color": "rgb(64,70,114)"
          },
          "font": {
           "color": "white",
           "size": 12
          },
          "height": 40,
          "line": {
           "color": "rgba(80,103,132,0.2)",
           "width": 0.5
          },
          "values": [
           "",
           "total",
           "bad",
           "good",
           "bad_rate",
           "WOE"
          ]
         },
         "type": "table",
         "visible": false
        },
        {
         "marker": {
          "color": [
           "rgb(43,131,186)",
           "rgb(171,221,164)",
           "rgb(255,255,191)",
           "rgb(253,174,97)",
           "rgb(215,25,28)"
          ]
         },
         "name": "cnts",
         "showlegend": false,
         "text": [
          4181,
          3306,
          2781,
          5567,
          1622
         ],
         "type": "bar",
         "visible": false,
         "x": [
          "Bin 0",
          "Bin 1",
          "Bin 2",
          "Bin 3",
          "Bin 4"
         ],
         "xaxis": "x2",
         "y": [
          4181,
          3306,
          2781,
          5567,
          1622
         ],
         "yaxis": "y2"
        }
       ],
       "layout": {
        "height": 500,
        "margin": {
         "l": 100,
         "t": 75
        },
        "title": "模型变量分布",
        "titlefont": {
         "size": 20
        },
        "updatemenus": [
         {
          "active": 0,
          "buttons": [
           {
            "args": [
             {
              "visible": [
               true,
               true,
               true,
               false,
               false,
               false,
               false,
               false,
               false,
               false,
               false,
               false,
               false,
               false,
               false,
               false,
               false,
               false,
               false,
               false,
               false,
               false,
               false,
               false,
               false,
               false,
               false,
               false,
               false,
               false
              ]
             },
             {
              "title": "模型变量分布"
             }
            ],
            "label": "int_rate",
            "method": "update"
           },
           {
            "args": [
             {
              "visible": [
               false,
               false,
               false,
               true,
               true,
               true,
               false,
               false,
               false,
               false,
               false,
               false,
               false,
               false,
               false,
               false,
               false,
               false,
               false,
               false,
               false,
               false,
               false,
               false,
               false,
               false,
               false,
               false,
               false,
               false
              ]
             },
             {
              "title": "模型变量分布"
             }
            ],
            "label": "purpose_br",
            "method": "update"
           },
           {
            "args": [
             {
              "visible": [
               false,
               false,
               false,
               false,
               false,
               false,
               true,
               true,
               true,
               false,
               false,
               false,
               false,
               false,
               false,
               false,
               false,
               false,
               false,
               false,
               false,
               false,
               false,
               false,
               false,
               false,
               false,
               false,
               false,
               false
              ]
             },
             {
              "title": "模型变量分布"
             }
            ],
            "label": "annual_inc",
            "method": "update"
           },
           {
            "args": [
             {
              "visible": [
               false,
               false,
               false,
               false,
               false,
               false,
               false,
               false,
               false,
               true,
               true,
               true,
               false,
               false,
               false,
               false,
               false,
               false,
               false,
               false,
               false,
               false,
               false,
               false,
               false,
               false,
               false,
               false,
               false,
               false
              ]
             },
             {
              "title": "模型变量分布"
             }
            ],
            "label": "addr_state",
            "method": "update"
           },
           {
            "args": [
             {
              "visible": [
               false,
               false,
               false,
               false,
               false,
               false,
               false,
               false,
               false,
               false,
               false,
               false,
               true,
               true,
               true,
               false,
               false,
               false,
               false,
               false,
               false,
               false,
               false,
               false,
               false,
               false,
               false,
               false,
               false,
               false
              ]
             },
             {
              "title": "模型变量分布"
             }
            ],
            "label": "zip_code",
            "method": "update"
           },
           {
            "args": [
             {
              "visible": [
               false,
               false,
               false,
               false,
               false,
               false,
               false,
               false,
               false,
               false,
               false,
               false,
               false,
               false,
               false,
               true,
               true,
               true,
               false,
               false,
               false,
               false,
               false,
               false,
               false,
               false,
               false,
               false,
               false,
               false
              ]
             },
             {
              "title": "模型变量分布"
             }
            ],
            "label": "inq_last_6mths",
            "method": "update"
           },
           {
            "args": [
             {
              "visible": [
               false,
               false,
               false,
               false,
               false,
               false,
               false,
               false,
               false,
               false,
               false,
               false,
               false,
               false,
               false,
               false,
               false,
               false,
               true,
               true,
               true,
               false,
               false,
               false,
               false,
               false,
               false,
               false,
               false,
               false
              ]
             },
             {
              "title": "模型变量分布"
             }
            ],
            "label": "mths_last_record",
            "method": "update"
           },
           {
            "args": [
             {
              "visible": [
               false,
               false,
               false,
               false,
               false,
               false,
               false,
               false,
               false,
               false,
               false,
               false,
               false,
               false,
               false,
               false,
               false,
               false,
               false,
               false,
               false,
               true,
               true,
               true,
               false,
               false,
               false,
               false,
               false,
               false
              ]
             },
             {
              "title": "模型变量分布"
             }
            ],
            "label": "limit_income",
            "method": "update"
           },
           {
            "args": [
             {
              "visible": [
               false,
               false,
               false,
               false,
               false,
               false,
               false,
               false,
               false,
               false,
               false,
               false,
               false,
               false,
               false,
               false,
               false,
               false,
               false,
               false,
               false,
               false,
               false,
               false,
               true,
               true,
               true,
               false,
               false,
               false
              ]
             },
             {
              "title": "模型变量分布"
             }
            ],
            "label": "total_acc",
            "method": "update"
           },
           {
            "args": [
             {
              "visible": [
               false,
               false,
               false,
               false,
               false,
               false,
               false,
               false,
               false,
               false,
               false,
               false,
               false,
               false,
               false,
               false,
               false,
               false,
               false,
               false,
               false,
               false,
               false,
               false,
               false,
               false,
               false,
               true,
               true,
               true
              ]
             },
             {
              "title": "模型变量分布"
             }
            ],
            "label": "dti",
            "method": "update"
           }
          ],
          "type": "buttons"
         }
        ],
        "width": 1000,
        "xaxis2": {
         "anchor": "y2",
         "domain": [
          0.55,
          1
         ],
         "showgrid": false,
         "showticklabels": true,
         "tickangle": 30,
         "tickfont": {
          "size": 11
         }
        },
        "xaxis3": {
         "anchor": "y3",
         "domain": [
          0.53,
          0.988
         ],
         "showgrid": true,
         "showticklabels": false,
         "tickangle": -30,
         "tickfont": {
          "family": "Pt Sans Narrow",
          "size": 11
         }
        },
        "yaxis2": {
         "anchor": "x2",
         "domain": [
          0,
          0.5
         ],
         "showgrid": true,
         "showticklabels": true
        },
        "yaxis3": {
         "anchor": "x3",
         "domain": [
          0.6,
          0.8
         ],
         "showgrid": true,
         "showticklabels": true
        }
       }
      },
      "text/html": [
       "<div id=\"bc34a8cd-c47b-4d85-b917-99f6c1e5c78a\" style=\"height: 500px; width: 1000px;\" class=\"plotly-graph-div\"></div><script type=\"text/javascript\">require([\"plotly\"], function(Plotly) { window.PLOTLYENV=window.PLOTLYENV || {};window.PLOTLYENV.BASE_URL=\"https://plot.ly\";Plotly.newPlot(\"bc34a8cd-c47b-4d85-b917-99f6c1e5c78a\", [{\"type\": \"scatter\", \"x\": [\"Bin 0\", \"Bin 1\", \"Bin 2\", \"Bin 3\", \"Bin 4\"], \"y\": [0.048, 0.086, 0.11, 0.139, 0.181], \"marker\": {\"color\": \"rgb(255,127,0)\"}, \"name\": \"bad_rate\", \"text\": [4260, 2577, 4133, 2820, 3667], \"xaxis\": \"x3\", \"yaxis\": \"y3\"}, {\"type\": \"table\", \"domain\": {\"x\": [0, 0.45], \"y\": [0, 0.83]}, \"columnwidth\": [1.2, 1.2, 1.2, 1.2], \"header\": {\"values\": [\"\", \"total\", \"bad\", \"good\", \"bad_rate\", \"WOE\"], \"line\": {\"color\": \"rgba(80,103,132,0.2)\", \"width\": 0.5}, \"fill\": {\"color\": \"rgb(64,70,114)\"}, \"align\": [\"center\", \"center\", \"center\", \"center\", \"center\"], \"font\": {\"color\": \"white\", \"size\": 12}, \"height\": 40}, \"cells\": {\"values\": [[\"Bin 0\", \"Bin 1\", \"Bin 2\", \"Bin 3\", \"Bin 4\"], [4260, 2577, 4133, 2820, 3667], [205, 221, 456, 392, 664], [4055, 2356, 3677, 2428, 3003], [0.048, 0.086, 0.11, 0.139, 0.181], [0.904, 0.286, 0.007, -0.257, -0.571]], \"line\": {\"color\": \"rgba(80,103,132,0.2)\", \"width\": 1}, \"fill\": {\"color\": [\"rgb(64,70,114)\", [\"rgb(245, 245, 245)\", \"rgb(245, 245, 245)\", \"rgb(255, 255, 255)\", \"rgb(255, 255, 255)\", \"rgb(245, 245, 245)\", \"rgb(245, 245, 245)\"]]}, \"align\": [\"left\", \"center\", \"center\", \"center\", \"center\", \"center\"], \"font\": {\"color\": [\"white\", \"#506784\", \"#506784\", \"#506784\"], \"size\": 12}, \"height\": 50}}, {\"type\": \"bar\", \"x\": [\"Bin 0\", \"Bin 1\", \"Bin 2\", \"Bin 3\", \"Bin 4\"], \"y\": [4260, 2577, 4133, 2820, 3667], \"name\": \"cnts\", \"xaxis\": \"x2\", \"yaxis\": \"y2\", \"showlegend\": false, \"marker\": {\"color\": [\"rgb(43,131,186)\", \"rgb(171,221,164)\", \"rgb(255,255,191)\", \"rgb(253,174,97)\", \"rgb(215,25,28)\"]}, \"text\": [4260, 2577, 4133, 2820, 3667]}, {\"type\": \"scatter\", \"x\": [\"Bin 0\", \"Bin 1\", \"Bin 2\", \"Bin 3\", \"Bin 4\"], \"y\": [0.078, 0.098, 0.115, 0.162, 0.21], \"marker\": {\"color\": \"rgb(255,127,0)\"}, \"name\": \"bad_rate\", \"visible\": false, \"text\": [4045, 1841, 10016, 771, 784], \"xaxis\": \"x3\", \"yaxis\": \"y3\"}, {\"type\": \"table\", \"domain\": {\"x\": [0, 0.45], \"y\": [0, 0.83]}, \"columnwidth\": [1.2, 1.2, 1.2, 1.2], \"header\": {\"values\": [\"\", \"total\", \"bad\", \"good\", \"bad_rate\", \"WOE\"], \"line\": {\"color\": \"rgba(80,103,132,0.2)\", \"width\": 0.5}, \"fill\": {\"color\": \"rgb(64,70,114)\"}, \"align\": [\"center\", \"center\", \"center\", \"center\", \"center\"], \"font\": {\"color\": \"white\", \"size\": 12}, \"height\": 40}, \"visible\": false, \"cells\": {\"values\": [[\"Bin 0\", \"Bin 1\", \"Bin 2\", \"Bin 3\", \"Bin 4\"], [4045, 1841, 10016, 771, 784], [316, 181, 1151, 125, 165], [3729, 1660, 8865, 646, 619], [0.078, 0.098, 0.115, 0.162, 0.21], [0.388, 0.136, -0.039, -0.438, -0.758]], \"line\": {\"color\": \"rgba(80,103,132,0.2)\", \"width\": 1}, \"fill\": {\"color\": [\"rgb(64,70,114)\", [\"rgb(245, 245, 245)\", \"rgb(245, 245, 245)\", \"rgb(255, 255, 255)\", \"rgb(255, 255, 255)\", \"rgb(245, 245, 245)\", \"rgb(245, 245, 245)\"]]}, \"align\": [\"left\", \"center\", \"center\", \"center\", \"center\", \"center\"], \"font\": {\"color\": [\"white\", \"#506784\", \"#506784\", \"#506784\"], \"size\": 12}, \"height\": 50}}, {\"type\": \"bar\", \"x\": [\"Bin 0\", \"Bin 1\", \"Bin 2\", \"Bin 3\", \"Bin 4\"], \"y\": [4045, 1841, 10016, 771, 784], \"name\": \"cnts\", \"xaxis\": \"x2\", \"yaxis\": \"y2\", \"visible\": false, \"showlegend\": false, \"marker\": {\"color\": [\"rgb(43,131,186)\", \"rgb(171,221,164)\", \"rgb(255,255,191)\", \"rgb(253,174,97)\", \"rgb(215,25,28)\"]}, \"text\": [4045, 1841, 10016, 771, 784]}, {\"type\": \"scatter\", \"x\": [\"Bin 0\", \"Bin 1\", \"Bin 2\", \"Bin 3\", \"Bin 4\"], \"y\": [0.179, 0.15, 0.116, 0.106, 0.084], \"marker\": {\"color\": \"rgb(255,127,0)\"}, \"name\": \"bad_rate\", \"visible\": false, \"text\": [716, 3113, 4327, 2665, 6636], \"xaxis\": \"x3\", \"yaxis\": \"y3\"}, {\"type\": \"table\", \"domain\": {\"x\": [0, 0.45], \"y\": [0, 0.83]}, \"columnwidth\": [1.2, 1.2, 1.2, 1.2], \"header\": {\"values\": [\"\", \"total\", \"bad\", \"good\", \"bad_rate\", \"WOE\"], \"line\": {\"color\": \"rgba(80,103,132,0.2)\", \"width\": 0.5}, \"fill\": {\"color\": \"rgb(64,70,114)\"}, \"align\": [\"center\", \"center\", \"center\", \"center\", \"center\"], \"font\": {\"color\": \"white\", \"size\": 12}, \"height\": 40}, \"visible\": false, \"cells\": {\"values\": [[\"Bin 0\", \"Bin 1\", \"Bin 2\", \"Bin 3\", \"Bin 4\"], [716, 3113, 4327, 2665, 6636], [128, 466, 501, 283, 560], [588, 2647, 3826, 2382, 6076], [0.179, 0.15, 0.116, 0.106, 0.084], [-0.556, -0.343, -0.047, 0.05, 0.304]], \"line\": {\"color\": \"rgba(80,103,132,0.2)\", \"width\": 1}, \"fill\": {\"color\": [\"rgb(64,70,114)\", [\"rgb(245, 245, 245)\", \"rgb(245, 245, 245)\", \"rgb(255, 255, 255)\", \"rgb(255, 255, 255)\", \"rgb(245, 245, 245)\", \"rgb(245, 245, 245)\"]]}, \"align\": [\"left\", \"center\", \"center\", \"center\", \"center\", \"center\"], \"font\": {\"color\": [\"white\", \"#506784\", \"#506784\", \"#506784\"], \"size\": 12}, \"height\": 50}}, {\"type\": \"bar\", \"x\": [\"Bin 0\", \"Bin 1\", \"Bin 2\", \"Bin 3\", \"Bin 4\"], \"y\": [716, 3113, 4327, 2665, 6636], \"name\": \"cnts\", \"xaxis\": \"x2\", \"yaxis\": \"y2\", \"visible\": false, \"showlegend\": false, \"marker\": {\"color\": [\"rgb(43,131,186)\", \"rgb(171,221,164)\", \"rgb(255,255,191)\", \"rgb(253,174,97)\", \"rgb(215,25,28)\"]}, \"text\": [716, 3113, 4327, 2665, 6636]}, {\"type\": \"scatter\", \"x\": [\"Bin 0\", \"Bin 1\", \"Bin 2\", \"Bin 3\", \"Bin 4\"], \"y\": [0.069, 0.097, 0.125, 0.148, 0.6], \"marker\": {\"color\": \"rgb(255,127,0)\"}, \"name\": \"bad_rate\", \"visible\": false, \"text\": [1447, 7689, 6065, 2251, 5], \"xaxis\": \"x3\", \"yaxis\": \"y3\"}, {\"type\": \"table\", \"domain\": {\"x\": [0, 0.45], \"y\": [0, 0.83]}, \"columnwidth\": [1.2, 1.2, 1.2, 1.2], \"header\": {\"values\": [\"\", \"total\", \"bad\", \"good\", \"bad_rate\", \"WOE\"], \"line\": {\"color\": \"rgba(80,103,132,0.2)\", \"width\": 0.5}, \"fill\": {\"color\": \"rgb(64,70,114)\"}, \"align\": [\"center\", \"center\", \"center\", \"center\", \"center\"], \"font\": {\"color\": \"white\", \"size\": 12}, \"height\": 40}, \"visible\": false, \"cells\": {\"values\": [[\"Bin 0\", \"Bin 1\", \"Bin 2\", \"Bin 3\", \"Bin 4\"], [1447, 7689, 6065, 2251, 5], [100, 744, 758, 333, 3], [1347, 6945, 5307, 1918, 2], [0.069, 0.097, 0.125, 0.148, 0.6], [0.52, 0.153, -0.134, -0.33, -2.486]], \"line\": {\"color\": \"rgba(80,103,132,0.2)\", \"width\": 1}, \"fill\": {\"color\": [\"rgb(64,70,114)\", [\"rgb(245, 245, 245)\", \"rgb(245, 245, 245)\", \"rgb(255, 255, 255)\", \"rgb(255, 255, 255)\", \"rgb(245, 245, 245)\", \"rgb(245, 245, 245)\"]]}, \"align\": [\"left\", \"center\", \"center\", \"center\", \"center\", \"center\"], \"font\": {\"color\": [\"white\", \"#506784\", \"#506784\", \"#506784\"], \"size\": 12}, \"height\": 50}}, {\"type\": \"bar\", \"x\": [\"Bin 0\", \"Bin 1\", \"Bin 2\", \"Bin 3\", \"Bin 4\"], \"y\": [1447, 7689, 6065, 2251, 5], \"name\": \"cnts\", \"xaxis\": \"x2\", \"yaxis\": \"y2\", \"visible\": false, \"showlegend\": false, \"marker\": {\"color\": [\"rgb(43,131,186)\", \"rgb(171,221,164)\", \"rgb(255,255,191)\", \"rgb(253,174,97)\", \"rgb(215,25,28)\"]}, \"text\": [1447, 7689, 6065, 2251, 5]}, {\"type\": \"scatter\", \"x\": [\"Bin 0\", \"Bin 1\", \"Bin 2\", \"Bin 3\"], \"y\": [0.054, 0.124, 0.205, 0.438], \"marker\": {\"color\": \"rgb(255,127,0)\"}, \"name\": \"bad_rate\", \"visible\": false, \"text\": [7452, 7042, 2739, 224], \"xaxis\": \"x3\", \"yaxis\": \"y3\"}, {\"type\": \"table\", \"domain\": {\"x\": [0, 0.45], \"y\": [0, 0.83]}, \"columnwidth\": [1.2, 1.2, 1.2, 1.2], \"header\": {\"values\": [\"\", \"total\", \"bad\", \"good\", \"bad_rate\", \"WOE\"], \"line\": {\"color\": \"rgba(80,103,132,0.2)\", \"width\": 0.5}, \"fill\": {\"color\": \"rgb(64,70,114)\"}, \"align\": [\"center\", \"center\", \"center\", \"center\", \"center\"], \"font\": {\"color\": \"white\", \"size\": 12}, \"height\": 40}, \"visible\": false, \"cells\": {\"values\": [[\"Bin 0\", \"Bin 1\", \"Bin 2\", \"Bin 3\"], [7452, 7042, 2739, 224], [406, 872, 562, 98], [7046, 6170, 2177, 126], [0.054, 0.124, 0.205, 0.438], [0.773, -0.124, -0.726, -1.829]], \"line\": {\"color\": \"rgba(80,103,132,0.2)\", \"width\": 1}, \"fill\": {\"color\": [\"rgb(64,70,114)\", [\"rgb(245, 245, 245)\", \"rgb(245, 245, 245)\", \"rgb(255, 255, 255)\", \"rgb(255, 255, 255)\", \"rgb(245, 245, 245)\", \"rgb(245, 245, 245)\"]]}, \"align\": [\"left\", \"center\", \"center\", \"center\", \"center\", \"center\"], \"font\": {\"color\": [\"white\", \"#506784\", \"#506784\", \"#506784\"], \"size\": 12}, \"height\": 50}}, {\"type\": \"bar\", \"x\": [\"Bin 0\", \"Bin 1\", \"Bin 2\", \"Bin 3\"], \"y\": [7452, 7042, 2739, 224], \"name\": \"cnts\", \"xaxis\": \"x2\", \"yaxis\": \"y2\", \"visible\": false, \"showlegend\": false, \"marker\": {\"color\": [\"rgb(43,131,186)\", \"rgb(171,221,164)\", \"rgb(255,255,191)\", \"rgb(253,174,97)\", \"rgb(215,25,28)\"]}, \"text\": [7452, 7042, 2739, 224]}, {\"type\": \"scatter\", \"x\": [\"Bin 0\", \"Bin 1\", \"Bin 2\", \"Bin 3\"], \"y\": [0.089, 0.124, 0.168, 0.5], \"marker\": {\"color\": \"rgb(255,127,0)\"}, \"name\": \"bad_rate\", \"visible\": false, \"text\": [8684, 7202, 1567, 4], \"xaxis\": \"x3\", \"yaxis\": \"y3\"}, {\"type\": \"table\", \"domain\": {\"x\": [0, 0.45], \"y\": [0, 0.83]}, \"columnwidth\": [1.2, 1.2, 1.2, 1.2], \"header\": {\"values\": [\"\", \"total\", \"bad\", \"good\", \"bad_rate\", \"WOE\"], \"line\": {\"color\": \"rgba(80,103,132,0.2)\", \"width\": 0.5}, \"fill\": {\"color\": \"rgb(64,70,114)\"}, \"align\": [\"center\", \"center\", \"center\", \"center\", \"center\"], \"font\": {\"color\": \"white\", \"size\": 12}, \"height\": 40}, \"visible\": false, \"cells\": {\"values\": [[\"Bin 0\", \"Bin 1\", \"Bin 2\", \"Bin 3\"], [8684, 7202, 1567, 4], [777, 896, 263, 2], [7907, 6306, 1304, 2], [0.089, 0.124, 0.168, 0.5], [0.24, -0.129, -0.479, -2.08]], \"line\": {\"color\": \"rgba(80,103,132,0.2)\", \"width\": 1}, \"fill\": {\"color\": [\"rgb(64,70,114)\", [\"rgb(245, 245, 245)\", \"rgb(245, 245, 245)\", \"rgb(255, 255, 255)\", \"rgb(255, 255, 255)\", \"rgb(245, 245, 245)\", \"rgb(245, 245, 245)\"]]}, \"align\": [\"left\", \"center\", \"center\", \"center\", \"center\", \"center\"], \"font\": {\"color\": [\"white\", \"#506784\", \"#506784\", \"#506784\"], \"size\": 12}, \"height\": 50}}, {\"type\": \"bar\", \"x\": [\"Bin 0\", \"Bin 1\", \"Bin 2\", \"Bin 3\"], \"y\": [8684, 7202, 1567, 4], \"name\": \"cnts\", \"xaxis\": \"x2\", \"yaxis\": \"y2\", \"visible\": false, \"showlegend\": false, \"marker\": {\"color\": [\"rgb(43,131,186)\", \"rgb(171,221,164)\", \"rgb(255,255,191)\", \"rgb(253,174,97)\", \"rgb(215,25,28)\"]}, \"text\": [8684, 7202, 1567, 4]}, {\"type\": \"scatter\", \"x\": [\"Bin -1\", \"Bin 1\", \"Bin 3\"], \"y\": [0.106, 0.199, 0.148], \"marker\": {\"color\": \"rgb(255,127,0)\"}, \"name\": \"bad_rate\", \"visible\": false, \"text\": [16158, 603, 696], \"xaxis\": \"x3\", \"yaxis\": \"y3\"}, {\"type\": \"table\", \"domain\": {\"x\": [0, 0.45], \"y\": [0, 0.83]}, \"columnwidth\": [1.2, 1.2, 1.2, 1.2], \"header\": {\"values\": [\"\", \"total\", \"bad\", \"good\", \"bad_rate\", \"WOE\"], \"line\": {\"color\": \"rgba(80,103,132,0.2)\", \"width\": 0.5}, \"fill\": {\"color\": \"rgb(64,70,114)\"}, \"align\": [\"center\", \"center\", \"center\", \"center\", \"center\"], \"font\": {\"color\": \"white\", \"size\": 12}, \"height\": 40}, \"visible\": false, \"cells\": {\"values\": [[\"Bin -1\", \"Bin 1\", \"Bin 3\"], [16158, 603, 696], [1715, 120, 103], [14443, 483, 593], [0.106, 0.199, 0.148], [0.05, -0.688, -0.33]], \"line\": {\"color\": \"rgba(80,103,132,0.2)\", \"width\": 1}, \"fill\": {\"color\": [\"rgb(64,70,114)\", [\"rgb(245, 245, 245)\", \"rgb(245, 245, 245)\", \"rgb(255, 255, 255)\", \"rgb(255, 255, 255)\", \"rgb(245, 245, 245)\", \"rgb(245, 245, 245)\"]]}, \"align\": [\"left\", \"center\", \"center\", \"center\", \"center\", \"center\"], \"font\": {\"color\": [\"white\", \"#506784\", \"#506784\", \"#506784\"], \"size\": 12}, \"height\": 50}}, {\"type\": \"bar\", \"x\": [\"Bin -1\", \"Bin 1\", \"Bin 3\"], \"y\": [16158, 603, 696], \"name\": \"cnts\", \"xaxis\": \"x2\", \"yaxis\": \"y2\", \"visible\": false, \"showlegend\": false, \"marker\": {\"color\": [\"rgb(43,131,186)\", \"rgb(171,221,164)\", \"rgb(255,255,191)\", \"rgb(253,174,97)\", \"rgb(215,25,28)\"]}, \"text\": [16158, 603, 696]}, {\"type\": \"scatter\", \"x\": [\"Bin 0\", \"Bin 1\", \"Bin 2\"], \"y\": [0.099, 0.109, 0.146], \"marker\": {\"color\": \"rgb(255,127,0)\"}, \"name\": \"bad_rate\", \"visible\": false, \"text\": [8005, 6265, 3187], \"xaxis\": \"x3\", \"yaxis\": \"y3\"}, {\"type\": \"table\", \"domain\": {\"x\": [0, 0.45], \"y\": [0, 0.83]}, \"columnwidth\": [1.2, 1.2, 1.2, 1.2], \"header\": {\"values\": [\"\", \"total\", \"bad\", \"good\", \"bad_rate\", \"WOE\"], \"line\": {\"color\": \"rgba(80,103,132,0.2)\", \"width\": 0.5}, \"fill\": {\"color\": \"rgb(64,70,114)\"}, \"align\": [\"center\", \"center\", \"center\", \"center\", \"center\"], \"font\": {\"color\": \"white\", \"size\": 12}, \"height\": 40}, \"visible\": false, \"cells\": {\"values\": [[\"Bin 0\", \"Bin 1\", \"Bin 2\"], [8005, 6265, 3187], [790, 683, 465], [7215, 5582, 2722], [0.099, 0.109, 0.146], [0.131, 0.02, -0.313]], \"line\": {\"color\": \"rgba(80,103,132,0.2)\", \"width\": 1}, \"fill\": {\"color\": [\"rgb(64,70,114)\", [\"rgb(245, 245, 245)\", \"rgb(245, 245, 245)\", \"rgb(255, 255, 255)\", \"rgb(255, 255, 255)\", \"rgb(245, 245, 245)\", \"rgb(245, 245, 245)\"]]}, \"align\": [\"left\", \"center\", \"center\", \"center\", \"center\", \"center\"], \"font\": {\"color\": [\"white\", \"#506784\", \"#506784\", \"#506784\"], \"size\": 12}, \"height\": 50}}, {\"type\": \"bar\", \"x\": [\"Bin 0\", \"Bin 1\", \"Bin 2\"], \"y\": [8005, 6265, 3187], \"name\": \"cnts\", \"xaxis\": \"x2\", \"yaxis\": \"y2\", \"visible\": false, \"showlegend\": false, \"marker\": {\"color\": [\"rgb(43,131,186)\", \"rgb(171,221,164)\", \"rgb(255,255,191)\", \"rgb(253,174,97)\", \"rgb(215,25,28)\"]}, \"text\": [8005, 6265, 3187]}, {\"type\": \"scatter\", \"x\": [\"Bin 0\", \"Bin 1\"], \"y\": [0.135, 0.1], \"marker\": {\"color\": \"rgb(255,127,0)\"}, \"name\": \"bad_rate\", \"visible\": false, \"text\": [5304, 12153], \"xaxis\": \"x3\", \"yaxis\": \"y3\"}, {\"type\": \"table\", \"domain\": {\"x\": [0, 0.45], \"y\": [0, 0.83]}, \"columnwidth\": [1.2, 1.2, 1.2, 1.2], \"header\": {\"values\": [\"\", \"total\", \"bad\", \"good\", \"bad_rate\", \"WOE\"], \"line\": {\"color\": \"rgba(80,103,132,0.2)\", \"width\": 0.5}, \"fill\": {\"color\": \"rgb(64,70,114)\"}, \"align\": [\"center\", \"center\", \"center\", \"center\", \"center\"], \"font\": {\"color\": \"white\", \"size\": 12}, \"height\": 40}, \"visible\": false, \"cells\": {\"values\": [[\"Bin 0\", \"Bin 1\"], [5304, 12153], [717, 1221], [4587, 10932], [0.135, 0.1], [-0.225, 0.112]], \"line\": {\"color\": \"rgba(80,103,132,0.2)\", \"width\": 1}, \"fill\": {\"color\": [\"rgb(64,70,114)\", [\"rgb(245, 245, 245)\", \"rgb(245, 245, 245)\", \"rgb(255, 255, 255)\", \"rgb(255, 255, 255)\", \"rgb(245, 245, 245)\", \"rgb(245, 245, 245)\"]]}, \"align\": [\"left\", \"center\", \"center\", \"center\", \"center\", \"center\"], \"font\": {\"color\": [\"white\", \"#506784\", \"#506784\", \"#506784\"], \"size\": 12}, \"height\": 50}}, {\"type\": \"bar\", \"x\": [\"Bin 0\", \"Bin 1\"], \"y\": [5304, 12153], \"name\": \"cnts\", \"xaxis\": \"x2\", \"yaxis\": \"y2\", \"visible\": false, \"showlegend\": false, \"marker\": {\"color\": [\"rgb(43,131,186)\", \"rgb(171,221,164)\", \"rgb(255,255,191)\", \"rgb(253,174,97)\", \"rgb(215,25,28)\"]}, \"text\": [5304, 12153]}, {\"type\": \"scatter\", \"x\": [\"Bin 0\", \"Bin 1\", \"Bin 2\", \"Bin 3\", \"Bin 4\"], \"y\": [0.089, 0.11, 0.111, 0.12, 0.137], \"marker\": {\"color\": \"rgb(255,127,0)\"}, \"name\": \"bad_rate\", \"visible\": false, \"text\": [4181, 3306, 2781, 5567, 1622], \"xaxis\": \"x3\", \"yaxis\": \"y3\"}, {\"type\": \"table\", \"domain\": {\"x\": [0, 0.45], \"y\": [0, 0.83]}, \"columnwidth\": [1.2, 1.2, 1.2, 1.2], \"header\": {\"values\": [\"\", \"total\", \"bad\", \"good\", \"bad_rate\", \"WOE\"], \"line\": {\"color\": \"rgba(80,103,132,0.2)\", \"width\": 0.5}, \"fill\": {\"color\": \"rgb(64,70,114)\"}, \"align\": [\"center\", \"center\", \"center\", \"center\", \"center\"], \"font\": {\"color\": \"white\", \"size\": 12}, \"height\": 40}, \"visible\": false, \"cells\": {\"values\": [[\"Bin 0\", \"Bin 1\", \"Bin 2\", \"Bin 3\", \"Bin 4\"], [4181, 3306, 2781, 5567, 1622], [374, 363, 309, 670, 222], [3807, 2943, 2472, 4897, 1400], [0.089, 0.11, 0.111, 0.12, 0.137], [0.24, 0.012, -0.001, -0.091, -0.239]], \"line\": {\"color\": \"rgba(80,103,132,0.2)\", \"width\": 1}, \"fill\": {\"color\": [\"rgb(64,70,114)\", [\"rgb(245, 245, 245)\", \"rgb(245, 245, 245)\", \"rgb(255, 255, 255)\", \"rgb(255, 255, 255)\", \"rgb(245, 245, 245)\", \"rgb(245, 245, 245)\"]]}, \"align\": [\"left\", \"center\", \"center\", \"center\", \"center\", \"center\"], \"font\": {\"color\": [\"white\", \"#506784\", \"#506784\", \"#506784\"], \"size\": 12}, \"height\": 50}}, {\"type\": \"bar\", \"x\": [\"Bin 0\", \"Bin 1\", \"Bin 2\", \"Bin 3\", \"Bin 4\"], \"y\": [4181, 3306, 2781, 5567, 1622], \"name\": \"cnts\", \"xaxis\": \"x2\", \"yaxis\": \"y2\", \"visible\": false, \"showlegend\": false, \"marker\": {\"color\": [\"rgb(43,131,186)\", \"rgb(171,221,164)\", \"rgb(255,255,191)\", \"rgb(253,174,97)\", \"rgb(215,25,28)\"]}, \"text\": [4181, 3306, 2781, 5567, 1622]}, {\"type\": \"scatter\", \"x\": [\"Bin 0\", \"Bin 1\", \"Bin 2\", \"Bin 3\", \"Bin 4\"], \"y\": [0.048, 0.086, 0.11, 0.139, 0.181], \"marker\": {\"color\": \"rgb(255,127,0)\"}, \"name\": \"bad_rate\", \"text\": [4260, 2577, 4133, 2820, 3667], \"xaxis\": \"x3\", \"yaxis\": \"y3\"}, {\"type\": \"table\", \"domain\": {\"x\": [0, 0.45], \"y\": [0, 0.83]}, \"columnwidth\": [1.2, 1.2, 1.2, 1.2], \"header\": {\"values\": [\"\", \"total\", \"bad\", \"good\", \"bad_rate\", \"WOE\"], \"line\": {\"color\": \"rgba(80,103,132,0.2)\", \"width\": 0.5}, \"fill\": {\"color\": \"rgb(64,70,114)\"}, \"align\": [\"center\", \"center\", \"center\", \"center\", \"center\"], \"font\": {\"color\": \"white\", \"size\": 12}, \"height\": 40}, \"cells\": {\"values\": [[\"Bin 0\", \"Bin 1\", \"Bin 2\", \"Bin 3\", \"Bin 4\"], [4260, 2577, 4133, 2820, 3667], [205, 221, 456, 392, 664], [4055, 2356, 3677, 2428, 3003], [0.048, 0.086, 0.11, 0.139, 0.181], [0.904, 0.286, 0.007, -0.257, -0.571]], \"line\": {\"color\": \"rgba(80,103,132,0.2)\", \"width\": 1}, \"fill\": {\"color\": [\"rgb(64,70,114)\", [\"rgb(245, 245, 245)\", \"rgb(245, 245, 245)\", \"rgb(255, 255, 255)\", \"rgb(255, 255, 255)\", \"rgb(245, 245, 245)\", \"rgb(245, 245, 245)\"]]}, \"align\": [\"left\", \"center\", \"center\", \"center\", \"center\", \"center\"], \"font\": {\"color\": [\"white\", \"#506784\", \"#506784\", \"#506784\"], \"size\": 12}, \"height\": 50}}, {\"type\": \"bar\", \"x\": [\"Bin 0\", \"Bin 1\", \"Bin 2\", \"Bin 3\", \"Bin 4\"], \"y\": [4260, 2577, 4133, 2820, 3667], \"name\": \"cnts\", \"xaxis\": \"x2\", \"yaxis\": \"y2\", \"showlegend\": false, \"marker\": {\"color\": [\"rgb(43,131,186)\", \"rgb(171,221,164)\", \"rgb(255,255,191)\", \"rgb(253,174,97)\", \"rgb(215,25,28)\"]}, \"text\": [4260, 2577, 4133, 2820, 3667]}, {\"type\": \"scatter\", \"x\": [\"Bin 0\", \"Bin 1\", \"Bin 2\", \"Bin 3\", \"Bin 4\"], \"y\": [0.078, 0.098, 0.115, 0.162, 0.21], \"marker\": {\"color\": \"rgb(255,127,0)\"}, \"name\": \"bad_rate\", \"visible\": false, \"text\": [4045, 1841, 10016, 771, 784], \"xaxis\": \"x3\", \"yaxis\": \"y3\"}, {\"type\": \"table\", \"domain\": {\"x\": [0, 0.45], \"y\": [0, 0.83]}, \"columnwidth\": [1.2, 1.2, 1.2, 1.2], \"header\": {\"values\": [\"\", \"total\", \"bad\", \"good\", \"bad_rate\", \"WOE\"], \"line\": {\"color\": \"rgba(80,103,132,0.2)\", \"width\": 0.5}, \"fill\": {\"color\": \"rgb(64,70,114)\"}, \"align\": [\"center\", \"center\", \"center\", \"center\", \"center\"], \"font\": {\"color\": \"white\", \"size\": 12}, \"height\": 40}, \"visible\": false, \"cells\": {\"values\": [[\"Bin 0\", \"Bin 1\", \"Bin 2\", \"Bin 3\", \"Bin 4\"], [4045, 1841, 10016, 771, 784], [316, 181, 1151, 125, 165], [3729, 1660, 8865, 646, 619], [0.078, 0.098, 0.115, 0.162, 0.21], [0.388, 0.136, -0.039, -0.438, -0.758]], \"line\": {\"color\": \"rgba(80,103,132,0.2)\", \"width\": 1}, \"fill\": {\"color\": [\"rgb(64,70,114)\", [\"rgb(245, 245, 245)\", \"rgb(245, 245, 245)\", \"rgb(255, 255, 255)\", \"rgb(255, 255, 255)\", \"rgb(245, 245, 245)\", \"rgb(245, 245, 245)\"]]}, \"align\": [\"left\", \"center\", \"center\", \"center\", \"center\", \"center\"], \"font\": {\"color\": [\"white\", \"#506784\", \"#506784\", \"#506784\"], \"size\": 12}, \"height\": 50}}, {\"type\": \"bar\", \"x\": [\"Bin 0\", \"Bin 1\", \"Bin 2\", \"Bin 3\", \"Bin 4\"], \"y\": [4045, 1841, 10016, 771, 784], \"name\": \"cnts\", \"xaxis\": \"x2\", \"yaxis\": \"y2\", \"visible\": false, \"showlegend\": false, \"marker\": {\"color\": [\"rgb(43,131,186)\", \"rgb(171,221,164)\", \"rgb(255,255,191)\", \"rgb(253,174,97)\", \"rgb(215,25,28)\"]}, \"text\": [4045, 1841, 10016, 771, 784]}, {\"type\": \"scatter\", \"x\": [\"Bin 0\", \"Bin 1\", \"Bin 2\", \"Bin 3\", \"Bin 4\"], \"y\": [0.179, 0.15, 0.116, 0.106, 0.084], \"marker\": {\"color\": \"rgb(255,127,0)\"}, \"name\": \"bad_rate\", \"visible\": false, \"text\": [716, 3113, 4327, 2665, 6636], \"xaxis\": \"x3\", \"yaxis\": \"y3\"}, {\"type\": \"table\", \"domain\": {\"x\": [0, 0.45], \"y\": [0, 0.83]}, \"columnwidth\": [1.2, 1.2, 1.2, 1.2], \"header\": {\"values\": [\"\", \"total\", \"bad\", \"good\", \"bad_rate\", \"WOE\"], \"line\": {\"color\": \"rgba(80,103,132,0.2)\", \"width\": 0.5}, \"fill\": {\"color\": \"rgb(64,70,114)\"}, \"align\": [\"center\", \"center\", \"center\", \"center\", \"center\"], \"font\": {\"color\": \"white\", \"size\": 12}, \"height\": 40}, \"visible\": false, \"cells\": {\"values\": [[\"Bin 0\", \"Bin 1\", \"Bin 2\", \"Bin 3\", \"Bin 4\"], [716, 3113, 4327, 2665, 6636], [128, 466, 501, 283, 560], [588, 2647, 3826, 2382, 6076], [0.179, 0.15, 0.116, 0.106, 0.084], [-0.556, -0.343, -0.047, 0.05, 0.304]], \"line\": {\"color\": \"rgba(80,103,132,0.2)\", \"width\": 1}, \"fill\": {\"color\": [\"rgb(64,70,114)\", [\"rgb(245, 245, 245)\", \"rgb(245, 245, 245)\", \"rgb(255, 255, 255)\", \"rgb(255, 255, 255)\", \"rgb(245, 245, 245)\", \"rgb(245, 245, 245)\"]]}, \"align\": [\"left\", \"center\", \"center\", \"center\", \"center\", \"center\"], \"font\": {\"color\": [\"white\", \"#506784\", \"#506784\", \"#506784\"], \"size\": 12}, \"height\": 50}}, {\"type\": \"bar\", \"x\": [\"Bin 0\", \"Bin 1\", \"Bin 2\", \"Bin 3\", \"Bin 4\"], \"y\": [716, 3113, 4327, 2665, 6636], \"name\": \"cnts\", \"xaxis\": \"x2\", \"yaxis\": \"y2\", \"visible\": false, \"showlegend\": false, \"marker\": {\"color\": [\"rgb(43,131,186)\", \"rgb(171,221,164)\", \"rgb(255,255,191)\", \"rgb(253,174,97)\", \"rgb(215,25,28)\"]}, \"text\": [716, 3113, 4327, 2665, 6636]}, {\"type\": \"scatter\", \"x\": [\"Bin 0\", \"Bin 1\", \"Bin 2\", \"Bin 3\", \"Bin 4\"], \"y\": [0.069, 0.097, 0.125, 0.148, 0.6], \"marker\": {\"color\": \"rgb(255,127,0)\"}, \"name\": \"bad_rate\", \"visible\": false, \"text\": [1447, 7689, 6065, 2251, 5], \"xaxis\": \"x3\", \"yaxis\": \"y3\"}, {\"type\": \"table\", \"domain\": {\"x\": [0, 0.45], \"y\": [0, 0.83]}, \"columnwidth\": [1.2, 1.2, 1.2, 1.2], \"header\": {\"values\": [\"\", \"total\", \"bad\", \"good\", \"bad_rate\", \"WOE\"], \"line\": {\"color\": \"rgba(80,103,132,0.2)\", \"width\": 0.5}, \"fill\": {\"color\": \"rgb(64,70,114)\"}, \"align\": [\"center\", \"center\", \"center\", \"center\", \"center\"], \"font\": {\"color\": \"white\", \"size\": 12}, \"height\": 40}, \"visible\": false, \"cells\": {\"values\": [[\"Bin 0\", \"Bin 1\", \"Bin 2\", \"Bin 3\", \"Bin 4\"], [1447, 7689, 6065, 2251, 5], [100, 744, 758, 333, 3], [1347, 6945, 5307, 1918, 2], [0.069, 0.097, 0.125, 0.148, 0.6], [0.52, 0.153, -0.134, -0.33, -2.486]], \"line\": {\"color\": \"rgba(80,103,132,0.2)\", \"width\": 1}, \"fill\": {\"color\": [\"rgb(64,70,114)\", [\"rgb(245, 245, 245)\", \"rgb(245, 245, 245)\", \"rgb(255, 255, 255)\", \"rgb(255, 255, 255)\", \"rgb(245, 245, 245)\", \"rgb(245, 245, 245)\"]]}, \"align\": [\"left\", \"center\", \"center\", \"center\", \"center\", \"center\"], \"font\": {\"color\": [\"white\", \"#506784\", \"#506784\", \"#506784\"], \"size\": 12}, \"height\": 50}}, {\"type\": \"bar\", \"x\": [\"Bin 0\", \"Bin 1\", \"Bin 2\", \"Bin 3\", \"Bin 4\"], \"y\": [1447, 7689, 6065, 2251, 5], \"name\": \"cnts\", \"xaxis\": \"x2\", \"yaxis\": \"y2\", \"visible\": false, \"showlegend\": false, \"marker\": {\"color\": [\"rgb(43,131,186)\", \"rgb(171,221,164)\", \"rgb(255,255,191)\", \"rgb(253,174,97)\", \"rgb(215,25,28)\"]}, \"text\": [1447, 7689, 6065, 2251, 5]}, {\"type\": \"scatter\", \"x\": [\"Bin 0\", \"Bin 1\", \"Bin 2\", \"Bin 3\"], \"y\": [0.054, 0.124, 0.205, 0.438], \"marker\": {\"color\": \"rgb(255,127,0)\"}, \"name\": \"bad_rate\", \"visible\": false, \"text\": [7452, 7042, 2739, 224], \"xaxis\": \"x3\", \"yaxis\": \"y3\"}, {\"type\": \"table\", \"domain\": {\"x\": [0, 0.45], \"y\": [0, 0.83]}, \"columnwidth\": [1.2, 1.2, 1.2, 1.2], \"header\": {\"values\": [\"\", \"total\", \"bad\", \"good\", \"bad_rate\", \"WOE\"], \"line\": {\"color\": \"rgba(80,103,132,0.2)\", \"width\": 0.5}, \"fill\": {\"color\": \"rgb(64,70,114)\"}, \"align\": [\"center\", \"center\", \"center\", \"center\", \"center\"], \"font\": {\"color\": \"white\", \"size\": 12}, \"height\": 40}, \"visible\": false, \"cells\": {\"values\": [[\"Bin 0\", \"Bin 1\", \"Bin 2\", \"Bin 3\"], [7452, 7042, 2739, 224], [406, 872, 562, 98], [7046, 6170, 2177, 126], [0.054, 0.124, 0.205, 0.438], [0.773, -0.124, -0.726, -1.829]], \"line\": {\"color\": \"rgba(80,103,132,0.2)\", \"width\": 1}, \"fill\": {\"color\": [\"rgb(64,70,114)\", [\"rgb(245, 245, 245)\", \"rgb(245, 245, 245)\", \"rgb(255, 255, 255)\", \"rgb(255, 255, 255)\", \"rgb(245, 245, 245)\", \"rgb(245, 245, 245)\"]]}, \"align\": [\"left\", \"center\", \"center\", \"center\", \"center\", \"center\"], \"font\": {\"color\": [\"white\", \"#506784\", \"#506784\", \"#506784\"], \"size\": 12}, \"height\": 50}}, {\"type\": \"bar\", \"x\": [\"Bin 0\", \"Bin 1\", \"Bin 2\", \"Bin 3\"], \"y\": [7452, 7042, 2739, 224], \"name\": \"cnts\", \"xaxis\": \"x2\", \"yaxis\": \"y2\", \"visible\": false, \"showlegend\": false, \"marker\": {\"color\": [\"rgb(43,131,186)\", \"rgb(171,221,164)\", \"rgb(255,255,191)\", \"rgb(253,174,97)\", \"rgb(215,25,28)\"]}, \"text\": [7452, 7042, 2739, 224]}, {\"type\": \"scatter\", \"x\": [\"Bin 0\", \"Bin 1\", \"Bin 2\", \"Bin 3\"], \"y\": [0.089, 0.124, 0.168, 0.5], \"marker\": {\"color\": \"rgb(255,127,0)\"}, \"name\": \"bad_rate\", \"visible\": false, \"text\": [8684, 7202, 1567, 4], \"xaxis\": \"x3\", \"yaxis\": \"y3\"}, {\"type\": \"table\", \"domain\": {\"x\": [0, 0.45], \"y\": [0, 0.83]}, \"columnwidth\": [1.2, 1.2, 1.2, 1.2], \"header\": {\"values\": [\"\", \"total\", \"bad\", \"good\", \"bad_rate\", \"WOE\"], \"line\": {\"color\": \"rgba(80,103,132,0.2)\", \"width\": 0.5}, \"fill\": {\"color\": \"rgb(64,70,114)\"}, \"align\": [\"center\", \"center\", \"center\", \"center\", \"center\"], \"font\": {\"color\": \"white\", \"size\": 12}, \"height\": 40}, \"visible\": false, \"cells\": {\"values\": [[\"Bin 0\", \"Bin 1\", \"Bin 2\", \"Bin 3\"], [8684, 7202, 1567, 4], [777, 896, 263, 2], [7907, 6306, 1304, 2], [0.089, 0.124, 0.168, 0.5], [0.24, -0.129, -0.479, -2.08]], \"line\": {\"color\": \"rgba(80,103,132,0.2)\", \"width\": 1}, \"fill\": {\"color\": [\"rgb(64,70,114)\", [\"rgb(245, 245, 245)\", \"rgb(245, 245, 245)\", \"rgb(255, 255, 255)\", \"rgb(255, 255, 255)\", \"rgb(245, 245, 245)\", \"rgb(245, 245, 245)\"]]}, \"align\": [\"left\", \"center\", \"center\", \"center\", \"center\", \"center\"], \"font\": {\"color\": [\"white\", \"#506784\", \"#506784\", \"#506784\"], \"size\": 12}, \"height\": 50}}, {\"type\": \"bar\", \"x\": [\"Bin 0\", \"Bin 1\", \"Bin 2\", \"Bin 3\"], \"y\": [8684, 7202, 1567, 4], \"name\": \"cnts\", \"xaxis\": \"x2\", \"yaxis\": \"y2\", \"visible\": false, \"showlegend\": false, \"marker\": {\"color\": [\"rgb(43,131,186)\", \"rgb(171,221,164)\", \"rgb(255,255,191)\", \"rgb(253,174,97)\", \"rgb(215,25,28)\"]}, \"text\": [8684, 7202, 1567, 4]}, {\"type\": \"scatter\", \"x\": [\"Bin -1\", \"Bin 1\", \"Bin 3\"], \"y\": [0.106, 0.199, 0.148], \"marker\": {\"color\": \"rgb(255,127,0)\"}, \"name\": \"bad_rate\", \"visible\": false, \"text\": [16158, 603, 696], \"xaxis\": \"x3\", \"yaxis\": \"y3\"}, {\"type\": \"table\", \"domain\": {\"x\": [0, 0.45], \"y\": [0, 0.83]}, \"columnwidth\": [1.2, 1.2, 1.2, 1.2], \"header\": {\"values\": [\"\", \"total\", \"bad\", \"good\", \"bad_rate\", \"WOE\"], \"line\": {\"color\": \"rgba(80,103,132,0.2)\", \"width\": 0.5}, \"fill\": {\"color\": \"rgb(64,70,114)\"}, \"align\": [\"center\", \"center\", \"center\", \"center\", \"center\"], \"font\": {\"color\": \"white\", \"size\": 12}, \"height\": 40}, \"visible\": false, \"cells\": {\"values\": [[\"Bin -1\", \"Bin 1\", \"Bin 3\"], [16158, 603, 696], [1715, 120, 103], [14443, 483, 593], [0.106, 0.199, 0.148], [0.05, -0.688, -0.33]], \"line\": {\"color\": \"rgba(80,103,132,0.2)\", \"width\": 1}, \"fill\": {\"color\": [\"rgb(64,70,114)\", [\"rgb(245, 245, 245)\", \"rgb(245, 245, 245)\", \"rgb(255, 255, 255)\", \"rgb(255, 255, 255)\", \"rgb(245, 245, 245)\", \"rgb(245, 245, 245)\"]]}, \"align\": [\"left\", \"center\", \"center\", \"center\", \"center\", \"center\"], \"font\": {\"color\": [\"white\", \"#506784\", \"#506784\", \"#506784\"], \"size\": 12}, \"height\": 50}}, {\"type\": \"bar\", \"x\": [\"Bin -1\", \"Bin 1\", \"Bin 3\"], \"y\": [16158, 603, 696], \"name\": \"cnts\", \"xaxis\": \"x2\", \"yaxis\": \"y2\", \"visible\": false, \"showlegend\": false, \"marker\": {\"color\": [\"rgb(43,131,186)\", \"rgb(171,221,164)\", \"rgb(255,255,191)\", \"rgb(253,174,97)\", \"rgb(215,25,28)\"]}, \"text\": [16158, 603, 696]}, {\"type\": \"scatter\", \"x\": [\"Bin 0\", \"Bin 1\", \"Bin 2\"], \"y\": [0.099, 0.109, 0.146], \"marker\": {\"color\": \"rgb(255,127,0)\"}, \"name\": \"bad_rate\", \"visible\": false, \"text\": [8005, 6265, 3187], \"xaxis\": \"x3\", \"yaxis\": \"y3\"}, {\"type\": \"table\", \"domain\": {\"x\": [0, 0.45], \"y\": [0, 0.83]}, \"columnwidth\": [1.2, 1.2, 1.2, 1.2], \"header\": {\"values\": [\"\", \"total\", \"bad\", \"good\", \"bad_rate\", \"WOE\"], \"line\": {\"color\": \"rgba(80,103,132,0.2)\", \"width\": 0.5}, \"fill\": {\"color\": \"rgb(64,70,114)\"}, \"align\": [\"center\", \"center\", \"center\", \"center\", \"center\"], \"font\": {\"color\": \"white\", \"size\": 12}, \"height\": 40}, \"visible\": false, \"cells\": {\"values\": [[\"Bin 0\", \"Bin 1\", \"Bin 2\"], [8005, 6265, 3187], [790, 683, 465], [7215, 5582, 2722], [0.099, 0.109, 0.146], [0.131, 0.02, -0.313]], \"line\": {\"color\": \"rgba(80,103,132,0.2)\", \"width\": 1}, \"fill\": {\"color\": [\"rgb(64,70,114)\", [\"rgb(245, 245, 245)\", \"rgb(245, 245, 245)\", \"rgb(255, 255, 255)\", \"rgb(255, 255, 255)\", \"rgb(245, 245, 245)\", \"rgb(245, 245, 245)\"]]}, \"align\": [\"left\", \"center\", \"center\", \"center\", \"center\", \"center\"], \"font\": {\"color\": [\"white\", \"#506784\", \"#506784\", \"#506784\"], \"size\": 12}, \"height\": 50}}, {\"type\": \"bar\", \"x\": [\"Bin 0\", \"Bin 1\", \"Bin 2\"], \"y\": [8005, 6265, 3187], \"name\": \"cnts\", \"xaxis\": \"x2\", \"yaxis\": \"y2\", \"visible\": false, \"showlegend\": false, \"marker\": {\"color\": [\"rgb(43,131,186)\", \"rgb(171,221,164)\", \"rgb(255,255,191)\", \"rgb(253,174,97)\", \"rgb(215,25,28)\"]}, \"text\": [8005, 6265, 3187]}, {\"type\": \"scatter\", \"x\": [\"Bin 0\", \"Bin 1\"], \"y\": [0.135, 0.1], \"marker\": {\"color\": \"rgb(255,127,0)\"}, \"name\": \"bad_rate\", \"visible\": false, \"text\": [5304, 12153], \"xaxis\": \"x3\", \"yaxis\": \"y3\"}, {\"type\": \"table\", \"domain\": {\"x\": [0, 0.45], \"y\": [0, 0.83]}, \"columnwidth\": [1.2, 1.2, 1.2, 1.2], \"header\": {\"values\": [\"\", \"total\", \"bad\", \"good\", \"bad_rate\", \"WOE\"], \"line\": {\"color\": \"rgba(80,103,132,0.2)\", \"width\": 0.5}, \"fill\": {\"color\": \"rgb(64,70,114)\"}, \"align\": [\"center\", \"center\", \"center\", \"center\", \"center\"], \"font\": {\"color\": \"white\", \"size\": 12}, \"height\": 40}, \"visible\": false, \"cells\": {\"values\": [[\"Bin 0\", \"Bin 1\"], [5304, 12153], [717, 1221], [4587, 10932], [0.135, 0.1], [-0.225, 0.112]], \"line\": {\"color\": \"rgba(80,103,132,0.2)\", \"width\": 1}, \"fill\": {\"color\": [\"rgb(64,70,114)\", [\"rgb(245, 245, 245)\", \"rgb(245, 245, 245)\", \"rgb(255, 255, 255)\", \"rgb(255, 255, 255)\", \"rgb(245, 245, 245)\", \"rgb(245, 245, 245)\"]]}, \"align\": [\"left\", \"center\", \"center\", \"center\", \"center\", \"center\"], \"font\": {\"color\": [\"white\", \"#506784\", \"#506784\", \"#506784\"], \"size\": 12}, \"height\": 50}}, {\"type\": \"bar\", \"x\": [\"Bin 0\", \"Bin 1\"], \"y\": [5304, 12153], \"name\": \"cnts\", \"xaxis\": \"x2\", \"yaxis\": \"y2\", \"visible\": false, \"showlegend\": false, \"marker\": {\"color\": [\"rgb(43,131,186)\", \"rgb(171,221,164)\", \"rgb(255,255,191)\", \"rgb(253,174,97)\", \"rgb(215,25,28)\"]}, \"text\": [5304, 12153]}, {\"type\": \"scatter\", \"x\": [\"Bin 0\", \"Bin 1\", \"Bin 2\", \"Bin 3\", \"Bin 4\"], \"y\": [0.089, 0.11, 0.111, 0.12, 0.137], \"marker\": {\"color\": \"rgb(255,127,0)\"}, \"name\": \"bad_rate\", \"visible\": false, \"text\": [4181, 3306, 2781, 5567, 1622], \"xaxis\": \"x3\", \"yaxis\": \"y3\"}, {\"type\": \"table\", \"domain\": {\"x\": [0, 0.45], \"y\": [0, 0.83]}, \"columnwidth\": [1.2, 1.2, 1.2, 1.2], \"header\": {\"values\": [\"\", \"total\", \"bad\", \"good\", \"bad_rate\", \"WOE\"], \"line\": {\"color\": \"rgba(80,103,132,0.2)\", \"width\": 0.5}, \"fill\": {\"color\": \"rgb(64,70,114)\"}, \"align\": [\"center\", \"center\", \"center\", \"center\", \"center\"], \"font\": {\"color\": \"white\", \"size\": 12}, \"height\": 40}, \"visible\": false, \"cells\": {\"values\": [[\"Bin 0\", \"Bin 1\", \"Bin 2\", \"Bin 3\", \"Bin 4\"], [4181, 3306, 2781, 5567, 1622], [374, 363, 309, 670, 222], [3807, 2943, 2472, 4897, 1400], [0.089, 0.11, 0.111, 0.12, 0.137], [0.24, 0.012, -0.001, -0.091, -0.239]], \"line\": {\"color\": \"rgba(80,103,132,0.2)\", \"width\": 1}, \"fill\": {\"color\": [\"rgb(64,70,114)\", [\"rgb(245, 245, 245)\", \"rgb(245, 245, 245)\", \"rgb(255, 255, 255)\", \"rgb(255, 255, 255)\", \"rgb(245, 245, 245)\", \"rgb(245, 245, 245)\"]]}, \"align\": [\"left\", \"center\", \"center\", \"center\", \"center\", \"center\"], \"font\": {\"color\": [\"white\", \"#506784\", \"#506784\", \"#506784\"], \"size\": 12}, \"height\": 50}}, {\"type\": \"bar\", \"x\": [\"Bin 0\", \"Bin 1\", \"Bin 2\", \"Bin 3\", \"Bin 4\"], \"y\": [4181, 3306, 2781, 5567, 1622], \"name\": \"cnts\", \"xaxis\": \"x2\", \"yaxis\": \"y2\", \"visible\": false, \"showlegend\": false, \"marker\": {\"color\": [\"rgb(43,131,186)\", \"rgb(171,221,164)\", \"rgb(255,255,191)\", \"rgb(253,174,97)\", \"rgb(215,25,28)\"]}, \"text\": [4181, 3306, 2781, 5567, 1622]}, {\"type\": \"scatter\", \"x\": [\"Bin 0\", \"Bin 1\", \"Bin 2\", \"Bin 3\", \"Bin 4\"], \"y\": [0.048, 0.086, 0.11, 0.139, 0.181], \"marker\": {\"color\": \"rgb(255,127,0)\"}, \"name\": \"bad_rate\", \"showlegend\": false, \"text\": [4260, 2577, 4133, 2820, 3667], \"xaxis\": \"x3\", \"yaxis\": \"y3\"}, {\"type\": \"table\", \"domain\": {\"x\": [0, 0.45], \"y\": [0, 0.83]}, \"columnwidth\": [1.2, 1.2, 1.2, 1.2], \"header\": {\"values\": [\"\", \"total\", \"bad\", \"good\", \"bad_rate\", \"WOE\"], \"line\": {\"color\": \"rgba(80,103,132,0.2)\", \"width\": 0.5}, \"fill\": {\"color\": \"rgb(64,70,114)\"}, \"align\": [\"center\", \"center\", \"center\", \"center\", \"center\"], \"font\": {\"color\": \"white\", \"size\": 12}, \"height\": 40}, \"cells\": {\"values\": [[\"Bin 0\", \"Bin 1\", \"Bin 2\", \"Bin 3\", \"Bin 4\"], [4260, 2577, 4133, 2820, 3667], [205, 221, 456, 392, 664], [4055, 2356, 3677, 2428, 3003], [0.048, 0.086, 0.11, 0.139, 0.181], [0.904, 0.286, 0.007, -0.257, -0.571]], \"line\": {\"color\": \"rgba(80,103,132,0.2)\", \"width\": 1}, \"fill\": {\"color\": [\"rgb(64,70,114)\", [\"rgb(245, 245, 245)\", \"rgb(245, 245, 245)\", \"rgb(255, 255, 255)\", \"rgb(255, 255, 255)\", \"rgb(245, 245, 245)\", \"rgb(245, 245, 245)\"]]}, \"align\": [\"left\", \"center\", \"center\", \"center\", \"center\", \"center\"], \"font\": {\"color\": [\"white\", \"#506784\", \"#506784\", \"#506784\"], \"size\": 12}, \"height\": 50}}, {\"type\": \"bar\", \"x\": [\"Bin 0\", \"Bin 1\", \"Bin 2\", \"Bin 3\", \"Bin 4\"], \"y\": [4260, 2577, 4133, 2820, 3667], \"name\": \"cnts\", \"xaxis\": \"x2\", \"yaxis\": \"y2\", \"showlegend\": false, \"marker\": {\"color\": [\"rgb(43,131,186)\", \"rgb(171,221,164)\", \"rgb(255,255,191)\", \"rgb(253,174,97)\", \"rgb(215,25,28)\"]}, \"text\": [4260, 2577, 4133, 2820, 3667]}, {\"type\": \"scatter\", \"x\": [\"Bin 0\", \"Bin 1\", \"Bin 2\", \"Bin 3\", \"Bin 4\"], \"y\": [0.078, 0.098, 0.115, 0.162, 0.21], \"marker\": {\"color\": \"rgb(255,127,0)\"}, \"name\": \"bad_rate\", \"visible\": false, \"text\": [4045, 1841, 10016, 771, 784], \"xaxis\": \"x3\", \"yaxis\": \"y3\"}, {\"type\": \"table\", \"domain\": {\"x\": [0, 0.45], \"y\": [0, 0.83]}, \"columnwidth\": [1.2, 1.2, 1.2, 1.2], \"header\": {\"values\": [\"\", \"total\", \"bad\", \"good\", \"bad_rate\", \"WOE\"], \"line\": {\"color\": \"rgba(80,103,132,0.2)\", \"width\": 0.5}, \"fill\": {\"color\": \"rgb(64,70,114)\"}, \"align\": [\"center\", \"center\", \"center\", \"center\", \"center\"], \"font\": {\"color\": \"white\", \"size\": 12}, \"height\": 40}, \"visible\": false, \"cells\": {\"values\": [[\"Bin 0\", \"Bin 1\", \"Bin 2\", \"Bin 3\", \"Bin 4\"], [4045, 1841, 10016, 771, 784], [316, 181, 1151, 125, 165], [3729, 1660, 8865, 646, 619], [0.078, 0.098, 0.115, 0.162, 0.21], [0.388, 0.136, -0.039, -0.438, -0.758]], \"line\": {\"color\": \"rgba(80,103,132,0.2)\", \"width\": 1}, \"fill\": {\"color\": [\"rgb(64,70,114)\", [\"rgb(245, 245, 245)\", \"rgb(245, 245, 245)\", \"rgb(255, 255, 255)\", \"rgb(255, 255, 255)\", \"rgb(245, 245, 245)\", \"rgb(245, 245, 245)\"]]}, \"align\": [\"left\", \"center\", \"center\", \"center\", \"center\", \"center\"], \"font\": {\"color\": [\"white\", \"#506784\", \"#506784\", \"#506784\"], \"size\": 12}, \"height\": 50}}, {\"type\": \"bar\", \"x\": [\"Bin 0\", \"Bin 1\", \"Bin 2\", \"Bin 3\", \"Bin 4\"], \"y\": [4045, 1841, 10016, 771, 784], \"name\": \"cnts\", \"xaxis\": \"x2\", \"yaxis\": \"y2\", \"visible\": false, \"showlegend\": false, \"marker\": {\"color\": [\"rgb(43,131,186)\", \"rgb(171,221,164)\", \"rgb(255,255,191)\", \"rgb(253,174,97)\", \"rgb(215,25,28)\"]}, \"text\": [4045, 1841, 10016, 771, 784]}, {\"type\": \"scatter\", \"x\": [\"Bin 0\", \"Bin 1\", \"Bin 2\", \"Bin 3\", \"Bin 4\"], \"y\": [0.179, 0.15, 0.116, 0.106, 0.084], \"marker\": {\"color\": \"rgb(255,127,0)\"}, \"name\": \"bad_rate\", \"visible\": false, \"text\": [716, 3113, 4327, 2665, 6636], \"xaxis\": \"x3\", \"yaxis\": \"y3\"}, {\"type\": \"table\", \"domain\": {\"x\": [0, 0.45], \"y\": [0, 0.83]}, \"columnwidth\": [1.2, 1.2, 1.2, 1.2], \"header\": {\"values\": [\"\", \"total\", \"bad\", \"good\", \"bad_rate\", \"WOE\"], \"line\": {\"color\": \"rgba(80,103,132,0.2)\", \"width\": 0.5}, \"fill\": {\"color\": \"rgb(64,70,114)\"}, \"align\": [\"center\", \"center\", \"center\", \"center\", \"center\"], \"font\": {\"color\": \"white\", \"size\": 12}, \"height\": 40}, \"visible\": false, \"cells\": {\"values\": [[\"Bin 0\", \"Bin 1\", \"Bin 2\", \"Bin 3\", \"Bin 4\"], [716, 3113, 4327, 2665, 6636], [128, 466, 501, 283, 560], [588, 2647, 3826, 2382, 6076], [0.179, 0.15, 0.116, 0.106, 0.084], [-0.556, -0.343, -0.047, 0.05, 0.304]], \"line\": {\"color\": \"rgba(80,103,132,0.2)\", \"width\": 1}, \"fill\": {\"color\": [\"rgb(64,70,114)\", [\"rgb(245, 245, 245)\", \"rgb(245, 245, 245)\", \"rgb(255, 255, 255)\", \"rgb(255, 255, 255)\", \"rgb(245, 245, 245)\", \"rgb(245, 245, 245)\"]]}, \"align\": [\"left\", \"center\", \"center\", \"center\", \"center\", \"center\"], \"font\": {\"color\": [\"white\", \"#506784\", \"#506784\", \"#506784\"], \"size\": 12}, \"height\": 50}}, {\"type\": \"bar\", \"x\": [\"Bin 0\", \"Bin 1\", \"Bin 2\", \"Bin 3\", \"Bin 4\"], \"y\": [716, 3113, 4327, 2665, 6636], \"name\": \"cnts\", \"xaxis\": \"x2\", \"yaxis\": \"y2\", \"visible\": false, \"showlegend\": false, \"marker\": {\"color\": [\"rgb(43,131,186)\", \"rgb(171,221,164)\", \"rgb(255,255,191)\", \"rgb(253,174,97)\", \"rgb(215,25,28)\"]}, \"text\": [716, 3113, 4327, 2665, 6636]}, {\"type\": \"scatter\", \"x\": [\"Bin 0\", \"Bin 1\", \"Bin 2\", \"Bin 3\", \"Bin 4\"], \"y\": [0.069, 0.097, 0.125, 0.148, 0.6], \"marker\": {\"color\": \"rgb(255,127,0)\"}, \"name\": \"bad_rate\", \"visible\": false, \"text\": [1447, 7689, 6065, 2251, 5], \"xaxis\": \"x3\", \"yaxis\": \"y3\"}, {\"type\": \"table\", \"domain\": {\"x\": [0, 0.45], \"y\": [0, 0.83]}, \"columnwidth\": [1.2, 1.2, 1.2, 1.2], \"header\": {\"values\": [\"\", \"total\", \"bad\", \"good\", \"bad_rate\", \"WOE\"], \"line\": {\"color\": \"rgba(80,103,132,0.2)\", \"width\": 0.5}, \"fill\": {\"color\": \"rgb(64,70,114)\"}, \"align\": [\"center\", \"center\", \"center\", \"center\", \"center\"], \"font\": {\"color\": \"white\", \"size\": 12}, \"height\": 40}, \"visible\": false, \"cells\": {\"values\": [[\"Bin 0\", \"Bin 1\", \"Bin 2\", \"Bin 3\", \"Bin 4\"], [1447, 7689, 6065, 2251, 5], [100, 744, 758, 333, 3], [1347, 6945, 5307, 1918, 2], [0.069, 0.097, 0.125, 0.148, 0.6], [0.52, 0.153, -0.134, -0.33, -2.486]], \"line\": {\"color\": \"rgba(80,103,132,0.2)\", \"width\": 1}, \"fill\": {\"color\": [\"rgb(64,70,114)\", [\"rgb(245, 245, 245)\", \"rgb(245, 245, 245)\", \"rgb(255, 255, 255)\", \"rgb(255, 255, 255)\", \"rgb(245, 245, 245)\", \"rgb(245, 245, 245)\"]]}, \"align\": [\"left\", \"center\", \"center\", \"center\", \"center\", \"center\"], \"font\": {\"color\": [\"white\", \"#506784\", \"#506784\", \"#506784\"], \"size\": 12}, \"height\": 50}}, {\"type\": \"bar\", \"x\": [\"Bin 0\", \"Bin 1\", \"Bin 2\", \"Bin 3\", \"Bin 4\"], \"y\": [1447, 7689, 6065, 2251, 5], \"name\": \"cnts\", \"xaxis\": \"x2\", \"yaxis\": \"y2\", \"visible\": false, \"showlegend\": false, \"marker\": {\"color\": [\"rgb(43,131,186)\", \"rgb(171,221,164)\", \"rgb(255,255,191)\", \"rgb(253,174,97)\", \"rgb(215,25,28)\"]}, \"text\": [1447, 7689, 6065, 2251, 5]}, {\"type\": \"scatter\", \"x\": [\"Bin 0\", \"Bin 1\", \"Bin 2\", \"Bin 3\"], \"y\": [0.054, 0.124, 0.205, 0.438], \"marker\": {\"color\": \"rgb(255,127,0)\"}, \"name\": \"bad_rate\", \"visible\": false, \"text\": [7452, 7042, 2739, 224], \"xaxis\": \"x3\", \"yaxis\": \"y3\"}, {\"type\": \"table\", \"domain\": {\"x\": [0, 0.45], \"y\": [0, 0.83]}, \"columnwidth\": [1.2, 1.2, 1.2, 1.2], \"header\": {\"values\": [\"\", \"total\", \"bad\", \"good\", \"bad_rate\", \"WOE\"], \"line\": {\"color\": \"rgba(80,103,132,0.2)\", \"width\": 0.5}, \"fill\": {\"color\": \"rgb(64,70,114)\"}, \"align\": [\"center\", \"center\", \"center\", \"center\", \"center\"], \"font\": {\"color\": \"white\", \"size\": 12}, \"height\": 40}, \"visible\": false, \"cells\": {\"values\": [[\"Bin 0\", \"Bin 1\", \"Bin 2\", \"Bin 3\"], [7452, 7042, 2739, 224], [406, 872, 562, 98], [7046, 6170, 2177, 126], [0.054, 0.124, 0.205, 0.438], [0.773, -0.124, -0.726, -1.829]], \"line\": {\"color\": \"rgba(80,103,132,0.2)\", \"width\": 1}, \"fill\": {\"color\": [\"rgb(64,70,114)\", [\"rgb(245, 245, 245)\", \"rgb(245, 245, 245)\", \"rgb(255, 255, 255)\", \"rgb(255, 255, 255)\", \"rgb(245, 245, 245)\", \"rgb(245, 245, 245)\"]]}, \"align\": [\"left\", \"center\", \"center\", \"center\", \"center\", \"center\"], \"font\": {\"color\": [\"white\", \"#506784\", \"#506784\", \"#506784\"], \"size\": 12}, \"height\": 50}}, {\"type\": \"bar\", \"x\": [\"Bin 0\", \"Bin 1\", \"Bin 2\", \"Bin 3\"], \"y\": [7452, 7042, 2739, 224], \"name\": \"cnts\", \"xaxis\": \"x2\", \"yaxis\": \"y2\", \"visible\": false, \"showlegend\": false, \"marker\": {\"color\": [\"rgb(43,131,186)\", \"rgb(171,221,164)\", \"rgb(255,255,191)\", \"rgb(253,174,97)\", \"rgb(215,25,28)\"]}, \"text\": [7452, 7042, 2739, 224]}, {\"type\": \"scatter\", \"x\": [\"Bin 0\", \"Bin 1\", \"Bin 2\", \"Bin 3\"], \"y\": [0.089, 0.124, 0.168, 0.5], \"marker\": {\"color\": \"rgb(255,127,0)\"}, \"name\": \"bad_rate\", \"visible\": false, \"text\": [8684, 7202, 1567, 4], \"xaxis\": \"x3\", \"yaxis\": \"y3\"}, {\"type\": \"table\", \"domain\": {\"x\": [0, 0.45], \"y\": [0, 0.83]}, \"columnwidth\": [1.2, 1.2, 1.2, 1.2], \"header\": {\"values\": [\"\", \"total\", \"bad\", \"good\", \"bad_rate\", \"WOE\"], \"line\": {\"color\": \"rgba(80,103,132,0.2)\", \"width\": 0.5}, \"fill\": {\"color\": \"rgb(64,70,114)\"}, \"align\": [\"center\", \"center\", \"center\", \"center\", \"center\"], \"font\": {\"color\": \"white\", \"size\": 12}, \"height\": 40}, \"visible\": false, \"cells\": {\"values\": [[\"Bin 0\", \"Bin 1\", \"Bin 2\", \"Bin 3\"], [8684, 7202, 1567, 4], [777, 896, 263, 2], [7907, 6306, 1304, 2], [0.089, 0.124, 0.168, 0.5], [0.24, -0.129, -0.479, -2.08]], \"line\": {\"color\": \"rgba(80,103,132,0.2)\", \"width\": 1}, \"fill\": {\"color\": [\"rgb(64,70,114)\", [\"rgb(245, 245, 245)\", \"rgb(245, 245, 245)\", \"rgb(255, 255, 255)\", \"rgb(255, 255, 255)\", \"rgb(245, 245, 245)\", \"rgb(245, 245, 245)\"]]}, \"align\": [\"left\", \"center\", \"center\", \"center\", \"center\", \"center\"], \"font\": {\"color\": [\"white\", \"#506784\", \"#506784\", \"#506784\"], \"size\": 12}, \"height\": 50}}, {\"type\": \"bar\", \"x\": [\"Bin 0\", \"Bin 1\", \"Bin 2\", \"Bin 3\"], \"y\": [8684, 7202, 1567, 4], \"name\": \"cnts\", \"xaxis\": \"x2\", \"yaxis\": \"y2\", \"visible\": false, \"showlegend\": false, \"marker\": {\"color\": [\"rgb(43,131,186)\", \"rgb(171,221,164)\", \"rgb(255,255,191)\", \"rgb(253,174,97)\", \"rgb(215,25,28)\"]}, \"text\": [8684, 7202, 1567, 4]}, {\"type\": \"scatter\", \"x\": [\"Bin -1\", \"Bin 1\", \"Bin 3\"], \"y\": [0.106, 0.199, 0.148], \"marker\": {\"color\": \"rgb(255,127,0)\"}, \"name\": \"bad_rate\", \"visible\": false, \"text\": [16158, 603, 696], \"xaxis\": \"x3\", \"yaxis\": \"y3\"}, {\"type\": \"table\", \"domain\": {\"x\": [0, 0.45], \"y\": [0, 0.83]}, \"columnwidth\": [1.2, 1.2, 1.2, 1.2], \"header\": {\"values\": [\"\", \"total\", \"bad\", \"good\", \"bad_rate\", \"WOE\"], \"line\": {\"color\": \"rgba(80,103,132,0.2)\", \"width\": 0.5}, \"fill\": {\"color\": \"rgb(64,70,114)\"}, \"align\": [\"center\", \"center\", \"center\", \"center\", \"center\"], \"font\": {\"color\": \"white\", \"size\": 12}, \"height\": 40}, \"visible\": false, \"cells\": {\"values\": [[\"Bin -1\", \"Bin 1\", \"Bin 3\"], [16158, 603, 696], [1715, 120, 103], [14443, 483, 593], [0.106, 0.199, 0.148], [0.05, -0.688, -0.33]], \"line\": {\"color\": \"rgba(80,103,132,0.2)\", \"width\": 1}, \"fill\": {\"color\": [\"rgb(64,70,114)\", [\"rgb(245, 245, 245)\", \"rgb(245, 245, 245)\", \"rgb(255, 255, 255)\", \"rgb(255, 255, 255)\", \"rgb(245, 245, 245)\", \"rgb(245, 245, 245)\"]]}, \"align\": [\"left\", \"center\", \"center\", \"center\", \"center\", \"center\"], \"font\": {\"color\": [\"white\", \"#506784\", \"#506784\", \"#506784\"], \"size\": 12}, \"height\": 50}}, {\"type\": \"bar\", \"x\": [\"Bin -1\", \"Bin 1\", \"Bin 3\"], \"y\": [16158, 603, 696], \"name\": \"cnts\", \"xaxis\": \"x2\", \"yaxis\": \"y2\", \"visible\": false, \"showlegend\": false, \"marker\": {\"color\": [\"rgb(43,131,186)\", \"rgb(171,221,164)\", \"rgb(255,255,191)\", \"rgb(253,174,97)\", \"rgb(215,25,28)\"]}, \"text\": [16158, 603, 696]}, {\"type\": \"scatter\", \"x\": [\"Bin 0\", \"Bin 1\", \"Bin 2\"], \"y\": [0.099, 0.109, 0.146], \"marker\": {\"color\": \"rgb(255,127,0)\"}, \"name\": \"bad_rate\", \"visible\": false, \"text\": [8005, 6265, 3187], \"xaxis\": \"x3\", \"yaxis\": \"y3\"}, {\"type\": \"table\", \"domain\": {\"x\": [0, 0.45], \"y\": [0, 0.83]}, \"columnwidth\": [1.2, 1.2, 1.2, 1.2], \"header\": {\"values\": [\"\", \"total\", \"bad\", \"good\", \"bad_rate\", \"WOE\"], \"line\": {\"color\": \"rgba(80,103,132,0.2)\", \"width\": 0.5}, \"fill\": {\"color\": \"rgb(64,70,114)\"}, \"align\": [\"center\", \"center\", \"center\", \"center\", \"center\"], \"font\": {\"color\": \"white\", \"size\": 12}, \"height\": 40}, \"visible\": false, \"cells\": {\"values\": [[\"Bin 0\", \"Bin 1\", \"Bin 2\"], [8005, 6265, 3187], [790, 683, 465], [7215, 5582, 2722], [0.099, 0.109, 0.146], [0.131, 0.02, -0.313]], \"line\": {\"color\": \"rgba(80,103,132,0.2)\", \"width\": 1}, \"fill\": {\"color\": [\"rgb(64,70,114)\", [\"rgb(245, 245, 245)\", \"rgb(245, 245, 245)\", \"rgb(255, 255, 255)\", \"rgb(255, 255, 255)\", \"rgb(245, 245, 245)\", \"rgb(245, 245, 245)\"]]}, \"align\": [\"left\", \"center\", \"center\", \"center\", \"center\", \"center\"], \"font\": {\"color\": [\"white\", \"#506784\", \"#506784\", \"#506784\"], \"size\": 12}, \"height\": 50}}, {\"type\": \"bar\", \"x\": [\"Bin 0\", \"Bin 1\", \"Bin 2\"], \"y\": [8005, 6265, 3187], \"name\": \"cnts\", \"xaxis\": \"x2\", \"yaxis\": \"y2\", \"visible\": false, \"showlegend\": false, \"marker\": {\"color\": [\"rgb(43,131,186)\", \"rgb(171,221,164)\", \"rgb(255,255,191)\", \"rgb(253,174,97)\", \"rgb(215,25,28)\"]}, \"text\": [8005, 6265, 3187]}, {\"type\": \"scatter\", \"x\": [\"Bin 0\", \"Bin 1\"], \"y\": [0.135, 0.1], \"marker\": {\"color\": \"rgb(255,127,0)\"}, \"name\": \"bad_rate\", \"visible\": false, \"text\": [5304, 12153], \"xaxis\": \"x3\", \"yaxis\": \"y3\"}, {\"type\": \"table\", \"domain\": {\"x\": [0, 0.45], \"y\": [0, 0.83]}, \"columnwidth\": [1.2, 1.2, 1.2, 1.2], \"header\": {\"values\": [\"\", \"total\", \"bad\", \"good\", \"bad_rate\", \"WOE\"], \"line\": {\"color\": \"rgba(80,103,132,0.2)\", \"width\": 0.5}, \"fill\": {\"color\": \"rgb(64,70,114)\"}, \"align\": [\"center\", \"center\", \"center\", \"center\", \"center\"], \"font\": {\"color\": \"white\", \"size\": 12}, \"height\": 40}, \"visible\": false, \"cells\": {\"values\": [[\"Bin 0\", \"Bin 1\"], [5304, 12153], [717, 1221], [4587, 10932], [0.135, 0.1], [-0.225, 0.112]], \"line\": {\"color\": \"rgba(80,103,132,0.2)\", \"width\": 1}, \"fill\": {\"color\": [\"rgb(64,70,114)\", [\"rgb(245, 245, 245)\", \"rgb(245, 245, 245)\", \"rgb(255, 255, 255)\", \"rgb(255, 255, 255)\", \"rgb(245, 245, 245)\", \"rgb(245, 245, 245)\"]]}, \"align\": [\"left\", \"center\", \"center\", \"center\", \"center\", \"center\"], \"font\": {\"color\": [\"white\", \"#506784\", \"#506784\", \"#506784\"], \"size\": 12}, \"height\": 50}}, {\"type\": \"bar\", \"x\": [\"Bin 0\", \"Bin 1\"], \"y\": [5304, 12153], \"name\": \"cnts\", \"xaxis\": \"x2\", \"yaxis\": \"y2\", \"visible\": false, \"showlegend\": false, \"marker\": {\"color\": [\"rgb(43,131,186)\", \"rgb(171,221,164)\", \"rgb(255,255,191)\", \"rgb(253,174,97)\", \"rgb(215,25,28)\"]}, \"text\": [5304, 12153]}, {\"type\": \"scatter\", \"x\": [\"Bin 0\", \"Bin 1\", \"Bin 2\", \"Bin 3\", \"Bin 4\"], \"y\": [0.089, 0.11, 0.111, 0.12, 0.137], \"marker\": {\"color\": \"rgb(255,127,0)\"}, \"name\": \"bad_rate\", \"visible\": false, \"text\": [4181, 3306, 2781, 5567, 1622], \"xaxis\": \"x3\", \"yaxis\": \"y3\"}, {\"type\": \"table\", \"domain\": {\"x\": [0, 0.45], \"y\": [0, 0.83]}, \"columnwidth\": [1.2, 1.2, 1.2, 1.2], \"header\": {\"values\": [\"\", \"total\", \"bad\", \"good\", \"bad_rate\", \"WOE\"], \"line\": {\"color\": \"rgba(80,103,132,0.2)\", \"width\": 0.5}, \"fill\": {\"color\": \"rgb(64,70,114)\"}, \"align\": [\"center\", \"center\", \"center\", \"center\", \"center\"], \"font\": {\"color\": \"white\", \"size\": 12}, \"height\": 40}, \"visible\": false, \"cells\": {\"values\": [[\"Bin 0\", \"Bin 1\", \"Bin 2\", \"Bin 3\", \"Bin 4\"], [4181, 3306, 2781, 5567, 1622], [374, 363, 309, 670, 222], [3807, 2943, 2472, 4897, 1400], [0.089, 0.11, 0.111, 0.12, 0.137], [0.24, 0.012, -0.001, -0.091, -0.239]], \"line\": {\"color\": \"rgba(80,103,132,0.2)\", \"width\": 1}, \"fill\": {\"color\": [\"rgb(64,70,114)\", [\"rgb(245, 245, 245)\", \"rgb(245, 245, 245)\", \"rgb(255, 255, 255)\", \"rgb(255, 255, 255)\", \"rgb(245, 245, 245)\", \"rgb(245, 245, 245)\"]]}, \"align\": [\"left\", \"center\", \"center\", \"center\", \"center\", \"center\"], \"font\": {\"color\": [\"white\", \"#506784\", \"#506784\", \"#506784\"], \"size\": 12}, \"height\": 50}}, {\"type\": \"bar\", \"x\": [\"Bin 0\", \"Bin 1\", \"Bin 2\", \"Bin 3\", \"Bin 4\"], \"y\": [4181, 3306, 2781, 5567, 1622], \"name\": \"cnts\", \"xaxis\": \"x2\", \"yaxis\": \"y2\", \"visible\": false, \"showlegend\": false, \"marker\": {\"color\": [\"rgb(43,131,186)\", \"rgb(171,221,164)\", \"rgb(255,255,191)\", \"rgb(253,174,97)\", \"rgb(215,25,28)\"]}, \"text\": [4181, 3306, 2781, 5567, 1622]}, {\"type\": \"scatter\", \"x\": [\"Bin 0\", \"Bin 1\", \"Bin 2\", \"Bin 3\", \"Bin 4\"], \"y\": [0.048, 0.086, 0.11, 0.139, 0.181], \"marker\": {\"color\": \"rgb(255,127,0)\"}, \"name\": \"bad_rate\", \"showlegend\": false, \"text\": [4260, 2577, 4133, 2820, 3667], \"xaxis\": \"x3\", \"yaxis\": \"y3\"}, {\"type\": \"table\", \"domain\": {\"x\": [0, 0.45], \"y\": [0, 0.83]}, \"columnwidth\": [1.2, 1.2, 1.2, 1.2], \"header\": {\"values\": [\"\", \"total\", \"bad\", \"good\", \"bad_rate\", \"WOE\"], \"line\": {\"color\": \"rgba(80,103,132,0.2)\", \"width\": 0.5}, \"fill\": {\"color\": \"rgb(64,70,114)\"}, \"align\": [\"center\", \"center\", \"center\", \"center\", \"center\"], \"font\": {\"color\": \"white\", \"size\": 12}, \"height\": 40}, \"cells\": {\"values\": [[\"Bin 0\", \"Bin 1\", \"Bin 2\", \"Bin 3\", \"Bin 4\"], [4260, 2577, 4133, 2820, 3667], [205, 221, 456, 392, 664], [4055, 2356, 3677, 2428, 3003], [0.048, 0.086, 0.11, 0.139, 0.181], [0.904, 0.286, 0.007, -0.257, -0.571]], \"line\": {\"color\": \"rgba(80,103,132,0.2)\", \"width\": 1}, \"fill\": {\"color\": [\"rgb(64,70,114)\", [\"rgb(245, 245, 245)\", \"rgb(245, 245, 245)\", \"rgb(255, 255, 255)\", \"rgb(255, 255, 255)\", \"rgb(245, 245, 245)\", \"rgb(245, 245, 245)\"]]}, \"align\": [\"left\", \"center\", \"center\", \"center\", \"center\", \"center\"], \"font\": {\"color\": [\"white\", \"#506784\", \"#506784\", \"#506784\"], \"size\": 12}, \"height\": 50}}, {\"type\": \"bar\", \"x\": [\"Bin 0\", \"Bin 1\", \"Bin 2\", \"Bin 3\", \"Bin 4\"], \"y\": [4260, 2577, 4133, 2820, 3667], \"name\": \"cnts\", \"xaxis\": \"x2\", \"yaxis\": \"y2\", \"showlegend\": false, \"marker\": {\"color\": [\"rgb(43,131,186)\", \"rgb(171,221,164)\", \"rgb(255,255,191)\", \"rgb(253,174,97)\", \"rgb(215,25,28)\"]}, \"text\": [4260, 2577, 4133, 2820, 3667]}, {\"type\": \"scatter\", \"x\": [\"Bin 0\", \"Bin 1\", \"Bin 2\", \"Bin 3\", \"Bin 4\"], \"y\": [0.078, 0.098, 0.115, 0.162, 0.21], \"marker\": {\"color\": \"rgb(255,127,0)\"}, \"name\": \"bad_rate\", \"visible\": false, \"showlegend\": false, \"text\": [4045, 1841, 10016, 771, 784], \"xaxis\": \"x3\", \"yaxis\": \"y3\"}, {\"type\": \"table\", \"domain\": {\"x\": [0, 0.45], \"y\": [0, 0.83]}, \"columnwidth\": [1.2, 1.2, 1.2, 1.2], \"header\": {\"values\": [\"\", \"total\", \"bad\", \"good\", \"bad_rate\", \"WOE\"], \"line\": {\"color\": \"rgba(80,103,132,0.2)\", \"width\": 0.5}, \"fill\": {\"color\": \"rgb(64,70,114)\"}, \"align\": [\"center\", \"center\", \"center\", \"center\", \"center\"], \"font\": {\"color\": \"white\", \"size\": 12}, \"height\": 40}, \"visible\": false, \"cells\": {\"values\": [[\"Bin 0\", \"Bin 1\", \"Bin 2\", \"Bin 3\", \"Bin 4\"], [4045, 1841, 10016, 771, 784], [316, 181, 1151, 125, 165], [3729, 1660, 8865, 646, 619], [0.078, 0.098, 0.115, 0.162, 0.21], [0.388, 0.136, -0.039, -0.438, -0.758]], \"line\": {\"color\": \"rgba(80,103,132,0.2)\", \"width\": 1}, \"fill\": {\"color\": [\"rgb(64,70,114)\", [\"rgb(245, 245, 245)\", \"rgb(245, 245, 245)\", \"rgb(255, 255, 255)\", \"rgb(255, 255, 255)\", \"rgb(245, 245, 245)\", \"rgb(245, 245, 245)\"]]}, \"align\": [\"left\", \"center\", \"center\", \"center\", \"center\", \"center\"], \"font\": {\"color\": [\"white\", \"#506784\", \"#506784\", \"#506784\"], \"size\": 12}, \"height\": 50}}, {\"type\": \"bar\", \"x\": [\"Bin 0\", \"Bin 1\", \"Bin 2\", \"Bin 3\", \"Bin 4\"], \"y\": [4045, 1841, 10016, 771, 784], \"name\": \"cnts\", \"xaxis\": \"x2\", \"yaxis\": \"y2\", \"visible\": false, \"showlegend\": false, \"marker\": {\"color\": [\"rgb(43,131,186)\", \"rgb(171,221,164)\", \"rgb(255,255,191)\", \"rgb(253,174,97)\", \"rgb(215,25,28)\"]}, \"text\": [4045, 1841, 10016, 771, 784]}, {\"type\": \"scatter\", \"x\": [\"Bin 0\", \"Bin 1\", \"Bin 2\", \"Bin 3\", \"Bin 4\"], \"y\": [0.179, 0.15, 0.116, 0.106, 0.084], \"marker\": {\"color\": \"rgb(255,127,0)\"}, \"name\": \"bad_rate\", \"visible\": false, \"showlegend\": false, \"text\": [716, 3113, 4327, 2665, 6636], \"xaxis\": \"x3\", \"yaxis\": \"y3\"}, {\"type\": \"table\", \"domain\": {\"x\": [0, 0.45], \"y\": [0, 0.83]}, \"columnwidth\": [1.2, 1.2, 1.2, 1.2], \"header\": {\"values\": [\"\", \"total\", \"bad\", \"good\", \"bad_rate\", \"WOE\"], \"line\": {\"color\": \"rgba(80,103,132,0.2)\", \"width\": 0.5}, \"fill\": {\"color\": \"rgb(64,70,114)\"}, \"align\": [\"center\", \"center\", \"center\", \"center\", \"center\"], \"font\": {\"color\": \"white\", \"size\": 12}, \"height\": 40}, \"visible\": false, \"cells\": {\"values\": [[\"Bin 0\", \"Bin 1\", \"Bin 2\", \"Bin 3\", \"Bin 4\"], [716, 3113, 4327, 2665, 6636], [128, 466, 501, 283, 560], [588, 2647, 3826, 2382, 6076], [0.179, 0.15, 0.116, 0.106, 0.084], [-0.556, -0.343, -0.047, 0.05, 0.304]], \"line\": {\"color\": \"rgba(80,103,132,0.2)\", \"width\": 1}, \"fill\": {\"color\": [\"rgb(64,70,114)\", [\"rgb(245, 245, 245)\", \"rgb(245, 245, 245)\", \"rgb(255, 255, 255)\", \"rgb(255, 255, 255)\", \"rgb(245, 245, 245)\", \"rgb(245, 245, 245)\"]]}, \"align\": [\"left\", \"center\", \"center\", \"center\", \"center\", \"center\"], \"font\": {\"color\": [\"white\", \"#506784\", \"#506784\", \"#506784\"], \"size\": 12}, \"height\": 50}}, {\"type\": \"bar\", \"x\": [\"Bin 0\", \"Bin 1\", \"Bin 2\", \"Bin 3\", \"Bin 4\"], \"y\": [716, 3113, 4327, 2665, 6636], \"name\": \"cnts\", \"xaxis\": \"x2\", \"yaxis\": \"y2\", \"visible\": false, \"showlegend\": false, \"marker\": {\"color\": [\"rgb(43,131,186)\", \"rgb(171,221,164)\", \"rgb(255,255,191)\", \"rgb(253,174,97)\", \"rgb(215,25,28)\"]}, \"text\": [716, 3113, 4327, 2665, 6636]}, {\"type\": \"scatter\", \"x\": [\"Bin 0\", \"Bin 1\", \"Bin 2\", \"Bin 3\", \"Bin 4\"], \"y\": [0.069, 0.097, 0.125, 0.148, 0.6], \"marker\": {\"color\": \"rgb(255,127,0)\"}, \"name\": \"bad_rate\", \"visible\": false, \"showlegend\": false, \"text\": [1447, 7689, 6065, 2251, 5], \"xaxis\": \"x3\", \"yaxis\": \"y3\"}, {\"type\": \"table\", \"domain\": {\"x\": [0, 0.45], \"y\": [0, 0.83]}, \"columnwidth\": [1.2, 1.2, 1.2, 1.2], \"header\": {\"values\": [\"\", \"total\", \"bad\", \"good\", \"bad_rate\", \"WOE\"], \"line\": {\"color\": \"rgba(80,103,132,0.2)\", \"width\": 0.5}, \"fill\": {\"color\": \"rgb(64,70,114)\"}, \"align\": [\"center\", \"center\", \"center\", \"center\", \"center\"], \"font\": {\"color\": \"white\", \"size\": 12}, \"height\": 40}, \"visible\": false, \"cells\": {\"values\": [[\"Bin 0\", \"Bin 1\", \"Bin 2\", \"Bin 3\", \"Bin 4\"], [1447, 7689, 6065, 2251, 5], [100, 744, 758, 333, 3], [1347, 6945, 5307, 1918, 2], [0.069, 0.097, 0.125, 0.148, 0.6], [0.52, 0.153, -0.134, -0.33, -2.486]], \"line\": {\"color\": \"rgba(80,103,132,0.2)\", \"width\": 1}, \"fill\": {\"color\": [\"rgb(64,70,114)\", [\"rgb(245, 245, 245)\", \"rgb(245, 245, 245)\", \"rgb(255, 255, 255)\", \"rgb(255, 255, 255)\", \"rgb(245, 245, 245)\", \"rgb(245, 245, 245)\"]]}, \"align\": [\"left\", \"center\", \"center\", \"center\", \"center\", \"center\"], \"font\": {\"color\": [\"white\", \"#506784\", \"#506784\", \"#506784\"], \"size\": 12}, \"height\": 50}}, {\"type\": \"bar\", \"x\": [\"Bin 0\", \"Bin 1\", \"Bin 2\", \"Bin 3\", \"Bin 4\"], \"y\": [1447, 7689, 6065, 2251, 5], \"name\": \"cnts\", \"xaxis\": \"x2\", \"yaxis\": \"y2\", \"visible\": false, \"showlegend\": false, \"marker\": {\"color\": [\"rgb(43,131,186)\", \"rgb(171,221,164)\", \"rgb(255,255,191)\", \"rgb(253,174,97)\", \"rgb(215,25,28)\"]}, \"text\": [1447, 7689, 6065, 2251, 5]}, {\"type\": \"scatter\", \"x\": [\"Bin 0\", \"Bin 1\", \"Bin 2\", \"Bin 3\"], \"y\": [0.054, 0.124, 0.205, 0.438], \"marker\": {\"color\": \"rgb(255,127,0)\"}, \"name\": \"bad_rate\", \"visible\": false, \"showlegend\": false, \"text\": [7452, 7042, 2739, 224], \"xaxis\": \"x3\", \"yaxis\": \"y3\"}, {\"type\": \"table\", \"domain\": {\"x\": [0, 0.45], \"y\": [0, 0.83]}, \"columnwidth\": [1.2, 1.2, 1.2, 1.2], \"header\": {\"values\": [\"\", \"total\", \"bad\", \"good\", \"bad_rate\", \"WOE\"], \"line\": {\"color\": \"rgba(80,103,132,0.2)\", \"width\": 0.5}, \"fill\": {\"color\": \"rgb(64,70,114)\"}, \"align\": [\"center\", \"center\", \"center\", \"center\", \"center\"], \"font\": {\"color\": \"white\", \"size\": 12}, \"height\": 40}, \"visible\": false, \"cells\": {\"values\": [[\"Bin 0\", \"Bin 1\", \"Bin 2\", \"Bin 3\"], [7452, 7042, 2739, 224], [406, 872, 562, 98], [7046, 6170, 2177, 126], [0.054, 0.124, 0.205, 0.438], [0.773, -0.124, -0.726, -1.829]], \"line\": {\"color\": \"rgba(80,103,132,0.2)\", \"width\": 1}, \"fill\": {\"color\": [\"rgb(64,70,114)\", [\"rgb(245, 245, 245)\", \"rgb(245, 245, 245)\", \"rgb(255, 255, 255)\", \"rgb(255, 255, 255)\", \"rgb(245, 245, 245)\", \"rgb(245, 245, 245)\"]]}, \"align\": [\"left\", \"center\", \"center\", \"center\", \"center\", \"center\"], \"font\": {\"color\": [\"white\", \"#506784\", \"#506784\", \"#506784\"], \"size\": 12}, \"height\": 50}}, {\"type\": \"bar\", \"x\": [\"Bin 0\", \"Bin 1\", \"Bin 2\", \"Bin 3\"], \"y\": [7452, 7042, 2739, 224], \"name\": \"cnts\", \"xaxis\": \"x2\", \"yaxis\": \"y2\", \"visible\": false, \"showlegend\": false, \"marker\": {\"color\": [\"rgb(43,131,186)\", \"rgb(171,221,164)\", \"rgb(255,255,191)\", \"rgb(253,174,97)\", \"rgb(215,25,28)\"]}, \"text\": [7452, 7042, 2739, 224]}, {\"type\": \"scatter\", \"x\": [\"Bin 0\", \"Bin 1\", \"Bin 2\", \"Bin 3\"], \"y\": [0.089, 0.124, 0.168, 0.5], \"marker\": {\"color\": \"rgb(255,127,0)\"}, \"name\": \"bad_rate\", \"visible\": false, \"showlegend\": false, \"text\": [8684, 7202, 1567, 4], \"xaxis\": \"x3\", \"yaxis\": \"y3\"}, {\"type\": \"table\", \"domain\": {\"x\": [0, 0.45], \"y\": [0, 0.83]}, \"columnwidth\": [1.2, 1.2, 1.2, 1.2], \"header\": {\"values\": [\"\", \"total\", \"bad\", \"good\", \"bad_rate\", \"WOE\"], \"line\": {\"color\": \"rgba(80,103,132,0.2)\", \"width\": 0.5}, \"fill\": {\"color\": \"rgb(64,70,114)\"}, \"align\": [\"center\", \"center\", \"center\", \"center\", \"center\"], \"font\": {\"color\": \"white\", \"size\": 12}, \"height\": 40}, \"visible\": false, \"cells\": {\"values\": [[\"Bin 0\", \"Bin 1\", \"Bin 2\", \"Bin 3\"], [8684, 7202, 1567, 4], [777, 896, 263, 2], [7907, 6306, 1304, 2], [0.089, 0.124, 0.168, 0.5], [0.24, -0.129, -0.479, -2.08]], \"line\": {\"color\": \"rgba(80,103,132,0.2)\", \"width\": 1}, \"fill\": {\"color\": [\"rgb(64,70,114)\", [\"rgb(245, 245, 245)\", \"rgb(245, 245, 245)\", \"rgb(255, 255, 255)\", \"rgb(255, 255, 255)\", \"rgb(245, 245, 245)\", \"rgb(245, 245, 245)\"]]}, \"align\": [\"left\", \"center\", \"center\", \"center\", \"center\", \"center\"], \"font\": {\"color\": [\"white\", \"#506784\", \"#506784\", \"#506784\"], \"size\": 12}, \"height\": 50}}, {\"type\": \"bar\", \"x\": [\"Bin 0\", \"Bin 1\", \"Bin 2\", \"Bin 3\"], \"y\": [8684, 7202, 1567, 4], \"name\": \"cnts\", \"xaxis\": \"x2\", \"yaxis\": \"y2\", \"visible\": false, \"showlegend\": false, \"marker\": {\"color\": [\"rgb(43,131,186)\", \"rgb(171,221,164)\", \"rgb(255,255,191)\", \"rgb(253,174,97)\", \"rgb(215,25,28)\"]}, \"text\": [8684, 7202, 1567, 4]}, {\"type\": \"scatter\", \"x\": [\"Bin -1\", \"Bin 1\", \"Bin 3\"], \"y\": [0.106, 0.199, 0.148], \"marker\": {\"color\": \"rgb(255,127,0)\"}, \"name\": \"bad_rate\", \"visible\": false, \"showlegend\": false, \"text\": [16158, 603, 696], \"xaxis\": \"x3\", \"yaxis\": \"y3\"}, {\"type\": \"table\", \"domain\": {\"x\": [0, 0.45], \"y\": [0, 0.83]}, \"columnwidth\": [1.2, 1.2, 1.2, 1.2], \"header\": {\"values\": [\"\", \"total\", \"bad\", \"good\", \"bad_rate\", \"WOE\"], \"line\": {\"color\": \"rgba(80,103,132,0.2)\", \"width\": 0.5}, \"fill\": {\"color\": \"rgb(64,70,114)\"}, \"align\": [\"center\", \"center\", \"center\", \"center\", \"center\"], \"font\": {\"color\": \"white\", \"size\": 12}, \"height\": 40}, \"visible\": false, \"cells\": {\"values\": [[\"Bin -1\", \"Bin 1\", \"Bin 3\"], [16158, 603, 696], [1715, 120, 103], [14443, 483, 593], [0.106, 0.199, 0.148], [0.05, -0.688, -0.33]], \"line\": {\"color\": \"rgba(80,103,132,0.2)\", \"width\": 1}, \"fill\": {\"color\": [\"rgb(64,70,114)\", [\"rgb(245, 245, 245)\", \"rgb(245, 245, 245)\", \"rgb(255, 255, 255)\", \"rgb(255, 255, 255)\", \"rgb(245, 245, 245)\", \"rgb(245, 245, 245)\"]]}, \"align\": [\"left\", \"center\", \"center\", \"center\", \"center\", \"center\"], \"font\": {\"color\": [\"white\", \"#506784\", \"#506784\", \"#506784\"], \"size\": 12}, \"height\": 50}}, {\"type\": \"bar\", \"x\": [\"Bin -1\", \"Bin 1\", \"Bin 3\"], \"y\": [16158, 603, 696], \"name\": \"cnts\", \"xaxis\": \"x2\", \"yaxis\": \"y2\", \"visible\": false, \"showlegend\": false, \"marker\": {\"color\": [\"rgb(43,131,186)\", \"rgb(171,221,164)\", \"rgb(255,255,191)\", \"rgb(253,174,97)\", \"rgb(215,25,28)\"]}, \"text\": [16158, 603, 696]}, {\"type\": \"scatter\", \"x\": [\"Bin 0\", \"Bin 1\", \"Bin 2\"], \"y\": [0.099, 0.109, 0.146], \"marker\": {\"color\": \"rgb(255,127,0)\"}, \"name\": \"bad_rate\", \"visible\": false, \"showlegend\": false, \"text\": [8005, 6265, 3187], \"xaxis\": \"x3\", \"yaxis\": \"y3\"}, {\"type\": \"table\", \"domain\": {\"x\": [0, 0.45], \"y\": [0, 0.83]}, \"columnwidth\": [1.2, 1.2, 1.2, 1.2], \"header\": {\"values\": [\"\", \"total\", \"bad\", \"good\", \"bad_rate\", \"WOE\"], \"line\": {\"color\": \"rgba(80,103,132,0.2)\", \"width\": 0.5}, \"fill\": {\"color\": \"rgb(64,70,114)\"}, \"align\": [\"center\", \"center\", \"center\", \"center\", \"center\"], \"font\": {\"color\": \"white\", \"size\": 12}, \"height\": 40}, \"visible\": false, \"cells\": {\"values\": [[\"Bin 0\", \"Bin 1\", \"Bin 2\"], [8005, 6265, 3187], [790, 683, 465], [7215, 5582, 2722], [0.099, 0.109, 0.146], [0.131, 0.02, -0.313]], \"line\": {\"color\": \"rgba(80,103,132,0.2)\", \"width\": 1}, \"fill\": {\"color\": [\"rgb(64,70,114)\", [\"rgb(245, 245, 245)\", \"rgb(245, 245, 245)\", \"rgb(255, 255, 255)\", \"rgb(255, 255, 255)\", \"rgb(245, 245, 245)\", \"rgb(245, 245, 245)\"]]}, \"align\": [\"left\", \"center\", \"center\", \"center\", \"center\", \"center\"], \"font\": {\"color\": [\"white\", \"#506784\", \"#506784\", \"#506784\"], \"size\": 12}, \"height\": 50}}, {\"type\": \"bar\", \"x\": [\"Bin 0\", \"Bin 1\", \"Bin 2\"], \"y\": [8005, 6265, 3187], \"name\": \"cnts\", \"xaxis\": \"x2\", \"yaxis\": \"y2\", \"visible\": false, \"showlegend\": false, \"marker\": {\"color\": [\"rgb(43,131,186)\", \"rgb(171,221,164)\", \"rgb(255,255,191)\", \"rgb(253,174,97)\", \"rgb(215,25,28)\"]}, \"text\": [8005, 6265, 3187]}, {\"type\": \"scatter\", \"x\": [\"Bin 0\", \"Bin 1\"], \"y\": [0.135, 0.1], \"marker\": {\"color\": \"rgb(255,127,0)\"}, \"name\": \"bad_rate\", \"visible\": false, \"showlegend\": false, \"text\": [5304, 12153], \"xaxis\": \"x3\", \"yaxis\": \"y3\"}, {\"type\": \"table\", \"domain\": {\"x\": [0, 0.45], \"y\": [0, 0.83]}, \"columnwidth\": [1.2, 1.2, 1.2, 1.2], \"header\": {\"values\": [\"\", \"total\", \"bad\", \"good\", \"bad_rate\", \"WOE\"], \"line\": {\"color\": \"rgba(80,103,132,0.2)\", \"width\": 0.5}, \"fill\": {\"color\": \"rgb(64,70,114)\"}, \"align\": [\"center\", \"center\", \"center\", \"center\", \"center\"], \"font\": {\"color\": \"white\", \"size\": 12}, \"height\": 40}, \"visible\": false, \"cells\": {\"values\": [[\"Bin 0\", \"Bin 1\"], [5304, 12153], [717, 1221], [4587, 10932], [0.135, 0.1], [-0.225, 0.112]], \"line\": {\"color\": \"rgba(80,103,132,0.2)\", \"width\": 1}, \"fill\": {\"color\": [\"rgb(64,70,114)\", [\"rgb(245, 245, 245)\", \"rgb(245, 245, 245)\", \"rgb(255, 255, 255)\", \"rgb(255, 255, 255)\", \"rgb(245, 245, 245)\", \"rgb(245, 245, 245)\"]]}, \"align\": [\"left\", \"center\", \"center\", \"center\", \"center\", \"center\"], \"font\": {\"color\": [\"white\", \"#506784\", \"#506784\", \"#506784\"], \"size\": 12}, \"height\": 50}}, {\"type\": \"bar\", \"x\": [\"Bin 0\", \"Bin 1\"], \"y\": [5304, 12153], \"name\": \"cnts\", \"xaxis\": \"x2\", \"yaxis\": \"y2\", \"visible\": false, \"showlegend\": false, \"marker\": {\"color\": [\"rgb(43,131,186)\", \"rgb(171,221,164)\", \"rgb(255,255,191)\", \"rgb(253,174,97)\", \"rgb(215,25,28)\"]}, \"text\": [5304, 12153]}, {\"type\": \"scatter\", \"x\": [\"Bin 0\", \"Bin 1\", \"Bin 2\", \"Bin 3\", \"Bin 4\"], \"y\": [0.089, 0.11, 0.111, 0.12, 0.137], \"marker\": {\"color\": \"rgb(255,127,0)\"}, \"name\": \"bad_rate\", \"visible\": false, \"showlegend\": false, \"text\": [4181, 3306, 2781, 5567, 1622], \"xaxis\": \"x3\", \"yaxis\": \"y3\"}, {\"type\": \"table\", \"domain\": {\"x\": [0, 0.45], \"y\": [0, 0.83]}, \"columnwidth\": [1.2, 1.2, 1.2, 1.2], \"header\": {\"values\": [\"\", \"total\", \"bad\", \"good\", \"bad_rate\", \"WOE\"], \"line\": {\"color\": \"rgba(80,103,132,0.2)\", \"width\": 0.5}, \"fill\": {\"color\": \"rgb(64,70,114)\"}, \"align\": [\"center\", \"center\", \"center\", \"center\", \"center\"], \"font\": {\"color\": \"white\", \"size\": 12}, \"height\": 40}, \"visible\": false, \"cells\": {\"values\": [[\"Bin 0\", \"Bin 1\", \"Bin 2\", \"Bin 3\", \"Bin 4\"], [4181, 3306, 2781, 5567, 1622], [374, 363, 309, 670, 222], [3807, 2943, 2472, 4897, 1400], [0.089, 0.11, 0.111, 0.12, 0.137], [0.24, 0.012, -0.001, -0.091, -0.239]], \"line\": {\"color\": \"rgba(80,103,132,0.2)\", \"width\": 1}, \"fill\": {\"color\": [\"rgb(64,70,114)\", [\"rgb(245, 245, 245)\", \"rgb(245, 245, 245)\", \"rgb(255, 255, 255)\", \"rgb(255, 255, 255)\", \"rgb(245, 245, 245)\", \"rgb(245, 245, 245)\"]]}, \"align\": [\"left\", \"center\", \"center\", \"center\", \"center\", \"center\"], \"font\": {\"color\": [\"white\", \"#506784\", \"#506784\", \"#506784\"], \"size\": 12}, \"height\": 50}}, {\"type\": \"bar\", \"x\": [\"Bin 0\", \"Bin 1\", \"Bin 2\", \"Bin 3\", \"Bin 4\"], \"y\": [4181, 3306, 2781, 5567, 1622], \"name\": \"cnts\", \"xaxis\": \"x2\", \"yaxis\": \"y2\", \"visible\": false, \"showlegend\": false, \"marker\": {\"color\": [\"rgb(43,131,186)\", \"rgb(171,221,164)\", \"rgb(255,255,191)\", \"rgb(253,174,97)\", \"rgb(215,25,28)\"]}, \"text\": [4181, 3306, 2781, 5567, 1622]}], {\"title\": \"\\u6a21\\u578b\\u53d8\\u91cf\\u5206\\u5e03\", \"titlefont\": {\"size\": 20}, \"height\": 500, \"width\": 1000, \"xaxis2\": {\"domain\": [0.55, 1], \"anchor\": \"y2\", \"showticklabels\": true, \"showgrid\": false, \"tickfont\": {\"size\": 11}, \"tickangle\": 30}, \"yaxis2\": {\"anchor\": \"x2\", \"domain\": [0, 0.5], \"showticklabels\": true, \"showgrid\": true}, \"xaxis3\": {\"domain\": [0.53, 0.988], \"anchor\": \"y3\", \"showticklabels\": false, \"showgrid\": true, \"tickfont\": {\"family\": \"Pt Sans Narrow\", \"size\": 11}, \"tickangle\": -30}, \"yaxis3\": {\"anchor\": \"x3\", \"domain\": [0.6, 0.8], \"showticklabels\": true, \"showgrid\": true}, \"margin\": {\"t\": 75, \"l\": 100}, \"updatemenus\": [{\"type\": \"buttons\", \"active\": 0, \"buttons\": [{\"label\": \"int_rate\", \"method\": \"update\", \"args\": [{\"visible\": [true, true, true, false, false, false, false, false, false, false, false, false, false, false, false, false, false, false, false, false, false, false, false, false, false, false, false, false, false, false]}, {\"title\": \"\\u6a21\\u578b\\u53d8\\u91cf\\u5206\\u5e03\"}]}, {\"label\": \"purpose_br\", \"method\": \"update\", \"args\": [{\"visible\": [false, false, false, true, true, true, false, false, false, false, false, false, false, false, false, false, false, false, false, false, false, false, false, false, false, false, false, false, false, false]}, {\"title\": \"\\u6a21\\u578b\\u53d8\\u91cf\\u5206\\u5e03\"}]}, {\"label\": \"annual_inc\", \"method\": \"update\", \"args\": [{\"visible\": [false, false, false, false, false, false, true, true, true, false, false, false, false, false, false, false, false, false, false, false, false, false, false, false, false, false, false, false, false, false]}, {\"title\": \"\\u6a21\\u578b\\u53d8\\u91cf\\u5206\\u5e03\"}]}, {\"label\": \"addr_state\", \"method\": \"update\", \"args\": [{\"visible\": [false, false, false, false, false, false, false, false, false, true, true, true, false, false, false, false, false, false, false, false, false, false, false, false, false, false, false, false, false, false]}, {\"title\": \"\\u6a21\\u578b\\u53d8\\u91cf\\u5206\\u5e03\"}]}, {\"label\": \"zip_code\", \"method\": \"update\", \"args\": [{\"visible\": [false, false, false, false, false, false, false, false, false, false, false, false, true, true, true, false, false, false, false, false, false, false, false, false, false, false, false, false, false, false]}, {\"title\": \"\\u6a21\\u578b\\u53d8\\u91cf\\u5206\\u5e03\"}]}, {\"label\": \"inq_last_6mths\", \"method\": \"update\", \"args\": [{\"visible\": [false, false, false, false, false, false, false, false, false, false, false, false, false, false, false, true, true, true, false, false, false, false, false, false, false, false, false, false, false, false]}, {\"title\": \"\\u6a21\\u578b\\u53d8\\u91cf\\u5206\\u5e03\"}]}, {\"label\": \"mths_last_record\", \"method\": \"update\", \"args\": [{\"visible\": [false, false, false, false, false, false, false, false, false, false, false, false, false, false, false, false, false, false, true, true, true, false, false, false, false, false, false, false, false, false]}, {\"title\": \"\\u6a21\\u578b\\u53d8\\u91cf\\u5206\\u5e03\"}]}, {\"label\": \"limit_income\", \"method\": \"update\", \"args\": [{\"visible\": [false, false, false, false, false, false, false, false, false, false, false, false, false, false, false, false, false, false, false, false, false, true, true, true, false, false, false, false, false, false]}, {\"title\": \"\\u6a21\\u578b\\u53d8\\u91cf\\u5206\\u5e03\"}]}, {\"label\": \"total_acc\", \"method\": \"update\", \"args\": [{\"visible\": [false, false, false, false, false, false, false, false, false, false, false, false, false, false, false, false, false, false, false, false, false, false, false, false, true, true, true, false, false, false]}, {\"title\": \"\\u6a21\\u578b\\u53d8\\u91cf\\u5206\\u5e03\"}]}, {\"label\": \"dti\", \"method\": \"update\", \"args\": [{\"visible\": [false, false, false, false, false, false, false, false, false, false, false, false, false, false, false, false, false, false, false, false, false, false, false, false, false, false, false, true, true, true]}, {\"title\": \"\\u6a21\\u578b\\u53d8\\u91cf\\u5206\\u5e03\"}]}]}]}, {\"showLink\": true, \"linkText\": \"Export to plot.ly\"})});</script>"
      ],
      "text/vnd.plotly.v1+html": [
       "<div id=\"bc34a8cd-c47b-4d85-b917-99f6c1e5c78a\" style=\"height: 500px; width: 1000px;\" class=\"plotly-graph-div\"></div><script type=\"text/javascript\">require([\"plotly\"], function(Plotly) { window.PLOTLYENV=window.PLOTLYENV || {};window.PLOTLYENV.BASE_URL=\"https://plot.ly\";Plotly.newPlot(\"bc34a8cd-c47b-4d85-b917-99f6c1e5c78a\", [{\"type\": \"scatter\", \"x\": [\"Bin 0\", \"Bin 1\", \"Bin 2\", \"Bin 3\", \"Bin 4\"], \"y\": [0.048, 0.086, 0.11, 0.139, 0.181], \"marker\": {\"color\": \"rgb(255,127,0)\"}, \"name\": \"bad_rate\", \"text\": [4260, 2577, 4133, 2820, 3667], \"xaxis\": \"x3\", \"yaxis\": \"y3\"}, {\"type\": \"table\", \"domain\": {\"x\": [0, 0.45], \"y\": [0, 0.83]}, \"columnwidth\": [1.2, 1.2, 1.2, 1.2], \"header\": {\"values\": [\"\", \"total\", \"bad\", \"good\", \"bad_rate\", \"WOE\"], \"line\": {\"color\": \"rgba(80,103,132,0.2)\", \"width\": 0.5}, \"fill\": {\"color\": \"rgb(64,70,114)\"}, \"align\": [\"center\", \"center\", \"center\", \"center\", \"center\"], \"font\": {\"color\": \"white\", \"size\": 12}, \"height\": 40}, \"cells\": {\"values\": [[\"Bin 0\", \"Bin 1\", \"Bin 2\", \"Bin 3\", \"Bin 4\"], [4260, 2577, 4133, 2820, 3667], [205, 221, 456, 392, 664], [4055, 2356, 3677, 2428, 3003], [0.048, 0.086, 0.11, 0.139, 0.181], [0.904, 0.286, 0.007, -0.257, -0.571]], \"line\": {\"color\": \"rgba(80,103,132,0.2)\", \"width\": 1}, \"fill\": {\"color\": [\"rgb(64,70,114)\", [\"rgb(245, 245, 245)\", \"rgb(245, 245, 245)\", \"rgb(255, 255, 255)\", \"rgb(255, 255, 255)\", \"rgb(245, 245, 245)\", \"rgb(245, 245, 245)\"]]}, \"align\": [\"left\", \"center\", \"center\", \"center\", \"center\", \"center\"], \"font\": {\"color\": [\"white\", \"#506784\", \"#506784\", \"#506784\"], \"size\": 12}, \"height\": 50}}, {\"type\": \"bar\", \"x\": [\"Bin 0\", \"Bin 1\", \"Bin 2\", \"Bin 3\", \"Bin 4\"], \"y\": [4260, 2577, 4133, 2820, 3667], \"name\": \"cnts\", \"xaxis\": \"x2\", \"yaxis\": \"y2\", \"showlegend\": false, \"marker\": {\"color\": [\"rgb(43,131,186)\", \"rgb(171,221,164)\", \"rgb(255,255,191)\", \"rgb(253,174,97)\", \"rgb(215,25,28)\"]}, \"text\": [4260, 2577, 4133, 2820, 3667]}, {\"type\": \"scatter\", \"x\": [\"Bin 0\", \"Bin 1\", \"Bin 2\", \"Bin 3\", \"Bin 4\"], \"y\": [0.078, 0.098, 0.115, 0.162, 0.21], \"marker\": {\"color\": \"rgb(255,127,0)\"}, \"name\": \"bad_rate\", \"visible\": false, \"text\": [4045, 1841, 10016, 771, 784], \"xaxis\": \"x3\", \"yaxis\": \"y3\"}, {\"type\": \"table\", \"domain\": {\"x\": [0, 0.45], \"y\": [0, 0.83]}, \"columnwidth\": [1.2, 1.2, 1.2, 1.2], \"header\": {\"values\": [\"\", \"total\", \"bad\", \"good\", \"bad_rate\", \"WOE\"], \"line\": {\"color\": \"rgba(80,103,132,0.2)\", \"width\": 0.5}, \"fill\": {\"color\": \"rgb(64,70,114)\"}, \"align\": [\"center\", \"center\", \"center\", \"center\", \"center\"], \"font\": {\"color\": \"white\", \"size\": 12}, \"height\": 40}, \"visible\": false, \"cells\": {\"values\": [[\"Bin 0\", \"Bin 1\", \"Bin 2\", \"Bin 3\", \"Bin 4\"], [4045, 1841, 10016, 771, 784], [316, 181, 1151, 125, 165], [3729, 1660, 8865, 646, 619], [0.078, 0.098, 0.115, 0.162, 0.21], [0.388, 0.136, -0.039, -0.438, -0.758]], \"line\": {\"color\": \"rgba(80,103,132,0.2)\", \"width\": 1}, \"fill\": {\"color\": [\"rgb(64,70,114)\", [\"rgb(245, 245, 245)\", \"rgb(245, 245, 245)\", \"rgb(255, 255, 255)\", \"rgb(255, 255, 255)\", \"rgb(245, 245, 245)\", \"rgb(245, 245, 245)\"]]}, \"align\": [\"left\", \"center\", \"center\", \"center\", \"center\", \"center\"], \"font\": {\"color\": [\"white\", \"#506784\", \"#506784\", \"#506784\"], \"size\": 12}, \"height\": 50}}, {\"type\": \"bar\", \"x\": [\"Bin 0\", \"Bin 1\", \"Bin 2\", \"Bin 3\", \"Bin 4\"], \"y\": [4045, 1841, 10016, 771, 784], \"name\": \"cnts\", \"xaxis\": \"x2\", \"yaxis\": \"y2\", \"visible\": false, \"showlegend\": false, \"marker\": {\"color\": [\"rgb(43,131,186)\", \"rgb(171,221,164)\", \"rgb(255,255,191)\", \"rgb(253,174,97)\", \"rgb(215,25,28)\"]}, \"text\": [4045, 1841, 10016, 771, 784]}, {\"type\": \"scatter\", \"x\": [\"Bin 0\", \"Bin 1\", \"Bin 2\", \"Bin 3\", \"Bin 4\"], \"y\": [0.179, 0.15, 0.116, 0.106, 0.084], \"marker\": {\"color\": \"rgb(255,127,0)\"}, \"name\": \"bad_rate\", \"visible\": false, \"text\": [716, 3113, 4327, 2665, 6636], \"xaxis\": \"x3\", \"yaxis\": \"y3\"}, {\"type\": \"table\", \"domain\": {\"x\": [0, 0.45], \"y\": [0, 0.83]}, \"columnwidth\": [1.2, 1.2, 1.2, 1.2], \"header\": {\"values\": [\"\", \"total\", \"bad\", \"good\", \"bad_rate\", \"WOE\"], \"line\": {\"color\": \"rgba(80,103,132,0.2)\", \"width\": 0.5}, \"fill\": {\"color\": \"rgb(64,70,114)\"}, \"align\": [\"center\", \"center\", \"center\", \"center\", \"center\"], \"font\": {\"color\": \"white\", \"size\": 12}, \"height\": 40}, \"visible\": false, \"cells\": {\"values\": [[\"Bin 0\", \"Bin 1\", \"Bin 2\", \"Bin 3\", \"Bin 4\"], [716, 3113, 4327, 2665, 6636], [128, 466, 501, 283, 560], [588, 2647, 3826, 2382, 6076], [0.179, 0.15, 0.116, 0.106, 0.084], [-0.556, -0.343, -0.047, 0.05, 0.304]], \"line\": {\"color\": \"rgba(80,103,132,0.2)\", \"width\": 1}, \"fill\": {\"color\": [\"rgb(64,70,114)\", [\"rgb(245, 245, 245)\", \"rgb(245, 245, 245)\", \"rgb(255, 255, 255)\", \"rgb(255, 255, 255)\", \"rgb(245, 245, 245)\", \"rgb(245, 245, 245)\"]]}, \"align\": [\"left\", \"center\", \"center\", \"center\", \"center\", \"center\"], \"font\": {\"color\": [\"white\", \"#506784\", \"#506784\", \"#506784\"], \"size\": 12}, \"height\": 50}}, {\"type\": \"bar\", \"x\": [\"Bin 0\", \"Bin 1\", \"Bin 2\", \"Bin 3\", \"Bin 4\"], \"y\": [716, 3113, 4327, 2665, 6636], \"name\": \"cnts\", \"xaxis\": \"x2\", \"yaxis\": \"y2\", \"visible\": false, \"showlegend\": false, \"marker\": {\"color\": [\"rgb(43,131,186)\", \"rgb(171,221,164)\", \"rgb(255,255,191)\", \"rgb(253,174,97)\", \"rgb(215,25,28)\"]}, \"text\": [716, 3113, 4327, 2665, 6636]}, {\"type\": \"scatter\", \"x\": [\"Bin 0\", \"Bin 1\", \"Bin 2\", \"Bin 3\", \"Bin 4\"], \"y\": [0.069, 0.097, 0.125, 0.148, 0.6], \"marker\": {\"color\": \"rgb(255,127,0)\"}, \"name\": \"bad_rate\", \"visible\": false, \"text\": [1447, 7689, 6065, 2251, 5], \"xaxis\": \"x3\", \"yaxis\": \"y3\"}, {\"type\": \"table\", \"domain\": {\"x\": [0, 0.45], \"y\": [0, 0.83]}, \"columnwidth\": [1.2, 1.2, 1.2, 1.2], \"header\": {\"values\": [\"\", \"total\", \"bad\", \"good\", \"bad_rate\", \"WOE\"], \"line\": {\"color\": \"rgba(80,103,132,0.2)\", \"width\": 0.5}, \"fill\": {\"color\": \"rgb(64,70,114)\"}, \"align\": [\"center\", \"center\", \"center\", \"center\", \"center\"], \"font\": {\"color\": \"white\", \"size\": 12}, \"height\": 40}, \"visible\": false, \"cells\": {\"values\": [[\"Bin 0\", \"Bin 1\", \"Bin 2\", \"Bin 3\", \"Bin 4\"], [1447, 7689, 6065, 2251, 5], [100, 744, 758, 333, 3], [1347, 6945, 5307, 1918, 2], [0.069, 0.097, 0.125, 0.148, 0.6], [0.52, 0.153, -0.134, -0.33, -2.486]], \"line\": {\"color\": \"rgba(80,103,132,0.2)\", \"width\": 1}, \"fill\": {\"color\": [\"rgb(64,70,114)\", [\"rgb(245, 245, 245)\", \"rgb(245, 245, 245)\", \"rgb(255, 255, 255)\", \"rgb(255, 255, 255)\", \"rgb(245, 245, 245)\", \"rgb(245, 245, 245)\"]]}, \"align\": [\"left\", \"center\", \"center\", \"center\", \"center\", \"center\"], \"font\": {\"color\": [\"white\", \"#506784\", \"#506784\", \"#506784\"], \"size\": 12}, \"height\": 50}}, {\"type\": \"bar\", \"x\": [\"Bin 0\", \"Bin 1\", \"Bin 2\", \"Bin 3\", \"Bin 4\"], \"y\": [1447, 7689, 6065, 2251, 5], \"name\": \"cnts\", \"xaxis\": \"x2\", \"yaxis\": \"y2\", \"visible\": false, \"showlegend\": false, \"marker\": {\"color\": [\"rgb(43,131,186)\", \"rgb(171,221,164)\", \"rgb(255,255,191)\", \"rgb(253,174,97)\", \"rgb(215,25,28)\"]}, \"text\": [1447, 7689, 6065, 2251, 5]}, {\"type\": \"scatter\", \"x\": [\"Bin 0\", \"Bin 1\", \"Bin 2\", \"Bin 3\"], \"y\": [0.054, 0.124, 0.205, 0.438], \"marker\": {\"color\": \"rgb(255,127,0)\"}, \"name\": \"bad_rate\", \"visible\": false, \"text\": [7452, 7042, 2739, 224], \"xaxis\": \"x3\", \"yaxis\": \"y3\"}, {\"type\": \"table\", \"domain\": {\"x\": [0, 0.45], \"y\": [0, 0.83]}, \"columnwidth\": [1.2, 1.2, 1.2, 1.2], \"header\": {\"values\": [\"\", \"total\", \"bad\", \"good\", \"bad_rate\", \"WOE\"], \"line\": {\"color\": \"rgba(80,103,132,0.2)\", \"width\": 0.5}, \"fill\": {\"color\": \"rgb(64,70,114)\"}, \"align\": [\"center\", \"center\", \"center\", \"center\", \"center\"], \"font\": {\"color\": \"white\", \"size\": 12}, \"height\": 40}, \"visible\": false, \"cells\": {\"values\": [[\"Bin 0\", \"Bin 1\", \"Bin 2\", \"Bin 3\"], [7452, 7042, 2739, 224], [406, 872, 562, 98], [7046, 6170, 2177, 126], [0.054, 0.124, 0.205, 0.438], [0.773, -0.124, -0.726, -1.829]], \"line\": {\"color\": \"rgba(80,103,132,0.2)\", \"width\": 1}, \"fill\": {\"color\": [\"rgb(64,70,114)\", [\"rgb(245, 245, 245)\", \"rgb(245, 245, 245)\", \"rgb(255, 255, 255)\", \"rgb(255, 255, 255)\", \"rgb(245, 245, 245)\", \"rgb(245, 245, 245)\"]]}, \"align\": [\"left\", \"center\", \"center\", \"center\", \"center\", \"center\"], \"font\": {\"color\": [\"white\", \"#506784\", \"#506784\", \"#506784\"], \"size\": 12}, \"height\": 50}}, {\"type\": \"bar\", \"x\": [\"Bin 0\", \"Bin 1\", \"Bin 2\", \"Bin 3\"], \"y\": [7452, 7042, 2739, 224], \"name\": \"cnts\", \"xaxis\": \"x2\", \"yaxis\": \"y2\", \"visible\": false, \"showlegend\": false, \"marker\": {\"color\": [\"rgb(43,131,186)\", \"rgb(171,221,164)\", \"rgb(255,255,191)\", \"rgb(253,174,97)\", \"rgb(215,25,28)\"]}, \"text\": [7452, 7042, 2739, 224]}, {\"type\": \"scatter\", \"x\": [\"Bin 0\", \"Bin 1\", \"Bin 2\", \"Bin 3\"], \"y\": [0.089, 0.124, 0.168, 0.5], \"marker\": {\"color\": \"rgb(255,127,0)\"}, \"name\": \"bad_rate\", \"visible\": false, \"text\": [8684, 7202, 1567, 4], \"xaxis\": \"x3\", \"yaxis\": \"y3\"}, {\"type\": \"table\", \"domain\": {\"x\": [0, 0.45], \"y\": [0, 0.83]}, \"columnwidth\": [1.2, 1.2, 1.2, 1.2], \"header\": {\"values\": [\"\", \"total\", \"bad\", \"good\", \"bad_rate\", \"WOE\"], \"line\": {\"color\": \"rgba(80,103,132,0.2)\", \"width\": 0.5}, \"fill\": {\"color\": \"rgb(64,70,114)\"}, \"align\": [\"center\", \"center\", \"center\", \"center\", \"center\"], \"font\": {\"color\": \"white\", \"size\": 12}, \"height\": 40}, \"visible\": false, \"cells\": {\"values\": [[\"Bin 0\", \"Bin 1\", \"Bin 2\", \"Bin 3\"], [8684, 7202, 1567, 4], [777, 896, 263, 2], [7907, 6306, 1304, 2], [0.089, 0.124, 0.168, 0.5], [0.24, -0.129, -0.479, -2.08]], \"line\": {\"color\": \"rgba(80,103,132,0.2)\", \"width\": 1}, \"fill\": {\"color\": [\"rgb(64,70,114)\", [\"rgb(245, 245, 245)\", \"rgb(245, 245, 245)\", \"rgb(255, 255, 255)\", \"rgb(255, 255, 255)\", \"rgb(245, 245, 245)\", \"rgb(245, 245, 245)\"]]}, \"align\": [\"left\", \"center\", \"center\", \"center\", \"center\", \"center\"], \"font\": {\"color\": [\"white\", \"#506784\", \"#506784\", \"#506784\"], \"size\": 12}, \"height\": 50}}, {\"type\": \"bar\", \"x\": [\"Bin 0\", \"Bin 1\", \"Bin 2\", \"Bin 3\"], \"y\": [8684, 7202, 1567, 4], \"name\": \"cnts\", \"xaxis\": \"x2\", \"yaxis\": \"y2\", \"visible\": false, \"showlegend\": false, \"marker\": {\"color\": [\"rgb(43,131,186)\", \"rgb(171,221,164)\", \"rgb(255,255,191)\", \"rgb(253,174,97)\", \"rgb(215,25,28)\"]}, \"text\": [8684, 7202, 1567, 4]}, {\"type\": \"scatter\", \"x\": [\"Bin -1\", \"Bin 1\", \"Bin 3\"], \"y\": [0.106, 0.199, 0.148], \"marker\": {\"color\": \"rgb(255,127,0)\"}, \"name\": \"bad_rate\", \"visible\": false, \"text\": [16158, 603, 696], \"xaxis\": \"x3\", \"yaxis\": \"y3\"}, {\"type\": \"table\", \"domain\": {\"x\": [0, 0.45], \"y\": [0, 0.83]}, \"columnwidth\": [1.2, 1.2, 1.2, 1.2], \"header\": {\"values\": [\"\", \"total\", \"bad\", \"good\", \"bad_rate\", \"WOE\"], \"line\": {\"color\": \"rgba(80,103,132,0.2)\", \"width\": 0.5}, \"fill\": {\"color\": \"rgb(64,70,114)\"}, \"align\": [\"center\", \"center\", \"center\", \"center\", \"center\"], \"font\": {\"color\": \"white\", \"size\": 12}, \"height\": 40}, \"visible\": false, \"cells\": {\"values\": [[\"Bin -1\", \"Bin 1\", \"Bin 3\"], [16158, 603, 696], [1715, 120, 103], [14443, 483, 593], [0.106, 0.199, 0.148], [0.05, -0.688, -0.33]], \"line\": {\"color\": \"rgba(80,103,132,0.2)\", \"width\": 1}, \"fill\": {\"color\": [\"rgb(64,70,114)\", [\"rgb(245, 245, 245)\", \"rgb(245, 245, 245)\", \"rgb(255, 255, 255)\", \"rgb(255, 255, 255)\", \"rgb(245, 245, 245)\", \"rgb(245, 245, 245)\"]]}, \"align\": [\"left\", \"center\", \"center\", \"center\", \"center\", \"center\"], \"font\": {\"color\": [\"white\", \"#506784\", \"#506784\", \"#506784\"], \"size\": 12}, \"height\": 50}}, {\"type\": \"bar\", \"x\": [\"Bin -1\", \"Bin 1\", \"Bin 3\"], \"y\": [16158, 603, 696], \"name\": \"cnts\", \"xaxis\": \"x2\", \"yaxis\": \"y2\", \"visible\": false, \"showlegend\": false, \"marker\": {\"color\": [\"rgb(43,131,186)\", \"rgb(171,221,164)\", \"rgb(255,255,191)\", \"rgb(253,174,97)\", \"rgb(215,25,28)\"]}, \"text\": [16158, 603, 696]}, {\"type\": \"scatter\", \"x\": [\"Bin 0\", \"Bin 1\", \"Bin 2\"], \"y\": [0.099, 0.109, 0.146], \"marker\": {\"color\": \"rgb(255,127,0)\"}, \"name\": \"bad_rate\", \"visible\": false, \"text\": [8005, 6265, 3187], \"xaxis\": \"x3\", \"yaxis\": \"y3\"}, {\"type\": \"table\", \"domain\": {\"x\": [0, 0.45], \"y\": [0, 0.83]}, \"columnwidth\": [1.2, 1.2, 1.2, 1.2], \"header\": {\"values\": [\"\", \"total\", \"bad\", \"good\", \"bad_rate\", \"WOE\"], \"line\": {\"color\": \"rgba(80,103,132,0.2)\", \"width\": 0.5}, \"fill\": {\"color\": \"rgb(64,70,114)\"}, \"align\": [\"center\", \"center\", \"center\", \"center\", \"center\"], \"font\": {\"color\": \"white\", \"size\": 12}, \"height\": 40}, \"visible\": false, \"cells\": {\"values\": [[\"Bin 0\", \"Bin 1\", \"Bin 2\"], [8005, 6265, 3187], [790, 683, 465], [7215, 5582, 2722], [0.099, 0.109, 0.146], [0.131, 0.02, -0.313]], \"line\": {\"color\": \"rgba(80,103,132,0.2)\", \"width\": 1}, \"fill\": {\"color\": [\"rgb(64,70,114)\", [\"rgb(245, 245, 245)\", \"rgb(245, 245, 245)\", \"rgb(255, 255, 255)\", \"rgb(255, 255, 255)\", \"rgb(245, 245, 245)\", \"rgb(245, 245, 245)\"]]}, \"align\": [\"left\", \"center\", \"center\", \"center\", \"center\", \"center\"], \"font\": {\"color\": [\"white\", \"#506784\", \"#506784\", \"#506784\"], \"size\": 12}, \"height\": 50}}, {\"type\": \"bar\", \"x\": [\"Bin 0\", \"Bin 1\", \"Bin 2\"], \"y\": [8005, 6265, 3187], \"name\": \"cnts\", \"xaxis\": \"x2\", \"yaxis\": \"y2\", \"visible\": false, \"showlegend\": false, \"marker\": {\"color\": [\"rgb(43,131,186)\", \"rgb(171,221,164)\", \"rgb(255,255,191)\", \"rgb(253,174,97)\", \"rgb(215,25,28)\"]}, \"text\": [8005, 6265, 3187]}, {\"type\": \"scatter\", \"x\": [\"Bin 0\", \"Bin 1\"], \"y\": [0.135, 0.1], \"marker\": {\"color\": \"rgb(255,127,0)\"}, \"name\": \"bad_rate\", \"visible\": false, \"text\": [5304, 12153], \"xaxis\": \"x3\", \"yaxis\": \"y3\"}, {\"type\": \"table\", \"domain\": {\"x\": [0, 0.45], \"y\": [0, 0.83]}, \"columnwidth\": [1.2, 1.2, 1.2, 1.2], \"header\": {\"values\": [\"\", \"total\", \"bad\", \"good\", \"bad_rate\", \"WOE\"], \"line\": {\"color\": \"rgba(80,103,132,0.2)\", \"width\": 0.5}, \"fill\": {\"color\": \"rgb(64,70,114)\"}, \"align\": [\"center\", \"center\", \"center\", \"center\", \"center\"], \"font\": {\"color\": \"white\", \"size\": 12}, \"height\": 40}, \"visible\": false, \"cells\": {\"values\": [[\"Bin 0\", \"Bin 1\"], [5304, 12153], [717, 1221], [4587, 10932], [0.135, 0.1], [-0.225, 0.112]], \"line\": {\"color\": \"rgba(80,103,132,0.2)\", \"width\": 1}, \"fill\": {\"color\": [\"rgb(64,70,114)\", [\"rgb(245, 245, 245)\", \"rgb(245, 245, 245)\", \"rgb(255, 255, 255)\", \"rgb(255, 255, 255)\", \"rgb(245, 245, 245)\", \"rgb(245, 245, 245)\"]]}, \"align\": [\"left\", \"center\", \"center\", \"center\", \"center\", \"center\"], \"font\": {\"color\": [\"white\", \"#506784\", \"#506784\", \"#506784\"], \"size\": 12}, \"height\": 50}}, {\"type\": \"bar\", \"x\": [\"Bin 0\", \"Bin 1\"], \"y\": [5304, 12153], \"name\": \"cnts\", \"xaxis\": \"x2\", \"yaxis\": \"y2\", \"visible\": false, \"showlegend\": false, \"marker\": {\"color\": [\"rgb(43,131,186)\", \"rgb(171,221,164)\", \"rgb(255,255,191)\", \"rgb(253,174,97)\", \"rgb(215,25,28)\"]}, \"text\": [5304, 12153]}, {\"type\": \"scatter\", \"x\": [\"Bin 0\", \"Bin 1\", \"Bin 2\", \"Bin 3\", \"Bin 4\"], \"y\": [0.089, 0.11, 0.111, 0.12, 0.137], \"marker\": {\"color\": \"rgb(255,127,0)\"}, \"name\": \"bad_rate\", \"visible\": false, \"text\": [4181, 3306, 2781, 5567, 1622], \"xaxis\": \"x3\", \"yaxis\": \"y3\"}, {\"type\": \"table\", \"domain\": {\"x\": [0, 0.45], \"y\": [0, 0.83]}, \"columnwidth\": [1.2, 1.2, 1.2, 1.2], \"header\": {\"values\": [\"\", \"total\", \"bad\", \"good\", \"bad_rate\", \"WOE\"], \"line\": {\"color\": \"rgba(80,103,132,0.2)\", \"width\": 0.5}, \"fill\": {\"color\": \"rgb(64,70,114)\"}, \"align\": [\"center\", \"center\", \"center\", \"center\", \"center\"], \"font\": {\"color\": \"white\", \"size\": 12}, \"height\": 40}, \"visible\": false, \"cells\": {\"values\": [[\"Bin 0\", \"Bin 1\", \"Bin 2\", \"Bin 3\", \"Bin 4\"], [4181, 3306, 2781, 5567, 1622], [374, 363, 309, 670, 222], [3807, 2943, 2472, 4897, 1400], [0.089, 0.11, 0.111, 0.12, 0.137], [0.24, 0.012, -0.001, -0.091, -0.239]], \"line\": {\"color\": \"rgba(80,103,132,0.2)\", \"width\": 1}, \"fill\": {\"color\": [\"rgb(64,70,114)\", [\"rgb(245, 245, 245)\", \"rgb(245, 245, 245)\", \"rgb(255, 255, 255)\", \"rgb(255, 255, 255)\", \"rgb(245, 245, 245)\", \"rgb(245, 245, 245)\"]]}, \"align\": [\"left\", \"center\", \"center\", \"center\", \"center\", \"center\"], \"font\": {\"color\": [\"white\", \"#506784\", \"#506784\", \"#506784\"], \"size\": 12}, \"height\": 50}}, {\"type\": \"bar\", \"x\": [\"Bin 0\", \"Bin 1\", \"Bin 2\", \"Bin 3\", \"Bin 4\"], \"y\": [4181, 3306, 2781, 5567, 1622], \"name\": \"cnts\", \"xaxis\": \"x2\", \"yaxis\": \"y2\", \"visible\": false, \"showlegend\": false, \"marker\": {\"color\": [\"rgb(43,131,186)\", \"rgb(171,221,164)\", \"rgb(255,255,191)\", \"rgb(253,174,97)\", \"rgb(215,25,28)\"]}, \"text\": [4181, 3306, 2781, 5567, 1622]}, {\"type\": \"scatter\", \"x\": [\"Bin 0\", \"Bin 1\", \"Bin 2\", \"Bin 3\", \"Bin 4\"], \"y\": [0.048, 0.086, 0.11, 0.139, 0.181], \"marker\": {\"color\": \"rgb(255,127,0)\"}, \"name\": \"bad_rate\", \"text\": [4260, 2577, 4133, 2820, 3667], \"xaxis\": \"x3\", \"yaxis\": \"y3\"}, {\"type\": \"table\", \"domain\": {\"x\": [0, 0.45], \"y\": [0, 0.83]}, \"columnwidth\": [1.2, 1.2, 1.2, 1.2], \"header\": {\"values\": [\"\", \"total\", \"bad\", \"good\", \"bad_rate\", \"WOE\"], \"line\": {\"color\": \"rgba(80,103,132,0.2)\", \"width\": 0.5}, \"fill\": {\"color\": \"rgb(64,70,114)\"}, \"align\": [\"center\", \"center\", \"center\", \"center\", \"center\"], \"font\": {\"color\": \"white\", \"size\": 12}, \"height\": 40}, \"cells\": {\"values\": [[\"Bin 0\", \"Bin 1\", \"Bin 2\", \"Bin 3\", \"Bin 4\"], [4260, 2577, 4133, 2820, 3667], [205, 221, 456, 392, 664], [4055, 2356, 3677, 2428, 3003], [0.048, 0.086, 0.11, 0.139, 0.181], [0.904, 0.286, 0.007, -0.257, -0.571]], \"line\": {\"color\": \"rgba(80,103,132,0.2)\", \"width\": 1}, \"fill\": {\"color\": [\"rgb(64,70,114)\", [\"rgb(245, 245, 245)\", \"rgb(245, 245, 245)\", \"rgb(255, 255, 255)\", \"rgb(255, 255, 255)\", \"rgb(245, 245, 245)\", \"rgb(245, 245, 245)\"]]}, \"align\": [\"left\", \"center\", \"center\", \"center\", \"center\", \"center\"], \"font\": {\"color\": [\"white\", \"#506784\", \"#506784\", \"#506784\"], \"size\": 12}, \"height\": 50}}, {\"type\": \"bar\", \"x\": [\"Bin 0\", \"Bin 1\", \"Bin 2\", \"Bin 3\", \"Bin 4\"], \"y\": [4260, 2577, 4133, 2820, 3667], \"name\": \"cnts\", \"xaxis\": \"x2\", \"yaxis\": \"y2\", \"showlegend\": false, \"marker\": {\"color\": [\"rgb(43,131,186)\", \"rgb(171,221,164)\", \"rgb(255,255,191)\", \"rgb(253,174,97)\", \"rgb(215,25,28)\"]}, \"text\": [4260, 2577, 4133, 2820, 3667]}, {\"type\": \"scatter\", \"x\": [\"Bin 0\", \"Bin 1\", \"Bin 2\", \"Bin 3\", \"Bin 4\"], \"y\": [0.078, 0.098, 0.115, 0.162, 0.21], \"marker\": {\"color\": \"rgb(255,127,0)\"}, \"name\": \"bad_rate\", \"visible\": false, \"text\": [4045, 1841, 10016, 771, 784], \"xaxis\": \"x3\", \"yaxis\": \"y3\"}, {\"type\": \"table\", \"domain\": {\"x\": [0, 0.45], \"y\": [0, 0.83]}, \"columnwidth\": [1.2, 1.2, 1.2, 1.2], \"header\": {\"values\": [\"\", \"total\", \"bad\", \"good\", \"bad_rate\", \"WOE\"], \"line\": {\"color\": \"rgba(80,103,132,0.2)\", \"width\": 0.5}, \"fill\": {\"color\": \"rgb(64,70,114)\"}, \"align\": [\"center\", \"center\", \"center\", \"center\", \"center\"], \"font\": {\"color\": \"white\", \"size\": 12}, \"height\": 40}, \"visible\": false, \"cells\": {\"values\": [[\"Bin 0\", \"Bin 1\", \"Bin 2\", \"Bin 3\", \"Bin 4\"], [4045, 1841, 10016, 771, 784], [316, 181, 1151, 125, 165], [3729, 1660, 8865, 646, 619], [0.078, 0.098, 0.115, 0.162, 0.21], [0.388, 0.136, -0.039, -0.438, -0.758]], \"line\": {\"color\": \"rgba(80,103,132,0.2)\", \"width\": 1}, \"fill\": {\"color\": [\"rgb(64,70,114)\", [\"rgb(245, 245, 245)\", \"rgb(245, 245, 245)\", \"rgb(255, 255, 255)\", \"rgb(255, 255, 255)\", \"rgb(245, 245, 245)\", \"rgb(245, 245, 245)\"]]}, \"align\": [\"left\", \"center\", \"center\", \"center\", \"center\", \"center\"], \"font\": {\"color\": [\"white\", \"#506784\", \"#506784\", \"#506784\"], \"size\": 12}, \"height\": 50}}, {\"type\": \"bar\", \"x\": [\"Bin 0\", \"Bin 1\", \"Bin 2\", \"Bin 3\", \"Bin 4\"], \"y\": [4045, 1841, 10016, 771, 784], \"name\": \"cnts\", \"xaxis\": \"x2\", \"yaxis\": \"y2\", \"visible\": false, \"showlegend\": false, \"marker\": {\"color\": [\"rgb(43,131,186)\", \"rgb(171,221,164)\", \"rgb(255,255,191)\", \"rgb(253,174,97)\", \"rgb(215,25,28)\"]}, \"text\": [4045, 1841, 10016, 771, 784]}, {\"type\": \"scatter\", \"x\": [\"Bin 0\", \"Bin 1\", \"Bin 2\", \"Bin 3\", \"Bin 4\"], \"y\": [0.179, 0.15, 0.116, 0.106, 0.084], \"marker\": {\"color\": \"rgb(255,127,0)\"}, \"name\": \"bad_rate\", \"visible\": false, \"text\": [716, 3113, 4327, 2665, 6636], \"xaxis\": \"x3\", \"yaxis\": \"y3\"}, {\"type\": \"table\", \"domain\": {\"x\": [0, 0.45], \"y\": [0, 0.83]}, \"columnwidth\": [1.2, 1.2, 1.2, 1.2], \"header\": {\"values\": [\"\", \"total\", \"bad\", \"good\", \"bad_rate\", \"WOE\"], \"line\": {\"color\": \"rgba(80,103,132,0.2)\", \"width\": 0.5}, \"fill\": {\"color\": \"rgb(64,70,114)\"}, \"align\": [\"center\", \"center\", \"center\", \"center\", \"center\"], \"font\": {\"color\": \"white\", \"size\": 12}, \"height\": 40}, \"visible\": false, \"cells\": {\"values\": [[\"Bin 0\", \"Bin 1\", \"Bin 2\", \"Bin 3\", \"Bin 4\"], [716, 3113, 4327, 2665, 6636], [128, 466, 501, 283, 560], [588, 2647, 3826, 2382, 6076], [0.179, 0.15, 0.116, 0.106, 0.084], [-0.556, -0.343, -0.047, 0.05, 0.304]], \"line\": {\"color\": \"rgba(80,103,132,0.2)\", \"width\": 1}, \"fill\": {\"color\": [\"rgb(64,70,114)\", [\"rgb(245, 245, 245)\", \"rgb(245, 245, 245)\", \"rgb(255, 255, 255)\", \"rgb(255, 255, 255)\", \"rgb(245, 245, 245)\", \"rgb(245, 245, 245)\"]]}, \"align\": [\"left\", \"center\", \"center\", \"center\", \"center\", \"center\"], \"font\": {\"color\": [\"white\", \"#506784\", \"#506784\", \"#506784\"], \"size\": 12}, \"height\": 50}}, {\"type\": \"bar\", \"x\": [\"Bin 0\", \"Bin 1\", \"Bin 2\", \"Bin 3\", \"Bin 4\"], \"y\": [716, 3113, 4327, 2665, 6636], \"name\": \"cnts\", \"xaxis\": \"x2\", \"yaxis\": \"y2\", \"visible\": false, \"showlegend\": false, \"marker\": {\"color\": [\"rgb(43,131,186)\", \"rgb(171,221,164)\", \"rgb(255,255,191)\", \"rgb(253,174,97)\", \"rgb(215,25,28)\"]}, \"text\": [716, 3113, 4327, 2665, 6636]}, {\"type\": \"scatter\", \"x\": [\"Bin 0\", \"Bin 1\", \"Bin 2\", \"Bin 3\", \"Bin 4\"], \"y\": [0.069, 0.097, 0.125, 0.148, 0.6], \"marker\": {\"color\": \"rgb(255,127,0)\"}, \"name\": \"bad_rate\", \"visible\": false, \"text\": [1447, 7689, 6065, 2251, 5], \"xaxis\": \"x3\", \"yaxis\": \"y3\"}, {\"type\": \"table\", \"domain\": {\"x\": [0, 0.45], \"y\": [0, 0.83]}, \"columnwidth\": [1.2, 1.2, 1.2, 1.2], \"header\": {\"values\": [\"\", \"total\", \"bad\", \"good\", \"bad_rate\", \"WOE\"], \"line\": {\"color\": \"rgba(80,103,132,0.2)\", \"width\": 0.5}, \"fill\": {\"color\": \"rgb(64,70,114)\"}, \"align\": [\"center\", \"center\", \"center\", \"center\", \"center\"], \"font\": {\"color\": \"white\", \"size\": 12}, \"height\": 40}, \"visible\": false, \"cells\": {\"values\": [[\"Bin 0\", \"Bin 1\", \"Bin 2\", \"Bin 3\", \"Bin 4\"], [1447, 7689, 6065, 2251, 5], [100, 744, 758, 333, 3], [1347, 6945, 5307, 1918, 2], [0.069, 0.097, 0.125, 0.148, 0.6], [0.52, 0.153, -0.134, -0.33, -2.486]], \"line\": {\"color\": \"rgba(80,103,132,0.2)\", \"width\": 1}, \"fill\": {\"color\": [\"rgb(64,70,114)\", [\"rgb(245, 245, 245)\", \"rgb(245, 245, 245)\", \"rgb(255, 255, 255)\", \"rgb(255, 255, 255)\", \"rgb(245, 245, 245)\", \"rgb(245, 245, 245)\"]]}, \"align\": [\"left\", \"center\", \"center\", \"center\", \"center\", \"center\"], \"font\": {\"color\": [\"white\", \"#506784\", \"#506784\", \"#506784\"], \"size\": 12}, \"height\": 50}}, {\"type\": \"bar\", \"x\": [\"Bin 0\", \"Bin 1\", \"Bin 2\", \"Bin 3\", \"Bin 4\"], \"y\": [1447, 7689, 6065, 2251, 5], \"name\": \"cnts\", \"xaxis\": \"x2\", \"yaxis\": \"y2\", \"visible\": false, \"showlegend\": false, \"marker\": {\"color\": [\"rgb(43,131,186)\", \"rgb(171,221,164)\", \"rgb(255,255,191)\", \"rgb(253,174,97)\", \"rgb(215,25,28)\"]}, \"text\": [1447, 7689, 6065, 2251, 5]}, {\"type\": \"scatter\", \"x\": [\"Bin 0\", \"Bin 1\", \"Bin 2\", \"Bin 3\"], \"y\": [0.054, 0.124, 0.205, 0.438], \"marker\": {\"color\": \"rgb(255,127,0)\"}, \"name\": \"bad_rate\", \"visible\": false, \"text\": [7452, 7042, 2739, 224], \"xaxis\": \"x3\", \"yaxis\": \"y3\"}, {\"type\": \"table\", \"domain\": {\"x\": [0, 0.45], \"y\": [0, 0.83]}, \"columnwidth\": [1.2, 1.2, 1.2, 1.2], \"header\": {\"values\": [\"\", \"total\", \"bad\", \"good\", \"bad_rate\", \"WOE\"], \"line\": {\"color\": \"rgba(80,103,132,0.2)\", \"width\": 0.5}, \"fill\": {\"color\": \"rgb(64,70,114)\"}, \"align\": [\"center\", \"center\", \"center\", \"center\", \"center\"], \"font\": {\"color\": \"white\", \"size\": 12}, \"height\": 40}, \"visible\": false, \"cells\": {\"values\": [[\"Bin 0\", \"Bin 1\", \"Bin 2\", \"Bin 3\"], [7452, 7042, 2739, 224], [406, 872, 562, 98], [7046, 6170, 2177, 126], [0.054, 0.124, 0.205, 0.438], [0.773, -0.124, -0.726, -1.829]], \"line\": {\"color\": \"rgba(80,103,132,0.2)\", \"width\": 1}, \"fill\": {\"color\": [\"rgb(64,70,114)\", [\"rgb(245, 245, 245)\", \"rgb(245, 245, 245)\", \"rgb(255, 255, 255)\", \"rgb(255, 255, 255)\", \"rgb(245, 245, 245)\", \"rgb(245, 245, 245)\"]]}, \"align\": [\"left\", \"center\", \"center\", \"center\", \"center\", \"center\"], \"font\": {\"color\": [\"white\", \"#506784\", \"#506784\", \"#506784\"], \"size\": 12}, \"height\": 50}}, {\"type\": \"bar\", \"x\": [\"Bin 0\", \"Bin 1\", \"Bin 2\", \"Bin 3\"], \"y\": [7452, 7042, 2739, 224], \"name\": \"cnts\", \"xaxis\": \"x2\", \"yaxis\": \"y2\", \"visible\": false, \"showlegend\": false, \"marker\": {\"color\": [\"rgb(43,131,186)\", \"rgb(171,221,164)\", \"rgb(255,255,191)\", \"rgb(253,174,97)\", \"rgb(215,25,28)\"]}, \"text\": [7452, 7042, 2739, 224]}, {\"type\": \"scatter\", \"x\": [\"Bin 0\", \"Bin 1\", \"Bin 2\", \"Bin 3\"], \"y\": [0.089, 0.124, 0.168, 0.5], \"marker\": {\"color\": \"rgb(255,127,0)\"}, \"name\": \"bad_rate\", \"visible\": false, \"text\": [8684, 7202, 1567, 4], \"xaxis\": \"x3\", \"yaxis\": \"y3\"}, {\"type\": \"table\", \"domain\": {\"x\": [0, 0.45], \"y\": [0, 0.83]}, \"columnwidth\": [1.2, 1.2, 1.2, 1.2], \"header\": {\"values\": [\"\", \"total\", \"bad\", \"good\", \"bad_rate\", \"WOE\"], \"line\": {\"color\": \"rgba(80,103,132,0.2)\", \"width\": 0.5}, \"fill\": {\"color\": \"rgb(64,70,114)\"}, \"align\": [\"center\", \"center\", \"center\", \"center\", \"center\"], \"font\": {\"color\": \"white\", \"size\": 12}, \"height\": 40}, \"visible\": false, \"cells\": {\"values\": [[\"Bin 0\", \"Bin 1\", \"Bin 2\", \"Bin 3\"], [8684, 7202, 1567, 4], [777, 896, 263, 2], [7907, 6306, 1304, 2], [0.089, 0.124, 0.168, 0.5], [0.24, -0.129, -0.479, -2.08]], \"line\": {\"color\": \"rgba(80,103,132,0.2)\", \"width\": 1}, \"fill\": {\"color\": [\"rgb(64,70,114)\", [\"rgb(245, 245, 245)\", \"rgb(245, 245, 245)\", \"rgb(255, 255, 255)\", \"rgb(255, 255, 255)\", \"rgb(245, 245, 245)\", \"rgb(245, 245, 245)\"]]}, \"align\": [\"left\", \"center\", \"center\", \"center\", \"center\", \"center\"], \"font\": {\"color\": [\"white\", \"#506784\", \"#506784\", \"#506784\"], \"size\": 12}, \"height\": 50}}, {\"type\": \"bar\", \"x\": [\"Bin 0\", \"Bin 1\", \"Bin 2\", \"Bin 3\"], \"y\": [8684, 7202, 1567, 4], \"name\": \"cnts\", \"xaxis\": \"x2\", \"yaxis\": \"y2\", \"visible\": false, \"showlegend\": false, \"marker\": {\"color\": [\"rgb(43,131,186)\", \"rgb(171,221,164)\", \"rgb(255,255,191)\", \"rgb(253,174,97)\", \"rgb(215,25,28)\"]}, \"text\": [8684, 7202, 1567, 4]}, {\"type\": \"scatter\", \"x\": [\"Bin -1\", \"Bin 1\", \"Bin 3\"], \"y\": [0.106, 0.199, 0.148], \"marker\": {\"color\": \"rgb(255,127,0)\"}, \"name\": \"bad_rate\", \"visible\": false, \"text\": [16158, 603, 696], \"xaxis\": \"x3\", \"yaxis\": \"y3\"}, {\"type\": \"table\", \"domain\": {\"x\": [0, 0.45], \"y\": [0, 0.83]}, \"columnwidth\": [1.2, 1.2, 1.2, 1.2], \"header\": {\"values\": [\"\", \"total\", \"bad\", \"good\", \"bad_rate\", \"WOE\"], \"line\": {\"color\": \"rgba(80,103,132,0.2)\", \"width\": 0.5}, \"fill\": {\"color\": \"rgb(64,70,114)\"}, \"align\": [\"center\", \"center\", \"center\", \"center\", \"center\"], \"font\": {\"color\": \"white\", \"size\": 12}, \"height\": 40}, \"visible\": false, \"cells\": {\"values\": [[\"Bin -1\", \"Bin 1\", \"Bin 3\"], [16158, 603, 696], [1715, 120, 103], [14443, 483, 593], [0.106, 0.199, 0.148], [0.05, -0.688, -0.33]], \"line\": {\"color\": \"rgba(80,103,132,0.2)\", \"width\": 1}, \"fill\": {\"color\": [\"rgb(64,70,114)\", [\"rgb(245, 245, 245)\", \"rgb(245, 245, 245)\", \"rgb(255, 255, 255)\", \"rgb(255, 255, 255)\", \"rgb(245, 245, 245)\", \"rgb(245, 245, 245)\"]]}, \"align\": [\"left\", \"center\", \"center\", \"center\", \"center\", \"center\"], \"font\": {\"color\": [\"white\", \"#506784\", \"#506784\", \"#506784\"], \"size\": 12}, \"height\": 50}}, {\"type\": \"bar\", \"x\": [\"Bin -1\", \"Bin 1\", \"Bin 3\"], \"y\": [16158, 603, 696], \"name\": \"cnts\", \"xaxis\": \"x2\", \"yaxis\": \"y2\", \"visible\": false, \"showlegend\": false, \"marker\": {\"color\": [\"rgb(43,131,186)\", \"rgb(171,221,164)\", \"rgb(255,255,191)\", \"rgb(253,174,97)\", \"rgb(215,25,28)\"]}, \"text\": [16158, 603, 696]}, {\"type\": \"scatter\", \"x\": [\"Bin 0\", \"Bin 1\", \"Bin 2\"], \"y\": [0.099, 0.109, 0.146], \"marker\": {\"color\": \"rgb(255,127,0)\"}, \"name\": \"bad_rate\", \"visible\": false, \"text\": [8005, 6265, 3187], \"xaxis\": \"x3\", \"yaxis\": \"y3\"}, {\"type\": \"table\", \"domain\": {\"x\": [0, 0.45], \"y\": [0, 0.83]}, \"columnwidth\": [1.2, 1.2, 1.2, 1.2], \"header\": {\"values\": [\"\", \"total\", \"bad\", \"good\", \"bad_rate\", \"WOE\"], \"line\": {\"color\": \"rgba(80,103,132,0.2)\", \"width\": 0.5}, \"fill\": {\"color\": \"rgb(64,70,114)\"}, \"align\": [\"center\", \"center\", \"center\", \"center\", \"center\"], \"font\": {\"color\": \"white\", \"size\": 12}, \"height\": 40}, \"visible\": false, \"cells\": {\"values\": [[\"Bin 0\", \"Bin 1\", \"Bin 2\"], [8005, 6265, 3187], [790, 683, 465], [7215, 5582, 2722], [0.099, 0.109, 0.146], [0.131, 0.02, -0.313]], \"line\": {\"color\": \"rgba(80,103,132,0.2)\", \"width\": 1}, \"fill\": {\"color\": [\"rgb(64,70,114)\", [\"rgb(245, 245, 245)\", \"rgb(245, 245, 245)\", \"rgb(255, 255, 255)\", \"rgb(255, 255, 255)\", \"rgb(245, 245, 245)\", \"rgb(245, 245, 245)\"]]}, \"align\": [\"left\", \"center\", \"center\", \"center\", \"center\", \"center\"], \"font\": {\"color\": [\"white\", \"#506784\", \"#506784\", \"#506784\"], \"size\": 12}, \"height\": 50}}, {\"type\": \"bar\", \"x\": [\"Bin 0\", \"Bin 1\", \"Bin 2\"], \"y\": [8005, 6265, 3187], \"name\": \"cnts\", \"xaxis\": \"x2\", \"yaxis\": \"y2\", \"visible\": false, \"showlegend\": false, \"marker\": {\"color\": [\"rgb(43,131,186)\", \"rgb(171,221,164)\", \"rgb(255,255,191)\", \"rgb(253,174,97)\", \"rgb(215,25,28)\"]}, \"text\": [8005, 6265, 3187]}, {\"type\": \"scatter\", \"x\": [\"Bin 0\", \"Bin 1\"], \"y\": [0.135, 0.1], \"marker\": {\"color\": \"rgb(255,127,0)\"}, \"name\": \"bad_rate\", \"visible\": false, \"text\": [5304, 12153], \"xaxis\": \"x3\", \"yaxis\": \"y3\"}, {\"type\": \"table\", \"domain\": {\"x\": [0, 0.45], \"y\": [0, 0.83]}, \"columnwidth\": [1.2, 1.2, 1.2, 1.2], \"header\": {\"values\": [\"\", \"total\", \"bad\", \"good\", \"bad_rate\", \"WOE\"], \"line\": {\"color\": \"rgba(80,103,132,0.2)\", \"width\": 0.5}, \"fill\": {\"color\": \"rgb(64,70,114)\"}, \"align\": [\"center\", \"center\", \"center\", \"center\", \"center\"], \"font\": {\"color\": \"white\", \"size\": 12}, \"height\": 40}, \"visible\": false, \"cells\": {\"values\": [[\"Bin 0\", \"Bin 1\"], [5304, 12153], [717, 1221], [4587, 10932], [0.135, 0.1], [-0.225, 0.112]], \"line\": {\"color\": \"rgba(80,103,132,0.2)\", \"width\": 1}, \"fill\": {\"color\": [\"rgb(64,70,114)\", [\"rgb(245, 245, 245)\", \"rgb(245, 245, 245)\", \"rgb(255, 255, 255)\", \"rgb(255, 255, 255)\", \"rgb(245, 245, 245)\", \"rgb(245, 245, 245)\"]]}, \"align\": [\"left\", \"center\", \"center\", \"center\", \"center\", \"center\"], \"font\": {\"color\": [\"white\", \"#506784\", \"#506784\", \"#506784\"], \"size\": 12}, \"height\": 50}}, {\"type\": \"bar\", \"x\": [\"Bin 0\", \"Bin 1\"], \"y\": [5304, 12153], \"name\": \"cnts\", \"xaxis\": \"x2\", \"yaxis\": \"y2\", \"visible\": false, \"showlegend\": false, \"marker\": {\"color\": [\"rgb(43,131,186)\", \"rgb(171,221,164)\", \"rgb(255,255,191)\", \"rgb(253,174,97)\", \"rgb(215,25,28)\"]}, \"text\": [5304, 12153]}, {\"type\": \"scatter\", \"x\": [\"Bin 0\", \"Bin 1\", \"Bin 2\", \"Bin 3\", \"Bin 4\"], \"y\": [0.089, 0.11, 0.111, 0.12, 0.137], \"marker\": {\"color\": \"rgb(255,127,0)\"}, \"name\": \"bad_rate\", \"visible\": false, \"text\": [4181, 3306, 2781, 5567, 1622], \"xaxis\": \"x3\", \"yaxis\": \"y3\"}, {\"type\": \"table\", \"domain\": {\"x\": [0, 0.45], \"y\": [0, 0.83]}, \"columnwidth\": [1.2, 1.2, 1.2, 1.2], \"header\": {\"values\": [\"\", \"total\", \"bad\", \"good\", \"bad_rate\", \"WOE\"], \"line\": {\"color\": \"rgba(80,103,132,0.2)\", \"width\": 0.5}, \"fill\": {\"color\": \"rgb(64,70,114)\"}, \"align\": [\"center\", \"center\", \"center\", \"center\", \"center\"], \"font\": {\"color\": \"white\", \"size\": 12}, \"height\": 40}, \"visible\": false, \"cells\": {\"values\": [[\"Bin 0\", \"Bin 1\", \"Bin 2\", \"Bin 3\", \"Bin 4\"], [4181, 3306, 2781, 5567, 1622], [374, 363, 309, 670, 222], [3807, 2943, 2472, 4897, 1400], [0.089, 0.11, 0.111, 0.12, 0.137], [0.24, 0.012, -0.001, -0.091, -0.239]], \"line\": {\"color\": \"rgba(80,103,132,0.2)\", \"width\": 1}, \"fill\": {\"color\": [\"rgb(64,70,114)\", [\"rgb(245, 245, 245)\", \"rgb(245, 245, 245)\", \"rgb(255, 255, 255)\", \"rgb(255, 255, 255)\", \"rgb(245, 245, 245)\", \"rgb(245, 245, 245)\"]]}, \"align\": [\"left\", \"center\", \"center\", \"center\", \"center\", \"center\"], \"font\": {\"color\": [\"white\", \"#506784\", \"#506784\", \"#506784\"], \"size\": 12}, \"height\": 50}}, {\"type\": \"bar\", \"x\": [\"Bin 0\", \"Bin 1\", \"Bin 2\", \"Bin 3\", \"Bin 4\"], \"y\": [4181, 3306, 2781, 5567, 1622], \"name\": \"cnts\", \"xaxis\": \"x2\", \"yaxis\": \"y2\", \"visible\": false, \"showlegend\": false, \"marker\": {\"color\": [\"rgb(43,131,186)\", \"rgb(171,221,164)\", \"rgb(255,255,191)\", \"rgb(253,174,97)\", \"rgb(215,25,28)\"]}, \"text\": [4181, 3306, 2781, 5567, 1622]}, {\"type\": \"scatter\", \"x\": [\"Bin 0\", \"Bin 1\", \"Bin 2\", \"Bin 3\", \"Bin 4\"], \"y\": [0.048, 0.086, 0.11, 0.139, 0.181], \"marker\": {\"color\": \"rgb(255,127,0)\"}, \"name\": \"bad_rate\", \"showlegend\": false, \"text\": [4260, 2577, 4133, 2820, 3667], \"xaxis\": \"x3\", \"yaxis\": \"y3\"}, {\"type\": \"table\", \"domain\": {\"x\": [0, 0.45], \"y\": [0, 0.83]}, \"columnwidth\": [1.2, 1.2, 1.2, 1.2], \"header\": {\"values\": [\"\", \"total\", \"bad\", \"good\", \"bad_rate\", \"WOE\"], \"line\": {\"color\": \"rgba(80,103,132,0.2)\", \"width\": 0.5}, \"fill\": {\"color\": \"rgb(64,70,114)\"}, \"align\": [\"center\", \"center\", \"center\", \"center\", \"center\"], \"font\": {\"color\": \"white\", \"size\": 12}, \"height\": 40}, \"cells\": {\"values\": [[\"Bin 0\", \"Bin 1\", \"Bin 2\", \"Bin 3\", \"Bin 4\"], [4260, 2577, 4133, 2820, 3667], [205, 221, 456, 392, 664], [4055, 2356, 3677, 2428, 3003], [0.048, 0.086, 0.11, 0.139, 0.181], [0.904, 0.286, 0.007, -0.257, -0.571]], \"line\": {\"color\": \"rgba(80,103,132,0.2)\", \"width\": 1}, \"fill\": {\"color\": [\"rgb(64,70,114)\", [\"rgb(245, 245, 245)\", \"rgb(245, 245, 245)\", \"rgb(255, 255, 255)\", \"rgb(255, 255, 255)\", \"rgb(245, 245, 245)\", \"rgb(245, 245, 245)\"]]}, \"align\": [\"left\", \"center\", \"center\", \"center\", \"center\", \"center\"], \"font\": {\"color\": [\"white\", \"#506784\", \"#506784\", \"#506784\"], \"size\": 12}, \"height\": 50}}, {\"type\": \"bar\", \"x\": [\"Bin 0\", \"Bin 1\", \"Bin 2\", \"Bin 3\", \"Bin 4\"], \"y\": [4260, 2577, 4133, 2820, 3667], \"name\": \"cnts\", \"xaxis\": \"x2\", \"yaxis\": \"y2\", \"showlegend\": false, \"marker\": {\"color\": [\"rgb(43,131,186)\", \"rgb(171,221,164)\", \"rgb(255,255,191)\", \"rgb(253,174,97)\", \"rgb(215,25,28)\"]}, \"text\": [4260, 2577, 4133, 2820, 3667]}, {\"type\": \"scatter\", \"x\": [\"Bin 0\", \"Bin 1\", \"Bin 2\", \"Bin 3\", \"Bin 4\"], \"y\": [0.078, 0.098, 0.115, 0.162, 0.21], \"marker\": {\"color\": \"rgb(255,127,0)\"}, \"name\": \"bad_rate\", \"visible\": false, \"text\": [4045, 1841, 10016, 771, 784], \"xaxis\": \"x3\", \"yaxis\": \"y3\"}, {\"type\": \"table\", \"domain\": {\"x\": [0, 0.45], \"y\": [0, 0.83]}, \"columnwidth\": [1.2, 1.2, 1.2, 1.2], \"header\": {\"values\": [\"\", \"total\", \"bad\", \"good\", \"bad_rate\", \"WOE\"], \"line\": {\"color\": \"rgba(80,103,132,0.2)\", \"width\": 0.5}, \"fill\": {\"color\": \"rgb(64,70,114)\"}, \"align\": [\"center\", \"center\", \"center\", \"center\", \"center\"], \"font\": {\"color\": \"white\", \"size\": 12}, \"height\": 40}, \"visible\": false, \"cells\": {\"values\": [[\"Bin 0\", \"Bin 1\", \"Bin 2\", \"Bin 3\", \"Bin 4\"], [4045, 1841, 10016, 771, 784], [316, 181, 1151, 125, 165], [3729, 1660, 8865, 646, 619], [0.078, 0.098, 0.115, 0.162, 0.21], [0.388, 0.136, -0.039, -0.438, -0.758]], \"line\": {\"color\": \"rgba(80,103,132,0.2)\", \"width\": 1}, \"fill\": {\"color\": [\"rgb(64,70,114)\", [\"rgb(245, 245, 245)\", \"rgb(245, 245, 245)\", \"rgb(255, 255, 255)\", \"rgb(255, 255, 255)\", \"rgb(245, 245, 245)\", \"rgb(245, 245, 245)\"]]}, \"align\": [\"left\", \"center\", \"center\", \"center\", \"center\", \"center\"], \"font\": {\"color\": [\"white\", \"#506784\", \"#506784\", \"#506784\"], \"size\": 12}, \"height\": 50}}, {\"type\": \"bar\", \"x\": [\"Bin 0\", \"Bin 1\", \"Bin 2\", \"Bin 3\", \"Bin 4\"], \"y\": [4045, 1841, 10016, 771, 784], \"name\": \"cnts\", \"xaxis\": \"x2\", \"yaxis\": \"y2\", \"visible\": false, \"showlegend\": false, \"marker\": {\"color\": [\"rgb(43,131,186)\", \"rgb(171,221,164)\", \"rgb(255,255,191)\", \"rgb(253,174,97)\", \"rgb(215,25,28)\"]}, \"text\": [4045, 1841, 10016, 771, 784]}, {\"type\": \"scatter\", \"x\": [\"Bin 0\", \"Bin 1\", \"Bin 2\", \"Bin 3\", \"Bin 4\"], \"y\": [0.179, 0.15, 0.116, 0.106, 0.084], \"marker\": {\"color\": \"rgb(255,127,0)\"}, \"name\": \"bad_rate\", \"visible\": false, \"text\": [716, 3113, 4327, 2665, 6636], \"xaxis\": \"x3\", \"yaxis\": \"y3\"}, {\"type\": \"table\", \"domain\": {\"x\": [0, 0.45], \"y\": [0, 0.83]}, \"columnwidth\": [1.2, 1.2, 1.2, 1.2], \"header\": {\"values\": [\"\", \"total\", \"bad\", \"good\", \"bad_rate\", \"WOE\"], \"line\": {\"color\": \"rgba(80,103,132,0.2)\", \"width\": 0.5}, \"fill\": {\"color\": \"rgb(64,70,114)\"}, \"align\": [\"center\", \"center\", \"center\", \"center\", \"center\"], \"font\": {\"color\": \"white\", \"size\": 12}, \"height\": 40}, \"visible\": false, \"cells\": {\"values\": [[\"Bin 0\", \"Bin 1\", \"Bin 2\", \"Bin 3\", \"Bin 4\"], [716, 3113, 4327, 2665, 6636], [128, 466, 501, 283, 560], [588, 2647, 3826, 2382, 6076], [0.179, 0.15, 0.116, 0.106, 0.084], [-0.556, -0.343, -0.047, 0.05, 0.304]], \"line\": {\"color\": \"rgba(80,103,132,0.2)\", \"width\": 1}, \"fill\": {\"color\": [\"rgb(64,70,114)\", [\"rgb(245, 245, 245)\", \"rgb(245, 245, 245)\", \"rgb(255, 255, 255)\", \"rgb(255, 255, 255)\", \"rgb(245, 245, 245)\", \"rgb(245, 245, 245)\"]]}, \"align\": [\"left\", \"center\", \"center\", \"center\", \"center\", \"center\"], \"font\": {\"color\": [\"white\", \"#506784\", \"#506784\", \"#506784\"], \"size\": 12}, \"height\": 50}}, {\"type\": \"bar\", \"x\": [\"Bin 0\", \"Bin 1\", \"Bin 2\", \"Bin 3\", \"Bin 4\"], \"y\": [716, 3113, 4327, 2665, 6636], \"name\": \"cnts\", \"xaxis\": \"x2\", \"yaxis\": \"y2\", \"visible\": false, \"showlegend\": false, \"marker\": {\"color\": [\"rgb(43,131,186)\", \"rgb(171,221,164)\", \"rgb(255,255,191)\", \"rgb(253,174,97)\", \"rgb(215,25,28)\"]}, \"text\": [716, 3113, 4327, 2665, 6636]}, {\"type\": \"scatter\", \"x\": [\"Bin 0\", \"Bin 1\", \"Bin 2\", \"Bin 3\", \"Bin 4\"], \"y\": [0.069, 0.097, 0.125, 0.148, 0.6], \"marker\": {\"color\": \"rgb(255,127,0)\"}, \"name\": \"bad_rate\", \"visible\": false, \"text\": [1447, 7689, 6065, 2251, 5], \"xaxis\": \"x3\", \"yaxis\": \"y3\"}, {\"type\": \"table\", \"domain\": {\"x\": [0, 0.45], \"y\": [0, 0.83]}, \"columnwidth\": [1.2, 1.2, 1.2, 1.2], \"header\": {\"values\": [\"\", \"total\", \"bad\", \"good\", \"bad_rate\", \"WOE\"], \"line\": {\"color\": \"rgba(80,103,132,0.2)\", \"width\": 0.5}, \"fill\": {\"color\": \"rgb(64,70,114)\"}, \"align\": [\"center\", \"center\", \"center\", \"center\", \"center\"], \"font\": {\"color\": \"white\", \"size\": 12}, \"height\": 40}, \"visible\": false, \"cells\": {\"values\": [[\"Bin 0\", \"Bin 1\", \"Bin 2\", \"Bin 3\", \"Bin 4\"], [1447, 7689, 6065, 2251, 5], [100, 744, 758, 333, 3], [1347, 6945, 5307, 1918, 2], [0.069, 0.097, 0.125, 0.148, 0.6], [0.52, 0.153, -0.134, -0.33, -2.486]], \"line\": {\"color\": \"rgba(80,103,132,0.2)\", \"width\": 1}, \"fill\": {\"color\": [\"rgb(64,70,114)\", [\"rgb(245, 245, 245)\", \"rgb(245, 245, 245)\", \"rgb(255, 255, 255)\", \"rgb(255, 255, 255)\", \"rgb(245, 245, 245)\", \"rgb(245, 245, 245)\"]]}, \"align\": [\"left\", \"center\", \"center\", \"center\", \"center\", \"center\"], \"font\": {\"color\": [\"white\", \"#506784\", \"#506784\", \"#506784\"], \"size\": 12}, \"height\": 50}}, {\"type\": \"bar\", \"x\": [\"Bin 0\", \"Bin 1\", \"Bin 2\", \"Bin 3\", \"Bin 4\"], \"y\": [1447, 7689, 6065, 2251, 5], \"name\": \"cnts\", \"xaxis\": \"x2\", \"yaxis\": \"y2\", \"visible\": false, \"showlegend\": false, \"marker\": {\"color\": [\"rgb(43,131,186)\", \"rgb(171,221,164)\", \"rgb(255,255,191)\", \"rgb(253,174,97)\", \"rgb(215,25,28)\"]}, \"text\": [1447, 7689, 6065, 2251, 5]}, {\"type\": \"scatter\", \"x\": [\"Bin 0\", \"Bin 1\", \"Bin 2\", \"Bin 3\"], \"y\": [0.054, 0.124, 0.205, 0.438], \"marker\": {\"color\": \"rgb(255,127,0)\"}, \"name\": \"bad_rate\", \"visible\": false, \"text\": [7452, 7042, 2739, 224], \"xaxis\": \"x3\", \"yaxis\": \"y3\"}, {\"type\": \"table\", \"domain\": {\"x\": [0, 0.45], \"y\": [0, 0.83]}, \"columnwidth\": [1.2, 1.2, 1.2, 1.2], \"header\": {\"values\": [\"\", \"total\", \"bad\", \"good\", \"bad_rate\", \"WOE\"], \"line\": {\"color\": \"rgba(80,103,132,0.2)\", \"width\": 0.5}, \"fill\": {\"color\": \"rgb(64,70,114)\"}, \"align\": [\"center\", \"center\", \"center\", \"center\", \"center\"], \"font\": {\"color\": \"white\", \"size\": 12}, \"height\": 40}, \"visible\": false, \"cells\": {\"values\": [[\"Bin 0\", \"Bin 1\", \"Bin 2\", \"Bin 3\"], [7452, 7042, 2739, 224], [406, 872, 562, 98], [7046, 6170, 2177, 126], [0.054, 0.124, 0.205, 0.438], [0.773, -0.124, -0.726, -1.829]], \"line\": {\"color\": \"rgba(80,103,132,0.2)\", \"width\": 1}, \"fill\": {\"color\": [\"rgb(64,70,114)\", [\"rgb(245, 245, 245)\", \"rgb(245, 245, 245)\", \"rgb(255, 255, 255)\", \"rgb(255, 255, 255)\", \"rgb(245, 245, 245)\", \"rgb(245, 245, 245)\"]]}, \"align\": [\"left\", \"center\", \"center\", \"center\", \"center\", \"center\"], \"font\": {\"color\": [\"white\", \"#506784\", \"#506784\", \"#506784\"], \"size\": 12}, \"height\": 50}}, {\"type\": \"bar\", \"x\": [\"Bin 0\", \"Bin 1\", \"Bin 2\", \"Bin 3\"], \"y\": [7452, 7042, 2739, 224], \"name\": \"cnts\", \"xaxis\": \"x2\", \"yaxis\": \"y2\", \"visible\": false, \"showlegend\": false, \"marker\": {\"color\": [\"rgb(43,131,186)\", \"rgb(171,221,164)\", \"rgb(255,255,191)\", \"rgb(253,174,97)\", \"rgb(215,25,28)\"]}, \"text\": [7452, 7042, 2739, 224]}, {\"type\": \"scatter\", \"x\": [\"Bin 0\", \"Bin 1\", \"Bin 2\", \"Bin 3\"], \"y\": [0.089, 0.124, 0.168, 0.5], \"marker\": {\"color\": \"rgb(255,127,0)\"}, \"name\": \"bad_rate\", \"visible\": false, \"text\": [8684, 7202, 1567, 4], \"xaxis\": \"x3\", \"yaxis\": \"y3\"}, {\"type\": \"table\", \"domain\": {\"x\": [0, 0.45], \"y\": [0, 0.83]}, \"columnwidth\": [1.2, 1.2, 1.2, 1.2], \"header\": {\"values\": [\"\", \"total\", \"bad\", \"good\", \"bad_rate\", \"WOE\"], \"line\": {\"color\": \"rgba(80,103,132,0.2)\", \"width\": 0.5}, \"fill\": {\"color\": \"rgb(64,70,114)\"}, \"align\": [\"center\", \"center\", \"center\", \"center\", \"center\"], \"font\": {\"color\": \"white\", \"size\": 12}, \"height\": 40}, \"visible\": false, \"cells\": {\"values\": [[\"Bin 0\", \"Bin 1\", \"Bin 2\", \"Bin 3\"], [8684, 7202, 1567, 4], [777, 896, 263, 2], [7907, 6306, 1304, 2], [0.089, 0.124, 0.168, 0.5], [0.24, -0.129, -0.479, -2.08]], \"line\": {\"color\": \"rgba(80,103,132,0.2)\", \"width\": 1}, \"fill\": {\"color\": [\"rgb(64,70,114)\", [\"rgb(245, 245, 245)\", \"rgb(245, 245, 245)\", \"rgb(255, 255, 255)\", \"rgb(255, 255, 255)\", \"rgb(245, 245, 245)\", \"rgb(245, 245, 245)\"]]}, \"align\": [\"left\", \"center\", \"center\", \"center\", \"center\", \"center\"], \"font\": {\"color\": [\"white\", \"#506784\", \"#506784\", \"#506784\"], \"size\": 12}, \"height\": 50}}, {\"type\": \"bar\", \"x\": [\"Bin 0\", \"Bin 1\", \"Bin 2\", \"Bin 3\"], \"y\": [8684, 7202, 1567, 4], \"name\": \"cnts\", \"xaxis\": \"x2\", \"yaxis\": \"y2\", \"visible\": false, \"showlegend\": false, \"marker\": {\"color\": [\"rgb(43,131,186)\", \"rgb(171,221,164)\", \"rgb(255,255,191)\", \"rgb(253,174,97)\", \"rgb(215,25,28)\"]}, \"text\": [8684, 7202, 1567, 4]}, {\"type\": \"scatter\", \"x\": [\"Bin -1\", \"Bin 1\", \"Bin 3\"], \"y\": [0.106, 0.199, 0.148], \"marker\": {\"color\": \"rgb(255,127,0)\"}, \"name\": \"bad_rate\", \"visible\": false, \"text\": [16158, 603, 696], \"xaxis\": \"x3\", \"yaxis\": \"y3\"}, {\"type\": \"table\", \"domain\": {\"x\": [0, 0.45], \"y\": [0, 0.83]}, \"columnwidth\": [1.2, 1.2, 1.2, 1.2], \"header\": {\"values\": [\"\", \"total\", \"bad\", \"good\", \"bad_rate\", \"WOE\"], \"line\": {\"color\": \"rgba(80,103,132,0.2)\", \"width\": 0.5}, \"fill\": {\"color\": \"rgb(64,70,114)\"}, \"align\": [\"center\", \"center\", \"center\", \"center\", \"center\"], \"font\": {\"color\": \"white\", \"size\": 12}, \"height\": 40}, \"visible\": false, \"cells\": {\"values\": [[\"Bin -1\", \"Bin 1\", \"Bin 3\"], [16158, 603, 696], [1715, 120, 103], [14443, 483, 593], [0.106, 0.199, 0.148], [0.05, -0.688, -0.33]], \"line\": {\"color\": \"rgba(80,103,132,0.2)\", \"width\": 1}, \"fill\": {\"color\": [\"rgb(64,70,114)\", [\"rgb(245, 245, 245)\", \"rgb(245, 245, 245)\", \"rgb(255, 255, 255)\", \"rgb(255, 255, 255)\", \"rgb(245, 245, 245)\", \"rgb(245, 245, 245)\"]]}, \"align\": [\"left\", \"center\", \"center\", \"center\", \"center\", \"center\"], \"font\": {\"color\": [\"white\", \"#506784\", \"#506784\", \"#506784\"], \"size\": 12}, \"height\": 50}}, {\"type\": \"bar\", \"x\": [\"Bin -1\", \"Bin 1\", \"Bin 3\"], \"y\": [16158, 603, 696], \"name\": \"cnts\", \"xaxis\": \"x2\", \"yaxis\": \"y2\", \"visible\": false, \"showlegend\": false, \"marker\": {\"color\": [\"rgb(43,131,186)\", \"rgb(171,221,164)\", \"rgb(255,255,191)\", \"rgb(253,174,97)\", \"rgb(215,25,28)\"]}, \"text\": [16158, 603, 696]}, {\"type\": \"scatter\", \"x\": [\"Bin 0\", \"Bin 1\", \"Bin 2\"], \"y\": [0.099, 0.109, 0.146], \"marker\": {\"color\": \"rgb(255,127,0)\"}, \"name\": \"bad_rate\", \"visible\": false, \"text\": [8005, 6265, 3187], \"xaxis\": \"x3\", \"yaxis\": \"y3\"}, {\"type\": \"table\", \"domain\": {\"x\": [0, 0.45], \"y\": [0, 0.83]}, \"columnwidth\": [1.2, 1.2, 1.2, 1.2], \"header\": {\"values\": [\"\", \"total\", \"bad\", \"good\", \"bad_rate\", \"WOE\"], \"line\": {\"color\": \"rgba(80,103,132,0.2)\", \"width\": 0.5}, \"fill\": {\"color\": \"rgb(64,70,114)\"}, \"align\": [\"center\", \"center\", \"center\", \"center\", \"center\"], \"font\": {\"color\": \"white\", \"size\": 12}, \"height\": 40}, \"visible\": false, \"cells\": {\"values\": [[\"Bin 0\", \"Bin 1\", \"Bin 2\"], [8005, 6265, 3187], [790, 683, 465], [7215, 5582, 2722], [0.099, 0.109, 0.146], [0.131, 0.02, -0.313]], \"line\": {\"color\": \"rgba(80,103,132,0.2)\", \"width\": 1}, \"fill\": {\"color\": [\"rgb(64,70,114)\", [\"rgb(245, 245, 245)\", \"rgb(245, 245, 245)\", \"rgb(255, 255, 255)\", \"rgb(255, 255, 255)\", \"rgb(245, 245, 245)\", \"rgb(245, 245, 245)\"]]}, \"align\": [\"left\", \"center\", \"center\", \"center\", \"center\", \"center\"], \"font\": {\"color\": [\"white\", \"#506784\", \"#506784\", \"#506784\"], \"size\": 12}, \"height\": 50}}, {\"type\": \"bar\", \"x\": [\"Bin 0\", \"Bin 1\", \"Bin 2\"], \"y\": [8005, 6265, 3187], \"name\": \"cnts\", \"xaxis\": \"x2\", \"yaxis\": \"y2\", \"visible\": false, \"showlegend\": false, \"marker\": {\"color\": [\"rgb(43,131,186)\", \"rgb(171,221,164)\", \"rgb(255,255,191)\", \"rgb(253,174,97)\", \"rgb(215,25,28)\"]}, \"text\": [8005, 6265, 3187]}, {\"type\": \"scatter\", \"x\": [\"Bin 0\", \"Bin 1\"], \"y\": [0.135, 0.1], \"marker\": {\"color\": \"rgb(255,127,0)\"}, \"name\": \"bad_rate\", \"visible\": false, \"text\": [5304, 12153], \"xaxis\": \"x3\", \"yaxis\": \"y3\"}, {\"type\": \"table\", \"domain\": {\"x\": [0, 0.45], \"y\": [0, 0.83]}, \"columnwidth\": [1.2, 1.2, 1.2, 1.2], \"header\": {\"values\": [\"\", \"total\", \"bad\", \"good\", \"bad_rate\", \"WOE\"], \"line\": {\"color\": \"rgba(80,103,132,0.2)\", \"width\": 0.5}, \"fill\": {\"color\": \"rgb(64,70,114)\"}, \"align\": [\"center\", \"center\", \"center\", \"center\", \"center\"], \"font\": {\"color\": \"white\", \"size\": 12}, \"height\": 40}, \"visible\": false, \"cells\": {\"values\": [[\"Bin 0\", \"Bin 1\"], [5304, 12153], [717, 1221], [4587, 10932], [0.135, 0.1], [-0.225, 0.112]], \"line\": {\"color\": \"rgba(80,103,132,0.2)\", \"width\": 1}, \"fill\": {\"color\": [\"rgb(64,70,114)\", [\"rgb(245, 245, 245)\", \"rgb(245, 245, 245)\", \"rgb(255, 255, 255)\", \"rgb(255, 255, 255)\", \"rgb(245, 245, 245)\", \"rgb(245, 245, 245)\"]]}, \"align\": [\"left\", \"center\", \"center\", \"center\", \"center\", \"center\"], \"font\": {\"color\": [\"white\", \"#506784\", \"#506784\", \"#506784\"], \"size\": 12}, \"height\": 50}}, {\"type\": \"bar\", \"x\": [\"Bin 0\", \"Bin 1\"], \"y\": [5304, 12153], \"name\": \"cnts\", \"xaxis\": \"x2\", \"yaxis\": \"y2\", \"visible\": false, \"showlegend\": false, \"marker\": {\"color\": [\"rgb(43,131,186)\", \"rgb(171,221,164)\", \"rgb(255,255,191)\", \"rgb(253,174,97)\", \"rgb(215,25,28)\"]}, \"text\": [5304, 12153]}, {\"type\": \"scatter\", \"x\": [\"Bin 0\", \"Bin 1\", \"Bin 2\", \"Bin 3\", \"Bin 4\"], \"y\": [0.089, 0.11, 0.111, 0.12, 0.137], \"marker\": {\"color\": \"rgb(255,127,0)\"}, \"name\": \"bad_rate\", \"visible\": false, \"text\": [4181, 3306, 2781, 5567, 1622], \"xaxis\": \"x3\", \"yaxis\": \"y3\"}, {\"type\": \"table\", \"domain\": {\"x\": [0, 0.45], \"y\": [0, 0.83]}, \"columnwidth\": [1.2, 1.2, 1.2, 1.2], \"header\": {\"values\": [\"\", \"total\", \"bad\", \"good\", \"bad_rate\", \"WOE\"], \"line\": {\"color\": \"rgba(80,103,132,0.2)\", \"width\": 0.5}, \"fill\": {\"color\": \"rgb(64,70,114)\"}, \"align\": [\"center\", \"center\", \"center\", \"center\", \"center\"], \"font\": {\"color\": \"white\", \"size\": 12}, \"height\": 40}, \"visible\": false, \"cells\": {\"values\": [[\"Bin 0\", \"Bin 1\", \"Bin 2\", \"Bin 3\", \"Bin 4\"], [4181, 3306, 2781, 5567, 1622], [374, 363, 309, 670, 222], [3807, 2943, 2472, 4897, 1400], [0.089, 0.11, 0.111, 0.12, 0.137], [0.24, 0.012, -0.001, -0.091, -0.239]], \"line\": {\"color\": \"rgba(80,103,132,0.2)\", \"width\": 1}, \"fill\": {\"color\": [\"rgb(64,70,114)\", [\"rgb(245, 245, 245)\", \"rgb(245, 245, 245)\", \"rgb(255, 255, 255)\", \"rgb(255, 255, 255)\", \"rgb(245, 245, 245)\", \"rgb(245, 245, 245)\"]]}, \"align\": [\"left\", \"center\", \"center\", \"center\", \"center\", \"center\"], \"font\": {\"color\": [\"white\", \"#506784\", \"#506784\", \"#506784\"], \"size\": 12}, \"height\": 50}}, {\"type\": \"bar\", \"x\": [\"Bin 0\", \"Bin 1\", \"Bin 2\", \"Bin 3\", \"Bin 4\"], \"y\": [4181, 3306, 2781, 5567, 1622], \"name\": \"cnts\", \"xaxis\": \"x2\", \"yaxis\": \"y2\", \"visible\": false, \"showlegend\": false, \"marker\": {\"color\": [\"rgb(43,131,186)\", \"rgb(171,221,164)\", \"rgb(255,255,191)\", \"rgb(253,174,97)\", \"rgb(215,25,28)\"]}, \"text\": [4181, 3306, 2781, 5567, 1622]}, {\"type\": \"scatter\", \"x\": [\"Bin 0\", \"Bin 1\", \"Bin 2\", \"Bin 3\", \"Bin 4\"], \"y\": [0.048, 0.086, 0.11, 0.139, 0.181], \"marker\": {\"color\": \"rgb(255,127,0)\"}, \"name\": \"bad_rate\", \"showlegend\": false, \"text\": [4260, 2577, 4133, 2820, 3667], \"xaxis\": \"x3\", \"yaxis\": \"y3\"}, {\"type\": \"table\", \"domain\": {\"x\": [0, 0.45], \"y\": [0, 0.83]}, \"columnwidth\": [1.2, 1.2, 1.2, 1.2], \"header\": {\"values\": [\"\", \"total\", \"bad\", \"good\", \"bad_rate\", \"WOE\"], \"line\": {\"color\": \"rgba(80,103,132,0.2)\", \"width\": 0.5}, \"fill\": {\"color\": \"rgb(64,70,114)\"}, \"align\": [\"center\", \"center\", \"center\", \"center\", \"center\"], \"font\": {\"color\": \"white\", \"size\": 12}, \"height\": 40}, \"cells\": {\"values\": [[\"Bin 0\", \"Bin 1\", \"Bin 2\", \"Bin 3\", \"Bin 4\"], [4260, 2577, 4133, 2820, 3667], [205, 221, 456, 392, 664], [4055, 2356, 3677, 2428, 3003], [0.048, 0.086, 0.11, 0.139, 0.181], [0.904, 0.286, 0.007, -0.257, -0.571]], \"line\": {\"color\": \"rgba(80,103,132,0.2)\", \"width\": 1}, \"fill\": {\"color\": [\"rgb(64,70,114)\", [\"rgb(245, 245, 245)\", \"rgb(245, 245, 245)\", \"rgb(255, 255, 255)\", \"rgb(255, 255, 255)\", \"rgb(245, 245, 245)\", \"rgb(245, 245, 245)\"]]}, \"align\": [\"left\", \"center\", \"center\", \"center\", \"center\", \"center\"], \"font\": {\"color\": [\"white\", \"#506784\", \"#506784\", \"#506784\"], \"size\": 12}, \"height\": 50}}, {\"type\": \"bar\", \"x\": [\"Bin 0\", \"Bin 1\", \"Bin 2\", \"Bin 3\", \"Bin 4\"], \"y\": [4260, 2577, 4133, 2820, 3667], \"name\": \"cnts\", \"xaxis\": \"x2\", \"yaxis\": \"y2\", \"showlegend\": false, \"marker\": {\"color\": [\"rgb(43,131,186)\", \"rgb(171,221,164)\", \"rgb(255,255,191)\", \"rgb(253,174,97)\", \"rgb(215,25,28)\"]}, \"text\": [4260, 2577, 4133, 2820, 3667]}, {\"type\": \"scatter\", \"x\": [\"Bin 0\", \"Bin 1\", \"Bin 2\", \"Bin 3\", \"Bin 4\"], \"y\": [0.078, 0.098, 0.115, 0.162, 0.21], \"marker\": {\"color\": \"rgb(255,127,0)\"}, \"name\": \"bad_rate\", \"visible\": false, \"showlegend\": false, \"text\": [4045, 1841, 10016, 771, 784], \"xaxis\": \"x3\", \"yaxis\": \"y3\"}, {\"type\": \"table\", \"domain\": {\"x\": [0, 0.45], \"y\": [0, 0.83]}, \"columnwidth\": [1.2, 1.2, 1.2, 1.2], \"header\": {\"values\": [\"\", \"total\", \"bad\", \"good\", \"bad_rate\", \"WOE\"], \"line\": {\"color\": \"rgba(80,103,132,0.2)\", \"width\": 0.5}, \"fill\": {\"color\": \"rgb(64,70,114)\"}, \"align\": [\"center\", \"center\", \"center\", \"center\", \"center\"], \"font\": {\"color\": \"white\", \"size\": 12}, \"height\": 40}, \"visible\": false, \"cells\": {\"values\": [[\"Bin 0\", \"Bin 1\", \"Bin 2\", \"Bin 3\", \"Bin 4\"], [4045, 1841, 10016, 771, 784], [316, 181, 1151, 125, 165], [3729, 1660, 8865, 646, 619], [0.078, 0.098, 0.115, 0.162, 0.21], [0.388, 0.136, -0.039, -0.438, -0.758]], \"line\": {\"color\": \"rgba(80,103,132,0.2)\", \"width\": 1}, \"fill\": {\"color\": [\"rgb(64,70,114)\", [\"rgb(245, 245, 245)\", \"rgb(245, 245, 245)\", \"rgb(255, 255, 255)\", \"rgb(255, 255, 255)\", \"rgb(245, 245, 245)\", \"rgb(245, 245, 245)\"]]}, \"align\": [\"left\", \"center\", \"center\", \"center\", \"center\", \"center\"], \"font\": {\"color\": [\"white\", \"#506784\", \"#506784\", \"#506784\"], \"size\": 12}, \"height\": 50}}, {\"type\": \"bar\", \"x\": [\"Bin 0\", \"Bin 1\", \"Bin 2\", \"Bin 3\", \"Bin 4\"], \"y\": [4045, 1841, 10016, 771, 784], \"name\": \"cnts\", \"xaxis\": \"x2\", \"yaxis\": \"y2\", \"visible\": false, \"showlegend\": false, \"marker\": {\"color\": [\"rgb(43,131,186)\", \"rgb(171,221,164)\", \"rgb(255,255,191)\", \"rgb(253,174,97)\", \"rgb(215,25,28)\"]}, \"text\": [4045, 1841, 10016, 771, 784]}, {\"type\": \"scatter\", \"x\": [\"Bin 0\", \"Bin 1\", \"Bin 2\", \"Bin 3\", \"Bin 4\"], \"y\": [0.179, 0.15, 0.116, 0.106, 0.084], \"marker\": {\"color\": \"rgb(255,127,0)\"}, \"name\": \"bad_rate\", \"visible\": false, \"showlegend\": false, \"text\": [716, 3113, 4327, 2665, 6636], \"xaxis\": \"x3\", \"yaxis\": \"y3\"}, {\"type\": \"table\", \"domain\": {\"x\": [0, 0.45], \"y\": [0, 0.83]}, \"columnwidth\": [1.2, 1.2, 1.2, 1.2], \"header\": {\"values\": [\"\", \"total\", \"bad\", \"good\", \"bad_rate\", \"WOE\"], \"line\": {\"color\": \"rgba(80,103,132,0.2)\", \"width\": 0.5}, \"fill\": {\"color\": \"rgb(64,70,114)\"}, \"align\": [\"center\", \"center\", \"center\", \"center\", \"center\"], \"font\": {\"color\": \"white\", \"size\": 12}, \"height\": 40}, \"visible\": false, \"cells\": {\"values\": [[\"Bin 0\", \"Bin 1\", \"Bin 2\", \"Bin 3\", \"Bin 4\"], [716, 3113, 4327, 2665, 6636], [128, 466, 501, 283, 560], [588, 2647, 3826, 2382, 6076], [0.179, 0.15, 0.116, 0.106, 0.084], [-0.556, -0.343, -0.047, 0.05, 0.304]], \"line\": {\"color\": \"rgba(80,103,132,0.2)\", \"width\": 1}, \"fill\": {\"color\": [\"rgb(64,70,114)\", [\"rgb(245, 245, 245)\", \"rgb(245, 245, 245)\", \"rgb(255, 255, 255)\", \"rgb(255, 255, 255)\", \"rgb(245, 245, 245)\", \"rgb(245, 245, 245)\"]]}, \"align\": [\"left\", \"center\", \"center\", \"center\", \"center\", \"center\"], \"font\": {\"color\": [\"white\", \"#506784\", \"#506784\", \"#506784\"], \"size\": 12}, \"height\": 50}}, {\"type\": \"bar\", \"x\": [\"Bin 0\", \"Bin 1\", \"Bin 2\", \"Bin 3\", \"Bin 4\"], \"y\": [716, 3113, 4327, 2665, 6636], \"name\": \"cnts\", \"xaxis\": \"x2\", \"yaxis\": \"y2\", \"visible\": false, \"showlegend\": false, \"marker\": {\"color\": [\"rgb(43,131,186)\", \"rgb(171,221,164)\", \"rgb(255,255,191)\", \"rgb(253,174,97)\", \"rgb(215,25,28)\"]}, \"text\": [716, 3113, 4327, 2665, 6636]}, {\"type\": \"scatter\", \"x\": [\"Bin 0\", \"Bin 1\", \"Bin 2\", \"Bin 3\", \"Bin 4\"], \"y\": [0.069, 0.097, 0.125, 0.148, 0.6], \"marker\": {\"color\": \"rgb(255,127,0)\"}, \"name\": \"bad_rate\", \"visible\": false, \"showlegend\": false, \"text\": [1447, 7689, 6065, 2251, 5], \"xaxis\": \"x3\", \"yaxis\": \"y3\"}, {\"type\": \"table\", \"domain\": {\"x\": [0, 0.45], \"y\": [0, 0.83]}, \"columnwidth\": [1.2, 1.2, 1.2, 1.2], \"header\": {\"values\": [\"\", \"total\", \"bad\", \"good\", \"bad_rate\", \"WOE\"], \"line\": {\"color\": \"rgba(80,103,132,0.2)\", \"width\": 0.5}, \"fill\": {\"color\": \"rgb(64,70,114)\"}, \"align\": [\"center\", \"center\", \"center\", \"center\", \"center\"], \"font\": {\"color\": \"white\", \"size\": 12}, \"height\": 40}, \"visible\": false, \"cells\": {\"values\": [[\"Bin 0\", \"Bin 1\", \"Bin 2\", \"Bin 3\", \"Bin 4\"], [1447, 7689, 6065, 2251, 5], [100, 744, 758, 333, 3], [1347, 6945, 5307, 1918, 2], [0.069, 0.097, 0.125, 0.148, 0.6], [0.52, 0.153, -0.134, -0.33, -2.486]], \"line\": {\"color\": \"rgba(80,103,132,0.2)\", \"width\": 1}, \"fill\": {\"color\": [\"rgb(64,70,114)\", [\"rgb(245, 245, 245)\", \"rgb(245, 245, 245)\", \"rgb(255, 255, 255)\", \"rgb(255, 255, 255)\", \"rgb(245, 245, 245)\", \"rgb(245, 245, 245)\"]]}, \"align\": [\"left\", \"center\", \"center\", \"center\", \"center\", \"center\"], \"font\": {\"color\": [\"white\", \"#506784\", \"#506784\", \"#506784\"], \"size\": 12}, \"height\": 50}}, {\"type\": \"bar\", \"x\": [\"Bin 0\", \"Bin 1\", \"Bin 2\", \"Bin 3\", \"Bin 4\"], \"y\": [1447, 7689, 6065, 2251, 5], \"name\": \"cnts\", \"xaxis\": \"x2\", \"yaxis\": \"y2\", \"visible\": false, \"showlegend\": false, \"marker\": {\"color\": [\"rgb(43,131,186)\", \"rgb(171,221,164)\", \"rgb(255,255,191)\", \"rgb(253,174,97)\", \"rgb(215,25,28)\"]}, \"text\": [1447, 7689, 6065, 2251, 5]}, {\"type\": \"scatter\", \"x\": [\"Bin 0\", \"Bin 1\", \"Bin 2\", \"Bin 3\"], \"y\": [0.054, 0.124, 0.205, 0.438], \"marker\": {\"color\": \"rgb(255,127,0)\"}, \"name\": \"bad_rate\", \"visible\": false, \"showlegend\": false, \"text\": [7452, 7042, 2739, 224], \"xaxis\": \"x3\", \"yaxis\": \"y3\"}, {\"type\": \"table\", \"domain\": {\"x\": [0, 0.45], \"y\": [0, 0.83]}, \"columnwidth\": [1.2, 1.2, 1.2, 1.2], \"header\": {\"values\": [\"\", \"total\", \"bad\", \"good\", \"bad_rate\", \"WOE\"], \"line\": {\"color\": \"rgba(80,103,132,0.2)\", \"width\": 0.5}, \"fill\": {\"color\": \"rgb(64,70,114)\"}, \"align\": [\"center\", \"center\", \"center\", \"center\", \"center\"], \"font\": {\"color\": \"white\", \"size\": 12}, \"height\": 40}, \"visible\": false, \"cells\": {\"values\": [[\"Bin 0\", \"Bin 1\", \"Bin 2\", \"Bin 3\"], [7452, 7042, 2739, 224], [406, 872, 562, 98], [7046, 6170, 2177, 126], [0.054, 0.124, 0.205, 0.438], [0.773, -0.124, -0.726, -1.829]], \"line\": {\"color\": \"rgba(80,103,132,0.2)\", \"width\": 1}, \"fill\": {\"color\": [\"rgb(64,70,114)\", [\"rgb(245, 245, 245)\", \"rgb(245, 245, 245)\", \"rgb(255, 255, 255)\", \"rgb(255, 255, 255)\", \"rgb(245, 245, 245)\", \"rgb(245, 245, 245)\"]]}, \"align\": [\"left\", \"center\", \"center\", \"center\", \"center\", \"center\"], \"font\": {\"color\": [\"white\", \"#506784\", \"#506784\", \"#506784\"], \"size\": 12}, \"height\": 50}}, {\"type\": \"bar\", \"x\": [\"Bin 0\", \"Bin 1\", \"Bin 2\", \"Bin 3\"], \"y\": [7452, 7042, 2739, 224], \"name\": \"cnts\", \"xaxis\": \"x2\", \"yaxis\": \"y2\", \"visible\": false, \"showlegend\": false, \"marker\": {\"color\": [\"rgb(43,131,186)\", \"rgb(171,221,164)\", \"rgb(255,255,191)\", \"rgb(253,174,97)\", \"rgb(215,25,28)\"]}, \"text\": [7452, 7042, 2739, 224]}, {\"type\": \"scatter\", \"x\": [\"Bin 0\", \"Bin 1\", \"Bin 2\", \"Bin 3\"], \"y\": [0.089, 0.124, 0.168, 0.5], \"marker\": {\"color\": \"rgb(255,127,0)\"}, \"name\": \"bad_rate\", \"visible\": false, \"showlegend\": false, \"text\": [8684, 7202, 1567, 4], \"xaxis\": \"x3\", \"yaxis\": \"y3\"}, {\"type\": \"table\", \"domain\": {\"x\": [0, 0.45], \"y\": [0, 0.83]}, \"columnwidth\": [1.2, 1.2, 1.2, 1.2], \"header\": {\"values\": [\"\", \"total\", \"bad\", \"good\", \"bad_rate\", \"WOE\"], \"line\": {\"color\": \"rgba(80,103,132,0.2)\", \"width\": 0.5}, \"fill\": {\"color\": \"rgb(64,70,114)\"}, \"align\": [\"center\", \"center\", \"center\", \"center\", \"center\"], \"font\": {\"color\": \"white\", \"size\": 12}, \"height\": 40}, \"visible\": false, \"cells\": {\"values\": [[\"Bin 0\", \"Bin 1\", \"Bin 2\", \"Bin 3\"], [8684, 7202, 1567, 4], [777, 896, 263, 2], [7907, 6306, 1304, 2], [0.089, 0.124, 0.168, 0.5], [0.24, -0.129, -0.479, -2.08]], \"line\": {\"color\": \"rgba(80,103,132,0.2)\", \"width\": 1}, \"fill\": {\"color\": [\"rgb(64,70,114)\", [\"rgb(245, 245, 245)\", \"rgb(245, 245, 245)\", \"rgb(255, 255, 255)\", \"rgb(255, 255, 255)\", \"rgb(245, 245, 245)\", \"rgb(245, 245, 245)\"]]}, \"align\": [\"left\", \"center\", \"center\", \"center\", \"center\", \"center\"], \"font\": {\"color\": [\"white\", \"#506784\", \"#506784\", \"#506784\"], \"size\": 12}, \"height\": 50}}, {\"type\": \"bar\", \"x\": [\"Bin 0\", \"Bin 1\", \"Bin 2\", \"Bin 3\"], \"y\": [8684, 7202, 1567, 4], \"name\": \"cnts\", \"xaxis\": \"x2\", \"yaxis\": \"y2\", \"visible\": false, \"showlegend\": false, \"marker\": {\"color\": [\"rgb(43,131,186)\", \"rgb(171,221,164)\", \"rgb(255,255,191)\", \"rgb(253,174,97)\", \"rgb(215,25,28)\"]}, \"text\": [8684, 7202, 1567, 4]}, {\"type\": \"scatter\", \"x\": [\"Bin -1\", \"Bin 1\", \"Bin 3\"], \"y\": [0.106, 0.199, 0.148], \"marker\": {\"color\": \"rgb(255,127,0)\"}, \"name\": \"bad_rate\", \"visible\": false, \"showlegend\": false, \"text\": [16158, 603, 696], \"xaxis\": \"x3\", \"yaxis\": \"y3\"}, {\"type\": \"table\", \"domain\": {\"x\": [0, 0.45], \"y\": [0, 0.83]}, \"columnwidth\": [1.2, 1.2, 1.2, 1.2], \"header\": {\"values\": [\"\", \"total\", \"bad\", \"good\", \"bad_rate\", \"WOE\"], \"line\": {\"color\": \"rgba(80,103,132,0.2)\", \"width\": 0.5}, \"fill\": {\"color\": \"rgb(64,70,114)\"}, \"align\": [\"center\", \"center\", \"center\", \"center\", \"center\"], \"font\": {\"color\": \"white\", \"size\": 12}, \"height\": 40}, \"visible\": false, \"cells\": {\"values\": [[\"Bin -1\", \"Bin 1\", \"Bin 3\"], [16158, 603, 696], [1715, 120, 103], [14443, 483, 593], [0.106, 0.199, 0.148], [0.05, -0.688, -0.33]], \"line\": {\"color\": \"rgba(80,103,132,0.2)\", \"width\": 1}, \"fill\": {\"color\": [\"rgb(64,70,114)\", [\"rgb(245, 245, 245)\", \"rgb(245, 245, 245)\", \"rgb(255, 255, 255)\", \"rgb(255, 255, 255)\", \"rgb(245, 245, 245)\", \"rgb(245, 245, 245)\"]]}, \"align\": [\"left\", \"center\", \"center\", \"center\", \"center\", \"center\"], \"font\": {\"color\": [\"white\", \"#506784\", \"#506784\", \"#506784\"], \"size\": 12}, \"height\": 50}}, {\"type\": \"bar\", \"x\": [\"Bin -1\", \"Bin 1\", \"Bin 3\"], \"y\": [16158, 603, 696], \"name\": \"cnts\", \"xaxis\": \"x2\", \"yaxis\": \"y2\", \"visible\": false, \"showlegend\": false, \"marker\": {\"color\": [\"rgb(43,131,186)\", \"rgb(171,221,164)\", \"rgb(255,255,191)\", \"rgb(253,174,97)\", \"rgb(215,25,28)\"]}, \"text\": [16158, 603, 696]}, {\"type\": \"scatter\", \"x\": [\"Bin 0\", \"Bin 1\", \"Bin 2\"], \"y\": [0.099, 0.109, 0.146], \"marker\": {\"color\": \"rgb(255,127,0)\"}, \"name\": \"bad_rate\", \"visible\": false, \"showlegend\": false, \"text\": [8005, 6265, 3187], \"xaxis\": \"x3\", \"yaxis\": \"y3\"}, {\"type\": \"table\", \"domain\": {\"x\": [0, 0.45], \"y\": [0, 0.83]}, \"columnwidth\": [1.2, 1.2, 1.2, 1.2], \"header\": {\"values\": [\"\", \"total\", \"bad\", \"good\", \"bad_rate\", \"WOE\"], \"line\": {\"color\": \"rgba(80,103,132,0.2)\", \"width\": 0.5}, \"fill\": {\"color\": \"rgb(64,70,114)\"}, \"align\": [\"center\", \"center\", \"center\", \"center\", \"center\"], \"font\": {\"color\": \"white\", \"size\": 12}, \"height\": 40}, \"visible\": false, \"cells\": {\"values\": [[\"Bin 0\", \"Bin 1\", \"Bin 2\"], [8005, 6265, 3187], [790, 683, 465], [7215, 5582, 2722], [0.099, 0.109, 0.146], [0.131, 0.02, -0.313]], \"line\": {\"color\": \"rgba(80,103,132,0.2)\", \"width\": 1}, \"fill\": {\"color\": [\"rgb(64,70,114)\", [\"rgb(245, 245, 245)\", \"rgb(245, 245, 245)\", \"rgb(255, 255, 255)\", \"rgb(255, 255, 255)\", \"rgb(245, 245, 245)\", \"rgb(245, 245, 245)\"]]}, \"align\": [\"left\", \"center\", \"center\", \"center\", \"center\", \"center\"], \"font\": {\"color\": [\"white\", \"#506784\", \"#506784\", \"#506784\"], \"size\": 12}, \"height\": 50}}, {\"type\": \"bar\", \"x\": [\"Bin 0\", \"Bin 1\", \"Bin 2\"], \"y\": [8005, 6265, 3187], \"name\": \"cnts\", \"xaxis\": \"x2\", \"yaxis\": \"y2\", \"visible\": false, \"showlegend\": false, \"marker\": {\"color\": [\"rgb(43,131,186)\", \"rgb(171,221,164)\", \"rgb(255,255,191)\", \"rgb(253,174,97)\", \"rgb(215,25,28)\"]}, \"text\": [8005, 6265, 3187]}, {\"type\": \"scatter\", \"x\": [\"Bin 0\", \"Bin 1\"], \"y\": [0.135, 0.1], \"marker\": {\"color\": \"rgb(255,127,0)\"}, \"name\": \"bad_rate\", \"visible\": false, \"showlegend\": false, \"text\": [5304, 12153], \"xaxis\": \"x3\", \"yaxis\": \"y3\"}, {\"type\": \"table\", \"domain\": {\"x\": [0, 0.45], \"y\": [0, 0.83]}, \"columnwidth\": [1.2, 1.2, 1.2, 1.2], \"header\": {\"values\": [\"\", \"total\", \"bad\", \"good\", \"bad_rate\", \"WOE\"], \"line\": {\"color\": \"rgba(80,103,132,0.2)\", \"width\": 0.5}, \"fill\": {\"color\": \"rgb(64,70,114)\"}, \"align\": [\"center\", \"center\", \"center\", \"center\", \"center\"], \"font\": {\"color\": \"white\", \"size\": 12}, \"height\": 40}, \"visible\": false, \"cells\": {\"values\": [[\"Bin 0\", \"Bin 1\"], [5304, 12153], [717, 1221], [4587, 10932], [0.135, 0.1], [-0.225, 0.112]], \"line\": {\"color\": \"rgba(80,103,132,0.2)\", \"width\": 1}, \"fill\": {\"color\": [\"rgb(64,70,114)\", [\"rgb(245, 245, 245)\", \"rgb(245, 245, 245)\", \"rgb(255, 255, 255)\", \"rgb(255, 255, 255)\", \"rgb(245, 245, 245)\", \"rgb(245, 245, 245)\"]]}, \"align\": [\"left\", \"center\", \"center\", \"center\", \"center\", \"center\"], \"font\": {\"color\": [\"white\", \"#506784\", \"#506784\", \"#506784\"], \"size\": 12}, \"height\": 50}}, {\"type\": \"bar\", \"x\": [\"Bin 0\", \"Bin 1\"], \"y\": [5304, 12153], \"name\": \"cnts\", \"xaxis\": \"x2\", \"yaxis\": \"y2\", \"visible\": false, \"showlegend\": false, \"marker\": {\"color\": [\"rgb(43,131,186)\", \"rgb(171,221,164)\", \"rgb(255,255,191)\", \"rgb(253,174,97)\", \"rgb(215,25,28)\"]}, \"text\": [5304, 12153]}, {\"type\": \"scatter\", \"x\": [\"Bin 0\", \"Bin 1\", \"Bin 2\", \"Bin 3\", \"Bin 4\"], \"y\": [0.089, 0.11, 0.111, 0.12, 0.137], \"marker\": {\"color\": \"rgb(255,127,0)\"}, \"name\": \"bad_rate\", \"visible\": false, \"showlegend\": false, \"text\": [4181, 3306, 2781, 5567, 1622], \"xaxis\": \"x3\", \"yaxis\": \"y3\"}, {\"type\": \"table\", \"domain\": {\"x\": [0, 0.45], \"y\": [0, 0.83]}, \"columnwidth\": [1.2, 1.2, 1.2, 1.2], \"header\": {\"values\": [\"\", \"total\", \"bad\", \"good\", \"bad_rate\", \"WOE\"], \"line\": {\"color\": \"rgba(80,103,132,0.2)\", \"width\": 0.5}, \"fill\": {\"color\": \"rgb(64,70,114)\"}, \"align\": [\"center\", \"center\", \"center\", \"center\", \"center\"], \"font\": {\"color\": \"white\", \"size\": 12}, \"height\": 40}, \"visible\": false, \"cells\": {\"values\": [[\"Bin 0\", \"Bin 1\", \"Bin 2\", \"Bin 3\", \"Bin 4\"], [4181, 3306, 2781, 5567, 1622], [374, 363, 309, 670, 222], [3807, 2943, 2472, 4897, 1400], [0.089, 0.11, 0.111, 0.12, 0.137], [0.24, 0.012, -0.001, -0.091, -0.239]], \"line\": {\"color\": \"rgba(80,103,132,0.2)\", \"width\": 1}, \"fill\": {\"color\": [\"rgb(64,70,114)\", [\"rgb(245, 245, 245)\", \"rgb(245, 245, 245)\", \"rgb(255, 255, 255)\", \"rgb(255, 255, 255)\", \"rgb(245, 245, 245)\", \"rgb(245, 245, 245)\"]]}, \"align\": [\"left\", \"center\", \"center\", \"center\", \"center\", \"center\"], \"font\": {\"color\": [\"white\", \"#506784\", \"#506784\", \"#506784\"], \"size\": 12}, \"height\": 50}}, {\"type\": \"bar\", \"x\": [\"Bin 0\", \"Bin 1\", \"Bin 2\", \"Bin 3\", \"Bin 4\"], \"y\": [4181, 3306, 2781, 5567, 1622], \"name\": \"cnts\", \"xaxis\": \"x2\", \"yaxis\": \"y2\", \"visible\": false, \"showlegend\": false, \"marker\": {\"color\": [\"rgb(43,131,186)\", \"rgb(171,221,164)\", \"rgb(255,255,191)\", \"rgb(253,174,97)\", \"rgb(215,25,28)\"]}, \"text\": [4181, 3306, 2781, 5567, 1622]}], {\"title\": \"\\u6a21\\u578b\\u53d8\\u91cf\\u5206\\u5e03\", \"titlefont\": {\"size\": 20}, \"height\": 500, \"width\": 1000, \"xaxis2\": {\"domain\": [0.55, 1], \"anchor\": \"y2\", \"showticklabels\": true, \"showgrid\": false, \"tickfont\": {\"size\": 11}, \"tickangle\": 30}, \"yaxis2\": {\"anchor\": \"x2\", \"domain\": [0, 0.5], \"showticklabels\": true, \"showgrid\": true}, \"xaxis3\": {\"domain\": [0.53, 0.988], \"anchor\": \"y3\", \"showticklabels\": false, \"showgrid\": true, \"tickfont\": {\"family\": \"Pt Sans Narrow\", \"size\": 11}, \"tickangle\": -30}, \"yaxis3\": {\"anchor\": \"x3\", \"domain\": [0.6, 0.8], \"showticklabels\": true, \"showgrid\": true}, \"margin\": {\"t\": 75, \"l\": 100}, \"updatemenus\": [{\"type\": \"buttons\", \"active\": 0, \"buttons\": [{\"label\": \"int_rate\", \"method\": \"update\", \"args\": [{\"visible\": [true, true, true, false, false, false, false, false, false, false, false, false, false, false, false, false, false, false, false, false, false, false, false, false, false, false, false, false, false, false]}, {\"title\": \"\\u6a21\\u578b\\u53d8\\u91cf\\u5206\\u5e03\"}]}, {\"label\": \"purpose_br\", \"method\": \"update\", \"args\": [{\"visible\": [false, false, false, true, true, true, false, false, false, false, false, false, false, false, false, false, false, false, false, false, false, false, false, false, false, false, false, false, false, false]}, {\"title\": \"\\u6a21\\u578b\\u53d8\\u91cf\\u5206\\u5e03\"}]}, {\"label\": \"annual_inc\", \"method\": \"update\", \"args\": [{\"visible\": [false, false, false, false, false, false, true, true, true, false, false, false, false, false, false, false, false, false, false, false, false, false, false, false, false, false, false, false, false, false]}, {\"title\": \"\\u6a21\\u578b\\u53d8\\u91cf\\u5206\\u5e03\"}]}, {\"label\": \"addr_state\", \"method\": \"update\", \"args\": [{\"visible\": [false, false, false, false, false, false, false, false, false, true, true, true, false, false, false, false, false, false, false, false, false, false, false, false, false, false, false, false, false, false]}, {\"title\": \"\\u6a21\\u578b\\u53d8\\u91cf\\u5206\\u5e03\"}]}, {\"label\": \"zip_code\", \"method\": \"update\", \"args\": [{\"visible\": [false, false, false, false, false, false, false, false, false, false, false, false, true, true, true, false, false, false, false, false, false, false, false, false, false, false, false, false, false, false]}, {\"title\": \"\\u6a21\\u578b\\u53d8\\u91cf\\u5206\\u5e03\"}]}, {\"label\": \"inq_last_6mths\", \"method\": \"update\", \"args\": [{\"visible\": [false, false, false, false, false, false, false, false, false, false, false, false, false, false, false, true, true, true, false, false, false, false, false, false, false, false, false, false, false, false]}, {\"title\": \"\\u6a21\\u578b\\u53d8\\u91cf\\u5206\\u5e03\"}]}, {\"label\": \"mths_last_record\", \"method\": \"update\", \"args\": [{\"visible\": [false, false, false, false, false, false, false, false, false, false, false, false, false, false, false, false, false, false, true, true, true, false, false, false, false, false, false, false, false, false]}, {\"title\": \"\\u6a21\\u578b\\u53d8\\u91cf\\u5206\\u5e03\"}]}, {\"label\": \"limit_income\", \"method\": \"update\", \"args\": [{\"visible\": [false, false, false, false, false, false, false, false, false, false, false, false, false, false, false, false, false, false, false, false, false, true, true, true, false, false, false, false, false, false]}, {\"title\": \"\\u6a21\\u578b\\u53d8\\u91cf\\u5206\\u5e03\"}]}, {\"label\": \"total_acc\", \"method\": \"update\", \"args\": [{\"visible\": [false, false, false, false, false, false, false, false, false, false, false, false, false, false, false, false, false, false, false, false, false, false, false, false, true, true, true, false, false, false]}, {\"title\": \"\\u6a21\\u578b\\u53d8\\u91cf\\u5206\\u5e03\"}]}, {\"label\": \"dti\", \"method\": \"update\", \"args\": [{\"visible\": [false, false, false, false, false, false, false, false, false, false, false, false, false, false, false, false, false, false, false, false, false, false, false, false, false, false, false, true, true, true]}, {\"title\": \"\\u6a21\\u578b\\u53d8\\u91cf\\u5206\\u5e03\"}]}]}]}, {\"showLink\": true, \"linkText\": \"Export to plot.ly\"})});</script>"
      ]
     },
     "metadata": {},
     "output_type": "display_data"
    }
   ],
   "source": [
    "模型traces1 = []\n",
    "colors = list((cl.scales['10']['qual']['Paired']))\n",
    "\n",
    "for i in multi_var:\n",
    "\n",
    "    if i == multi_var[0]:\n",
    "        df_int = CalcWOE1(traindata1,i,'y')\n",
    "        df_int['bad_rate'] = df_int.bad_rate.apply(lambda x:round(x,3))\n",
    "        df_int['WOE'] = df_int.WOE.apply(lambda x:round(x,3))\n",
    "        \n",
    "        traces1.append(go.Scatter(\n",
    "            x = df_int[df_int.columns.tolist()[0]],\n",
    "            y = df_int.bad_rate,\n",
    "            marker=dict(color='rgb(255,127,0)'),\n",
    "            name='bad_rate',\n",
    "#             visible=False,\n",
    "            showlegend=False,\n",
    "            text = df_int[df_int.columns.tolist()[1]],\n",
    "        #     line = dict(shape='spline'),\n",
    "            xaxis='x3', yaxis='y3'\n",
    "        #     marker=dict(color=colors),\n",
    "        ))\n",
    "\n",
    "\n",
    "        traces1.append(go.Table(\n",
    "            domain=dict(x=[0, 0.45],\n",
    "                        y=[0, 0.83]),\n",
    "            columnwidth=[1.2, 1.2, 1.2, 1.2],\n",
    "            header=dict(values= ['']+df_int.columns.tolist()[1:],\n",
    "                        line=dict(color='rgba(80,103,132,0.2)', width=0.5),\n",
    "                        fill=dict(color='rgb(64,70,114)'),\n",
    "                        align=['center','center','center','center','center'],\n",
    "                        font=dict(color='white', size=12),\n",
    "                        height=40,\n",
    "                       ),\n",
    "#             visible=False,\n",
    "            cells=dict(values=[df_int[df_int.columns.tolist()[0]],df_int.total,df_int.bad,df_int.good, df_int.bad_rate, df_int.WOE],\n",
    "                       line=dict(color='rgba(80,103,132,0.2)', width=1),\n",
    "                fill=dict(color=['rgb(64,70,114)', ['rgb(245, 245, 245)','rgb(245, 245, 245)','rgb(255, 255, 255)'\n",
    "                                                    ,'rgb(255, 255, 255)','rgb(245, 245, 245)','rgb(245, 245, 245)']]),\n",
    "                align=['left','center','center','center','center','center'],\n",
    "                font=dict(color=['white', '#506784', '#506784', '#506784'], size=12),\n",
    "                height=50,\n",
    "\n",
    "            )\n",
    "        ))\n",
    "\n",
    "\n",
    "\n",
    "        traces1.append(go.Bar(\n",
    "            x = df_int[df_int.columns.tolist()[0]],\n",
    "            y = df_int.total,\n",
    "             name='cnts',\n",
    "            xaxis='x2', yaxis='y2',\n",
    "#             visible=False,\n",
    "            showlegend=False,\n",
    "            marker=dict(color=list(reversed(cl.scales['5']['div']['Spectral']))),\n",
    "            text = df_int[df_int.columns.tolist()[1]]\n",
    "        ))\n",
    "    \n",
    "    else:\n",
    "        df_int = CalcWOE1(traindata1,i,'y')\n",
    "        df_int['bad_rate'] = df_int.bad_rate.apply(lambda x:round(x,3))\n",
    "        df_int['WOE'] = df_int.WOE.apply(lambda x:round(x,3))\n",
    "        \n",
    "        traces1.append(go.Scatter(\n",
    "            x = df_int[df_int.columns.tolist()[0]],\n",
    "            y = df_int.bad_rate,\n",
    "            marker=dict(color='rgb(255,127,0)'),\n",
    "            name='bad_rate',\n",
    "            visible=False,\n",
    "            showlegend=False,\n",
    "            text = df_int[df_int.columns.tolist()[1]],\n",
    "        #     line = dict(shape='spline'),\n",
    "            xaxis='x3', yaxis='y3'\n",
    "        #     marker=dict(color=colors),\n",
    "        ))\n",
    "\n",
    "\n",
    "        traces1.append(go.Table(\n",
    "            domain=dict(x=[0, 0.45],\n",
    "                        y=[0, 0.83]),\n",
    "            columnwidth=[1.2, 1.2, 1.2, 1.2],\n",
    "            header=dict(values= ['']+df_int.columns.tolist()[1:],\n",
    "                        line=dict(color='rgba(80,103,132,0.2)', width=0.5),\n",
    "                        fill=dict(color='rgb(64,70,114)'),\n",
    "                        align=['center','center','center','center','center'],\n",
    "                        font=dict(color='white', size=12),\n",
    "                        height=40,\n",
    "                       ),\n",
    "            visible=False,\n",
    "            cells=dict(values=[df_int[df_int.columns.tolist()[0]],df_int.total,df_int.bad,df_int.good, df_int.bad_rate, df_int.WOE],\n",
    "                       line=dict(color='rgba(80,103,132,0.2)', width=1),\n",
    "                fill=dict(color=['rgb(64,70,114)', ['rgb(245, 245, 245)','rgb(245, 245, 245)','rgb(255, 255, 255)'\n",
    "                                                    ,'rgb(255, 255, 255)','rgb(245, 245, 245)','rgb(245, 245, 245)']]),\n",
    "                align=['left','center','center','center','center','center'],\n",
    "                font=dict(color=['white', '#506784', '#506784', '#506784'], size=12),\n",
    "                height=50,\n",
    "\n",
    "            )\n",
    "        ))\n",
    "\n",
    "\n",
    "\n",
    "        traces1.append(go.Bar(\n",
    "            x = df_int[df_int.columns.tolist()[0]],\n",
    "            y = df_int.total,\n",
    "             name='cnts',\n",
    "            xaxis='x2', yaxis='y2',\n",
    "            visible=False,\n",
    "            showlegend=False,\n",
    "            marker=dict(color=list(reversed(cl.scales['5']['div']['Spectral']))),\n",
    "            text = df_int[df_int.columns.tolist()[1]]\n",
    "        ))\n",
    "        \n",
    "        \n",
    "\n",
    "updatemenus = list([\n",
    "    dict(type=\"buttons\",\n",
    "         active=0,\n",
    "         buttons=list([   \n",
    "            dict(label = multi_var1[0],\n",
    "                 method = 'update',\n",
    "                 args = [{'visible': [True, True,True,False,False, False,False,False, False,False,False, False,False,False, False\n",
    "                                     ,False,False, False,False,False, False,False,False, False,False,False, False,False,False, False]},\n",
    "                         {'title': '模型变量分布'}]),\n",
    "            dict(label = multi_var1[1],\n",
    "                 method = 'update',\n",
    "                 args = [{'visible': [False, False,False,True, True,True,False,False, False,False,False, False,False,False, False\n",
    "                                     ,False,False, False,False,False, False,False,False, False,False,False, False,False,False, False]},\n",
    "                         {'title': '模型变量分布'}]),\n",
    "             dict(label = multi_var1[2],\n",
    "                 method = 'update',\n",
    "                 args = [{'visible': [False, False,False,False,False, False,True, True,True,False,False, False,False,False, False\n",
    "                                     ,False,False, False,False,False, False,False,False, False,False,False, False,False,False, False]},\n",
    "                         {'title': '模型变量分布'}]),\n",
    "             dict(label = multi_var1[3],\n",
    "                 method = 'update',\n",
    "                 args = [{'visible': [False, False,False,False,False, False,False,False, False,True, True,True,False,False, False\n",
    "                                     ,False,False, False,False,False, False,False,False, False,False,False, False,False,False, False]},\n",
    "                         {'title': '模型变量分布'}]),\n",
    "             dict(label = multi_var1[4],\n",
    "                 method = 'update',\n",
    "                 args = [{'visible': [False, False,False,False,False, False,False,False, False,False,False, False,True, True,True\n",
    "                                     ,False,False, False,False,False, False,False,False, False,False,False, False,False,False, False]},\n",
    "                         {'title': '模型变量分布'}]),\n",
    "             dict(label = multi_var1[5],\n",
    "                 method = 'update',\n",
    "                 args = [{'visible': [False, False,False,False,False, False,False,False, False,False,False, False,False,False, False\n",
    "                                     ,True, True,True,False,False, False,False,False, False,False,False, False,False,False, False]},\n",
    "                         {'title': '模型变量分布'}]),\n",
    "             dict(label = multi_var1[6],\n",
    "                 method = 'update',\n",
    "                 args = [{'visible': [False, False,False,False,False, False,False,False, False,False,False, False,False,False, False\n",
    "                                     ,False,False, False,True, True,True,False,False, False,False,False, False,False,False, False]},\n",
    "                         {'title': '模型变量分布'}]),             \n",
    "             dict(label = multi_var1[7],\n",
    "                 method = 'update',\n",
    "                 args = [{'visible': [False, False,False,False,False, False,False,False, False,False,False, False,False,False, False\n",
    "                                     ,False,False, False,False,False, False,True, True,True,False,False, False,False,False, False]},\n",
    "                         {'title': '模型变量分布'}]),  \n",
    "             dict(label = multi_var1[8],\n",
    "                 method = 'update',\n",
    "                 args = [{'visible': [False, False,False,False,False, False,False,False, False,False,False, False,False,False, False\n",
    "                                     ,False,False, False,False,False, False,False,False, False,True, True,True,False,False, False]},\n",
    "                         {'title': '模型变量分布'}]), \n",
    "             dict(label =multi_var1[9],\n",
    "                 method = 'update',\n",
    "                 args = [{'visible': [False, False,False,False,False, False,False,False, False,False,False, False,False,False, False\n",
    "                                     ,False,False, False,False,False, False,False,False, False,False,False, False,True, True,True]},\n",
    "                         {'title': '模型变量分布'}]), \n",
    "#              dict(label = '利润',\n",
    "#                  method = 'update',\n",
    "#                  args = [{'visible': [False, False,False,False,False, False,False, False,False,False,False, False, True, True, True,True, True,True]},\n",
    "#                          {'title': 'XXXX年各月利润'}]),\n",
    "        ]),\n",
    "#          direction='left',\n",
    "#              pad={'r': 10, 't': 10},\n",
    "#              showactive=True,\n",
    "#              x=0,\n",
    "#              xanchor='left',\n",
    "#              y=1.25,\n",
    "#              yanchor='top'\n",
    "         \n",
    "    )\n",
    "])\n",
    "\n",
    "layout = dict(\n",
    "    title= '模型变量分布',\n",
    "    titlefont = dict(size=20),\n",
    "    height= 500, width= 1000,\n",
    "    xaxis2 = dict(domain= [0.55, 1],\n",
    "                 anchor='y2',\n",
    "                  showticklabels=True,\n",
    "                  showgrid=False,\n",
    "                 tickfont = dict(size= 11),\n",
    "                 tickangle= 30),\n",
    "    yaxis2 = dict(\n",
    "        anchor='x2',\n",
    "        domain=[0, 0.5],\n",
    "                  showticklabels=True,\n",
    "                  showgrid=True,\n",
    "    ),\n",
    "    \n",
    "    xaxis3 = dict(domain= [0.53, 0.988],\n",
    "                  anchor='y3',\n",
    "                  showticklabels=False,\n",
    "                  showgrid=True,\n",
    "                 tickfont = dict(family = 'Pt Sans Narrow', size= 11),\n",
    "                 tickangle= -30),\n",
    "    yaxis3 = dict(\n",
    "                    anchor='x3',\n",
    "                    domain=[0.6,0.80],\n",
    "                    showticklabels=True,\n",
    "                  showgrid=True,\n",
    "    ),\n",
    "    \n",
    "    \n",
    "    margin = dict(t= 75, l= 100),updatemenus=updatemenus\n",
    ")\n",
    "\n",
    "\n",
    "\n",
    "\n",
    "\n",
    "\n",
    "fig = dict(data=traces1, layout=layout)\n",
    "\n",
    "py.iplot(fig)"
   ]
  },
  {
   "cell_type": "markdown",
   "metadata": {},
   "source": [
    "&nbsp;&nbsp;&nbsp;&nbsp;<b>评分卡模型信息</b>：<br>\n",
    "###### PS：模型运用好坏比，Odds和WOE呈相反趋势<font color=\"#FF0000\">模型系数为负值</font>，WOE与业务情况成正比有利于解释模型"
   ]
  },
  {
   "cell_type": "code",
   "execution_count": 9,
   "metadata": {
    "ExecuteTime": {
     "end_time": "2018-12-18T04:32:17.392446Z",
     "start_time": "2018-12-18T04:32:17.231777Z"
    }
   },
   "outputs": [
    {
     "data": {
      "text/html": [
       "<table class=\"simpletable\">\n",
       "<tr>\n",
       "        <td>Model:</td>              <td>Logit</td>      <td>Pseudo R-squared:</td>    <td>0.112</td>   \n",
       "</tr>\n",
       "<tr>\n",
       "  <td>Dependent Variable:</td>         <td>y</td>              <td>AIC:</td>        <td>10836.0296</td> \n",
       "</tr>\n",
       "<tr>\n",
       "         <td>Date:</td>        <td>2018-12-18 12:32</td>       <td>BIC:</td>        <td>10921.4721</td> \n",
       "</tr>\n",
       "<tr>\n",
       "   <td>No. Observations:</td>        <td>17457</td>       <td>Log-Likelihood:</td>    <td>-5407.0</td>  \n",
       "</tr>\n",
       "<tr>\n",
       "       <td>Df Model:</td>             <td>10</td>            <td>LL-Null:</td>        <td>-6086.1</td>  \n",
       "</tr>\n",
       "<tr>\n",
       "     <td>Df Residuals:</td>          <td>17446</td>        <td>LLR p-value:</td>    <td>1.0693e-285</td>\n",
       "</tr>\n",
       "<tr>\n",
       "      <td>Converged:</td>           <td>1.0000</td>           <td>Scale:</td>         <td>1.0000</td>   \n",
       "</tr>\n",
       "<tr>\n",
       "    <td>No. Iterations:</td>        <td>7.0000</td>              <td></td>               <td></td>      \n",
       "</tr>\n",
       "</table>\n",
       "<table class=\"simpletable\">\n",
       "<tr>\n",
       "                    <td></td>                    <th>Coef.</th>  <th>Std.Err.</th>     <th>z</th>     <th>P>|z|</th> <th>[0.025</th>  <th>0.975]</th> \n",
       "</tr>\n",
       "<tr>\n",
       "  <th>zip_code_br_encoding_Bin_WOE</th>         <td>-0.9506</td>  <td>0.0422</td>  <td>-22.5321</td> <td>0.0000</td> <td>-1.0332</td> <td>-0.8679</td>\n",
       "</tr>\n",
       "<tr>\n",
       "  <th>int_rate_clean_Bin_WOE</th>               <td>-0.8508</td>  <td>0.0558</td>  <td>-15.2406</td> <td>0.0000</td> <td>-0.9602</td> <td>-0.7414</td>\n",
       "</tr>\n",
       "<tr>\n",
       "  <th>purpose_br_encoding_Bin_WOE</th>          <td>-0.9283</td>  <td>0.0903</td>  <td>-10.2850</td> <td>0.0000</td> <td>-1.1052</td> <td>-0.7514</td>\n",
       "</tr>\n",
       "<tr>\n",
       "  <th>annual_inc_Bin_WOE</th>                   <td>-0.7641</td>  <td>0.1054</td>   <td>-7.2520</td> <td>0.0000</td> <td>-0.9706</td> <td>-0.5576</td>\n",
       "</tr>\n",
       "<tr>\n",
       "  <th>inq_last_6mths_Bin_WOE</th>               <td>-0.7954</td>  <td>0.1040</td>   <td>-7.6491</td> <td>0.0000</td> <td>-0.9992</td> <td>-0.5916</td>\n",
       "</tr>\n",
       "<tr>\n",
       "  <th>addr_state_br_encoding_Bin_WOE</th>       <td>-0.2853</td>  <td>0.1139</td>   <td>-2.5051</td> <td>0.0122</td> <td>-0.5086</td> <td>-0.0621</td>\n",
       "</tr>\n",
       "<tr>\n",
       "  <th>mths_since_last_record_clean_Bin_WOE</th> <td>-0.7737</td>  <td>0.1400</td>   <td>-5.5252</td> <td>0.0000</td> <td>-1.0481</td> <td>-0.4992</td>\n",
       "</tr>\n",
       "<tr>\n",
       "  <th>limit_income_Bin_WOE</th>                 <td>-0.3582</td>  <td>0.1551</td>   <td>-2.3090</td> <td>0.0209</td> <td>-0.6623</td> <td>-0.0542</td>\n",
       "</tr>\n",
       "<tr>\n",
       "  <th>total_acc_Bin_WOE</th>                    <td>-0.3829</td>  <td>0.1776</td>   <td>-2.1558</td> <td>0.0311</td> <td>-0.7310</td> <td>-0.0348</td>\n",
       "</tr>\n",
       "<tr>\n",
       "  <th>dti_Bin_WOE</th>                          <td>-0.7738</td>  <td>0.1832</td>   <td>-4.2227</td> <td>0.0000</td> <td>-1.1330</td> <td>-0.4146</td>\n",
       "</tr>\n",
       "<tr>\n",
       "  <th>intercept</th>                            <td>-2.0825</td>  <td>0.0265</td>  <td>-78.5187</td> <td>0.0000</td> <td>-2.1345</td> <td>-2.0305</td>\n",
       "</tr>\n",
       "</table>"
      ],
      "text/plain": [
       "<class 'statsmodels.iolib.summary2.Summary'>\n",
       "\"\"\"\n",
       "                                   Results: Logit\n",
       "=====================================================================================\n",
       "Model:                     Logit                  Pseudo R-squared:       0.112      \n",
       "Dependent Variable:        y                      AIC:                    10836.0296 \n",
       "Date:                      2018-12-18 12:32       BIC:                    10921.4721 \n",
       "No. Observations:          17457                  Log-Likelihood:         -5407.0    \n",
       "Df Model:                  10                     LL-Null:                -6086.1    \n",
       "Df Residuals:              17446                  LLR p-value:            1.0693e-285\n",
       "Converged:                 1.0000                 Scale:                  1.0000     \n",
       "No. Iterations:            7.0000                                                    \n",
       "-------------------------------------------------------------------------------------\n",
       "                                      Coef.  Std.Err.    z     P>|z|   [0.025  0.975]\n",
       "-------------------------------------------------------------------------------------\n",
       "zip_code_br_encoding_Bin_WOE         -0.9506   0.0422 -22.5321 0.0000 -1.0332 -0.8679\n",
       "int_rate_clean_Bin_WOE               -0.8508   0.0558 -15.2406 0.0000 -0.9602 -0.7414\n",
       "purpose_br_encoding_Bin_WOE          -0.9283   0.0903 -10.2850 0.0000 -1.1052 -0.7514\n",
       "annual_inc_Bin_WOE                   -0.7641   0.1054  -7.2520 0.0000 -0.9706 -0.5576\n",
       "inq_last_6mths_Bin_WOE               -0.7954   0.1040  -7.6491 0.0000 -0.9992 -0.5916\n",
       "addr_state_br_encoding_Bin_WOE       -0.2853   0.1139  -2.5051 0.0122 -0.5086 -0.0621\n",
       "mths_since_last_record_clean_Bin_WOE -0.7737   0.1400  -5.5252 0.0000 -1.0481 -0.4992\n",
       "limit_income_Bin_WOE                 -0.3582   0.1551  -2.3090 0.0209 -0.6623 -0.0542\n",
       "total_acc_Bin_WOE                    -0.3829   0.1776  -2.1558 0.0311 -0.7310 -0.0348\n",
       "dti_Bin_WOE                          -0.7738   0.1832  -4.2227 0.0000 -1.1330 -0.4146\n",
       "intercept                            -2.0825   0.0265 -78.5187 0.0000 -2.1345 -2.0305\n",
       "=====================================================================================\n",
       "\n",
       "\"\"\""
      ]
     },
     "execution_count": 9,
     "metadata": {},
     "output_type": "execute_result"
    }
   ],
   "source": [
    "LR_Model_Normal.summary2()"
   ]
  },
  {
   "cell_type": "code",
   "execution_count": 10,
   "metadata": {
    "ExecuteTime": {
     "end_time": "2018-12-18T04:34:38.597250Z",
     "start_time": "2018-12-18T04:34:38.571090Z"
    }
   },
   "outputs": [],
   "source": [
    "model_coef = pd.DataFrame(LR_Model_Normal.params).T\n",
    "model_coef.columns = [x.replace('_WOE','') for x in LR_Model_Normal.params.index]\n",
    "\n",
    "basePoint = 600\n",
    "PDO = 50\n",
    "\n",
    "B = PDO/np.log(2)\n",
    "A = basePoint + B*np.log(0.2)\n",
    "\n",
    "def v_score(x,y):\n",
    "    return -B*x*y + (A-B*-2.098052)/10"
   ]
  },
  {
   "cell_type": "code",
   "execution_count": 24,
   "metadata": {
    "ExecuteTime": {
     "end_time": "2018-12-18T06:47:24.745204Z",
     "start_time": "2018-12-18T06:47:24.727481Z"
    }
   },
   "outputs": [],
   "source": [
    "df_bin_all = pd.DataFrame(columns=['bin_num','total','bad','good','bad_rate','WOE','coef','v_score','bin_name'])\n",
    "for i in multi_var:\n",
    "    df_int = CalcWOE1(traindata1,i, 'y')\n",
    "    df_int['coef'] = model_coef[df_int.columns.tolist()[0]].tolist()*df_int.shape[0]\n",
    "    df_int['v_score'] = df_int.apply(lambda x:v_score(x.WOE,x.coef),axis=1)\n",
    "    df_int['name'] = [df_int.columns.tolist()[0]]*df_int.shape[0]\n",
    "    df_int.columns = ['bin_num','total','bad','good','bad_rate','WOE','coef','v_score','bin_name']\n",
    "#     print('ok')\n",
    "    df_bin_all = pd.concat([df_bin_all,df_int],axis = 0,ignore_index=True)\n",
    "df_bin_all = df_bin_all[['bin_name','bin_num','total','bad','good','bad_rate','WOE','coef','v_score']]\n",
    "df_bin_all['v_score'] = df_bin_all.v_score.apply(lambda x:int(x))\n",
    "\n",
    "df_bin_all.loc[29:29,['bin_num']] = 'Bin0'\n",
    "df_bin_all.loc[30:30,['bin_num']] = 'Bin1'\n",
    "\n",
    "\n",
    "df_bin_all['bad_rate'] = df_bin_all.bad_rate.apply(lambda x:round(x,3))\n",
    "df_bin_all['WOE'] = df_bin_all.WOE.apply(lambda x:round(x,3))"
   ]
  },
  {
   "cell_type": "markdown",
   "metadata": {},
   "source": [
    "&nbsp;&nbsp;&nbsp;&nbsp;<b>评分卡得分明细</b>：<br>"
   ]
  },
  {
   "cell_type": "code",
   "execution_count": 26,
   "metadata": {
    "ExecuteTime": {
     "end_time": "2018-12-18T07:09:18.032635Z",
     "start_time": "2018-12-18T07:09:17.804641Z"
    }
   },
   "outputs": [
    {
     "data": {
      "application/vnd.plotly.v1+json": {
       "data": [
        {
         "cells": {
          "align": [
           "left",
           "center",
           "center",
           "center"
          ],
          "fill": {
           "color": [
            "rgb(64,70,114)",
            [
             "rgb(245, 245, 245)",
             "rgb(245, 245, 245)",
             "rgb(245, 245, 245)",
             "rgb(245, 245, 245)",
             "rgb(245, 245, 245)",
             "rgb(255, 255, 255)",
             "rgb(255, 255, 255)",
             "rgb(255, 255, 255)",
             "rgb(255, 255, 255)",
             "rgb(255, 255, 255)",
             "rgb(245, 245, 245)",
             "rgb(245, 245, 245)",
             "rgb(245, 245, 245)",
             "rgb(245, 245, 245)",
             "rgb(245, 245, 245)",
             "rgb(255, 255, 255)",
             "rgb(255, 255, 255)",
             "rgb(255, 255, 255)",
             "rgb(255, 255, 255)",
             "rgb(255, 255, 255)",
             "rgb(245, 245, 245)",
             "rgb(245, 245, 245)",
             "rgb(245, 245, 245)",
             "rgb(245, 245, 245)",
             "rgb(255, 255, 255)",
             "rgb(255, 255, 255)",
             "rgb(255, 255, 255)",
             "rgb(255, 255, 255)",
             "rgb(245, 245, 245)",
             "rgb(245, 245, 245)",
             "rgb(245, 245, 245)",
             "rgb(255, 255, 255)",
             "rgb(255, 255, 255)",
             "rgb(255, 255, 255)",
             "rgb(245, 245, 245)",
             "rgb(245, 245, 245)",
             "rgb(255, 255, 255)",
             "rgb(255, 255, 255)",
             "rgb(255, 255, 255)",
             "rgb(255, 255, 255)",
             "rgb(255, 255, 255)"
            ]
           ]
          },
          "font": {
           "color": [
            "white",
            "#506784",
            "#506784",
            "#506784"
           ],
           "size": 12
          },
          "height": 30,
          "line": {
           "color": "rgba(80,103,132,0.2)",
           "width": 1
          },
          "values": [
           [
            "int_rate",
            "",
            "",
            "",
            "",
            "purpose_br",
            "",
            "",
            "",
            "",
            "annual_inc",
            "",
            "",
            "",
            "",
            "addr_state",
            "",
            "",
            "",
            "",
            "zip_code",
            "",
            "",
            "",
            "inq_last_6mths",
            "",
            "",
            "",
            "mths_last_record",
            "",
            "",
            "limit_income",
            "",
            "",
            "total_acc",
            "",
            "dti",
            "",
            "",
            "",
            ""
           ],
           [
            "Bin 0",
            "Bin 1",
            "Bin 2",
            "Bin 3",
            "Bin 4",
            "Bin 0",
            "Bin 1",
            "Bin 2",
            "Bin 3",
            "Bin 4",
            "Bin 0",
            "Bin 1",
            "Bin 2",
            "Bin 3",
            "Bin 4",
            "Bin 0",
            "Bin 1",
            "Bin 2",
            "Bin 3",
            "Bin 4",
            "Bin 0",
            "Bin 1",
            "Bin 2",
            "Bin 3",
            "Bin 0",
            "Bin 1",
            "Bin 2",
            "Bin 3",
            "Bin -1",
            "Bin0",
            "Bin1",
            "Bin 0",
            "Bin 1",
            "Bin 2",
            "Bin 0",
            "Bin 1",
            "Bin 0",
            "Bin 1",
            "Bin 2",
            "Bin 3",
            "Bin 4"
           ],
           [
            4260,
            2577,
            4133,
            2820,
            3667,
            4045,
            1841,
            10016,
            771,
            784,
            716,
            3113,
            4327,
            2665,
            6636,
            1447,
            7689,
            6065,
            2251,
            5,
            7452,
            7042,
            2739,
            224,
            8684,
            7202,
            1567,
            4,
            16158,
            603,
            696,
            8005,
            6265,
            3187,
            5304,
            12153,
            4181,
            3306,
            2781,
            5567,
            1622
           ],
           [
            205,
            221,
            456,
            392,
            664,
            316,
            181,
            1151,
            125,
            165,
            128,
            466,
            501,
            283,
            560,
            100,
            744,
            758,
            333,
            3,
            406,
            872,
            562,
            98,
            777,
            896,
            263,
            2,
            1715,
            120,
            103,
            790,
            683,
            465,
            717,
            1221,
            374,
            363,
            309,
            670,
            222
           ],
           [
            4055,
            2356,
            3677,
            2428,
            3003,
            3729,
            1660,
            8865,
            646,
            619,
            588,
            2647,
            3826,
            2382,
            6076,
            1347,
            6945,
            5307,
            1918,
            2,
            7046,
            6170,
            2177,
            126,
            7907,
            6306,
            1304,
            2,
            14443,
            483,
            593,
            7215,
            5582,
            2722,
            4587,
            10932,
            3807,
            2943,
            2472,
            4897,
            1400
           ],
           [
            0.048,
            0.086,
            0.11,
            0.139,
            0.181,
            0.078,
            0.098,
            0.115,
            0.162,
            0.21,
            0.179,
            0.15,
            0.116,
            0.106,
            0.084,
            0.069,
            0.097,
            0.125,
            0.148,
            0.6,
            0.054,
            0.124,
            0.205,
            0.438,
            0.089,
            0.124,
            0.168,
            0.5,
            0.106,
            0.199,
            0.148,
            0.099,
            0.109,
            0.146,
            0.135,
            0.1,
            0.089,
            0.11,
            0.111,
            0.12,
            0.137
           ],
           [
            0.904,
            0.286,
            0.007,
            -0.257,
            -0.571,
            0.388,
            0.136,
            -0.039,
            -0.438,
            -0.758,
            -0.556,
            -0.343,
            -0.047,
            0.05,
            0.304,
            0.52,
            0.153,
            -0.134,
            -0.33,
            -2.486,
            0.773,
            -0.124,
            -0.726,
            -1.829,
            0.24,
            -0.129,
            -0.479,
            -2.08,
            0.05,
            -0.688,
            -0.33,
            0.131,
            0.02,
            -0.313,
            -0.225,
            0.112,
            0.24,
            0.012,
            -0.001,
            -0.091,
            -0.239
           ],
           [
            119,
            81,
            63,
            47,
            28,
            89,
            72,
            60,
            34,
            12,
            32,
            44,
            60,
            66,
            80,
            74,
            66,
            60,
            56,
            12,
            116,
            55,
            13,
            -61,
            77,
            56,
            36,
            -55,
            66,
            25,
            45,
            66,
            64,
            55,
            57,
            66,
            76,
            64,
            63,
            58,
            50
           ]
          ]
         },
         "columnwidth": [
          2,
          2,
          2,
          2
         ],
         "header": {
          "align": [
           "center",
           "center",
           "center",
           "center"
          ],
          "fill": {
           "color": "rgb(64,70,114)"
          },
          "font": {
           "color": "white",
           "size": 14
          },
          "height": 45,
          "line": {
           "color": "rgba(80,103,132,0.2)",
           "width": 1
          },
          "values": [
           "<b>bin_name</b>",
           "<b>bin_num</b>",
           "<b>total</b>",
           "<b>bad</b>",
           "<b>good</b>",
           "<b>bad_rate</b>",
           "<b>WOE</b>",
           "<b>v_score</b>"
          ]
         },
         "type": "table"
        }
       ],
       "layout": {
        "height": 800,
        "title": "评分卡分数明细",
        "titlefont": {
         "size": 20
        }
       }
      },
      "text/html": [
       "<div id=\"1bfb53a2-526f-4559-81ba-dc23801133e4\" style=\"height: 800px; width: 100%;\" class=\"plotly-graph-div\"></div><script type=\"text/javascript\">require([\"plotly\"], function(Plotly) { window.PLOTLYENV=window.PLOTLYENV || {};window.PLOTLYENV.BASE_URL=\"https://plot.ly\";Plotly.newPlot(\"1bfb53a2-526f-4559-81ba-dc23801133e4\", [{\"type\": \"table\", \"columnwidth\": [2, 2, 2, 2], \"header\": {\"values\": [\"<b>bin_name</b>\", \"<b>bin_num</b>\", \"<b>total</b>\", \"<b>bad</b>\", \"<b>good</b>\", \"<b>bad_rate</b>\", \"<b>WOE</b>\", \"<b>v_score</b>\"], \"line\": {\"color\": \"rgba(80,103,132,0.2)\", \"width\": 1}, \"fill\": {\"color\": \"rgb(64,70,114)\"}, \"align\": [\"center\", \"center\", \"center\", \"center\"], \"font\": {\"color\": \"white\", \"size\": 14}, \"height\": 45}, \"cells\": {\"values\": [[\"int_rate\", \"\", \"\", \"\", \"\", \"purpose_br\", \"\", \"\", \"\", \"\", \"annual_inc\", \"\", \"\", \"\", \"\", \"addr_state\", \"\", \"\", \"\", \"\", \"zip_code\", \"\", \"\", \"\", \"inq_last_6mths\", \"\", \"\", \"\", \"mths_last_record\", \"\", \"\", \"limit_income\", \"\", \"\", \"total_acc\", \"\", \"dti\", \"\", \"\", \"\", \"\"], [\"Bin 0\", \"Bin 1\", \"Bin 2\", \"Bin 3\", \"Bin 4\", \"Bin 0\", \"Bin 1\", \"Bin 2\", \"Bin 3\", \"Bin 4\", \"Bin 0\", \"Bin 1\", \"Bin 2\", \"Bin 3\", \"Bin 4\", \"Bin 0\", \"Bin 1\", \"Bin 2\", \"Bin 3\", \"Bin 4\", \"Bin 0\", \"Bin 1\", \"Bin 2\", \"Bin 3\", \"Bin 0\", \"Bin 1\", \"Bin 2\", \"Bin 3\", \"Bin -1\", \"Bin0\", \"Bin1\", \"Bin 0\", \"Bin 1\", \"Bin 2\", \"Bin 0\", \"Bin 1\", \"Bin 0\", \"Bin 1\", \"Bin 2\", \"Bin 3\", \"Bin 4\"], [4260, 2577, 4133, 2820, 3667, 4045, 1841, 10016, 771, 784, 716, 3113, 4327, 2665, 6636, 1447, 7689, 6065, 2251, 5, 7452, 7042, 2739, 224, 8684, 7202, 1567, 4, 16158, 603, 696, 8005, 6265, 3187, 5304, 12153, 4181, 3306, 2781, 5567, 1622], [205, 221, 456, 392, 664, 316, 181, 1151, 125, 165, 128, 466, 501, 283, 560, 100, 744, 758, 333, 3, 406, 872, 562, 98, 777, 896, 263, 2, 1715, 120, 103, 790, 683, 465, 717, 1221, 374, 363, 309, 670, 222], [4055, 2356, 3677, 2428, 3003, 3729, 1660, 8865, 646, 619, 588, 2647, 3826, 2382, 6076, 1347, 6945, 5307, 1918, 2, 7046, 6170, 2177, 126, 7907, 6306, 1304, 2, 14443, 483, 593, 7215, 5582, 2722, 4587, 10932, 3807, 2943, 2472, 4897, 1400], [0.048, 0.086, 0.11, 0.139, 0.181, 0.078, 0.098, 0.115, 0.162, 0.21, 0.179, 0.15, 0.116, 0.106, 0.084, 0.069, 0.097, 0.125, 0.148, 0.6, 0.054, 0.124, 0.205, 0.438, 0.089, 0.124, 0.168, 0.5, 0.106, 0.199, 0.148, 0.099, 0.109, 0.146, 0.135, 0.1, 0.089, 0.11, 0.111, 0.12, 0.137], [0.904, 0.286, 0.007, -0.257, -0.571, 0.388, 0.136, -0.039, -0.438, -0.758, -0.556, -0.343, -0.047, 0.05, 0.304, 0.52, 0.153, -0.134, -0.33, -2.486, 0.773, -0.124, -0.726, -1.829, 0.24, -0.129, -0.479, -2.08, 0.05, -0.688, -0.33, 0.131, 0.02, -0.313, -0.225, 0.112, 0.24, 0.012, -0.001, -0.091, -0.239], [119, 81, 63, 47, 28, 89, 72, 60, 34, 12, 32, 44, 60, 66, 80, 74, 66, 60, 56, 12, 116, 55, 13, -61, 77, 56, 36, -55, 66, 25, 45, 66, 64, 55, 57, 66, 76, 64, 63, 58, 50]], \"line\": {\"color\": \"rgba(80,103,132,0.2)\", \"width\": 1}, \"fill\": {\"color\": [\"rgb(64,70,114)\", [\"rgb(245, 245, 245)\", \"rgb(245, 245, 245)\", \"rgb(245, 245, 245)\", \"rgb(245, 245, 245)\", \"rgb(245, 245, 245)\", \"rgb(255, 255, 255)\", \"rgb(255, 255, 255)\", \"rgb(255, 255, 255)\", \"rgb(255, 255, 255)\", \"rgb(255, 255, 255)\", \"rgb(245, 245, 245)\", \"rgb(245, 245, 245)\", \"rgb(245, 245, 245)\", \"rgb(245, 245, 245)\", \"rgb(245, 245, 245)\", \"rgb(255, 255, 255)\", \"rgb(255, 255, 255)\", \"rgb(255, 255, 255)\", \"rgb(255, 255, 255)\", \"rgb(255, 255, 255)\", \"rgb(245, 245, 245)\", \"rgb(245, 245, 245)\", \"rgb(245, 245, 245)\", \"rgb(245, 245, 245)\", \"rgb(255, 255, 255)\", \"rgb(255, 255, 255)\", \"rgb(255, 255, 255)\", \"rgb(255, 255, 255)\", \"rgb(245, 245, 245)\", \"rgb(245, 245, 245)\", \"rgb(245, 245, 245)\", \"rgb(255, 255, 255)\", \"rgb(255, 255, 255)\", \"rgb(255, 255, 255)\", \"rgb(245, 245, 245)\", \"rgb(245, 245, 245)\", \"rgb(255, 255, 255)\", \"rgb(255, 255, 255)\", \"rgb(255, 255, 255)\", \"rgb(255, 255, 255)\", \"rgb(255, 255, 255)\"]]}, \"align\": [\"left\", \"center\", \"center\", \"center\"], \"font\": {\"color\": [\"white\", \"#506784\", \"#506784\", \"#506784\"], \"size\": 12}, \"height\": 30}}], {\"title\": \"\\u8bc4\\u5206\\u5361\\u5206\\u6570\\u660e\\u7ec6\", \"titlefont\": {\"size\": 20}, \"height\": 800}, {\"showLink\": true, \"linkText\": \"Export to plot.ly\"})});</script>"
      ],
      "text/vnd.plotly.v1+html": [
       "<div id=\"1bfb53a2-526f-4559-81ba-dc23801133e4\" style=\"height: 800px; width: 100%;\" class=\"plotly-graph-div\"></div><script type=\"text/javascript\">require([\"plotly\"], function(Plotly) { window.PLOTLYENV=window.PLOTLYENV || {};window.PLOTLYENV.BASE_URL=\"https://plot.ly\";Plotly.newPlot(\"1bfb53a2-526f-4559-81ba-dc23801133e4\", [{\"type\": \"table\", \"columnwidth\": [2, 2, 2, 2], \"header\": {\"values\": [\"<b>bin_name</b>\", \"<b>bin_num</b>\", \"<b>total</b>\", \"<b>bad</b>\", \"<b>good</b>\", \"<b>bad_rate</b>\", \"<b>WOE</b>\", \"<b>v_score</b>\"], \"line\": {\"color\": \"rgba(80,103,132,0.2)\", \"width\": 1}, \"fill\": {\"color\": \"rgb(64,70,114)\"}, \"align\": [\"center\", \"center\", \"center\", \"center\"], \"font\": {\"color\": \"white\", \"size\": 14}, \"height\": 45}, \"cells\": {\"values\": [[\"int_rate\", \"\", \"\", \"\", \"\", \"purpose_br\", \"\", \"\", \"\", \"\", \"annual_inc\", \"\", \"\", \"\", \"\", \"addr_state\", \"\", \"\", \"\", \"\", \"zip_code\", \"\", \"\", \"\", \"inq_last_6mths\", \"\", \"\", \"\", \"mths_last_record\", \"\", \"\", \"limit_income\", \"\", \"\", \"total_acc\", \"\", \"dti\", \"\", \"\", \"\", \"\"], [\"Bin 0\", \"Bin 1\", \"Bin 2\", \"Bin 3\", \"Bin 4\", \"Bin 0\", \"Bin 1\", \"Bin 2\", \"Bin 3\", \"Bin 4\", \"Bin 0\", \"Bin 1\", \"Bin 2\", \"Bin 3\", \"Bin 4\", \"Bin 0\", \"Bin 1\", \"Bin 2\", \"Bin 3\", \"Bin 4\", \"Bin 0\", \"Bin 1\", \"Bin 2\", \"Bin 3\", \"Bin 0\", \"Bin 1\", \"Bin 2\", \"Bin 3\", \"Bin -1\", \"Bin0\", \"Bin1\", \"Bin 0\", \"Bin 1\", \"Bin 2\", \"Bin 0\", \"Bin 1\", \"Bin 0\", \"Bin 1\", \"Bin 2\", \"Bin 3\", \"Bin 4\"], [4260, 2577, 4133, 2820, 3667, 4045, 1841, 10016, 771, 784, 716, 3113, 4327, 2665, 6636, 1447, 7689, 6065, 2251, 5, 7452, 7042, 2739, 224, 8684, 7202, 1567, 4, 16158, 603, 696, 8005, 6265, 3187, 5304, 12153, 4181, 3306, 2781, 5567, 1622], [205, 221, 456, 392, 664, 316, 181, 1151, 125, 165, 128, 466, 501, 283, 560, 100, 744, 758, 333, 3, 406, 872, 562, 98, 777, 896, 263, 2, 1715, 120, 103, 790, 683, 465, 717, 1221, 374, 363, 309, 670, 222], [4055, 2356, 3677, 2428, 3003, 3729, 1660, 8865, 646, 619, 588, 2647, 3826, 2382, 6076, 1347, 6945, 5307, 1918, 2, 7046, 6170, 2177, 126, 7907, 6306, 1304, 2, 14443, 483, 593, 7215, 5582, 2722, 4587, 10932, 3807, 2943, 2472, 4897, 1400], [0.048, 0.086, 0.11, 0.139, 0.181, 0.078, 0.098, 0.115, 0.162, 0.21, 0.179, 0.15, 0.116, 0.106, 0.084, 0.069, 0.097, 0.125, 0.148, 0.6, 0.054, 0.124, 0.205, 0.438, 0.089, 0.124, 0.168, 0.5, 0.106, 0.199, 0.148, 0.099, 0.109, 0.146, 0.135, 0.1, 0.089, 0.11, 0.111, 0.12, 0.137], [0.904, 0.286, 0.007, -0.257, -0.571, 0.388, 0.136, -0.039, -0.438, -0.758, -0.556, -0.343, -0.047, 0.05, 0.304, 0.52, 0.153, -0.134, -0.33, -2.486, 0.773, -0.124, -0.726, -1.829, 0.24, -0.129, -0.479, -2.08, 0.05, -0.688, -0.33, 0.131, 0.02, -0.313, -0.225, 0.112, 0.24, 0.012, -0.001, -0.091, -0.239], [119, 81, 63, 47, 28, 89, 72, 60, 34, 12, 32, 44, 60, 66, 80, 74, 66, 60, 56, 12, 116, 55, 13, -61, 77, 56, 36, -55, 66, 25, 45, 66, 64, 55, 57, 66, 76, 64, 63, 58, 50]], \"line\": {\"color\": \"rgba(80,103,132,0.2)\", \"width\": 1}, \"fill\": {\"color\": [\"rgb(64,70,114)\", [\"rgb(245, 245, 245)\", \"rgb(245, 245, 245)\", \"rgb(245, 245, 245)\", \"rgb(245, 245, 245)\", \"rgb(245, 245, 245)\", \"rgb(255, 255, 255)\", \"rgb(255, 255, 255)\", \"rgb(255, 255, 255)\", \"rgb(255, 255, 255)\", \"rgb(255, 255, 255)\", \"rgb(245, 245, 245)\", \"rgb(245, 245, 245)\", \"rgb(245, 245, 245)\", \"rgb(245, 245, 245)\", \"rgb(245, 245, 245)\", \"rgb(255, 255, 255)\", \"rgb(255, 255, 255)\", \"rgb(255, 255, 255)\", \"rgb(255, 255, 255)\", \"rgb(255, 255, 255)\", \"rgb(245, 245, 245)\", \"rgb(245, 245, 245)\", \"rgb(245, 245, 245)\", \"rgb(245, 245, 245)\", \"rgb(255, 255, 255)\", \"rgb(255, 255, 255)\", \"rgb(255, 255, 255)\", \"rgb(255, 255, 255)\", \"rgb(245, 245, 245)\", \"rgb(245, 245, 245)\", \"rgb(245, 245, 245)\", \"rgb(255, 255, 255)\", \"rgb(255, 255, 255)\", \"rgb(255, 255, 255)\", \"rgb(245, 245, 245)\", \"rgb(245, 245, 245)\", \"rgb(255, 255, 255)\", \"rgb(255, 255, 255)\", \"rgb(255, 255, 255)\", \"rgb(255, 255, 255)\", \"rgb(255, 255, 255)\"]]}, \"align\": [\"left\", \"center\", \"center\", \"center\"], \"font\": {\"color\": [\"white\", \"#506784\", \"#506784\", \"#506784\"], \"size\": 12}, \"height\": 30}}], {\"title\": \"\\u8bc4\\u5206\\u5361\\u5206\\u6570\\u660e\\u7ec6\", \"titlefont\": {\"size\": 20}, \"height\": 800}, {\"showLink\": true, \"linkText\": \"Export to plot.ly\"})});</script>"
      ]
     },
     "metadata": {},
     "output_type": "display_data"
    }
   ],
   "source": [
    "from collections import Counter\n",
    "list_cnt = df_bin_all.T.iloc[0,:].tolist()\n",
    "list_cnt1 = list(dict(Counter(list_cnt)).values())\n",
    "\n",
    "col_range = [] #表格交替颜色\n",
    "for i,uu in enumerate(list_cnt1):\n",
    "    if ((i+1) % 2) == 1:\n",
    "        odd = ['rgb(245, 245, 245)']*list_cnt1[i]\n",
    "        col_range = col_range+odd\n",
    "    else:\n",
    "        eve = ['rgb(255, 255, 255)']*list_cnt1[i]\n",
    "        col_range = col_range+eve\n",
    "\n",
    "\n",
    "col_good = 'rgb(0,165,0)'\n",
    "col_bad = 'rgb(231,0,23)'\n",
    "rowOddColor = 'rgb(255, 255, 255)'\n",
    "rowEvenColor = 'rgb(245, 245, 245)'\n",
    "df_color = pd.DataFrame(pd.Series(['rgb(255, 255, 255)','rgb(245, 245, 245)','rgb(255, 255, 255)',\n",
    "                                             'rgb(245, 245, 245)','rgb(255, 255, 255)']),columns=['color'])\n",
    "\n",
    "color = []\n",
    "\n",
    "\n",
    "traces = []\n",
    "\n",
    "traces.append(go.Table(\n",
    "#     domain=dict(x=[0, 0.8],\n",
    "#                 y=[0, 0.93]),\n",
    "    columnwidth=[2, 2, 2, 2],\n",
    "    header=dict(values= ['<b>bin_name</b>'] + ['<b>bin_num</b>']+['<b>total</b>']+['<b>bad</b>']+['<b>good</b>']+\n",
    "                ['<b>bad_rate</b>']+['<b>WOE</b>']+['<b>v_score</b>'],\n",
    "                line=dict(color='rgba(80,103,132,0.2)', width=1),\n",
    "                fill=dict(color='rgb(64,70,114)'),\n",
    "                align=['center','center','center','center'],\n",
    "                font=dict(color='white', size=14),\n",
    "                height=45,\n",
    "               ),\n",
    "    \n",
    "    cells=dict(values=[['int_rate','','','','','purpose_br','','','','','annual_inc','','','','','addr_state','','','','','zip_code','','','',\n",
    "                        'inq_last_6mths','','','','mths_last_record','','','limit_income','','','total_acc','','dti','','','','']\n",
    "                       ,df_bin_all.iloc[:,1].tolist(), df_bin_all.iloc[:,2], df_bin_all.iloc[:,3]\n",
    "                      ,df_bin_all.iloc[:,4],df_bin_all.iloc[:,5],df_bin_all.iloc[:,6],df_bin_all.iloc[:,8]],\n",
    "               line=dict(color='rgba(80,103,132,0.2)', width=1),\n",
    "        fill=dict(color=['rgb(64,70,114)', col_range]),\n",
    "        align=['left','center','center','center'],\n",
    "#         fill = dict(color = [rowOddColor,rowEvenColor,rowOddColor, rowEvenColor,rowOddColor]),\n",
    "        font=dict(color=['white', '#506784', '#506784', '#506784'], size=12),\n",
    "        height=30,\n",
    "#         format = [None] * 2+ [\",.2f\"] * 3 + [',.2f'],  #内容显示格式 保留两位小数\n",
    "#          prefix = [None] * 6,                          #内容显示前缀 可以加货币符号['$', u'\\u20BF']\n",
    "#          suffix=[None] * 5 +['%', u'\\u20BF'],          #内容显示后缀 可以加百分号\n",
    "    )\n",
    "))\n",
    "\n",
    "\n",
    "\n",
    "layout = dict(\n",
    "    title= '评分卡分数明细',\n",
    "    titlefont = dict(size = 20),\n",
    "    height= 800, \n",
    "#     width= 1000,\n",
    "\n",
    "#     margin = dict(t= 35, l= 100)\n",
    ")\n",
    "\n",
    "\n",
    "\n",
    "\n",
    "fig = dict(data=traces, layout=layout)\n",
    "py.iplot(fig)"
   ]
  },
  {
   "cell_type": "markdown",
   "metadata": {},
   "source": [
    "### 2.集成模型"
   ]
  },
  {
   "cell_type": "markdown",
   "metadata": {},
   "source": [
    "&nbsp;&nbsp;&nbsp;&nbsp;<b>要点</b>：<br>\n",
    "      &nbsp;&nbsp;&nbsp;&nbsp;&nbsp;&nbsp;1)根据申请信息利用集成模型和stacing模型进行展示<br>\n",
    "      &nbsp;&nbsp;&nbsp;&nbsp;&nbsp;&nbsp;2)主要展示了<b><U><I>投票（软、硬投票）和stacking</I></U></b>的建模结果"
   ]
  },
  {
   "cell_type": "markdown",
   "metadata": {},
   "source": [
    "&nbsp;&nbsp;&nbsp;&nbsp;<b>集成模型分类结果</b>：<br>"
   ]
  },
  {
   "cell_type": "code",
   "execution_count": 176,
   "metadata": {
    "ExecuteTime": {
     "end_time": "2018-12-11T06:47:18.366197Z",
     "start_time": "2018-12-11T06:47:16.478316Z"
    }
   },
   "outputs": [],
   "source": [
    "import numpy as np\n",
    "import pandas as pd\n",
    "import matplotlib.pyplot as plt\n",
    "import seaborn as sns\n",
    "sns.set_style(\"whitegrid\")\n",
    "%matplotlib inline\n",
    "\n",
    "from sklearn.model_selection import train_test_split, GridSearchCV\n",
    "from sklearn.preprocessing import StandardScaler, MinMaxScaler\n",
    "from sklearn.metrics import confusion_matrix, make_scorer, classification_report, auc, roc_curve, recall_score, accuracy_score\n",
    "\n",
    "from mlxtend.classifier import StackingClassifier\n",
    "\n",
    "from sklearn.neighbors import KNeighborsClassifier\n",
    "from sklearn.linear_model import LogisticRegression\n",
    "from sklearn.svm import SVC\n",
    "from sklearn.tree import DecisionTreeClassifier\n",
    "from sklearn.naive_bayes import MultinomialNB, GaussianNB\n",
    "from sklearn.ensemble import RandomForestClassifier, VotingClassifier, BaggingClassifier, AdaBoostClassifier, GradientBoostingClassifier"
   ]
  },
  {
   "cell_type": "code",
   "execution_count": 191,
   "metadata": {
    "ExecuteTime": {
     "end_time": "2018-12-11T07:31:20.822370Z",
     "start_time": "2018-12-11T07:31:17.046731Z"
    }
   },
   "outputs": [],
   "source": [
    "data = pd.read_csv('/Users/livedong/Desktop/LL\\'s_project/creditcard.csv')\n",
    "\n",
    "fraud_index = data[data['Class'] == 1].index\n",
    "normal_index = data[data['Class'] == 0].index\n",
    "\n",
    "normal_index = np.random.choice(normal_index,len(fraud_index),replace=False)\n",
    "sample_index = np.concatenate([normal_index,fraud_index])\n",
    "\n",
    "sample_data = data.iloc[sample_index,]\n",
    "\n",
    "X,Y = sample_data.drop(['Class'],axis=1),sample_data.Class\n",
    "\n",
    "X.drop(['Time'],axis = 1,inplace = True)\n",
    "\n",
    "x,x_test,y,y_test = train_test_split(X,Y,test_size = 0.2,random_state=1024)\n",
    "\n",
    "\n",
    "scaler = StandardScaler()\n",
    "temp_x = scaler.fit_transform(x.values)\n",
    "x = pd.DataFrame(temp_x,index=x.index,columns=x.columns)\n",
    "temp_x_test = scaler.fit_transform(x_test.values)\n",
    "x_test = pd.DataFrame(temp_x_test,index = x_test.index ,columns= x_test.columns)\n"
   ]
  },
  {
   "cell_type": "code",
   "execution_count": 192,
   "metadata": {
    "ExecuteTime": {
     "end_time": "2018-12-11T07:31:24.313566Z",
     "start_time": "2018-12-11T07:31:23.699991Z"
    }
   },
   "outputs": [
    {
     "name": "stdout",
     "output_type": "stream",
     "text": [
      "集成学习-硬投票结果:\n",
      "             precision    recall  f1-score   support\n",
      "\n",
      "     Normal       0.92      1.00      0.96       100\n",
      "      Fraud       1.00      0.91      0.95        97\n",
      "\n",
      "avg / total       0.96      0.95      0.95       197\n",
      "\n",
      "\n",
      "\n",
      "\n",
      "\n",
      "\n"
     ]
    },
    {
     "data": {
      "image/png": "[encoded data removed]",
      "text/plain": [
       "<Figure size 504x288 with 2 Axes>"
      ]
     },
     "metadata": {},
     "output_type": "display_data"
    }
   ],
   "source": [
    "clf1 = DecisionTreeClassifier(max_depth=9,random_state=1024)\n",
    "clf2 = SVC(C = 4.64,probability=True ,kernel='rbf',random_state=1024)\n",
    "clf3 = LogisticRegression(C = 10,random_state=3)\n",
    "clf4 = RandomForestClassifier(max_depth=9,random_state=1024)\n",
    "clf5 = KNeighborsClassifier(n_neighbors=1)\n",
    "\n",
    "\n",
    "\n",
    "hardvote = VotingClassifier(estimators=[('dt',clf1),('scv',clf2),('lr',clf3),('rf', clf4),('knn',clf5)],voting='hard')\n",
    "hardvote.fit(x, y)\n",
    "\n",
    "print('集成学习-硬投票结果:')\n",
    "# print('Confusion Matrix Scores:')\n",
    "print(classification_report(y_test, hardvote.predict(x_test), target_names=['Normal', 'Fraud']))\n",
    "print('\\n\\n')\n",
    "\n",
    "\n",
    "\n",
    "plt.figure(1,figsize=(7,4))\n",
    "sns.heatmap(confusion_matrix(y_test, hardvote.predict(x_test)), cmap='Blues', annot=True, linewidth=0.5)\n",
    "sns.set(font_scale=2.0)\n",
    "plt.title('Confusion Matrix')\n",
    "plt.xlabel('Predicted')\n",
    "plt.ylabel('True')\n",
    "print('\\n')"
   ]
  },
  {
   "cell_type": "code",
   "execution_count": 189,
   "metadata": {
    "ExecuteTime": {
     "end_time": "2018-12-11T07:30:22.906192Z",
     "start_time": "2018-12-11T07:30:22.187675Z"
    },
    "scrolled": false
   },
   "outputs": [
    {
     "name": "stdout",
     "output_type": "stream",
     "text": [
      "集成学习-软投票结果:\n",
      "             precision    recall  f1-score   support\n",
      "\n",
      "     Normal       0.93      0.96      0.95       100\n",
      "      Fraud       0.96      0.93      0.94        97\n",
      "\n",
      "avg / total       0.94      0.94      0.94       197\n",
      "\n",
      "\n",
      "\n",
      "\n",
      "\n",
      "\n"
     ]
    },
    {
     "data": {
      "image/png": "[encoded data removed]",
      "text/plain": [
       "<Figure size 504x288 with 2 Axes>"
      ]
     },
     "metadata": {},
     "output_type": "display_data"
    }
   ],
   "source": [
    "softvote = VotingClassifier(estimators=[('dt',clf1),('scv',clf2),('lr',clf3),('rf', clf4),('knn',clf5)],voting='soft')\n",
    "softvote.fit(x, y)\n",
    "\n",
    "print('集成学习-软投票结果:')\n",
    "# print('Confusion Matrix Scores:')\n",
    "print(classification_report(y_test, softvote.predict(x_test), target_names=['Normal', 'Fraud']))\n",
    "print('\\n\\n')\n",
    "\n",
    "\n",
    "\n",
    "plt.figure(1,figsize=(7,4))\n",
    "sns.heatmap(confusion_matrix(y_test, softvote.predict(x_test)), cmap='Blues', annot=True, linewidth=0.5)\n",
    "sns.set(font_scale=2.0)\n",
    "plt.title('Confusion Matrix')\n",
    "plt.xlabel('Predicted')\n",
    "plt.ylabel('True')\n",
    "print('\\n')"
   ]
  },
  {
   "cell_type": "markdown",
   "metadata": {
    "ExecuteTime": {
     "end_time": "2018-12-11T06:53:13.017109Z",
     "start_time": "2018-12-11T06:53:12.976718Z"
    }
   },
   "source": [
    "&nbsp;&nbsp;&nbsp;&nbsp;<b>stacking模型分类结果</b>：<br>"
   ]
  },
  {
   "cell_type": "code",
   "execution_count": 188,
   "metadata": {
    "ExecuteTime": {
     "end_time": "2018-12-11T07:01:03.430151Z",
     "start_time": "2018-12-11T07:01:00.898406Z"
    }
   },
   "outputs": [
    {
     "name": "stdout",
     "output_type": "stream",
     "text": [
      "stacking分类结果:\n",
      "             precision    recall  f1-score   support\n",
      "\n",
      "     Normal       0.92      0.95      0.94       100\n",
      "      Fraud       0.95      0.92      0.93        97\n",
      "\n",
      "avg / total       0.93      0.93      0.93       197\n",
      "\n",
      "\n",
      "\n",
      "\n",
      "\n",
      "\n"
     ]
    },
    {
     "data": {
      "image/png": "[encoded data removed]",
      "text/plain": [
       "<Figure size 504x288 with 2 Axes>"
      ]
     },
     "metadata": {},
     "output_type": "display_data"
    }
   ],
   "source": [
    "clf_all = StackingClassifier(classifiers=[clf1,clf2,clf3,clf4,clf5],meta_classifier=clf4)\n",
    "\n",
    "clf_all.fit(x,y)\n",
    "\n",
    "print('stacking分类结果:')\n",
    "# print('Confusion Matrix Scores:')\n",
    "print(classification_report(y_test, clf_all.predict(x_test), target_names=['Normal', 'Fraud']))\n",
    "print('\\n\\n')\n",
    "\n",
    "\n",
    "\n",
    "plt.figure(1,figsize=(7,4))\n",
    "sns.heatmap(confusion_matrix(y_test, clf_all.predict(x_test)), cmap='Blues', annot=True, linewidth=0.5)\n",
    "sns.set(font_scale=2.0)\n",
    "plt.title('Confusion Matrix')\n",
    "plt.xlabel('Predicted')\n",
    "plt.ylabel('True')\n",
    "print('\\n')"
   ]
  },
  {
   "cell_type": "markdown",
   "metadata": {},
   "source": [
    "author by -- @<b>Liwu Dong</b>"
   ]
  }
 ],
 "metadata": {
  "hide_input": true,
  "kernelspec": {
   "display_name": "Python 3",
   "language": "python",
   "name": "python3"
  },
  "language_info": {
   "codemirror_mode": {
    "name": "ipython",
    "version": 3
   },
   "file_extension": ".py",
   "mimetype": "text/x-python",
   "name": "python",
   "nbconvert_exporter": "python",
   "pygments_lexer": "ipython3",
   "version": "3.6.4"
  },
  "toc": {
   "colors": {
    "hover_highlight": "#DAA520",
    "navigate_num": "#000000",
    "navigate_text": "#333333",
    "running_highlight": "#FF0000",
    "selected_highlight": "#FFD700",
    "sidebar_border": "#EEEEEE",
    "wrapper_background": "#FFFFFF"
   },
   "moveMenuLeft": true,
   "nav_menu": {
    "height": "192px",
    "width": "252px"
   },
   "navigate_menu": true,
   "number_sections": false,
   "sideBar": true,
   "threshold": "10",
   "toc_cell": true,
   "toc_section_display": "block",
   "toc_window_display": false,
   "widenNotebook": false
  }
 },
 "nbformat": 4,
 "nbformat_minor": 2
}
